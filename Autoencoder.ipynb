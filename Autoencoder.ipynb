{
  "nbformat": 4,
  "nbformat_minor": 0,
  "metadata": {
    "colab": {
      "provenance": [],
      "authorship_tag": "ABX9TyMSSerNvGih76RO8rBhR4Zn",
      "include_colab_link": true
    },
    "kernelspec": {
      "name": "python3",
      "display_name": "Python 3"
    },
    "language_info": {
      "name": "python"
    },
    "gpuClass": "standard",
    "accelerator": "GPU",
    "widgets": {
      "application/vnd.jupyter.widget-state+json": {
        "8b175939de3948f3bdfc35d98e65acb9": {
          "model_module": "@jupyter-widgets/controls",
          "model_name": "HBoxModel",
          "model_module_version": "1.5.0",
          "state": {
            "_dom_classes": [],
            "_model_module": "@jupyter-widgets/controls",
            "_model_module_version": "1.5.0",
            "_model_name": "HBoxModel",
            "_view_count": null,
            "_view_module": "@jupyter-widgets/controls",
            "_view_module_version": "1.5.0",
            "_view_name": "HBoxView",
            "box_style": "",
            "children": [
              "IPY_MODEL_2d375a64739d42b7ace01bacf586ebd7",
              "IPY_MODEL_54515f0a2133482ca1666cde3a8bf266",
              "IPY_MODEL_c75af94b0fa84c51a9915fb462673e62"
            ],
            "layout": "IPY_MODEL_62d33b5ff7fd4b6db95362bf906ac9dd"
          }
        },
        "2d375a64739d42b7ace01bacf586ebd7": {
          "model_module": "@jupyter-widgets/controls",
          "model_name": "HTMLModel",
          "model_module_version": "1.5.0",
          "state": {
            "_dom_classes": [],
            "_model_module": "@jupyter-widgets/controls",
            "_model_module_version": "1.5.0",
            "_model_name": "HTMLModel",
            "_view_count": null,
            "_view_module": "@jupyter-widgets/controls",
            "_view_module_version": "1.5.0",
            "_view_name": "HTMLView",
            "description": "",
            "description_tooltip": null,
            "layout": "IPY_MODEL_3b7695b65c9b41c9a14bd98d9a255c2c",
            "placeholder": "​",
            "style": "IPY_MODEL_9da3754d16ba49d3a787cdad2d56f7ec",
            "value": "100%"
          }
        },
        "54515f0a2133482ca1666cde3a8bf266": {
          "model_module": "@jupyter-widgets/controls",
          "model_name": "FloatProgressModel",
          "model_module_version": "1.5.0",
          "state": {
            "_dom_classes": [],
            "_model_module": "@jupyter-widgets/controls",
            "_model_module_version": "1.5.0",
            "_model_name": "FloatProgressModel",
            "_view_count": null,
            "_view_module": "@jupyter-widgets/controls",
            "_view_module_version": "1.5.0",
            "_view_name": "ProgressView",
            "bar_style": "success",
            "description": "",
            "description_tooltip": null,
            "layout": "IPY_MODEL_548b8f1fb8df429dbc9fcb097067e838",
            "max": 9912422,
            "min": 0,
            "orientation": "horizontal",
            "style": "IPY_MODEL_5a7e28e6fe1f4bd08337efa89494ccc3",
            "value": 9912422
          }
        },
        "c75af94b0fa84c51a9915fb462673e62": {
          "model_module": "@jupyter-widgets/controls",
          "model_name": "HTMLModel",
          "model_module_version": "1.5.0",
          "state": {
            "_dom_classes": [],
            "_model_module": "@jupyter-widgets/controls",
            "_model_module_version": "1.5.0",
            "_model_name": "HTMLModel",
            "_view_count": null,
            "_view_module": "@jupyter-widgets/controls",
            "_view_module_version": "1.5.0",
            "_view_name": "HTMLView",
            "description": "",
            "description_tooltip": null,
            "layout": "IPY_MODEL_bf99a7d551af4b6daa993fc0326a4ab6",
            "placeholder": "​",
            "style": "IPY_MODEL_af66ba395fc54381858a24ee1d16ca1f",
            "value": " 9912422/9912422 [00:00&lt;00:00, 157677865.72it/s]"
          }
        },
        "62d33b5ff7fd4b6db95362bf906ac9dd": {
          "model_module": "@jupyter-widgets/base",
          "model_name": "LayoutModel",
          "model_module_version": "1.2.0",
          "state": {
            "_model_module": "@jupyter-widgets/base",
            "_model_module_version": "1.2.0",
            "_model_name": "LayoutModel",
            "_view_count": null,
            "_view_module": "@jupyter-widgets/base",
            "_view_module_version": "1.2.0",
            "_view_name": "LayoutView",
            "align_content": null,
            "align_items": null,
            "align_self": null,
            "border": null,
            "bottom": null,
            "display": null,
            "flex": null,
            "flex_flow": null,
            "grid_area": null,
            "grid_auto_columns": null,
            "grid_auto_flow": null,
            "grid_auto_rows": null,
            "grid_column": null,
            "grid_gap": null,
            "grid_row": null,
            "grid_template_areas": null,
            "grid_template_columns": null,
            "grid_template_rows": null,
            "height": null,
            "justify_content": null,
            "justify_items": null,
            "left": null,
            "margin": null,
            "max_height": null,
            "max_width": null,
            "min_height": null,
            "min_width": null,
            "object_fit": null,
            "object_position": null,
            "order": null,
            "overflow": null,
            "overflow_x": null,
            "overflow_y": null,
            "padding": null,
            "right": null,
            "top": null,
            "visibility": null,
            "width": null
          }
        },
        "3b7695b65c9b41c9a14bd98d9a255c2c": {
          "model_module": "@jupyter-widgets/base",
          "model_name": "LayoutModel",
          "model_module_version": "1.2.0",
          "state": {
            "_model_module": "@jupyter-widgets/base",
            "_model_module_version": "1.2.0",
            "_model_name": "LayoutModel",
            "_view_count": null,
            "_view_module": "@jupyter-widgets/base",
            "_view_module_version": "1.2.0",
            "_view_name": "LayoutView",
            "align_content": null,
            "align_items": null,
            "align_self": null,
            "border": null,
            "bottom": null,
            "display": null,
            "flex": null,
            "flex_flow": null,
            "grid_area": null,
            "grid_auto_columns": null,
            "grid_auto_flow": null,
            "grid_auto_rows": null,
            "grid_column": null,
            "grid_gap": null,
            "grid_row": null,
            "grid_template_areas": null,
            "grid_template_columns": null,
            "grid_template_rows": null,
            "height": null,
            "justify_content": null,
            "justify_items": null,
            "left": null,
            "margin": null,
            "max_height": null,
            "max_width": null,
            "min_height": null,
            "min_width": null,
            "object_fit": null,
            "object_position": null,
            "order": null,
            "overflow": null,
            "overflow_x": null,
            "overflow_y": null,
            "padding": null,
            "right": null,
            "top": null,
            "visibility": null,
            "width": null
          }
        },
        "9da3754d16ba49d3a787cdad2d56f7ec": {
          "model_module": "@jupyter-widgets/controls",
          "model_name": "DescriptionStyleModel",
          "model_module_version": "1.5.0",
          "state": {
            "_model_module": "@jupyter-widgets/controls",
            "_model_module_version": "1.5.0",
            "_model_name": "DescriptionStyleModel",
            "_view_count": null,
            "_view_module": "@jupyter-widgets/base",
            "_view_module_version": "1.2.0",
            "_view_name": "StyleView",
            "description_width": ""
          }
        },
        "548b8f1fb8df429dbc9fcb097067e838": {
          "model_module": "@jupyter-widgets/base",
          "model_name": "LayoutModel",
          "model_module_version": "1.2.0",
          "state": {
            "_model_module": "@jupyter-widgets/base",
            "_model_module_version": "1.2.0",
            "_model_name": "LayoutModel",
            "_view_count": null,
            "_view_module": "@jupyter-widgets/base",
            "_view_module_version": "1.2.0",
            "_view_name": "LayoutView",
            "align_content": null,
            "align_items": null,
            "align_self": null,
            "border": null,
            "bottom": null,
            "display": null,
            "flex": null,
            "flex_flow": null,
            "grid_area": null,
            "grid_auto_columns": null,
            "grid_auto_flow": null,
            "grid_auto_rows": null,
            "grid_column": null,
            "grid_gap": null,
            "grid_row": null,
            "grid_template_areas": null,
            "grid_template_columns": null,
            "grid_template_rows": null,
            "height": null,
            "justify_content": null,
            "justify_items": null,
            "left": null,
            "margin": null,
            "max_height": null,
            "max_width": null,
            "min_height": null,
            "min_width": null,
            "object_fit": null,
            "object_position": null,
            "order": null,
            "overflow": null,
            "overflow_x": null,
            "overflow_y": null,
            "padding": null,
            "right": null,
            "top": null,
            "visibility": null,
            "width": null
          }
        },
        "5a7e28e6fe1f4bd08337efa89494ccc3": {
          "model_module": "@jupyter-widgets/controls",
          "model_name": "ProgressStyleModel",
          "model_module_version": "1.5.0",
          "state": {
            "_model_module": "@jupyter-widgets/controls",
            "_model_module_version": "1.5.0",
            "_model_name": "ProgressStyleModel",
            "_view_count": null,
            "_view_module": "@jupyter-widgets/base",
            "_view_module_version": "1.2.0",
            "_view_name": "StyleView",
            "bar_color": null,
            "description_width": ""
          }
        },
        "bf99a7d551af4b6daa993fc0326a4ab6": {
          "model_module": "@jupyter-widgets/base",
          "model_name": "LayoutModel",
          "model_module_version": "1.2.0",
          "state": {
            "_model_module": "@jupyter-widgets/base",
            "_model_module_version": "1.2.0",
            "_model_name": "LayoutModel",
            "_view_count": null,
            "_view_module": "@jupyter-widgets/base",
            "_view_module_version": "1.2.0",
            "_view_name": "LayoutView",
            "align_content": null,
            "align_items": null,
            "align_self": null,
            "border": null,
            "bottom": null,
            "display": null,
            "flex": null,
            "flex_flow": null,
            "grid_area": null,
            "grid_auto_columns": null,
            "grid_auto_flow": null,
            "grid_auto_rows": null,
            "grid_column": null,
            "grid_gap": null,
            "grid_row": null,
            "grid_template_areas": null,
            "grid_template_columns": null,
            "grid_template_rows": null,
            "height": null,
            "justify_content": null,
            "justify_items": null,
            "left": null,
            "margin": null,
            "max_height": null,
            "max_width": null,
            "min_height": null,
            "min_width": null,
            "object_fit": null,
            "object_position": null,
            "order": null,
            "overflow": null,
            "overflow_x": null,
            "overflow_y": null,
            "padding": null,
            "right": null,
            "top": null,
            "visibility": null,
            "width": null
          }
        },
        "af66ba395fc54381858a24ee1d16ca1f": {
          "model_module": "@jupyter-widgets/controls",
          "model_name": "DescriptionStyleModel",
          "model_module_version": "1.5.0",
          "state": {
            "_model_module": "@jupyter-widgets/controls",
            "_model_module_version": "1.5.0",
            "_model_name": "DescriptionStyleModel",
            "_view_count": null,
            "_view_module": "@jupyter-widgets/base",
            "_view_module_version": "1.2.0",
            "_view_name": "StyleView",
            "description_width": ""
          }
        },
        "7aa0deaeaf464ad68b1903934a196157": {
          "model_module": "@jupyter-widgets/controls",
          "model_name": "HBoxModel",
          "model_module_version": "1.5.0",
          "state": {
            "_dom_classes": [],
            "_model_module": "@jupyter-widgets/controls",
            "_model_module_version": "1.5.0",
            "_model_name": "HBoxModel",
            "_view_count": null,
            "_view_module": "@jupyter-widgets/controls",
            "_view_module_version": "1.5.0",
            "_view_name": "HBoxView",
            "box_style": "",
            "children": [
              "IPY_MODEL_5cd95493712a4c23bee279ec36c39d81",
              "IPY_MODEL_ae9f8ef7651a48bbba21e120a6f1eb9a",
              "IPY_MODEL_a08b0cb94112451f9f618d1a1aec9ebc"
            ],
            "layout": "IPY_MODEL_2b4a338c5f6b49698eac0c2f3ac9a21d"
          }
        },
        "5cd95493712a4c23bee279ec36c39d81": {
          "model_module": "@jupyter-widgets/controls",
          "model_name": "HTMLModel",
          "model_module_version": "1.5.0",
          "state": {
            "_dom_classes": [],
            "_model_module": "@jupyter-widgets/controls",
            "_model_module_version": "1.5.0",
            "_model_name": "HTMLModel",
            "_view_count": null,
            "_view_module": "@jupyter-widgets/controls",
            "_view_module_version": "1.5.0",
            "_view_name": "HTMLView",
            "description": "",
            "description_tooltip": null,
            "layout": "IPY_MODEL_cf14d5f36aab467a9cfb515d5a71a9aa",
            "placeholder": "​",
            "style": "IPY_MODEL_d4b5c9a0695a4ba8ad520b107f93bc7d",
            "value": "100%"
          }
        },
        "ae9f8ef7651a48bbba21e120a6f1eb9a": {
          "model_module": "@jupyter-widgets/controls",
          "model_name": "FloatProgressModel",
          "model_module_version": "1.5.0",
          "state": {
            "_dom_classes": [],
            "_model_module": "@jupyter-widgets/controls",
            "_model_module_version": "1.5.0",
            "_model_name": "FloatProgressModel",
            "_view_count": null,
            "_view_module": "@jupyter-widgets/controls",
            "_view_module_version": "1.5.0",
            "_view_name": "ProgressView",
            "bar_style": "success",
            "description": "",
            "description_tooltip": null,
            "layout": "IPY_MODEL_59c98d2196be403e8aa5f94b5c7f7f2d",
            "max": 28881,
            "min": 0,
            "orientation": "horizontal",
            "style": "IPY_MODEL_f056047ba0c44135804a3443ba6c08ea",
            "value": 28881
          }
        },
        "a08b0cb94112451f9f618d1a1aec9ebc": {
          "model_module": "@jupyter-widgets/controls",
          "model_name": "HTMLModel",
          "model_module_version": "1.5.0",
          "state": {
            "_dom_classes": [],
            "_model_module": "@jupyter-widgets/controls",
            "_model_module_version": "1.5.0",
            "_model_name": "HTMLModel",
            "_view_count": null,
            "_view_module": "@jupyter-widgets/controls",
            "_view_module_version": "1.5.0",
            "_view_name": "HTMLView",
            "description": "",
            "description_tooltip": null,
            "layout": "IPY_MODEL_7f064aebb34241abbb1e2d6cc49d9914",
            "placeholder": "​",
            "style": "IPY_MODEL_e7ea107f3e3d471b983c97c38f45bd53",
            "value": " 28881/28881 [00:00&lt;00:00, 1506587.90it/s]"
          }
        },
        "2b4a338c5f6b49698eac0c2f3ac9a21d": {
          "model_module": "@jupyter-widgets/base",
          "model_name": "LayoutModel",
          "model_module_version": "1.2.0",
          "state": {
            "_model_module": "@jupyter-widgets/base",
            "_model_module_version": "1.2.0",
            "_model_name": "LayoutModel",
            "_view_count": null,
            "_view_module": "@jupyter-widgets/base",
            "_view_module_version": "1.2.0",
            "_view_name": "LayoutView",
            "align_content": null,
            "align_items": null,
            "align_self": null,
            "border": null,
            "bottom": null,
            "display": null,
            "flex": null,
            "flex_flow": null,
            "grid_area": null,
            "grid_auto_columns": null,
            "grid_auto_flow": null,
            "grid_auto_rows": null,
            "grid_column": null,
            "grid_gap": null,
            "grid_row": null,
            "grid_template_areas": null,
            "grid_template_columns": null,
            "grid_template_rows": null,
            "height": null,
            "justify_content": null,
            "justify_items": null,
            "left": null,
            "margin": null,
            "max_height": null,
            "max_width": null,
            "min_height": null,
            "min_width": null,
            "object_fit": null,
            "object_position": null,
            "order": null,
            "overflow": null,
            "overflow_x": null,
            "overflow_y": null,
            "padding": null,
            "right": null,
            "top": null,
            "visibility": null,
            "width": null
          }
        },
        "cf14d5f36aab467a9cfb515d5a71a9aa": {
          "model_module": "@jupyter-widgets/base",
          "model_name": "LayoutModel",
          "model_module_version": "1.2.0",
          "state": {
            "_model_module": "@jupyter-widgets/base",
            "_model_module_version": "1.2.0",
            "_model_name": "LayoutModel",
            "_view_count": null,
            "_view_module": "@jupyter-widgets/base",
            "_view_module_version": "1.2.0",
            "_view_name": "LayoutView",
            "align_content": null,
            "align_items": null,
            "align_self": null,
            "border": null,
            "bottom": null,
            "display": null,
            "flex": null,
            "flex_flow": null,
            "grid_area": null,
            "grid_auto_columns": null,
            "grid_auto_flow": null,
            "grid_auto_rows": null,
            "grid_column": null,
            "grid_gap": null,
            "grid_row": null,
            "grid_template_areas": null,
            "grid_template_columns": null,
            "grid_template_rows": null,
            "height": null,
            "justify_content": null,
            "justify_items": null,
            "left": null,
            "margin": null,
            "max_height": null,
            "max_width": null,
            "min_height": null,
            "min_width": null,
            "object_fit": null,
            "object_position": null,
            "order": null,
            "overflow": null,
            "overflow_x": null,
            "overflow_y": null,
            "padding": null,
            "right": null,
            "top": null,
            "visibility": null,
            "width": null
          }
        },
        "d4b5c9a0695a4ba8ad520b107f93bc7d": {
          "model_module": "@jupyter-widgets/controls",
          "model_name": "DescriptionStyleModel",
          "model_module_version": "1.5.0",
          "state": {
            "_model_module": "@jupyter-widgets/controls",
            "_model_module_version": "1.5.0",
            "_model_name": "DescriptionStyleModel",
            "_view_count": null,
            "_view_module": "@jupyter-widgets/base",
            "_view_module_version": "1.2.0",
            "_view_name": "StyleView",
            "description_width": ""
          }
        },
        "59c98d2196be403e8aa5f94b5c7f7f2d": {
          "model_module": "@jupyter-widgets/base",
          "model_name": "LayoutModel",
          "model_module_version": "1.2.0",
          "state": {
            "_model_module": "@jupyter-widgets/base",
            "_model_module_version": "1.2.0",
            "_model_name": "LayoutModel",
            "_view_count": null,
            "_view_module": "@jupyter-widgets/base",
            "_view_module_version": "1.2.0",
            "_view_name": "LayoutView",
            "align_content": null,
            "align_items": null,
            "align_self": null,
            "border": null,
            "bottom": null,
            "display": null,
            "flex": null,
            "flex_flow": null,
            "grid_area": null,
            "grid_auto_columns": null,
            "grid_auto_flow": null,
            "grid_auto_rows": null,
            "grid_column": null,
            "grid_gap": null,
            "grid_row": null,
            "grid_template_areas": null,
            "grid_template_columns": null,
            "grid_template_rows": null,
            "height": null,
            "justify_content": null,
            "justify_items": null,
            "left": null,
            "margin": null,
            "max_height": null,
            "max_width": null,
            "min_height": null,
            "min_width": null,
            "object_fit": null,
            "object_position": null,
            "order": null,
            "overflow": null,
            "overflow_x": null,
            "overflow_y": null,
            "padding": null,
            "right": null,
            "top": null,
            "visibility": null,
            "width": null
          }
        },
        "f056047ba0c44135804a3443ba6c08ea": {
          "model_module": "@jupyter-widgets/controls",
          "model_name": "ProgressStyleModel",
          "model_module_version": "1.5.0",
          "state": {
            "_model_module": "@jupyter-widgets/controls",
            "_model_module_version": "1.5.0",
            "_model_name": "ProgressStyleModel",
            "_view_count": null,
            "_view_module": "@jupyter-widgets/base",
            "_view_module_version": "1.2.0",
            "_view_name": "StyleView",
            "bar_color": null,
            "description_width": ""
          }
        },
        "7f064aebb34241abbb1e2d6cc49d9914": {
          "model_module": "@jupyter-widgets/base",
          "model_name": "LayoutModel",
          "model_module_version": "1.2.0",
          "state": {
            "_model_module": "@jupyter-widgets/base",
            "_model_module_version": "1.2.0",
            "_model_name": "LayoutModel",
            "_view_count": null,
            "_view_module": "@jupyter-widgets/base",
            "_view_module_version": "1.2.0",
            "_view_name": "LayoutView",
            "align_content": null,
            "align_items": null,
            "align_self": null,
            "border": null,
            "bottom": null,
            "display": null,
            "flex": null,
            "flex_flow": null,
            "grid_area": null,
            "grid_auto_columns": null,
            "grid_auto_flow": null,
            "grid_auto_rows": null,
            "grid_column": null,
            "grid_gap": null,
            "grid_row": null,
            "grid_template_areas": null,
            "grid_template_columns": null,
            "grid_template_rows": null,
            "height": null,
            "justify_content": null,
            "justify_items": null,
            "left": null,
            "margin": null,
            "max_height": null,
            "max_width": null,
            "min_height": null,
            "min_width": null,
            "object_fit": null,
            "object_position": null,
            "order": null,
            "overflow": null,
            "overflow_x": null,
            "overflow_y": null,
            "padding": null,
            "right": null,
            "top": null,
            "visibility": null,
            "width": null
          }
        },
        "e7ea107f3e3d471b983c97c38f45bd53": {
          "model_module": "@jupyter-widgets/controls",
          "model_name": "DescriptionStyleModel",
          "model_module_version": "1.5.0",
          "state": {
            "_model_module": "@jupyter-widgets/controls",
            "_model_module_version": "1.5.0",
            "_model_name": "DescriptionStyleModel",
            "_view_count": null,
            "_view_module": "@jupyter-widgets/base",
            "_view_module_version": "1.2.0",
            "_view_name": "StyleView",
            "description_width": ""
          }
        },
        "805de1884ac74823becc02eb2701d75d": {
          "model_module": "@jupyter-widgets/controls",
          "model_name": "HBoxModel",
          "model_module_version": "1.5.0",
          "state": {
            "_dom_classes": [],
            "_model_module": "@jupyter-widgets/controls",
            "_model_module_version": "1.5.0",
            "_model_name": "HBoxModel",
            "_view_count": null,
            "_view_module": "@jupyter-widgets/controls",
            "_view_module_version": "1.5.0",
            "_view_name": "HBoxView",
            "box_style": "",
            "children": [
              "IPY_MODEL_3b6758ed327a44e593a7bd4aa52724b5",
              "IPY_MODEL_dc1bb7b152e44fef8ba7f25eadaa082a",
              "IPY_MODEL_17252dfc945649b59c46edfd8d52062b"
            ],
            "layout": "IPY_MODEL_57743db7bb3243ceb5dc146212bcde4a"
          }
        },
        "3b6758ed327a44e593a7bd4aa52724b5": {
          "model_module": "@jupyter-widgets/controls",
          "model_name": "HTMLModel",
          "model_module_version": "1.5.0",
          "state": {
            "_dom_classes": [],
            "_model_module": "@jupyter-widgets/controls",
            "_model_module_version": "1.5.0",
            "_model_name": "HTMLModel",
            "_view_count": null,
            "_view_module": "@jupyter-widgets/controls",
            "_view_module_version": "1.5.0",
            "_view_name": "HTMLView",
            "description": "",
            "description_tooltip": null,
            "layout": "IPY_MODEL_b89f364b90c746a8a913a77c8891116f",
            "placeholder": "​",
            "style": "IPY_MODEL_dac05cd47ee745b79823063d4308d0b6",
            "value": "100%"
          }
        },
        "dc1bb7b152e44fef8ba7f25eadaa082a": {
          "model_module": "@jupyter-widgets/controls",
          "model_name": "FloatProgressModel",
          "model_module_version": "1.5.0",
          "state": {
            "_dom_classes": [],
            "_model_module": "@jupyter-widgets/controls",
            "_model_module_version": "1.5.0",
            "_model_name": "FloatProgressModel",
            "_view_count": null,
            "_view_module": "@jupyter-widgets/controls",
            "_view_module_version": "1.5.0",
            "_view_name": "ProgressView",
            "bar_style": "success",
            "description": "",
            "description_tooltip": null,
            "layout": "IPY_MODEL_04a58798da2544c38650544103490e43",
            "max": 1648877,
            "min": 0,
            "orientation": "horizontal",
            "style": "IPY_MODEL_d1190c3c25f44be887f1a451297b675d",
            "value": 1648877
          }
        },
        "17252dfc945649b59c46edfd8d52062b": {
          "model_module": "@jupyter-widgets/controls",
          "model_name": "HTMLModel",
          "model_module_version": "1.5.0",
          "state": {
            "_dom_classes": [],
            "_model_module": "@jupyter-widgets/controls",
            "_model_module_version": "1.5.0",
            "_model_name": "HTMLModel",
            "_view_count": null,
            "_view_module": "@jupyter-widgets/controls",
            "_view_module_version": "1.5.0",
            "_view_name": "HTMLView",
            "description": "",
            "description_tooltip": null,
            "layout": "IPY_MODEL_5f09ab64a8fe4c769203e35ce0fd92da",
            "placeholder": "​",
            "style": "IPY_MODEL_ab4d276c5bf74ab7bf8fb91ee0432188",
            "value": " 1648877/1648877 [00:00&lt;00:00, 52014826.99it/s]"
          }
        },
        "57743db7bb3243ceb5dc146212bcde4a": {
          "model_module": "@jupyter-widgets/base",
          "model_name": "LayoutModel",
          "model_module_version": "1.2.0",
          "state": {
            "_model_module": "@jupyter-widgets/base",
            "_model_module_version": "1.2.0",
            "_model_name": "LayoutModel",
            "_view_count": null,
            "_view_module": "@jupyter-widgets/base",
            "_view_module_version": "1.2.0",
            "_view_name": "LayoutView",
            "align_content": null,
            "align_items": null,
            "align_self": null,
            "border": null,
            "bottom": null,
            "display": null,
            "flex": null,
            "flex_flow": null,
            "grid_area": null,
            "grid_auto_columns": null,
            "grid_auto_flow": null,
            "grid_auto_rows": null,
            "grid_column": null,
            "grid_gap": null,
            "grid_row": null,
            "grid_template_areas": null,
            "grid_template_columns": null,
            "grid_template_rows": null,
            "height": null,
            "justify_content": null,
            "justify_items": null,
            "left": null,
            "margin": null,
            "max_height": null,
            "max_width": null,
            "min_height": null,
            "min_width": null,
            "object_fit": null,
            "object_position": null,
            "order": null,
            "overflow": null,
            "overflow_x": null,
            "overflow_y": null,
            "padding": null,
            "right": null,
            "top": null,
            "visibility": null,
            "width": null
          }
        },
        "b89f364b90c746a8a913a77c8891116f": {
          "model_module": "@jupyter-widgets/base",
          "model_name": "LayoutModel",
          "model_module_version": "1.2.0",
          "state": {
            "_model_module": "@jupyter-widgets/base",
            "_model_module_version": "1.2.0",
            "_model_name": "LayoutModel",
            "_view_count": null,
            "_view_module": "@jupyter-widgets/base",
            "_view_module_version": "1.2.0",
            "_view_name": "LayoutView",
            "align_content": null,
            "align_items": null,
            "align_self": null,
            "border": null,
            "bottom": null,
            "display": null,
            "flex": null,
            "flex_flow": null,
            "grid_area": null,
            "grid_auto_columns": null,
            "grid_auto_flow": null,
            "grid_auto_rows": null,
            "grid_column": null,
            "grid_gap": null,
            "grid_row": null,
            "grid_template_areas": null,
            "grid_template_columns": null,
            "grid_template_rows": null,
            "height": null,
            "justify_content": null,
            "justify_items": null,
            "left": null,
            "margin": null,
            "max_height": null,
            "max_width": null,
            "min_height": null,
            "min_width": null,
            "object_fit": null,
            "object_position": null,
            "order": null,
            "overflow": null,
            "overflow_x": null,
            "overflow_y": null,
            "padding": null,
            "right": null,
            "top": null,
            "visibility": null,
            "width": null
          }
        },
        "dac05cd47ee745b79823063d4308d0b6": {
          "model_module": "@jupyter-widgets/controls",
          "model_name": "DescriptionStyleModel",
          "model_module_version": "1.5.0",
          "state": {
            "_model_module": "@jupyter-widgets/controls",
            "_model_module_version": "1.5.0",
            "_model_name": "DescriptionStyleModel",
            "_view_count": null,
            "_view_module": "@jupyter-widgets/base",
            "_view_module_version": "1.2.0",
            "_view_name": "StyleView",
            "description_width": ""
          }
        },
        "04a58798da2544c38650544103490e43": {
          "model_module": "@jupyter-widgets/base",
          "model_name": "LayoutModel",
          "model_module_version": "1.2.0",
          "state": {
            "_model_module": "@jupyter-widgets/base",
            "_model_module_version": "1.2.0",
            "_model_name": "LayoutModel",
            "_view_count": null,
            "_view_module": "@jupyter-widgets/base",
            "_view_module_version": "1.2.0",
            "_view_name": "LayoutView",
            "align_content": null,
            "align_items": null,
            "align_self": null,
            "border": null,
            "bottom": null,
            "display": null,
            "flex": null,
            "flex_flow": null,
            "grid_area": null,
            "grid_auto_columns": null,
            "grid_auto_flow": null,
            "grid_auto_rows": null,
            "grid_column": null,
            "grid_gap": null,
            "grid_row": null,
            "grid_template_areas": null,
            "grid_template_columns": null,
            "grid_template_rows": null,
            "height": null,
            "justify_content": null,
            "justify_items": null,
            "left": null,
            "margin": null,
            "max_height": null,
            "max_width": null,
            "min_height": null,
            "min_width": null,
            "object_fit": null,
            "object_position": null,
            "order": null,
            "overflow": null,
            "overflow_x": null,
            "overflow_y": null,
            "padding": null,
            "right": null,
            "top": null,
            "visibility": null,
            "width": null
          }
        },
        "d1190c3c25f44be887f1a451297b675d": {
          "model_module": "@jupyter-widgets/controls",
          "model_name": "ProgressStyleModel",
          "model_module_version": "1.5.0",
          "state": {
            "_model_module": "@jupyter-widgets/controls",
            "_model_module_version": "1.5.0",
            "_model_name": "ProgressStyleModel",
            "_view_count": null,
            "_view_module": "@jupyter-widgets/base",
            "_view_module_version": "1.2.0",
            "_view_name": "StyleView",
            "bar_color": null,
            "description_width": ""
          }
        },
        "5f09ab64a8fe4c769203e35ce0fd92da": {
          "model_module": "@jupyter-widgets/base",
          "model_name": "LayoutModel",
          "model_module_version": "1.2.0",
          "state": {
            "_model_module": "@jupyter-widgets/base",
            "_model_module_version": "1.2.0",
            "_model_name": "LayoutModel",
            "_view_count": null,
            "_view_module": "@jupyter-widgets/base",
            "_view_module_version": "1.2.0",
            "_view_name": "LayoutView",
            "align_content": null,
            "align_items": null,
            "align_self": null,
            "border": null,
            "bottom": null,
            "display": null,
            "flex": null,
            "flex_flow": null,
            "grid_area": null,
            "grid_auto_columns": null,
            "grid_auto_flow": null,
            "grid_auto_rows": null,
            "grid_column": null,
            "grid_gap": null,
            "grid_row": null,
            "grid_template_areas": null,
            "grid_template_columns": null,
            "grid_template_rows": null,
            "height": null,
            "justify_content": null,
            "justify_items": null,
            "left": null,
            "margin": null,
            "max_height": null,
            "max_width": null,
            "min_height": null,
            "min_width": null,
            "object_fit": null,
            "object_position": null,
            "order": null,
            "overflow": null,
            "overflow_x": null,
            "overflow_y": null,
            "padding": null,
            "right": null,
            "top": null,
            "visibility": null,
            "width": null
          }
        },
        "ab4d276c5bf74ab7bf8fb91ee0432188": {
          "model_module": "@jupyter-widgets/controls",
          "model_name": "DescriptionStyleModel",
          "model_module_version": "1.5.0",
          "state": {
            "_model_module": "@jupyter-widgets/controls",
            "_model_module_version": "1.5.0",
            "_model_name": "DescriptionStyleModel",
            "_view_count": null,
            "_view_module": "@jupyter-widgets/base",
            "_view_module_version": "1.2.0",
            "_view_name": "StyleView",
            "description_width": ""
          }
        },
        "be4a006be2c64c2b93afef331408d374": {
          "model_module": "@jupyter-widgets/controls",
          "model_name": "HBoxModel",
          "model_module_version": "1.5.0",
          "state": {
            "_dom_classes": [],
            "_model_module": "@jupyter-widgets/controls",
            "_model_module_version": "1.5.0",
            "_model_name": "HBoxModel",
            "_view_count": null,
            "_view_module": "@jupyter-widgets/controls",
            "_view_module_version": "1.5.0",
            "_view_name": "HBoxView",
            "box_style": "",
            "children": [
              "IPY_MODEL_f2b7a89356a447b3bf7767c300218593",
              "IPY_MODEL_98640fb28d46466ca99b010344b79dff",
              "IPY_MODEL_a1dfce900808456782a38e3023af1630"
            ],
            "layout": "IPY_MODEL_48e51905be864d63907e60ccfc98d9e9"
          }
        },
        "f2b7a89356a447b3bf7767c300218593": {
          "model_module": "@jupyter-widgets/controls",
          "model_name": "HTMLModel",
          "model_module_version": "1.5.0",
          "state": {
            "_dom_classes": [],
            "_model_module": "@jupyter-widgets/controls",
            "_model_module_version": "1.5.0",
            "_model_name": "HTMLModel",
            "_view_count": null,
            "_view_module": "@jupyter-widgets/controls",
            "_view_module_version": "1.5.0",
            "_view_name": "HTMLView",
            "description": "",
            "description_tooltip": null,
            "layout": "IPY_MODEL_308af98511cc4e56b9c56c26437afcbd",
            "placeholder": "​",
            "style": "IPY_MODEL_bfcf29ec45b9480cae96e30b49948b4e",
            "value": "100%"
          }
        },
        "98640fb28d46466ca99b010344b79dff": {
          "model_module": "@jupyter-widgets/controls",
          "model_name": "FloatProgressModel",
          "model_module_version": "1.5.0",
          "state": {
            "_dom_classes": [],
            "_model_module": "@jupyter-widgets/controls",
            "_model_module_version": "1.5.0",
            "_model_name": "FloatProgressModel",
            "_view_count": null,
            "_view_module": "@jupyter-widgets/controls",
            "_view_module_version": "1.5.0",
            "_view_name": "ProgressView",
            "bar_style": "success",
            "description": "",
            "description_tooltip": null,
            "layout": "IPY_MODEL_9ae0a0661d724d4aa90336922559f117",
            "max": 4542,
            "min": 0,
            "orientation": "horizontal",
            "style": "IPY_MODEL_d62d1ab5dff246a2968a743c0bfbac2e",
            "value": 4542
          }
        },
        "a1dfce900808456782a38e3023af1630": {
          "model_module": "@jupyter-widgets/controls",
          "model_name": "HTMLModel",
          "model_module_version": "1.5.0",
          "state": {
            "_dom_classes": [],
            "_model_module": "@jupyter-widgets/controls",
            "_model_module_version": "1.5.0",
            "_model_name": "HTMLModel",
            "_view_count": null,
            "_view_module": "@jupyter-widgets/controls",
            "_view_module_version": "1.5.0",
            "_view_name": "HTMLView",
            "description": "",
            "description_tooltip": null,
            "layout": "IPY_MODEL_29b84ff3e6d44499a2b6789c88b5bfbd",
            "placeholder": "​",
            "style": "IPY_MODEL_333ed075c21d43d2b14cdbf5113ea203",
            "value": " 4542/4542 [00:00&lt;00:00, 257523.10it/s]"
          }
        },
        "48e51905be864d63907e60ccfc98d9e9": {
          "model_module": "@jupyter-widgets/base",
          "model_name": "LayoutModel",
          "model_module_version": "1.2.0",
          "state": {
            "_model_module": "@jupyter-widgets/base",
            "_model_module_version": "1.2.0",
            "_model_name": "LayoutModel",
            "_view_count": null,
            "_view_module": "@jupyter-widgets/base",
            "_view_module_version": "1.2.0",
            "_view_name": "LayoutView",
            "align_content": null,
            "align_items": null,
            "align_self": null,
            "border": null,
            "bottom": null,
            "display": null,
            "flex": null,
            "flex_flow": null,
            "grid_area": null,
            "grid_auto_columns": null,
            "grid_auto_flow": null,
            "grid_auto_rows": null,
            "grid_column": null,
            "grid_gap": null,
            "grid_row": null,
            "grid_template_areas": null,
            "grid_template_columns": null,
            "grid_template_rows": null,
            "height": null,
            "justify_content": null,
            "justify_items": null,
            "left": null,
            "margin": null,
            "max_height": null,
            "max_width": null,
            "min_height": null,
            "min_width": null,
            "object_fit": null,
            "object_position": null,
            "order": null,
            "overflow": null,
            "overflow_x": null,
            "overflow_y": null,
            "padding": null,
            "right": null,
            "top": null,
            "visibility": null,
            "width": null
          }
        },
        "308af98511cc4e56b9c56c26437afcbd": {
          "model_module": "@jupyter-widgets/base",
          "model_name": "LayoutModel",
          "model_module_version": "1.2.0",
          "state": {
            "_model_module": "@jupyter-widgets/base",
            "_model_module_version": "1.2.0",
            "_model_name": "LayoutModel",
            "_view_count": null,
            "_view_module": "@jupyter-widgets/base",
            "_view_module_version": "1.2.0",
            "_view_name": "LayoutView",
            "align_content": null,
            "align_items": null,
            "align_self": null,
            "border": null,
            "bottom": null,
            "display": null,
            "flex": null,
            "flex_flow": null,
            "grid_area": null,
            "grid_auto_columns": null,
            "grid_auto_flow": null,
            "grid_auto_rows": null,
            "grid_column": null,
            "grid_gap": null,
            "grid_row": null,
            "grid_template_areas": null,
            "grid_template_columns": null,
            "grid_template_rows": null,
            "height": null,
            "justify_content": null,
            "justify_items": null,
            "left": null,
            "margin": null,
            "max_height": null,
            "max_width": null,
            "min_height": null,
            "min_width": null,
            "object_fit": null,
            "object_position": null,
            "order": null,
            "overflow": null,
            "overflow_x": null,
            "overflow_y": null,
            "padding": null,
            "right": null,
            "top": null,
            "visibility": null,
            "width": null
          }
        },
        "bfcf29ec45b9480cae96e30b49948b4e": {
          "model_module": "@jupyter-widgets/controls",
          "model_name": "DescriptionStyleModel",
          "model_module_version": "1.5.0",
          "state": {
            "_model_module": "@jupyter-widgets/controls",
            "_model_module_version": "1.5.0",
            "_model_name": "DescriptionStyleModel",
            "_view_count": null,
            "_view_module": "@jupyter-widgets/base",
            "_view_module_version": "1.2.0",
            "_view_name": "StyleView",
            "description_width": ""
          }
        },
        "9ae0a0661d724d4aa90336922559f117": {
          "model_module": "@jupyter-widgets/base",
          "model_name": "LayoutModel",
          "model_module_version": "1.2.0",
          "state": {
            "_model_module": "@jupyter-widgets/base",
            "_model_module_version": "1.2.0",
            "_model_name": "LayoutModel",
            "_view_count": null,
            "_view_module": "@jupyter-widgets/base",
            "_view_module_version": "1.2.0",
            "_view_name": "LayoutView",
            "align_content": null,
            "align_items": null,
            "align_self": null,
            "border": null,
            "bottom": null,
            "display": null,
            "flex": null,
            "flex_flow": null,
            "grid_area": null,
            "grid_auto_columns": null,
            "grid_auto_flow": null,
            "grid_auto_rows": null,
            "grid_column": null,
            "grid_gap": null,
            "grid_row": null,
            "grid_template_areas": null,
            "grid_template_columns": null,
            "grid_template_rows": null,
            "height": null,
            "justify_content": null,
            "justify_items": null,
            "left": null,
            "margin": null,
            "max_height": null,
            "max_width": null,
            "min_height": null,
            "min_width": null,
            "object_fit": null,
            "object_position": null,
            "order": null,
            "overflow": null,
            "overflow_x": null,
            "overflow_y": null,
            "padding": null,
            "right": null,
            "top": null,
            "visibility": null,
            "width": null
          }
        },
        "d62d1ab5dff246a2968a743c0bfbac2e": {
          "model_module": "@jupyter-widgets/controls",
          "model_name": "ProgressStyleModel",
          "model_module_version": "1.5.0",
          "state": {
            "_model_module": "@jupyter-widgets/controls",
            "_model_module_version": "1.5.0",
            "_model_name": "ProgressStyleModel",
            "_view_count": null,
            "_view_module": "@jupyter-widgets/base",
            "_view_module_version": "1.2.0",
            "_view_name": "StyleView",
            "bar_color": null,
            "description_width": ""
          }
        },
        "29b84ff3e6d44499a2b6789c88b5bfbd": {
          "model_module": "@jupyter-widgets/base",
          "model_name": "LayoutModel",
          "model_module_version": "1.2.0",
          "state": {
            "_model_module": "@jupyter-widgets/base",
            "_model_module_version": "1.2.0",
            "_model_name": "LayoutModel",
            "_view_count": null,
            "_view_module": "@jupyter-widgets/base",
            "_view_module_version": "1.2.0",
            "_view_name": "LayoutView",
            "align_content": null,
            "align_items": null,
            "align_self": null,
            "border": null,
            "bottom": null,
            "display": null,
            "flex": null,
            "flex_flow": null,
            "grid_area": null,
            "grid_auto_columns": null,
            "grid_auto_flow": null,
            "grid_auto_rows": null,
            "grid_column": null,
            "grid_gap": null,
            "grid_row": null,
            "grid_template_areas": null,
            "grid_template_columns": null,
            "grid_template_rows": null,
            "height": null,
            "justify_content": null,
            "justify_items": null,
            "left": null,
            "margin": null,
            "max_height": null,
            "max_width": null,
            "min_height": null,
            "min_width": null,
            "object_fit": null,
            "object_position": null,
            "order": null,
            "overflow": null,
            "overflow_x": null,
            "overflow_y": null,
            "padding": null,
            "right": null,
            "top": null,
            "visibility": null,
            "width": null
          }
        },
        "333ed075c21d43d2b14cdbf5113ea203": {
          "model_module": "@jupyter-widgets/controls",
          "model_name": "DescriptionStyleModel",
          "model_module_version": "1.5.0",
          "state": {
            "_model_module": "@jupyter-widgets/controls",
            "_model_module_version": "1.5.0",
            "_model_name": "DescriptionStyleModel",
            "_view_count": null,
            "_view_module": "@jupyter-widgets/base",
            "_view_module_version": "1.2.0",
            "_view_name": "StyleView",
            "description_width": ""
          }
        },
        "eff967c0ae3a48738492aa642976b97e": {
          "model_module": "@jupyter-widgets/controls",
          "model_name": "HBoxModel",
          "model_module_version": "1.5.0",
          "state": {
            "_dom_classes": [],
            "_model_module": "@jupyter-widgets/controls",
            "_model_module_version": "1.5.0",
            "_model_name": "HBoxModel",
            "_view_count": null,
            "_view_module": "@jupyter-widgets/controls",
            "_view_module_version": "1.5.0",
            "_view_name": "HBoxView",
            "box_style": "",
            "children": [
              "IPY_MODEL_c059ce4f2b5c496aacdf73f854b9e9f7",
              "IPY_MODEL_7a416f4fc9f244c8b97f3ddb12eb9a33",
              "IPY_MODEL_fef9da1550c740a28abca599a22434ac"
            ],
            "layout": "IPY_MODEL_15081c9946494ab888a7ee1af9b2b7f4"
          }
        },
        "c059ce4f2b5c496aacdf73f854b9e9f7": {
          "model_module": "@jupyter-widgets/controls",
          "model_name": "HTMLModel",
          "model_module_version": "1.5.0",
          "state": {
            "_dom_classes": [],
            "_model_module": "@jupyter-widgets/controls",
            "_model_module_version": "1.5.0",
            "_model_name": "HTMLModel",
            "_view_count": null,
            "_view_module": "@jupyter-widgets/controls",
            "_view_module_version": "1.5.0",
            "_view_name": "HTMLView",
            "description": "",
            "description_tooltip": null,
            "layout": "IPY_MODEL_1d8747201de6470bb426fad8ceb768cc",
            "placeholder": "​",
            "style": "IPY_MODEL_acfebdde534b43d0a496b49506c4b81c",
            "value": "100%"
          }
        },
        "7a416f4fc9f244c8b97f3ddb12eb9a33": {
          "model_module": "@jupyter-widgets/controls",
          "model_name": "FloatProgressModel",
          "model_module_version": "1.5.0",
          "state": {
            "_dom_classes": [],
            "_model_module": "@jupyter-widgets/controls",
            "_model_module_version": "1.5.0",
            "_model_name": "FloatProgressModel",
            "_view_count": null,
            "_view_module": "@jupyter-widgets/controls",
            "_view_module_version": "1.5.0",
            "_view_name": "ProgressView",
            "bar_style": "success",
            "description": "",
            "description_tooltip": null,
            "layout": "IPY_MODEL_c54c0c7b356f41aca903e0dbcc643e5d",
            "max": 170498071,
            "min": 0,
            "orientation": "horizontal",
            "style": "IPY_MODEL_247aedbec9394ba080f7f08d6c651f9d",
            "value": 170498071
          }
        },
        "fef9da1550c740a28abca599a22434ac": {
          "model_module": "@jupyter-widgets/controls",
          "model_name": "HTMLModel",
          "model_module_version": "1.5.0",
          "state": {
            "_dom_classes": [],
            "_model_module": "@jupyter-widgets/controls",
            "_model_module_version": "1.5.0",
            "_model_name": "HTMLModel",
            "_view_count": null,
            "_view_module": "@jupyter-widgets/controls",
            "_view_module_version": "1.5.0",
            "_view_name": "HTMLView",
            "description": "",
            "description_tooltip": null,
            "layout": "IPY_MODEL_186b5c46eeaa4544943a31f3fbda4dd2",
            "placeholder": "​",
            "style": "IPY_MODEL_28ae86d66dda41fbac0da80ba6568a56",
            "value": " 170498071/170498071 [00:12&lt;00:00, 14643971.59it/s]"
          }
        },
        "15081c9946494ab888a7ee1af9b2b7f4": {
          "model_module": "@jupyter-widgets/base",
          "model_name": "LayoutModel",
          "model_module_version": "1.2.0",
          "state": {
            "_model_module": "@jupyter-widgets/base",
            "_model_module_version": "1.2.0",
            "_model_name": "LayoutModel",
            "_view_count": null,
            "_view_module": "@jupyter-widgets/base",
            "_view_module_version": "1.2.0",
            "_view_name": "LayoutView",
            "align_content": null,
            "align_items": null,
            "align_self": null,
            "border": null,
            "bottom": null,
            "display": null,
            "flex": null,
            "flex_flow": null,
            "grid_area": null,
            "grid_auto_columns": null,
            "grid_auto_flow": null,
            "grid_auto_rows": null,
            "grid_column": null,
            "grid_gap": null,
            "grid_row": null,
            "grid_template_areas": null,
            "grid_template_columns": null,
            "grid_template_rows": null,
            "height": null,
            "justify_content": null,
            "justify_items": null,
            "left": null,
            "margin": null,
            "max_height": null,
            "max_width": null,
            "min_height": null,
            "min_width": null,
            "object_fit": null,
            "object_position": null,
            "order": null,
            "overflow": null,
            "overflow_x": null,
            "overflow_y": null,
            "padding": null,
            "right": null,
            "top": null,
            "visibility": null,
            "width": null
          }
        },
        "1d8747201de6470bb426fad8ceb768cc": {
          "model_module": "@jupyter-widgets/base",
          "model_name": "LayoutModel",
          "model_module_version": "1.2.0",
          "state": {
            "_model_module": "@jupyter-widgets/base",
            "_model_module_version": "1.2.0",
            "_model_name": "LayoutModel",
            "_view_count": null,
            "_view_module": "@jupyter-widgets/base",
            "_view_module_version": "1.2.0",
            "_view_name": "LayoutView",
            "align_content": null,
            "align_items": null,
            "align_self": null,
            "border": null,
            "bottom": null,
            "display": null,
            "flex": null,
            "flex_flow": null,
            "grid_area": null,
            "grid_auto_columns": null,
            "grid_auto_flow": null,
            "grid_auto_rows": null,
            "grid_column": null,
            "grid_gap": null,
            "grid_row": null,
            "grid_template_areas": null,
            "grid_template_columns": null,
            "grid_template_rows": null,
            "height": null,
            "justify_content": null,
            "justify_items": null,
            "left": null,
            "margin": null,
            "max_height": null,
            "max_width": null,
            "min_height": null,
            "min_width": null,
            "object_fit": null,
            "object_position": null,
            "order": null,
            "overflow": null,
            "overflow_x": null,
            "overflow_y": null,
            "padding": null,
            "right": null,
            "top": null,
            "visibility": null,
            "width": null
          }
        },
        "acfebdde534b43d0a496b49506c4b81c": {
          "model_module": "@jupyter-widgets/controls",
          "model_name": "DescriptionStyleModel",
          "model_module_version": "1.5.0",
          "state": {
            "_model_module": "@jupyter-widgets/controls",
            "_model_module_version": "1.5.0",
            "_model_name": "DescriptionStyleModel",
            "_view_count": null,
            "_view_module": "@jupyter-widgets/base",
            "_view_module_version": "1.2.0",
            "_view_name": "StyleView",
            "description_width": ""
          }
        },
        "c54c0c7b356f41aca903e0dbcc643e5d": {
          "model_module": "@jupyter-widgets/base",
          "model_name": "LayoutModel",
          "model_module_version": "1.2.0",
          "state": {
            "_model_module": "@jupyter-widgets/base",
            "_model_module_version": "1.2.0",
            "_model_name": "LayoutModel",
            "_view_count": null,
            "_view_module": "@jupyter-widgets/base",
            "_view_module_version": "1.2.0",
            "_view_name": "LayoutView",
            "align_content": null,
            "align_items": null,
            "align_self": null,
            "border": null,
            "bottom": null,
            "display": null,
            "flex": null,
            "flex_flow": null,
            "grid_area": null,
            "grid_auto_columns": null,
            "grid_auto_flow": null,
            "grid_auto_rows": null,
            "grid_column": null,
            "grid_gap": null,
            "grid_row": null,
            "grid_template_areas": null,
            "grid_template_columns": null,
            "grid_template_rows": null,
            "height": null,
            "justify_content": null,
            "justify_items": null,
            "left": null,
            "margin": null,
            "max_height": null,
            "max_width": null,
            "min_height": null,
            "min_width": null,
            "object_fit": null,
            "object_position": null,
            "order": null,
            "overflow": null,
            "overflow_x": null,
            "overflow_y": null,
            "padding": null,
            "right": null,
            "top": null,
            "visibility": null,
            "width": null
          }
        },
        "247aedbec9394ba080f7f08d6c651f9d": {
          "model_module": "@jupyter-widgets/controls",
          "model_name": "ProgressStyleModel",
          "model_module_version": "1.5.0",
          "state": {
            "_model_module": "@jupyter-widgets/controls",
            "_model_module_version": "1.5.0",
            "_model_name": "ProgressStyleModel",
            "_view_count": null,
            "_view_module": "@jupyter-widgets/base",
            "_view_module_version": "1.2.0",
            "_view_name": "StyleView",
            "bar_color": null,
            "description_width": ""
          }
        },
        "186b5c46eeaa4544943a31f3fbda4dd2": {
          "model_module": "@jupyter-widgets/base",
          "model_name": "LayoutModel",
          "model_module_version": "1.2.0",
          "state": {
            "_model_module": "@jupyter-widgets/base",
            "_model_module_version": "1.2.0",
            "_model_name": "LayoutModel",
            "_view_count": null,
            "_view_module": "@jupyter-widgets/base",
            "_view_module_version": "1.2.0",
            "_view_name": "LayoutView",
            "align_content": null,
            "align_items": null,
            "align_self": null,
            "border": null,
            "bottom": null,
            "display": null,
            "flex": null,
            "flex_flow": null,
            "grid_area": null,
            "grid_auto_columns": null,
            "grid_auto_flow": null,
            "grid_auto_rows": null,
            "grid_column": null,
            "grid_gap": null,
            "grid_row": null,
            "grid_template_areas": null,
            "grid_template_columns": null,
            "grid_template_rows": null,
            "height": null,
            "justify_content": null,
            "justify_items": null,
            "left": null,
            "margin": null,
            "max_height": null,
            "max_width": null,
            "min_height": null,
            "min_width": null,
            "object_fit": null,
            "object_position": null,
            "order": null,
            "overflow": null,
            "overflow_x": null,
            "overflow_y": null,
            "padding": null,
            "right": null,
            "top": null,
            "visibility": null,
            "width": null
          }
        },
        "28ae86d66dda41fbac0da80ba6568a56": {
          "model_module": "@jupyter-widgets/controls",
          "model_name": "DescriptionStyleModel",
          "model_module_version": "1.5.0",
          "state": {
            "_model_module": "@jupyter-widgets/controls",
            "_model_module_version": "1.5.0",
            "_model_name": "DescriptionStyleModel",
            "_view_count": null,
            "_view_module": "@jupyter-widgets/base",
            "_view_module_version": "1.2.0",
            "_view_name": "StyleView",
            "description_width": ""
          }
        }
      }
    }
  },
  "cells": [
    {
      "cell_type": "markdown",
      "metadata": {
        "id": "view-in-github",
        "colab_type": "text"
      },
      "source": [
        "<a href=\"https://colab.research.google.com/github/LamineGith/PyTorch/blob/main/Autoencoder.ipynb\" target=\"_parent\"><img src=\"https://colab.research.google.com/assets/colab-badge.svg\" alt=\"Open In Colab\"/></a>"
      ]
    },
    {
      "cell_type": "markdown",
      "source": [
        "# Autoencoder with both traditional NN and CNN\n",
        "\n",
        "An autoencoder neural network is an unsupervised machine learning algorithm. In an autoencoder, the number of hidden cells is smaller than the input cells. The number of input cells in autoencoders equals to the number of output cells. On an AE network, we train it to display the output, which is as close as the fed input, which forces AEs to find common patterns and generalize the data. We use autoencoders for the smaller representation of the input. This property is useful in many applications, in particular in compressing data or comparing images on a metric beyond pixel-level comparisons.\n",
        "\n"
      ],
      "metadata": {
        "id": "6e9ARl62d7JG"
      }
    },
    {
      "cell_type": "markdown",
      "source": [
        "## Autoencoder with traiditional NN"
      ],
      "metadata": {
        "id": "-WkmgeA3CGym"
      }
    },
    {
      "cell_type": "markdown",
      "source": [
        "### Dataset"
      ],
      "metadata": {
        "id": "kcNfpmY0yXLS"
      }
    },
    {
      "cell_type": "code",
      "execution_count": 1,
      "metadata": {
        "id": "QIEwAlLYVMAI",
        "colab": {
          "base_uri": "https://localhost:8080/",
          "height": 423,
          "referenced_widgets": [
            "8b175939de3948f3bdfc35d98e65acb9",
            "2d375a64739d42b7ace01bacf586ebd7",
            "54515f0a2133482ca1666cde3a8bf266",
            "c75af94b0fa84c51a9915fb462673e62",
            "62d33b5ff7fd4b6db95362bf906ac9dd",
            "3b7695b65c9b41c9a14bd98d9a255c2c",
            "9da3754d16ba49d3a787cdad2d56f7ec",
            "548b8f1fb8df429dbc9fcb097067e838",
            "5a7e28e6fe1f4bd08337efa89494ccc3",
            "bf99a7d551af4b6daa993fc0326a4ab6",
            "af66ba395fc54381858a24ee1d16ca1f",
            "7aa0deaeaf464ad68b1903934a196157",
            "5cd95493712a4c23bee279ec36c39d81",
            "ae9f8ef7651a48bbba21e120a6f1eb9a",
            "a08b0cb94112451f9f618d1a1aec9ebc",
            "2b4a338c5f6b49698eac0c2f3ac9a21d",
            "cf14d5f36aab467a9cfb515d5a71a9aa",
            "d4b5c9a0695a4ba8ad520b107f93bc7d",
            "59c98d2196be403e8aa5f94b5c7f7f2d",
            "f056047ba0c44135804a3443ba6c08ea",
            "7f064aebb34241abbb1e2d6cc49d9914",
            "e7ea107f3e3d471b983c97c38f45bd53",
            "805de1884ac74823becc02eb2701d75d",
            "3b6758ed327a44e593a7bd4aa52724b5",
            "dc1bb7b152e44fef8ba7f25eadaa082a",
            "17252dfc945649b59c46edfd8d52062b",
            "57743db7bb3243ceb5dc146212bcde4a",
            "b89f364b90c746a8a913a77c8891116f",
            "dac05cd47ee745b79823063d4308d0b6",
            "04a58798da2544c38650544103490e43",
            "d1190c3c25f44be887f1a451297b675d",
            "5f09ab64a8fe4c769203e35ce0fd92da",
            "ab4d276c5bf74ab7bf8fb91ee0432188",
            "be4a006be2c64c2b93afef331408d374",
            "f2b7a89356a447b3bf7767c300218593",
            "98640fb28d46466ca99b010344b79dff",
            "a1dfce900808456782a38e3023af1630",
            "48e51905be864d63907e60ccfc98d9e9",
            "308af98511cc4e56b9c56c26437afcbd",
            "bfcf29ec45b9480cae96e30b49948b4e",
            "9ae0a0661d724d4aa90336922559f117",
            "d62d1ab5dff246a2968a743c0bfbac2e",
            "29b84ff3e6d44499a2b6789c88b5bfbd",
            "333ed075c21d43d2b14cdbf5113ea203"
          ]
        },
        "outputId": "768f608c-dc9b-4fe4-f9b0-8c05a6fc9f0c"
      },
      "outputs": [
        {
          "output_type": "stream",
          "name": "stdout",
          "text": [
            "Downloading http://yann.lecun.com/exdb/mnist/train-images-idx3-ubyte.gz\n",
            "Downloading http://yann.lecun.com/exdb/mnist/train-images-idx3-ubyte.gz to ./MNIST/raw/train-images-idx3-ubyte.gz\n"
          ]
        },
        {
          "output_type": "display_data",
          "data": {
            "text/plain": [
              "  0%|          | 0/9912422 [00:00<?, ?it/s]"
            ],
            "application/vnd.jupyter.widget-view+json": {
              "version_major": 2,
              "version_minor": 0,
              "model_id": "8b175939de3948f3bdfc35d98e65acb9"
            }
          },
          "metadata": {}
        },
        {
          "output_type": "stream",
          "name": "stdout",
          "text": [
            "Extracting ./MNIST/raw/train-images-idx3-ubyte.gz to ./MNIST/raw\n",
            "\n",
            "Downloading http://yann.lecun.com/exdb/mnist/train-labels-idx1-ubyte.gz\n",
            "Downloading http://yann.lecun.com/exdb/mnist/train-labels-idx1-ubyte.gz to ./MNIST/raw/train-labels-idx1-ubyte.gz\n"
          ]
        },
        {
          "output_type": "display_data",
          "data": {
            "text/plain": [
              "  0%|          | 0/28881 [00:00<?, ?it/s]"
            ],
            "application/vnd.jupyter.widget-view+json": {
              "version_major": 2,
              "version_minor": 0,
              "model_id": "7aa0deaeaf464ad68b1903934a196157"
            }
          },
          "metadata": {}
        },
        {
          "output_type": "stream",
          "name": "stdout",
          "text": [
            "Extracting ./MNIST/raw/train-labels-idx1-ubyte.gz to ./MNIST/raw\n",
            "\n",
            "Downloading http://yann.lecun.com/exdb/mnist/t10k-images-idx3-ubyte.gz\n",
            "Downloading http://yann.lecun.com/exdb/mnist/t10k-images-idx3-ubyte.gz to ./MNIST/raw/t10k-images-idx3-ubyte.gz\n"
          ]
        },
        {
          "output_type": "display_data",
          "data": {
            "text/plain": [
              "  0%|          | 0/1648877 [00:00<?, ?it/s]"
            ],
            "application/vnd.jupyter.widget-view+json": {
              "version_major": 2,
              "version_minor": 0,
              "model_id": "805de1884ac74823becc02eb2701d75d"
            }
          },
          "metadata": {}
        },
        {
          "output_type": "stream",
          "name": "stdout",
          "text": [
            "Extracting ./MNIST/raw/t10k-images-idx3-ubyte.gz to ./MNIST/raw\n",
            "\n",
            "Downloading http://yann.lecun.com/exdb/mnist/t10k-labels-idx1-ubyte.gz\n",
            "Downloading http://yann.lecun.com/exdb/mnist/t10k-labels-idx1-ubyte.gz to ./MNIST/raw/t10k-labels-idx1-ubyte.gz\n"
          ]
        },
        {
          "output_type": "display_data",
          "data": {
            "text/plain": [
              "  0%|          | 0/4542 [00:00<?, ?it/s]"
            ],
            "application/vnd.jupyter.widget-view+json": {
              "version_major": 2,
              "version_minor": 0,
              "model_id": "be4a006be2c64c2b93afef331408d374"
            }
          },
          "metadata": {}
        },
        {
          "output_type": "stream",
          "name": "stdout",
          "text": [
            "Extracting ./MNIST/raw/t10k-labels-idx1-ubyte.gz to ./MNIST/raw\n",
            "\n"
          ]
        }
      ],
      "source": [
        "import torch\n",
        "import torch.nn as nn\n",
        "from torchvision import datasets, transforms\n",
        "\n",
        "torch.manual_seed(0)\n",
        "torch.backends.cudnn.deterministic = True\n",
        "device = torch.device('cuda' if torch.cuda.is_available() else 'cpu')\n",
        "device\n",
        "\n",
        "# Define the transform to preprocess the data\n",
        "transform = transforms.Compose([transforms.ToTensor()])\n",
        "\n",
        "# Load the MNIST dataset\n",
        "mnist_data = datasets.MNIST(root='.', train=True, download=True, transform=transform)\n",
        "\n",
        "# Define the data loader\n",
        "data_loader = torch.utils.data.DataLoader(mnist_data, batch_size=64, shuffle=True)\n"
      ]
    },
    {
      "cell_type": "markdown",
      "source": [
        "### Model Build\n",
        "It is composed of two main parts: an encoder and a decoder. The encoder maps the input data to a lower-dimensional representation (also known as the bottleneck or latent representation), and the decoder maps the bottleneck representation back to the original input space (reconstruction). The goal of the autoencoder is to learn a compact representation of the input data that can be used for tasks such as dimensionality reduction, denoising, and generative modeling.\n",
        "\n",
        "![image.png](data:image/png;base64,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)"
      ],
      "metadata": {
        "id": "2Vp-d7Rdgou7"
      }
    },
    {
      "cell_type": "code",
      "source": [
        "class Autoencoder(nn.Module):\n",
        "    def __init__(self):\n",
        "        '''A class that implements an AutoEncoder with NN linear\n",
        "           Implementation of the Encoder and the decoder. Input size is 784 while using the MNISt dataset.\n",
        "         Remember the input of the encoder is the same as the last output of decoder\n",
        "        '''\n",
        "        super(Autoencoder, self).__init__()\n",
        "        \n",
        "        self.encoder = nn.Sequential(\n",
        "            nn.Linear(28*28, 128),\n",
        "            nn.ReLU(),\n",
        "            nn.Linear(128, 64),\n",
        "            nn.ReLU(),\n",
        "            nn.Linear(64, 32))\n",
        "        self.decoder = nn.Sequential(\n",
        "            nn.Linear(32, 64),\n",
        "            nn.ReLU(),\n",
        "            nn.Linear(64, 128),\n",
        "            nn.ReLU(),\n",
        "            nn.Linear(128, 28*28),\n",
        "            nn.Sigmoid())\n",
        "\n",
        "    def forward(self, x):\n",
        "        \"\"\"\n",
        "        The forward function takes in an image (x) and returns the reconstructed image. \n",
        "        The latent is also returned in this case while it can be used for the visualization of latent representation\n",
        "        \"\"\"\n",
        "        latent = self.encoder(x)\n",
        "        x = self.decoder(latent)\n",
        "        return x,latent\n",
        "\n",
        "# Define the model and move it to the device\n",
        "model = Autoencoder()\n",
        "model = model.to(device)\n",
        "\n",
        "# Define the loss function and optimizer\n",
        "criterion = nn.MSELoss()\n",
        "optimizer = torch.optim.Adam(model.parameters(), lr=0.001)\n",
        "\n",
        "model.parameters"
      ],
      "metadata": {
        "colab": {
          "base_uri": "https://localhost:8080/"
        },
        "id": "SoL8mLGmxO1c",
        "outputId": "59c52dfa-c599-4300-f108-393cb911cdaf"
      },
      "execution_count": 11,
      "outputs": [
        {
          "output_type": "execute_result",
          "data": {
            "text/plain": [
              "<bound method Module.parameters of Autoencoder(\n",
              "  (encoder): Sequential(\n",
              "    (0): Linear(in_features=784, out_features=128, bias=True)\n",
              "    (1): ReLU()\n",
              "    (2): Linear(in_features=128, out_features=64, bias=True)\n",
              "    (3): ReLU()\n",
              "    (4): Linear(in_features=64, out_features=32, bias=True)\n",
              "  )\n",
              "  (decoder): Sequential(\n",
              "    (0): Linear(in_features=32, out_features=64, bias=True)\n",
              "    (1): ReLU()\n",
              "    (2): Linear(in_features=64, out_features=128, bias=True)\n",
              "    (3): ReLU()\n",
              "    (4): Linear(in_features=128, out_features=784, bias=True)\n",
              "    (5): Sigmoid()\n",
              "  )\n",
              ")>"
            ]
          },
          "metadata": {},
          "execution_count": 11
        }
      ]
    },
    {
      "cell_type": "code",
      "source": [
        "help(model)"
      ],
      "metadata": {
        "id": "ZRZKahgXnNzY"
      },
      "execution_count": 13,
      "outputs": []
    },
    {
      "cell_type": "markdown",
      "source": [
        "### Train Model "
      ],
      "metadata": {
        "id": "k1ET1n6iyb_X"
      }
    },
    {
      "cell_type": "code",
      "source": [
        "\n",
        "# Train the model\n",
        "for epoch in range(10):\n",
        "    for data in data_loader:\n",
        "        img, _ = data\n",
        "        img = img.view(img.size(0), -1)\n",
        "        img = img.to(device)\n",
        "\n",
        "        output, latent = model(img)\n",
        "        loss = criterion(output, img)\n",
        "\n",
        "        optimizer.zero_grad()\n",
        "        loss.backward()\n",
        "        optimizer.step()\n",
        "    print(\"Epoch [{}/{}], Loss: {:.4f}\".format(epoch+1, 10, loss.item()))"
      ],
      "metadata": {
        "colab": {
          "base_uri": "https://localhost:8080/"
        },
        "id": "2Vd48JvZiHFv",
        "outputId": "baf672e6-23b8-47cb-a8ac-acc31c433196"
      },
      "execution_count": 14,
      "outputs": [
        {
          "output_type": "stream",
          "name": "stdout",
          "text": [
            "Epoch [1/10], Loss: 0.0266\n",
            "Epoch [2/10], Loss: 0.0235\n",
            "Epoch [3/10], Loss: 0.0175\n",
            "Epoch [4/10], Loss: 0.0131\n",
            "Epoch [5/10], Loss: 0.0116\n",
            "Epoch [6/10], Loss: 0.0108\n",
            "Epoch [7/10], Loss: 0.0123\n",
            "Epoch [8/10], Loss: 0.0120\n",
            "Epoch [9/10], Loss: 0.0094\n",
            "Epoch [10/10], Loss: 0.0092\n"
          ]
        }
      ]
    },
    {
      "cell_type": "code",
      "source": [
        "# Visualize the original and reconstructed images\n",
        "%matplotlib inline\n",
        "import matplotlib\n",
        "import matplotlib.pyplot as plt\n",
        "import numpy as np\n",
        "from torch.utils.data import DataLoader\n",
        "\n",
        "dataloader = DataLoader(mnist_data, batch_size=512, shuffle=True)\n",
        "for data in dataloader:\n",
        "        img, labels = data\n",
        "        img = img.view(img.size(0), -1)    \n",
        "        model.cpu()    \n",
        "        _,latent = model(img)\n",
        "        break\n",
        "\n",
        "d = {0: 'red', 1: \"green\", 2: \"blue\", 3: \"maroon\", 4: \"yellow\", \n",
        "     5: \"pink\", 6: \"brown\", 7: \"black\", 8: \"teal\", 9: \"aqua\"}\n",
        "\n",
        "colors = []       \n",
        "for e in labels.numpy():\n",
        "    colors.append(d[e])\n",
        "\n",
        "fig = plt.figure(dpi=200)\n",
        "ax = fig.add_subplot(111)\n",
        "ax.set_xlabel('Latent feature 1')\n",
        "ax.set_ylabel('Latent feature 2')\n",
        "\n",
        "ax.scatter(latent[:,0].detach().numpy(), latent[:,1].detach().numpy(), \n",
        "           c=list(colors))"
      ],
      "metadata": {
        "colab": {
          "base_uri": "https://localhost:8080/",
          "height": 764
        },
        "id": "mHmUbtWickBQ",
        "outputId": "de0be976-c11b-4c08-d64c-db0284150d7e"
      },
      "execution_count": 15,
      "outputs": [
        {
          "output_type": "execute_result",
          "data": {
            "text/plain": [
              "<matplotlib.collections.PathCollection at 0x7feb91ecbf10>"
            ]
          },
          "metadata": {},
          "execution_count": 15
        },
        {
          "output_type": "display_data",
          "data": {
            "text/plain": [
              "<Figure size 1200x800 with 1 Axes>"
            ],
            "image/png": "[encoded data removed]"
          },
          "metadata": {
            "needs_background": "light"
          }
        }
      ]
    },
    {
      "cell_type": "markdown",
      "source": [
        "## Autoencoder with CNN\n",
        "\n",
        "In this part, we will inplement AE using the “deconvolution” (or transposed convolution) with Conv2D and ConvTranspose2d. Conv2D is mainly used when you want to detect features, e.g., in the encoder part of an autoencoder model, and it may shrink your input shape (that's the main idea of the encode to reduce dimension).\n",
        "Conversely, Conv2DTranspose is used for creating features, for example, in the decoder part of an autoencoder model for constructing an image (for the reconstruction). It makes the input shape larger."
      ],
      "metadata": {
        "id": "ZEMeG4GPb7tp"
      }
    },
    {
      "cell_type": "markdown",
      "source": [
        "### Dataset"
      ],
      "metadata": {
        "id": "nOcIvFP6yQUA"
      }
    },
    {
      "cell_type": "code",
      "source": [
        "# Load the data\n",
        "transform = transforms.Compose(\n",
        "    [transforms.Resize(256),\n",
        "     transforms.ToTensor()])\n",
        "trainset = torchvision.datasets.CIFAR10(root='./data', train=True, download=True, transform=transform)\n",
        "trainloader = torch.utils.data.DataLoader(trainset, batch_size=64, shuffle=True, num_workers=2)\n"
      ],
      "metadata": {
        "colab": {
          "base_uri": "https://localhost:8080/",
          "height": 84,
          "referenced_widgets": [
            "eff967c0ae3a48738492aa642976b97e",
            "c059ce4f2b5c496aacdf73f854b9e9f7",
            "7a416f4fc9f244c8b97f3ddb12eb9a33",
            "fef9da1550c740a28abca599a22434ac",
            "15081c9946494ab888a7ee1af9b2b7f4",
            "1d8747201de6470bb426fad8ceb768cc",
            "acfebdde534b43d0a496b49506c4b81c",
            "c54c0c7b356f41aca903e0dbcc643e5d",
            "247aedbec9394ba080f7f08d6c651f9d",
            "186b5c46eeaa4544943a31f3fbda4dd2",
            "28ae86d66dda41fbac0da80ba6568a56"
          ]
        },
        "id": "Z6MZPhnRrbqS",
        "outputId": "ac8e5f12-9793-4345-e5a4-0d2af9863188"
      },
      "execution_count": 18,
      "outputs": [
        {
          "output_type": "stream",
          "name": "stdout",
          "text": [
            "Downloading https://www.cs.toronto.edu/~kriz/cifar-10-python.tar.gz to ./data/cifar-10-python.tar.gz\n"
          ]
        },
        {
          "output_type": "display_data",
          "data": {
            "text/plain": [
              "  0%|          | 0/170498071 [00:00<?, ?it/s]"
            ],
            "application/vnd.jupyter.widget-view+json": {
              "version_major": 2,
              "version_minor": 0,
              "model_id": "eff967c0ae3a48738492aa642976b97e"
            }
          },
          "metadata": {}
        },
        {
          "output_type": "stream",
          "name": "stdout",
          "text": [
            "Extracting ./data/cifar-10-python.tar.gz to ./data\n"
          ]
        }
      ]
    },
    {
      "cell_type": "markdown",
      "source": [
        "### Model Build"
      ],
      "metadata": {
        "id": "cOkiY-v4yy26"
      }
    },
    {
      "cell_type": "code",
      "source": [
        "import torch\n",
        "import torch.nn as nn\n",
        "import torchvision\n",
        "import torchvision.transforms as transforms\n",
        "import torch.nn.functional as F\n",
        "\n",
        "device = torch.device('cuda' if torch.cuda.is_available() else 'cpu')\n",
        "device\n",
        "\n",
        "class Autoencoder(nn.Module):\n",
        "    def __init__(self):\n",
        "        \"\"\"\n",
        "        A Conv2d module applies a 2D convolution over an input signal composed of several input planes.\n",
        "        We define:\n",
        "        kernel_size: Size of the convolving kernel\n",
        "        stride : controls the stride for the cross-correlation, a single number or a tuple.\n",
        "        padding : controls the amount of padding applied to the input.\n",
        "        in_channels : 3. In CIFAR10, each image has 3 color channels and is 32x32 pixels large. \n",
        "        So we can use 3 channels instead of using the black-and-white\n",
        "        out_channels : 6\n",
        "        As always the input of the decoder is the output of the encoder and the decoder reconstruct the initial data (so output is 3).\n",
        "        \"\"\"\n",
        "        super(Autoencoder, self).__init__()\n",
        "        self.encoder = nn.Sequential(\n",
        "            nn.Conv2d(3, 6, kernel_size=3, stride=1, padding=1),\n",
        "            nn.ReLU(True),\n",
        "            nn.MaxPool2d(kernel_size=2, stride=2),\n",
        "            nn.Conv2d(6, 16, kernel_size=3, stride=1, padding=1),\n",
        "            nn.ReLU(True),\n",
        "            nn.MaxPool2d(kernel_size=2, stride=2)\n",
        "        )\n",
        "        self.decoder = nn.Sequential(\n",
        "            nn.ConvTranspose2d(16, 6, kernel_size=2, stride=2),\n",
        "            nn.ReLU(True),\n",
        "            nn.ConvTranspose2d(6, 3, kernel_size=2, stride=2),\n",
        "            nn.Sigmoid()\n",
        "        )\n",
        "\n",
        "    def forward(self, x):\n",
        "        x = self.encoder(x)\n",
        "        x = self.decoder(x)\n",
        "        return x\n",
        "\n",
        "# Create the model\n",
        "model = Autoencoder()\n",
        "\n",
        "# Define the loss function and optimizer\n",
        "criterion = nn.MSELoss()\n",
        "optimizer = torch.optim.Adam(model.parameters(), lr=0.001)\n",
        "\n",
        "model.parameters"
      ],
      "metadata": {
        "id": "oPTKHI9G_L8Q",
        "colab": {
          "base_uri": "https://localhost:8080/"
        },
        "outputId": "0247c4fd-6169-4563-9d47-f8a0accf3797"
      },
      "execution_count": 27,
      "outputs": [
        {
          "output_type": "execute_result",
          "data": {
            "text/plain": [
              "<bound method Module.parameters of Autoencoder(\n",
              "  (encoder): Sequential(\n",
              "    (0): Conv2d(3, 6, kernel_size=(3, 3), stride=(1, 1), padding=(1, 1))\n",
              "    (1): ReLU(inplace=True)\n",
              "    (2): MaxPool2d(kernel_size=2, stride=2, padding=0, dilation=1, ceil_mode=False)\n",
              "    (3): Conv2d(6, 16, kernel_size=(3, 3), stride=(1, 1), padding=(1, 1))\n",
              "    (4): ReLU(inplace=True)\n",
              "    (5): MaxPool2d(kernel_size=2, stride=2, padding=0, dilation=1, ceil_mode=False)\n",
              "  )\n",
              "  (decoder): Sequential(\n",
              "    (0): ConvTranspose2d(16, 6, kernel_size=(2, 2), stride=(2, 2))\n",
              "    (1): ReLU(inplace=True)\n",
              "    (2): ConvTranspose2d(6, 3, kernel_size=(2, 2), stride=(2, 2))\n",
              "    (3): Sigmoid()\n",
              "  )\n",
              ")>"
            ]
          },
          "metadata": {},
          "execution_count": 27
        }
      ]
    },
    {
      "cell_type": "code",
      "source": [
        "device"
      ],
      "metadata": {
        "colab": {
          "base_uri": "https://localhost:8080/"
        },
        "id": "cdckKEy31T4n",
        "outputId": "cf850615-9c24-4020-bffb-5b2d71425cd4"
      },
      "execution_count": 28,
      "outputs": [
        {
          "output_type": "execute_result",
          "data": {
            "text/plain": [
              "device(type='cuda')"
            ]
          },
          "metadata": {},
          "execution_count": 28
        }
      ]
    },
    {
      "cell_type": "markdown",
      "source": [
        "### Model Train"
      ],
      "metadata": {
        "id": "Qko_xZzcy5yl"
      }
    },
    {
      "cell_type": "code",
      "source": [
        "model = model.to(device)\n",
        "for epoch in range(5):\n",
        "    for data in trainloader:\n",
        "        img, _ = data\n",
        "        img = img.to(device)\n",
        "        # Forward pass\n",
        "        output = model(img)\n",
        "        loss = criterion(output, img)\n",
        "        # Backward and optimize\n",
        "        optimizer.zero_grad()\n",
        "        loss.backward()\n",
        "        optimizer.step()\n",
        "    print('eppoch [{}/{}], loss:{:.4f}'.format(epoch+1, 5, loss.item()))"
      ],
      "metadata": {
        "colab": {
          "base_uri": "https://localhost:8080/"
        },
        "id": "_iE_o9gTvPaP",
        "outputId": "02d89b17-049d-46f3-cd61-4d812c94ee46"
      },
      "execution_count": 29,
      "outputs": [
        {
          "output_type": "stream",
          "name": "stdout",
          "text": [
            "eppoch [1/5], loss:0.0030\n",
            "eppoch [2/5], loss:0.0027\n",
            "eppoch [3/5], loss:0.0024\n",
            "eppoch [4/5], loss:0.0011\n",
            "eppoch [5/5], loss:0.0010\n"
          ]
        }
      ]
    },
    {
      "cell_type": "markdown",
      "source": [
        "# To be continued "
      ],
      "metadata": {
        "id": "jLn4hj2xzsjD"
      }
    }
  ]
}