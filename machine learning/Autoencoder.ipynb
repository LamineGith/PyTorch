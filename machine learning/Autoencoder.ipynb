{
  "nbformat": 4,
  "nbformat_minor": 0,
  "metadata": {
    "colab": {
      "provenance": [],
      "authorship_tag": "ABX9TyNoemluTfVZWA8Z78G2flKu",
      "include_colab_link": true
    },
    "kernelspec": {
      "name": "python3",
      "display_name": "Python 3"
    },
    "language_info": {
      "name": "python"
    },
    "gpuClass": "standard",
    "accelerator": "GPU",
    "widgets": {
      "application/vnd.jupyter.widget-state+json": {
        "73bfc6e08b8a494da691140eae503cf7": {
          "model_module": "@jupyter-widgets/controls",
          "model_name": "HBoxModel",
          "model_module_version": "1.5.0",
          "state": {
            "_dom_classes": [],
            "_model_module": "@jupyter-widgets/controls",
            "_model_module_version": "1.5.0",
            "_model_name": "HBoxModel",
            "_view_count": null,
            "_view_module": "@jupyter-widgets/controls",
            "_view_module_version": "1.5.0",
            "_view_name": "HBoxView",
            "box_style": "",
            "children": [
              "IPY_MODEL_a72c659bde724bc69e3acf0f19b358cd",
              "IPY_MODEL_688f255582874a219f197a5f48f4f2e5",
              "IPY_MODEL_1cb354934083429196f2f79311c661c7"
            ],
            "layout": "IPY_MODEL_836c82d9dbfc440b80f4364ea5bd54ad"
          }
        },
        "a72c659bde724bc69e3acf0f19b358cd": {
          "model_module": "@jupyter-widgets/controls",
          "model_name": "HTMLModel",
          "model_module_version": "1.5.0",
          "state": {
            "_dom_classes": [],
            "_model_module": "@jupyter-widgets/controls",
            "_model_module_version": "1.5.0",
            "_model_name": "HTMLModel",
            "_view_count": null,
            "_view_module": "@jupyter-widgets/controls",
            "_view_module_version": "1.5.0",
            "_view_name": "HTMLView",
            "description": "",
            "description_tooltip": null,
            "layout": "IPY_MODEL_d0d7482c73a8428bb40b166bbdf07e19",
            "placeholder": "​",
            "style": "IPY_MODEL_9deede31a8904069902ec02fdcadcc17",
            "value": "100%"
          }
        },
        "688f255582874a219f197a5f48f4f2e5": {
          "model_module": "@jupyter-widgets/controls",
          "model_name": "FloatProgressModel",
          "model_module_version": "1.5.0",
          "state": {
            "_dom_classes": [],
            "_model_module": "@jupyter-widgets/controls",
            "_model_module_version": "1.5.0",
            "_model_name": "FloatProgressModel",
            "_view_count": null,
            "_view_module": "@jupyter-widgets/controls",
            "_view_module_version": "1.5.0",
            "_view_name": "ProgressView",
            "bar_style": "success",
            "description": "",
            "description_tooltip": null,
            "layout": "IPY_MODEL_7fe0a0b603604687b11b30dc68b43518",
            "max": 9912422,
            "min": 0,
            "orientation": "horizontal",
            "style": "IPY_MODEL_8d352fa02eec4d6d98ca4bdf0ec17971",
            "value": 9912422
          }
        },
        "1cb354934083429196f2f79311c661c7": {
          "model_module": "@jupyter-widgets/controls",
          "model_name": "HTMLModel",
          "model_module_version": "1.5.0",
          "state": {
            "_dom_classes": [],
            "_model_module": "@jupyter-widgets/controls",
            "_model_module_version": "1.5.0",
            "_model_name": "HTMLModel",
            "_view_count": null,
            "_view_module": "@jupyter-widgets/controls",
            "_view_module_version": "1.5.0",
            "_view_name": "HTMLView",
            "description": "",
            "description_tooltip": null,
            "layout": "IPY_MODEL_853635c5d21a47a69782823923c660e6",
            "placeholder": "​",
            "style": "IPY_MODEL_17f5788f73204248ad760da2e6a652b8",
            "value": " 9912422/9912422 [00:00&lt;00:00, 183938907.42it/s]"
          }
        },
        "836c82d9dbfc440b80f4364ea5bd54ad": {
          "model_module": "@jupyter-widgets/base",
          "model_name": "LayoutModel",
          "model_module_version": "1.2.0",
          "state": {
            "_model_module": "@jupyter-widgets/base",
            "_model_module_version": "1.2.0",
            "_model_name": "LayoutModel",
            "_view_count": null,
            "_view_module": "@jupyter-widgets/base",
            "_view_module_version": "1.2.0",
            "_view_name": "LayoutView",
            "align_content": null,
            "align_items": null,
            "align_self": null,
            "border": null,
            "bottom": null,
            "display": null,
            "flex": null,
            "flex_flow": null,
            "grid_area": null,
            "grid_auto_columns": null,
            "grid_auto_flow": null,
            "grid_auto_rows": null,
            "grid_column": null,
            "grid_gap": null,
            "grid_row": null,
            "grid_template_areas": null,
            "grid_template_columns": null,
            "grid_template_rows": null,
            "height": null,
            "justify_content": null,
            "justify_items": null,
            "left": null,
            "margin": null,
            "max_height": null,
            "max_width": null,
            "min_height": null,
            "min_width": null,
            "object_fit": null,
            "object_position": null,
            "order": null,
            "overflow": null,
            "overflow_x": null,
            "overflow_y": null,
            "padding": null,
            "right": null,
            "top": null,
            "visibility": null,
            "width": null
          }
        },
        "d0d7482c73a8428bb40b166bbdf07e19": {
          "model_module": "@jupyter-widgets/base",
          "model_name": "LayoutModel",
          "model_module_version": "1.2.0",
          "state": {
            "_model_module": "@jupyter-widgets/base",
            "_model_module_version": "1.2.0",
            "_model_name": "LayoutModel",
            "_view_count": null,
            "_view_module": "@jupyter-widgets/base",
            "_view_module_version": "1.2.0",
            "_view_name": "LayoutView",
            "align_content": null,
            "align_items": null,
            "align_self": null,
            "border": null,
            "bottom": null,
            "display": null,
            "flex": null,
            "flex_flow": null,
            "grid_area": null,
            "grid_auto_columns": null,
            "grid_auto_flow": null,
            "grid_auto_rows": null,
            "grid_column": null,
            "grid_gap": null,
            "grid_row": null,
            "grid_template_areas": null,
            "grid_template_columns": null,
            "grid_template_rows": null,
            "height": null,
            "justify_content": null,
            "justify_items": null,
            "left": null,
            "margin": null,
            "max_height": null,
            "max_width": null,
            "min_height": null,
            "min_width": null,
            "object_fit": null,
            "object_position": null,
            "order": null,
            "overflow": null,
            "overflow_x": null,
            "overflow_y": null,
            "padding": null,
            "right": null,
            "top": null,
            "visibility": null,
            "width": null
          }
        },
        "9deede31a8904069902ec02fdcadcc17": {
          "model_module": "@jupyter-widgets/controls",
          "model_name": "DescriptionStyleModel",
          "model_module_version": "1.5.0",
          "state": {
            "_model_module": "@jupyter-widgets/controls",
            "_model_module_version": "1.5.0",
            "_model_name": "DescriptionStyleModel",
            "_view_count": null,
            "_view_module": "@jupyter-widgets/base",
            "_view_module_version": "1.2.0",
            "_view_name": "StyleView",
            "description_width": ""
          }
        },
        "7fe0a0b603604687b11b30dc68b43518": {
          "model_module": "@jupyter-widgets/base",
          "model_name": "LayoutModel",
          "model_module_version": "1.2.0",
          "state": {
            "_model_module": "@jupyter-widgets/base",
            "_model_module_version": "1.2.0",
            "_model_name": "LayoutModel",
            "_view_count": null,
            "_view_module": "@jupyter-widgets/base",
            "_view_module_version": "1.2.0",
            "_view_name": "LayoutView",
            "align_content": null,
            "align_items": null,
            "align_self": null,
            "border": null,
            "bottom": null,
            "display": null,
            "flex": null,
            "flex_flow": null,
            "grid_area": null,
            "grid_auto_columns": null,
            "grid_auto_flow": null,
            "grid_auto_rows": null,
            "grid_column": null,
            "grid_gap": null,
            "grid_row": null,
            "grid_template_areas": null,
            "grid_template_columns": null,
            "grid_template_rows": null,
            "height": null,
            "justify_content": null,
            "justify_items": null,
            "left": null,
            "margin": null,
            "max_height": null,
            "max_width": null,
            "min_height": null,
            "min_width": null,
            "object_fit": null,
            "object_position": null,
            "order": null,
            "overflow": null,
            "overflow_x": null,
            "overflow_y": null,
            "padding": null,
            "right": null,
            "top": null,
            "visibility": null,
            "width": null
          }
        },
        "8d352fa02eec4d6d98ca4bdf0ec17971": {
          "model_module": "@jupyter-widgets/controls",
          "model_name": "ProgressStyleModel",
          "model_module_version": "1.5.0",
          "state": {
            "_model_module": "@jupyter-widgets/controls",
            "_model_module_version": "1.5.0",
            "_model_name": "ProgressStyleModel",
            "_view_count": null,
            "_view_module": "@jupyter-widgets/base",
            "_view_module_version": "1.2.0",
            "_view_name": "StyleView",
            "bar_color": null,
            "description_width": ""
          }
        },
        "853635c5d21a47a69782823923c660e6": {
          "model_module": "@jupyter-widgets/base",
          "model_name": "LayoutModel",
          "model_module_version": "1.2.0",
          "state": {
            "_model_module": "@jupyter-widgets/base",
            "_model_module_version": "1.2.0",
            "_model_name": "LayoutModel",
            "_view_count": null,
            "_view_module": "@jupyter-widgets/base",
            "_view_module_version": "1.2.0",
            "_view_name": "LayoutView",
            "align_content": null,
            "align_items": null,
            "align_self": null,
            "border": null,
            "bottom": null,
            "display": null,
            "flex": null,
            "flex_flow": null,
            "grid_area": null,
            "grid_auto_columns": null,
            "grid_auto_flow": null,
            "grid_auto_rows": null,
            "grid_column": null,
            "grid_gap": null,
            "grid_row": null,
            "grid_template_areas": null,
            "grid_template_columns": null,
            "grid_template_rows": null,
            "height": null,
            "justify_content": null,
            "justify_items": null,
            "left": null,
            "margin": null,
            "max_height": null,
            "max_width": null,
            "min_height": null,
            "min_width": null,
            "object_fit": null,
            "object_position": null,
            "order": null,
            "overflow": null,
            "overflow_x": null,
            "overflow_y": null,
            "padding": null,
            "right": null,
            "top": null,
            "visibility": null,
            "width": null
          }
        },
        "17f5788f73204248ad760da2e6a652b8": {
          "model_module": "@jupyter-widgets/controls",
          "model_name": "DescriptionStyleModel",
          "model_module_version": "1.5.0",
          "state": {
            "_model_module": "@jupyter-widgets/controls",
            "_model_module_version": "1.5.0",
            "_model_name": "DescriptionStyleModel",
            "_view_count": null,
            "_view_module": "@jupyter-widgets/base",
            "_view_module_version": "1.2.0",
            "_view_name": "StyleView",
            "description_width": ""
          }
        },
        "25f5e61c6357468a943d514bbace9836": {
          "model_module": "@jupyter-widgets/controls",
          "model_name": "HBoxModel",
          "model_module_version": "1.5.0",
          "state": {
            "_dom_classes": [],
            "_model_module": "@jupyter-widgets/controls",
            "_model_module_version": "1.5.0",
            "_model_name": "HBoxModel",
            "_view_count": null,
            "_view_module": "@jupyter-widgets/controls",
            "_view_module_version": "1.5.0",
            "_view_name": "HBoxView",
            "box_style": "",
            "children": [
              "IPY_MODEL_7844783930bf4150af9c30b01b0b2c83",
              "IPY_MODEL_9130e129f5b64bc9a2c6348ece6c6e6a",
              "IPY_MODEL_34b89cdebcf34a64ad1e0cad9162552e"
            ],
            "layout": "IPY_MODEL_13b20b648fb44a679c23be467ed82cc8"
          }
        },
        "7844783930bf4150af9c30b01b0b2c83": {
          "model_module": "@jupyter-widgets/controls",
          "model_name": "HTMLModel",
          "model_module_version": "1.5.0",
          "state": {
            "_dom_classes": [],
            "_model_module": "@jupyter-widgets/controls",
            "_model_module_version": "1.5.0",
            "_model_name": "HTMLModel",
            "_view_count": null,
            "_view_module": "@jupyter-widgets/controls",
            "_view_module_version": "1.5.0",
            "_view_name": "HTMLView",
            "description": "",
            "description_tooltip": null,
            "layout": "IPY_MODEL_bcabce80a8e64f5f83e61101f9dea745",
            "placeholder": "​",
            "style": "IPY_MODEL_96453e2dadcc4d8c89fd723f11dffaf5",
            "value": "100%"
          }
        },
        "9130e129f5b64bc9a2c6348ece6c6e6a": {
          "model_module": "@jupyter-widgets/controls",
          "model_name": "FloatProgressModel",
          "model_module_version": "1.5.0",
          "state": {
            "_dom_classes": [],
            "_model_module": "@jupyter-widgets/controls",
            "_model_module_version": "1.5.0",
            "_model_name": "FloatProgressModel",
            "_view_count": null,
            "_view_module": "@jupyter-widgets/controls",
            "_view_module_version": "1.5.0",
            "_view_name": "ProgressView",
            "bar_style": "success",
            "description": "",
            "description_tooltip": null,
            "layout": "IPY_MODEL_ac03f5f32ff24b8cbb613d6d46bea865",
            "max": 28881,
            "min": 0,
            "orientation": "horizontal",
            "style": "IPY_MODEL_2742b36ee43f4807b5c4f99178b2c44e",
            "value": 28881
          }
        },
        "34b89cdebcf34a64ad1e0cad9162552e": {
          "model_module": "@jupyter-widgets/controls",
          "model_name": "HTMLModel",
          "model_module_version": "1.5.0",
          "state": {
            "_dom_classes": [],
            "_model_module": "@jupyter-widgets/controls",
            "_model_module_version": "1.5.0",
            "_model_name": "HTMLModel",
            "_view_count": null,
            "_view_module": "@jupyter-widgets/controls",
            "_view_module_version": "1.5.0",
            "_view_name": "HTMLView",
            "description": "",
            "description_tooltip": null,
            "layout": "IPY_MODEL_68323cb268274fd3bc8abfb6342ce802",
            "placeholder": "​",
            "style": "IPY_MODEL_8672c402562c4f3aba2c2c8b0cab680e",
            "value": " 28881/28881 [00:00&lt;00:00, 1710593.71it/s]"
          }
        },
        "13b20b648fb44a679c23be467ed82cc8": {
          "model_module": "@jupyter-widgets/base",
          "model_name": "LayoutModel",
          "model_module_version": "1.2.0",
          "state": {
            "_model_module": "@jupyter-widgets/base",
            "_model_module_version": "1.2.0",
            "_model_name": "LayoutModel",
            "_view_count": null,
            "_view_module": "@jupyter-widgets/base",
            "_view_module_version": "1.2.0",
            "_view_name": "LayoutView",
            "align_content": null,
            "align_items": null,
            "align_self": null,
            "border": null,
            "bottom": null,
            "display": null,
            "flex": null,
            "flex_flow": null,
            "grid_area": null,
            "grid_auto_columns": null,
            "grid_auto_flow": null,
            "grid_auto_rows": null,
            "grid_column": null,
            "grid_gap": null,
            "grid_row": null,
            "grid_template_areas": null,
            "grid_template_columns": null,
            "grid_template_rows": null,
            "height": null,
            "justify_content": null,
            "justify_items": null,
            "left": null,
            "margin": null,
            "max_height": null,
            "max_width": null,
            "min_height": null,
            "min_width": null,
            "object_fit": null,
            "object_position": null,
            "order": null,
            "overflow": null,
            "overflow_x": null,
            "overflow_y": null,
            "padding": null,
            "right": null,
            "top": null,
            "visibility": null,
            "width": null
          }
        },
        "bcabce80a8e64f5f83e61101f9dea745": {
          "model_module": "@jupyter-widgets/base",
          "model_name": "LayoutModel",
          "model_module_version": "1.2.0",
          "state": {
            "_model_module": "@jupyter-widgets/base",
            "_model_module_version": "1.2.0",
            "_model_name": "LayoutModel",
            "_view_count": null,
            "_view_module": "@jupyter-widgets/base",
            "_view_module_version": "1.2.0",
            "_view_name": "LayoutView",
            "align_content": null,
            "align_items": null,
            "align_self": null,
            "border": null,
            "bottom": null,
            "display": null,
            "flex": null,
            "flex_flow": null,
            "grid_area": null,
            "grid_auto_columns": null,
            "grid_auto_flow": null,
            "grid_auto_rows": null,
            "grid_column": null,
            "grid_gap": null,
            "grid_row": null,
            "grid_template_areas": null,
            "grid_template_columns": null,
            "grid_template_rows": null,
            "height": null,
            "justify_content": null,
            "justify_items": null,
            "left": null,
            "margin": null,
            "max_height": null,
            "max_width": null,
            "min_height": null,
            "min_width": null,
            "object_fit": null,
            "object_position": null,
            "order": null,
            "overflow": null,
            "overflow_x": null,
            "overflow_y": null,
            "padding": null,
            "right": null,
            "top": null,
            "visibility": null,
            "width": null
          }
        },
        "96453e2dadcc4d8c89fd723f11dffaf5": {
          "model_module": "@jupyter-widgets/controls",
          "model_name": "DescriptionStyleModel",
          "model_module_version": "1.5.0",
          "state": {
            "_model_module": "@jupyter-widgets/controls",
            "_model_module_version": "1.5.0",
            "_model_name": "DescriptionStyleModel",
            "_view_count": null,
            "_view_module": "@jupyter-widgets/base",
            "_view_module_version": "1.2.0",
            "_view_name": "StyleView",
            "description_width": ""
          }
        },
        "ac03f5f32ff24b8cbb613d6d46bea865": {
          "model_module": "@jupyter-widgets/base",
          "model_name": "LayoutModel",
          "model_module_version": "1.2.0",
          "state": {
            "_model_module": "@jupyter-widgets/base",
            "_model_module_version": "1.2.0",
            "_model_name": "LayoutModel",
            "_view_count": null,
            "_view_module": "@jupyter-widgets/base",
            "_view_module_version": "1.2.0",
            "_view_name": "LayoutView",
            "align_content": null,
            "align_items": null,
            "align_self": null,
            "border": null,
            "bottom": null,
            "display": null,
            "flex": null,
            "flex_flow": null,
            "grid_area": null,
            "grid_auto_columns": null,
            "grid_auto_flow": null,
            "grid_auto_rows": null,
            "grid_column": null,
            "grid_gap": null,
            "grid_row": null,
            "grid_template_areas": null,
            "grid_template_columns": null,
            "grid_template_rows": null,
            "height": null,
            "justify_content": null,
            "justify_items": null,
            "left": null,
            "margin": null,
            "max_height": null,
            "max_width": null,
            "min_height": null,
            "min_width": null,
            "object_fit": null,
            "object_position": null,
            "order": null,
            "overflow": null,
            "overflow_x": null,
            "overflow_y": null,
            "padding": null,
            "right": null,
            "top": null,
            "visibility": null,
            "width": null
          }
        },
        "2742b36ee43f4807b5c4f99178b2c44e": {
          "model_module": "@jupyter-widgets/controls",
          "model_name": "ProgressStyleModel",
          "model_module_version": "1.5.0",
          "state": {
            "_model_module": "@jupyter-widgets/controls",
            "_model_module_version": "1.5.0",
            "_model_name": "ProgressStyleModel",
            "_view_count": null,
            "_view_module": "@jupyter-widgets/base",
            "_view_module_version": "1.2.0",
            "_view_name": "StyleView",
            "bar_color": null,
            "description_width": ""
          }
        },
        "68323cb268274fd3bc8abfb6342ce802": {
          "model_module": "@jupyter-widgets/base",
          "model_name": "LayoutModel",
          "model_module_version": "1.2.0",
          "state": {
            "_model_module": "@jupyter-widgets/base",
            "_model_module_version": "1.2.0",
            "_model_name": "LayoutModel",
            "_view_count": null,
            "_view_module": "@jupyter-widgets/base",
            "_view_module_version": "1.2.0",
            "_view_name": "LayoutView",
            "align_content": null,
            "align_items": null,
            "align_self": null,
            "border": null,
            "bottom": null,
            "display": null,
            "flex": null,
            "flex_flow": null,
            "grid_area": null,
            "grid_auto_columns": null,
            "grid_auto_flow": null,
            "grid_auto_rows": null,
            "grid_column": null,
            "grid_gap": null,
            "grid_row": null,
            "grid_template_areas": null,
            "grid_template_columns": null,
            "grid_template_rows": null,
            "height": null,
            "justify_content": null,
            "justify_items": null,
            "left": null,
            "margin": null,
            "max_height": null,
            "max_width": null,
            "min_height": null,
            "min_width": null,
            "object_fit": null,
            "object_position": null,
            "order": null,
            "overflow": null,
            "overflow_x": null,
            "overflow_y": null,
            "padding": null,
            "right": null,
            "top": null,
            "visibility": null,
            "width": null
          }
        },
        "8672c402562c4f3aba2c2c8b0cab680e": {
          "model_module": "@jupyter-widgets/controls",
          "model_name": "DescriptionStyleModel",
          "model_module_version": "1.5.0",
          "state": {
            "_model_module": "@jupyter-widgets/controls",
            "_model_module_version": "1.5.0",
            "_model_name": "DescriptionStyleModel",
            "_view_count": null,
            "_view_module": "@jupyter-widgets/base",
            "_view_module_version": "1.2.0",
            "_view_name": "StyleView",
            "description_width": ""
          }
        },
        "6320ad21c03e45718df36c8db78ffdb6": {
          "model_module": "@jupyter-widgets/controls",
          "model_name": "HBoxModel",
          "model_module_version": "1.5.0",
          "state": {
            "_dom_classes": [],
            "_model_module": "@jupyter-widgets/controls",
            "_model_module_version": "1.5.0",
            "_model_name": "HBoxModel",
            "_view_count": null,
            "_view_module": "@jupyter-widgets/controls",
            "_view_module_version": "1.5.0",
            "_view_name": "HBoxView",
            "box_style": "",
            "children": [
              "IPY_MODEL_20b2fa10f0f54e359a969eddb389fb28",
              "IPY_MODEL_c9e3b4ef652b432bb409d0e972d653c0",
              "IPY_MODEL_e000a2271b1b43e8a5243e24b49276fd"
            ],
            "layout": "IPY_MODEL_afbe3b7752354bfbafd2fbb48aa59635"
          }
        },
        "20b2fa10f0f54e359a969eddb389fb28": {
          "model_module": "@jupyter-widgets/controls",
          "model_name": "HTMLModel",
          "model_module_version": "1.5.0",
          "state": {
            "_dom_classes": [],
            "_model_module": "@jupyter-widgets/controls",
            "_model_module_version": "1.5.0",
            "_model_name": "HTMLModel",
            "_view_count": null,
            "_view_module": "@jupyter-widgets/controls",
            "_view_module_version": "1.5.0",
            "_view_name": "HTMLView",
            "description": "",
            "description_tooltip": null,
            "layout": "IPY_MODEL_67a5ddc302834b9fbefcd297e1f1eb49",
            "placeholder": "​",
            "style": "IPY_MODEL_eb09ce5bcd84443b934a39e5a750f183",
            "value": "100%"
          }
        },
        "c9e3b4ef652b432bb409d0e972d653c0": {
          "model_module": "@jupyter-widgets/controls",
          "model_name": "FloatProgressModel",
          "model_module_version": "1.5.0",
          "state": {
            "_dom_classes": [],
            "_model_module": "@jupyter-widgets/controls",
            "_model_module_version": "1.5.0",
            "_model_name": "FloatProgressModel",
            "_view_count": null,
            "_view_module": "@jupyter-widgets/controls",
            "_view_module_version": "1.5.0",
            "_view_name": "ProgressView",
            "bar_style": "success",
            "description": "",
            "description_tooltip": null,
            "layout": "IPY_MODEL_f3edeb3832104500895fba3e4dd15a98",
            "max": 1648877,
            "min": 0,
            "orientation": "horizontal",
            "style": "IPY_MODEL_0e90ad1cbb3c4a63b5305aa2267da688",
            "value": 1648877
          }
        },
        "e000a2271b1b43e8a5243e24b49276fd": {
          "model_module": "@jupyter-widgets/controls",
          "model_name": "HTMLModel",
          "model_module_version": "1.5.0",
          "state": {
            "_dom_classes": [],
            "_model_module": "@jupyter-widgets/controls",
            "_model_module_version": "1.5.0",
            "_model_name": "HTMLModel",
            "_view_count": null,
            "_view_module": "@jupyter-widgets/controls",
            "_view_module_version": "1.5.0",
            "_view_name": "HTMLView",
            "description": "",
            "description_tooltip": null,
            "layout": "IPY_MODEL_35a5e7f080454ecf97a68dbc72ad1932",
            "placeholder": "​",
            "style": "IPY_MODEL_fc6270d8b4bf4935974be8850bfb2dce",
            "value": " 1648877/1648877 [00:00&lt;00:00, 64416566.35it/s]"
          }
        },
        "afbe3b7752354bfbafd2fbb48aa59635": {
          "model_module": "@jupyter-widgets/base",
          "model_name": "LayoutModel",
          "model_module_version": "1.2.0",
          "state": {
            "_model_module": "@jupyter-widgets/base",
            "_model_module_version": "1.2.0",
            "_model_name": "LayoutModel",
            "_view_count": null,
            "_view_module": "@jupyter-widgets/base",
            "_view_module_version": "1.2.0",
            "_view_name": "LayoutView",
            "align_content": null,
            "align_items": null,
            "align_self": null,
            "border": null,
            "bottom": null,
            "display": null,
            "flex": null,
            "flex_flow": null,
            "grid_area": null,
            "grid_auto_columns": null,
            "grid_auto_flow": null,
            "grid_auto_rows": null,
            "grid_column": null,
            "grid_gap": null,
            "grid_row": null,
            "grid_template_areas": null,
            "grid_template_columns": null,
            "grid_template_rows": null,
            "height": null,
            "justify_content": null,
            "justify_items": null,
            "left": null,
            "margin": null,
            "max_height": null,
            "max_width": null,
            "min_height": null,
            "min_width": null,
            "object_fit": null,
            "object_position": null,
            "order": null,
            "overflow": null,
            "overflow_x": null,
            "overflow_y": null,
            "padding": null,
            "right": null,
            "top": null,
            "visibility": null,
            "width": null
          }
        },
        "67a5ddc302834b9fbefcd297e1f1eb49": {
          "model_module": "@jupyter-widgets/base",
          "model_name": "LayoutModel",
          "model_module_version": "1.2.0",
          "state": {
            "_model_module": "@jupyter-widgets/base",
            "_model_module_version": "1.2.0",
            "_model_name": "LayoutModel",
            "_view_count": null,
            "_view_module": "@jupyter-widgets/base",
            "_view_module_version": "1.2.0",
            "_view_name": "LayoutView",
            "align_content": null,
            "align_items": null,
            "align_self": null,
            "border": null,
            "bottom": null,
            "display": null,
            "flex": null,
            "flex_flow": null,
            "grid_area": null,
            "grid_auto_columns": null,
            "grid_auto_flow": null,
            "grid_auto_rows": null,
            "grid_column": null,
            "grid_gap": null,
            "grid_row": null,
            "grid_template_areas": null,
            "grid_template_columns": null,
            "grid_template_rows": null,
            "height": null,
            "justify_content": null,
            "justify_items": null,
            "left": null,
            "margin": null,
            "max_height": null,
            "max_width": null,
            "min_height": null,
            "min_width": null,
            "object_fit": null,
            "object_position": null,
            "order": null,
            "overflow": null,
            "overflow_x": null,
            "overflow_y": null,
            "padding": null,
            "right": null,
            "top": null,
            "visibility": null,
            "width": null
          }
        },
        "eb09ce5bcd84443b934a39e5a750f183": {
          "model_module": "@jupyter-widgets/controls",
          "model_name": "DescriptionStyleModel",
          "model_module_version": "1.5.0",
          "state": {
            "_model_module": "@jupyter-widgets/controls",
            "_model_module_version": "1.5.0",
            "_model_name": "DescriptionStyleModel",
            "_view_count": null,
            "_view_module": "@jupyter-widgets/base",
            "_view_module_version": "1.2.0",
            "_view_name": "StyleView",
            "description_width": ""
          }
        },
        "f3edeb3832104500895fba3e4dd15a98": {
          "model_module": "@jupyter-widgets/base",
          "model_name": "LayoutModel",
          "model_module_version": "1.2.0",
          "state": {
            "_model_module": "@jupyter-widgets/base",
            "_model_module_version": "1.2.0",
            "_model_name": "LayoutModel",
            "_view_count": null,
            "_view_module": "@jupyter-widgets/base",
            "_view_module_version": "1.2.0",
            "_view_name": "LayoutView",
            "align_content": null,
            "align_items": null,
            "align_self": null,
            "border": null,
            "bottom": null,
            "display": null,
            "flex": null,
            "flex_flow": null,
            "grid_area": null,
            "grid_auto_columns": null,
            "grid_auto_flow": null,
            "grid_auto_rows": null,
            "grid_column": null,
            "grid_gap": null,
            "grid_row": null,
            "grid_template_areas": null,
            "grid_template_columns": null,
            "grid_template_rows": null,
            "height": null,
            "justify_content": null,
            "justify_items": null,
            "left": null,
            "margin": null,
            "max_height": null,
            "max_width": null,
            "min_height": null,
            "min_width": null,
            "object_fit": null,
            "object_position": null,
            "order": null,
            "overflow": null,
            "overflow_x": null,
            "overflow_y": null,
            "padding": null,
            "right": null,
            "top": null,
            "visibility": null,
            "width": null
          }
        },
        "0e90ad1cbb3c4a63b5305aa2267da688": {
          "model_module": "@jupyter-widgets/controls",
          "model_name": "ProgressStyleModel",
          "model_module_version": "1.5.0",
          "state": {
            "_model_module": "@jupyter-widgets/controls",
            "_model_module_version": "1.5.0",
            "_model_name": "ProgressStyleModel",
            "_view_count": null,
            "_view_module": "@jupyter-widgets/base",
            "_view_module_version": "1.2.0",
            "_view_name": "StyleView",
            "bar_color": null,
            "description_width": ""
          }
        },
        "35a5e7f080454ecf97a68dbc72ad1932": {
          "model_module": "@jupyter-widgets/base",
          "model_name": "LayoutModel",
          "model_module_version": "1.2.0",
          "state": {
            "_model_module": "@jupyter-widgets/base",
            "_model_module_version": "1.2.0",
            "_model_name": "LayoutModel",
            "_view_count": null,
            "_view_module": "@jupyter-widgets/base",
            "_view_module_version": "1.2.0",
            "_view_name": "LayoutView",
            "align_content": null,
            "align_items": null,
            "align_self": null,
            "border": null,
            "bottom": null,
            "display": null,
            "flex": null,
            "flex_flow": null,
            "grid_area": null,
            "grid_auto_columns": null,
            "grid_auto_flow": null,
            "grid_auto_rows": null,
            "grid_column": null,
            "grid_gap": null,
            "grid_row": null,
            "grid_template_areas": null,
            "grid_template_columns": null,
            "grid_template_rows": null,
            "height": null,
            "justify_content": null,
            "justify_items": null,
            "left": null,
            "margin": null,
            "max_height": null,
            "max_width": null,
            "min_height": null,
            "min_width": null,
            "object_fit": null,
            "object_position": null,
            "order": null,
            "overflow": null,
            "overflow_x": null,
            "overflow_y": null,
            "padding": null,
            "right": null,
            "top": null,
            "visibility": null,
            "width": null
          }
        },
        "fc6270d8b4bf4935974be8850bfb2dce": {
          "model_module": "@jupyter-widgets/controls",
          "model_name": "DescriptionStyleModel",
          "model_module_version": "1.5.0",
          "state": {
            "_model_module": "@jupyter-widgets/controls",
            "_model_module_version": "1.5.0",
            "_model_name": "DescriptionStyleModel",
            "_view_count": null,
            "_view_module": "@jupyter-widgets/base",
            "_view_module_version": "1.2.0",
            "_view_name": "StyleView",
            "description_width": ""
          }
        },
        "fa67296d101941ce847f31c83f447d0f": {
          "model_module": "@jupyter-widgets/controls",
          "model_name": "HBoxModel",
          "model_module_version": "1.5.0",
          "state": {
            "_dom_classes": [],
            "_model_module": "@jupyter-widgets/controls",
            "_model_module_version": "1.5.0",
            "_model_name": "HBoxModel",
            "_view_count": null,
            "_view_module": "@jupyter-widgets/controls",
            "_view_module_version": "1.5.0",
            "_view_name": "HBoxView",
            "box_style": "",
            "children": [
              "IPY_MODEL_844f7f447cd54206a56ee8995a2e2dfb",
              "IPY_MODEL_fadb9634ea434f5fb7d409e9828e680d",
              "IPY_MODEL_7f6dd0206b5843c2af6b2e05e76a9f3f"
            ],
            "layout": "IPY_MODEL_1c63a2c7426a4ad3ad846808cc6f6ef3"
          }
        },
        "844f7f447cd54206a56ee8995a2e2dfb": {
          "model_module": "@jupyter-widgets/controls",
          "model_name": "HTMLModel",
          "model_module_version": "1.5.0",
          "state": {
            "_dom_classes": [],
            "_model_module": "@jupyter-widgets/controls",
            "_model_module_version": "1.5.0",
            "_model_name": "HTMLModel",
            "_view_count": null,
            "_view_module": "@jupyter-widgets/controls",
            "_view_module_version": "1.5.0",
            "_view_name": "HTMLView",
            "description": "",
            "description_tooltip": null,
            "layout": "IPY_MODEL_8386b03022a14e7c95770b6feee2d387",
            "placeholder": "​",
            "style": "IPY_MODEL_ef994d5392a647b5ad5d08b83c000d26",
            "value": "100%"
          }
        },
        "fadb9634ea434f5fb7d409e9828e680d": {
          "model_module": "@jupyter-widgets/controls",
          "model_name": "FloatProgressModel",
          "model_module_version": "1.5.0",
          "state": {
            "_dom_classes": [],
            "_model_module": "@jupyter-widgets/controls",
            "_model_module_version": "1.5.0",
            "_model_name": "FloatProgressModel",
            "_view_count": null,
            "_view_module": "@jupyter-widgets/controls",
            "_view_module_version": "1.5.0",
            "_view_name": "ProgressView",
            "bar_style": "success",
            "description": "",
            "description_tooltip": null,
            "layout": "IPY_MODEL_5c42823b5e2948b185eeae445ac419a8",
            "max": 4542,
            "min": 0,
            "orientation": "horizontal",
            "style": "IPY_MODEL_c1f03748751f492b9a5f91495f79263a",
            "value": 4542
          }
        },
        "7f6dd0206b5843c2af6b2e05e76a9f3f": {
          "model_module": "@jupyter-widgets/controls",
          "model_name": "HTMLModel",
          "model_module_version": "1.5.0",
          "state": {
            "_dom_classes": [],
            "_model_module": "@jupyter-widgets/controls",
            "_model_module_version": "1.5.0",
            "_model_name": "HTMLModel",
            "_view_count": null,
            "_view_module": "@jupyter-widgets/controls",
            "_view_module_version": "1.5.0",
            "_view_name": "HTMLView",
            "description": "",
            "description_tooltip": null,
            "layout": "IPY_MODEL_b5e1099b6fb0477989da3fb84a239e97",
            "placeholder": "​",
            "style": "IPY_MODEL_00d38fc162364bd99cc995f75a0f4ff9",
            "value": " 4542/4542 [00:00&lt;00:00, 311884.50it/s]"
          }
        },
        "1c63a2c7426a4ad3ad846808cc6f6ef3": {
          "model_module": "@jupyter-widgets/base",
          "model_name": "LayoutModel",
          "model_module_version": "1.2.0",
          "state": {
            "_model_module": "@jupyter-widgets/base",
            "_model_module_version": "1.2.0",
            "_model_name": "LayoutModel",
            "_view_count": null,
            "_view_module": "@jupyter-widgets/base",
            "_view_module_version": "1.2.0",
            "_view_name": "LayoutView",
            "align_content": null,
            "align_items": null,
            "align_self": null,
            "border": null,
            "bottom": null,
            "display": null,
            "flex": null,
            "flex_flow": null,
            "grid_area": null,
            "grid_auto_columns": null,
            "grid_auto_flow": null,
            "grid_auto_rows": null,
            "grid_column": null,
            "grid_gap": null,
            "grid_row": null,
            "grid_template_areas": null,
            "grid_template_columns": null,
            "grid_template_rows": null,
            "height": null,
            "justify_content": null,
            "justify_items": null,
            "left": null,
            "margin": null,
            "max_height": null,
            "max_width": null,
            "min_height": null,
            "min_width": null,
            "object_fit": null,
            "object_position": null,
            "order": null,
            "overflow": null,
            "overflow_x": null,
            "overflow_y": null,
            "padding": null,
            "right": null,
            "top": null,
            "visibility": null,
            "width": null
          }
        },
        "8386b03022a14e7c95770b6feee2d387": {
          "model_module": "@jupyter-widgets/base",
          "model_name": "LayoutModel",
          "model_module_version": "1.2.0",
          "state": {
            "_model_module": "@jupyter-widgets/base",
            "_model_module_version": "1.2.0",
            "_model_name": "LayoutModel",
            "_view_count": null,
            "_view_module": "@jupyter-widgets/base",
            "_view_module_version": "1.2.0",
            "_view_name": "LayoutView",
            "align_content": null,
            "align_items": null,
            "align_self": null,
            "border": null,
            "bottom": null,
            "display": null,
            "flex": null,
            "flex_flow": null,
            "grid_area": null,
            "grid_auto_columns": null,
            "grid_auto_flow": null,
            "grid_auto_rows": null,
            "grid_column": null,
            "grid_gap": null,
            "grid_row": null,
            "grid_template_areas": null,
            "grid_template_columns": null,
            "grid_template_rows": null,
            "height": null,
            "justify_content": null,
            "justify_items": null,
            "left": null,
            "margin": null,
            "max_height": null,
            "max_width": null,
            "min_height": null,
            "min_width": null,
            "object_fit": null,
            "object_position": null,
            "order": null,
            "overflow": null,
            "overflow_x": null,
            "overflow_y": null,
            "padding": null,
            "right": null,
            "top": null,
            "visibility": null,
            "width": null
          }
        },
        "ef994d5392a647b5ad5d08b83c000d26": {
          "model_module": "@jupyter-widgets/controls",
          "model_name": "DescriptionStyleModel",
          "model_module_version": "1.5.0",
          "state": {
            "_model_module": "@jupyter-widgets/controls",
            "_model_module_version": "1.5.0",
            "_model_name": "DescriptionStyleModel",
            "_view_count": null,
            "_view_module": "@jupyter-widgets/base",
            "_view_module_version": "1.2.0",
            "_view_name": "StyleView",
            "description_width": ""
          }
        },
        "5c42823b5e2948b185eeae445ac419a8": {
          "model_module": "@jupyter-widgets/base",
          "model_name": "LayoutModel",
          "model_module_version": "1.2.0",
          "state": {
            "_model_module": "@jupyter-widgets/base",
            "_model_module_version": "1.2.0",
            "_model_name": "LayoutModel",
            "_view_count": null,
            "_view_module": "@jupyter-widgets/base",
            "_view_module_version": "1.2.0",
            "_view_name": "LayoutView",
            "align_content": null,
            "align_items": null,
            "align_self": null,
            "border": null,
            "bottom": null,
            "display": null,
            "flex": null,
            "flex_flow": null,
            "grid_area": null,
            "grid_auto_columns": null,
            "grid_auto_flow": null,
            "grid_auto_rows": null,
            "grid_column": null,
            "grid_gap": null,
            "grid_row": null,
            "grid_template_areas": null,
            "grid_template_columns": null,
            "grid_template_rows": null,
            "height": null,
            "justify_content": null,
            "justify_items": null,
            "left": null,
            "margin": null,
            "max_height": null,
            "max_width": null,
            "min_height": null,
            "min_width": null,
            "object_fit": null,
            "object_position": null,
            "order": null,
            "overflow": null,
            "overflow_x": null,
            "overflow_y": null,
            "padding": null,
            "right": null,
            "top": null,
            "visibility": null,
            "width": null
          }
        },
        "c1f03748751f492b9a5f91495f79263a": {
          "model_module": "@jupyter-widgets/controls",
          "model_name": "ProgressStyleModel",
          "model_module_version": "1.5.0",
          "state": {
            "_model_module": "@jupyter-widgets/controls",
            "_model_module_version": "1.5.0",
            "_model_name": "ProgressStyleModel",
            "_view_count": null,
            "_view_module": "@jupyter-widgets/base",
            "_view_module_version": "1.2.0",
            "_view_name": "StyleView",
            "bar_color": null,
            "description_width": ""
          }
        },
        "b5e1099b6fb0477989da3fb84a239e97": {
          "model_module": "@jupyter-widgets/base",
          "model_name": "LayoutModel",
          "model_module_version": "1.2.0",
          "state": {
            "_model_module": "@jupyter-widgets/base",
            "_model_module_version": "1.2.0",
            "_model_name": "LayoutModel",
            "_view_count": null,
            "_view_module": "@jupyter-widgets/base",
            "_view_module_version": "1.2.0",
            "_view_name": "LayoutView",
            "align_content": null,
            "align_items": null,
            "align_self": null,
            "border": null,
            "bottom": null,
            "display": null,
            "flex": null,
            "flex_flow": null,
            "grid_area": null,
            "grid_auto_columns": null,
            "grid_auto_flow": null,
            "grid_auto_rows": null,
            "grid_column": null,
            "grid_gap": null,
            "grid_row": null,
            "grid_template_areas": null,
            "grid_template_columns": null,
            "grid_template_rows": null,
            "height": null,
            "justify_content": null,
            "justify_items": null,
            "left": null,
            "margin": null,
            "max_height": null,
            "max_width": null,
            "min_height": null,
            "min_width": null,
            "object_fit": null,
            "object_position": null,
            "order": null,
            "overflow": null,
            "overflow_x": null,
            "overflow_y": null,
            "padding": null,
            "right": null,
            "top": null,
            "visibility": null,
            "width": null
          }
        },
        "00d38fc162364bd99cc995f75a0f4ff9": {
          "model_module": "@jupyter-widgets/controls",
          "model_name": "DescriptionStyleModel",
          "model_module_version": "1.5.0",
          "state": {
            "_model_module": "@jupyter-widgets/controls",
            "_model_module_version": "1.5.0",
            "_model_name": "DescriptionStyleModel",
            "_view_count": null,
            "_view_module": "@jupyter-widgets/base",
            "_view_module_version": "1.2.0",
            "_view_name": "StyleView",
            "description_width": ""
          }
        },
        "41f3d1bc3215416d82aac8bf171656df": {
          "model_module": "@jupyter-widgets/controls",
          "model_name": "HBoxModel",
          "model_module_version": "1.5.0",
          "state": {
            "_dom_classes": [],
            "_model_module": "@jupyter-widgets/controls",
            "_model_module_version": "1.5.0",
            "_model_name": "HBoxModel",
            "_view_count": null,
            "_view_module": "@jupyter-widgets/controls",
            "_view_module_version": "1.5.0",
            "_view_name": "HBoxView",
            "box_style": "",
            "children": [
              "IPY_MODEL_875ae51dc01d41b39715e6f8013bcf9c",
              "IPY_MODEL_9e075a2d318c4be69bc294d34024f1f3",
              "IPY_MODEL_dc9ed25fa2654d0c93346d2737acd243"
            ],
            "layout": "IPY_MODEL_34de5591900648dabc38026b03c72c5f"
          }
        },
        "875ae51dc01d41b39715e6f8013bcf9c": {
          "model_module": "@jupyter-widgets/controls",
          "model_name": "HTMLModel",
          "model_module_version": "1.5.0",
          "state": {
            "_dom_classes": [],
            "_model_module": "@jupyter-widgets/controls",
            "_model_module_version": "1.5.0",
            "_model_name": "HTMLModel",
            "_view_count": null,
            "_view_module": "@jupyter-widgets/controls",
            "_view_module_version": "1.5.0",
            "_view_name": "HTMLView",
            "description": "",
            "description_tooltip": null,
            "layout": "IPY_MODEL_b32edb63331a4430aa8ac8bbb6f1206e",
            "placeholder": "​",
            "style": "IPY_MODEL_9db44753ae6f42e5aaf878bed31a900b",
            "value": "100%"
          }
        },
        "9e075a2d318c4be69bc294d34024f1f3": {
          "model_module": "@jupyter-widgets/controls",
          "model_name": "FloatProgressModel",
          "model_module_version": "1.5.0",
          "state": {
            "_dom_classes": [],
            "_model_module": "@jupyter-widgets/controls",
            "_model_module_version": "1.5.0",
            "_model_name": "FloatProgressModel",
            "_view_count": null,
            "_view_module": "@jupyter-widgets/controls",
            "_view_module_version": "1.5.0",
            "_view_name": "ProgressView",
            "bar_style": "success",
            "description": "",
            "description_tooltip": null,
            "layout": "IPY_MODEL_76daa79b11154e47a3fd4465d2dcf4b9",
            "max": 170498071,
            "min": 0,
            "orientation": "horizontal",
            "style": "IPY_MODEL_594a980526c44db98351ada1ef2afcfa",
            "value": 170498071
          }
        },
        "dc9ed25fa2654d0c93346d2737acd243": {
          "model_module": "@jupyter-widgets/controls",
          "model_name": "HTMLModel",
          "model_module_version": "1.5.0",
          "state": {
            "_dom_classes": [],
            "_model_module": "@jupyter-widgets/controls",
            "_model_module_version": "1.5.0",
            "_model_name": "HTMLModel",
            "_view_count": null,
            "_view_module": "@jupyter-widgets/controls",
            "_view_module_version": "1.5.0",
            "_view_name": "HTMLView",
            "description": "",
            "description_tooltip": null,
            "layout": "IPY_MODEL_6c263d79871a484a8278d8a06c692682",
            "placeholder": "​",
            "style": "IPY_MODEL_954d6e4e2f18413dbbb5ad33c7e1524b",
            "value": " 170498071/170498071 [00:13&lt;00:00, 13547254.67it/s]"
          }
        },
        "34de5591900648dabc38026b03c72c5f": {
          "model_module": "@jupyter-widgets/base",
          "model_name": "LayoutModel",
          "model_module_version": "1.2.0",
          "state": {
            "_model_module": "@jupyter-widgets/base",
            "_model_module_version": "1.2.0",
            "_model_name": "LayoutModel",
            "_view_count": null,
            "_view_module": "@jupyter-widgets/base",
            "_view_module_version": "1.2.0",
            "_view_name": "LayoutView",
            "align_content": null,
            "align_items": null,
            "align_self": null,
            "border": null,
            "bottom": null,
            "display": null,
            "flex": null,
            "flex_flow": null,
            "grid_area": null,
            "grid_auto_columns": null,
            "grid_auto_flow": null,
            "grid_auto_rows": null,
            "grid_column": null,
            "grid_gap": null,
            "grid_row": null,
            "grid_template_areas": null,
            "grid_template_columns": null,
            "grid_template_rows": null,
            "height": null,
            "justify_content": null,
            "justify_items": null,
            "left": null,
            "margin": null,
            "max_height": null,
            "max_width": null,
            "min_height": null,
            "min_width": null,
            "object_fit": null,
            "object_position": null,
            "order": null,
            "overflow": null,
            "overflow_x": null,
            "overflow_y": null,
            "padding": null,
            "right": null,
            "top": null,
            "visibility": null,
            "width": null
          }
        },
        "b32edb63331a4430aa8ac8bbb6f1206e": {
          "model_module": "@jupyter-widgets/base",
          "model_name": "LayoutModel",
          "model_module_version": "1.2.0",
          "state": {
            "_model_module": "@jupyter-widgets/base",
            "_model_module_version": "1.2.0",
            "_model_name": "LayoutModel",
            "_view_count": null,
            "_view_module": "@jupyter-widgets/base",
            "_view_module_version": "1.2.0",
            "_view_name": "LayoutView",
            "align_content": null,
            "align_items": null,
            "align_self": null,
            "border": null,
            "bottom": null,
            "display": null,
            "flex": null,
            "flex_flow": null,
            "grid_area": null,
            "grid_auto_columns": null,
            "grid_auto_flow": null,
            "grid_auto_rows": null,
            "grid_column": null,
            "grid_gap": null,
            "grid_row": null,
            "grid_template_areas": null,
            "grid_template_columns": null,
            "grid_template_rows": null,
            "height": null,
            "justify_content": null,
            "justify_items": null,
            "left": null,
            "margin": null,
            "max_height": null,
            "max_width": null,
            "min_height": null,
            "min_width": null,
            "object_fit": null,
            "object_position": null,
            "order": null,
            "overflow": null,
            "overflow_x": null,
            "overflow_y": null,
            "padding": null,
            "right": null,
            "top": null,
            "visibility": null,
            "width": null
          }
        },
        "9db44753ae6f42e5aaf878bed31a900b": {
          "model_module": "@jupyter-widgets/controls",
          "model_name": "DescriptionStyleModel",
          "model_module_version": "1.5.0",
          "state": {
            "_model_module": "@jupyter-widgets/controls",
            "_model_module_version": "1.5.0",
            "_model_name": "DescriptionStyleModel",
            "_view_count": null,
            "_view_module": "@jupyter-widgets/base",
            "_view_module_version": "1.2.0",
            "_view_name": "StyleView",
            "description_width": ""
          }
        },
        "76daa79b11154e47a3fd4465d2dcf4b9": {
          "model_module": "@jupyter-widgets/base",
          "model_name": "LayoutModel",
          "model_module_version": "1.2.0",
          "state": {
            "_model_module": "@jupyter-widgets/base",
            "_model_module_version": "1.2.0",
            "_model_name": "LayoutModel",
            "_view_count": null,
            "_view_module": "@jupyter-widgets/base",
            "_view_module_version": "1.2.0",
            "_view_name": "LayoutView",
            "align_content": null,
            "align_items": null,
            "align_self": null,
            "border": null,
            "bottom": null,
            "display": null,
            "flex": null,
            "flex_flow": null,
            "grid_area": null,
            "grid_auto_columns": null,
            "grid_auto_flow": null,
            "grid_auto_rows": null,
            "grid_column": null,
            "grid_gap": null,
            "grid_row": null,
            "grid_template_areas": null,
            "grid_template_columns": null,
            "grid_template_rows": null,
            "height": null,
            "justify_content": null,
            "justify_items": null,
            "left": null,
            "margin": null,
            "max_height": null,
            "max_width": null,
            "min_height": null,
            "min_width": null,
            "object_fit": null,
            "object_position": null,
            "order": null,
            "overflow": null,
            "overflow_x": null,
            "overflow_y": null,
            "padding": null,
            "right": null,
            "top": null,
            "visibility": null,
            "width": null
          }
        },
        "594a980526c44db98351ada1ef2afcfa": {
          "model_module": "@jupyter-widgets/controls",
          "model_name": "ProgressStyleModel",
          "model_module_version": "1.5.0",
          "state": {
            "_model_module": "@jupyter-widgets/controls",
            "_model_module_version": "1.5.0",
            "_model_name": "ProgressStyleModel",
            "_view_count": null,
            "_view_module": "@jupyter-widgets/base",
            "_view_module_version": "1.2.0",
            "_view_name": "StyleView",
            "bar_color": null,
            "description_width": ""
          }
        },
        "6c263d79871a484a8278d8a06c692682": {
          "model_module": "@jupyter-widgets/base",
          "model_name": "LayoutModel",
          "model_module_version": "1.2.0",
          "state": {
            "_model_module": "@jupyter-widgets/base",
            "_model_module_version": "1.2.0",
            "_model_name": "LayoutModel",
            "_view_count": null,
            "_view_module": "@jupyter-widgets/base",
            "_view_module_version": "1.2.0",
            "_view_name": "LayoutView",
            "align_content": null,
            "align_items": null,
            "align_self": null,
            "border": null,
            "bottom": null,
            "display": null,
            "flex": null,
            "flex_flow": null,
            "grid_area": null,
            "grid_auto_columns": null,
            "grid_auto_flow": null,
            "grid_auto_rows": null,
            "grid_column": null,
            "grid_gap": null,
            "grid_row": null,
            "grid_template_areas": null,
            "grid_template_columns": null,
            "grid_template_rows": null,
            "height": null,
            "justify_content": null,
            "justify_items": null,
            "left": null,
            "margin": null,
            "max_height": null,
            "max_width": null,
            "min_height": null,
            "min_width": null,
            "object_fit": null,
            "object_position": null,
            "order": null,
            "overflow": null,
            "overflow_x": null,
            "overflow_y": null,
            "padding": null,
            "right": null,
            "top": null,
            "visibility": null,
            "width": null
          }
        },
        "954d6e4e2f18413dbbb5ad33c7e1524b": {
          "model_module": "@jupyter-widgets/controls",
          "model_name": "DescriptionStyleModel",
          "model_module_version": "1.5.0",
          "state": {
            "_model_module": "@jupyter-widgets/controls",
            "_model_module_version": "1.5.0",
            "_model_name": "DescriptionStyleModel",
            "_view_count": null,
            "_view_module": "@jupyter-widgets/base",
            "_view_module_version": "1.2.0",
            "_view_name": "StyleView",
            "description_width": ""
          }
        }
      }
    }
  },
  "cells": [
    {
      "cell_type": "markdown",
      "metadata": {
        "id": "view-in-github",
        "colab_type": "text"
      },
      "source": [
        "<a href=\"https://colab.research.google.com/github/LamineTourelab/Tutorial/blob/main/machine%20learning/Autoencoder.ipynb\" target=\"_parent\"><img src=\"https://colab.research.google.com/assets/colab-badge.svg\" alt=\"Open In Colab\"/></a>"
      ]
    },
    {
      "cell_type": "markdown",
      "source": [
        "# Autoencoder with both traditional NN and CNN\n",
        "\n",
        "An autoencoder neural network is an unsupervised machine learning algorithm. In an autoencoder, the number of hidden cells is smaller than the input cells. The number of input cells in autoencoders equals to the number of output cells. On an AE network, we train it to display the output, which is as close as the fed input, which forces AEs to find common patterns and generalize the data. We use autoencoders for the smaller representation of the input. This property is useful in many applications, in particular in compressing data or comparing images on a metric beyond pixel-level comparisons.\n",
        "\n"
      ],
      "metadata": {
        "id": "6e9ARl62d7JG"
      }
    },
    {
      "cell_type": "markdown",
      "source": [
        "## Autoencoder with traiditional NN"
      ],
      "metadata": {
        "id": "-WkmgeA3CGym"
      }
    },
    {
      "cell_type": "code",
      "source": [
        "import torch\n",
        "import torch.nn as nn\n",
        "from torchvision import datasets, transforms\n",
        "import torchvision\n",
        "import numpy as np\n",
        "\n",
        "torch.manual_seed(0)\n",
        "torch.backends.cudnn.deterministic = True\n",
        "device = torch.device('cuda' if torch.cuda.is_available() else 'cpu')\n",
        "device\n"
      ],
      "metadata": {
        "id": "ACh0ZQzV8Nzk",
        "outputId": "e8501684-4e96-4e5f-887e-6f47a7d6919e",
        "colab": {
          "base_uri": "https://localhost:8080/"
        }
      },
      "execution_count": null,
      "outputs": [
        {
          "output_type": "execute_result",
          "data": {
            "text/plain": [
              "device(type='cuda')"
            ]
          },
          "metadata": {},
          "execution_count": 33
        }
      ]
    },
    {
      "cell_type": "markdown",
      "source": [
        "### Dataset"
      ],
      "metadata": {
        "id": "kcNfpmY0yXLS"
      }
    },
    {
      "cell_type": "code",
      "execution_count": null,
      "metadata": {
        "id": "QIEwAlLYVMAI",
        "colab": {
          "base_uri": "https://localhost:8080/",
          "height": 423,
          "referenced_widgets": [
            "73bfc6e08b8a494da691140eae503cf7",
            "a72c659bde724bc69e3acf0f19b358cd",
            "688f255582874a219f197a5f48f4f2e5",
            "1cb354934083429196f2f79311c661c7",
            "836c82d9dbfc440b80f4364ea5bd54ad",
            "d0d7482c73a8428bb40b166bbdf07e19",
            "9deede31a8904069902ec02fdcadcc17",
            "7fe0a0b603604687b11b30dc68b43518",
            "8d352fa02eec4d6d98ca4bdf0ec17971",
            "853635c5d21a47a69782823923c660e6",
            "17f5788f73204248ad760da2e6a652b8",
            "25f5e61c6357468a943d514bbace9836",
            "7844783930bf4150af9c30b01b0b2c83",
            "9130e129f5b64bc9a2c6348ece6c6e6a",
            "34b89cdebcf34a64ad1e0cad9162552e",
            "13b20b648fb44a679c23be467ed82cc8",
            "bcabce80a8e64f5f83e61101f9dea745",
            "96453e2dadcc4d8c89fd723f11dffaf5",
            "ac03f5f32ff24b8cbb613d6d46bea865",
            "2742b36ee43f4807b5c4f99178b2c44e",
            "68323cb268274fd3bc8abfb6342ce802",
            "8672c402562c4f3aba2c2c8b0cab680e",
            "6320ad21c03e45718df36c8db78ffdb6",
            "20b2fa10f0f54e359a969eddb389fb28",
            "c9e3b4ef652b432bb409d0e972d653c0",
            "e000a2271b1b43e8a5243e24b49276fd",
            "afbe3b7752354bfbafd2fbb48aa59635",
            "67a5ddc302834b9fbefcd297e1f1eb49",
            "eb09ce5bcd84443b934a39e5a750f183",
            "f3edeb3832104500895fba3e4dd15a98",
            "0e90ad1cbb3c4a63b5305aa2267da688",
            "35a5e7f080454ecf97a68dbc72ad1932",
            "fc6270d8b4bf4935974be8850bfb2dce",
            "fa67296d101941ce847f31c83f447d0f",
            "844f7f447cd54206a56ee8995a2e2dfb",
            "fadb9634ea434f5fb7d409e9828e680d",
            "7f6dd0206b5843c2af6b2e05e76a9f3f",
            "1c63a2c7426a4ad3ad846808cc6f6ef3",
            "8386b03022a14e7c95770b6feee2d387",
            "ef994d5392a647b5ad5d08b83c000d26",
            "5c42823b5e2948b185eeae445ac419a8",
            "c1f03748751f492b9a5f91495f79263a",
            "b5e1099b6fb0477989da3fb84a239e97",
            "00d38fc162364bd99cc995f75a0f4ff9"
          ]
        },
        "outputId": "145feb0f-1254-447b-8d87-5674626caf1b"
      },
      "outputs": [
        {
          "output_type": "stream",
          "name": "stdout",
          "text": [
            "Downloading http://yann.lecun.com/exdb/mnist/train-images-idx3-ubyte.gz\n",
            "Downloading http://yann.lecun.com/exdb/mnist/train-images-idx3-ubyte.gz to ./MNIST/raw/train-images-idx3-ubyte.gz\n"
          ]
        },
        {
          "output_type": "display_data",
          "data": {
            "text/plain": [
              "  0%|          | 0/9912422 [00:00<?, ?it/s]"
            ],
            "application/vnd.jupyter.widget-view+json": {
              "version_major": 2,
              "version_minor": 0,
              "model_id": "73bfc6e08b8a494da691140eae503cf7"
            }
          },
          "metadata": {}
        },
        {
          "output_type": "stream",
          "name": "stdout",
          "text": [
            "Extracting ./MNIST/raw/train-images-idx3-ubyte.gz to ./MNIST/raw\n",
            "\n",
            "Downloading http://yann.lecun.com/exdb/mnist/train-labels-idx1-ubyte.gz\n",
            "Downloading http://yann.lecun.com/exdb/mnist/train-labels-idx1-ubyte.gz to ./MNIST/raw/train-labels-idx1-ubyte.gz\n"
          ]
        },
        {
          "output_type": "display_data",
          "data": {
            "text/plain": [
              "  0%|          | 0/28881 [00:00<?, ?it/s]"
            ],
            "application/vnd.jupyter.widget-view+json": {
              "version_major": 2,
              "version_minor": 0,
              "model_id": "25f5e61c6357468a943d514bbace9836"
            }
          },
          "metadata": {}
        },
        {
          "output_type": "stream",
          "name": "stdout",
          "text": [
            "Extracting ./MNIST/raw/train-labels-idx1-ubyte.gz to ./MNIST/raw\n",
            "\n",
            "Downloading http://yann.lecun.com/exdb/mnist/t10k-images-idx3-ubyte.gz\n",
            "Downloading http://yann.lecun.com/exdb/mnist/t10k-images-idx3-ubyte.gz to ./MNIST/raw/t10k-images-idx3-ubyte.gz\n"
          ]
        },
        {
          "output_type": "display_data",
          "data": {
            "text/plain": [
              "  0%|          | 0/1648877 [00:00<?, ?it/s]"
            ],
            "application/vnd.jupyter.widget-view+json": {
              "version_major": 2,
              "version_minor": 0,
              "model_id": "6320ad21c03e45718df36c8db78ffdb6"
            }
          },
          "metadata": {}
        },
        {
          "output_type": "stream",
          "name": "stdout",
          "text": [
            "Extracting ./MNIST/raw/t10k-images-idx3-ubyte.gz to ./MNIST/raw\n",
            "\n",
            "Downloading http://yann.lecun.com/exdb/mnist/t10k-labels-idx1-ubyte.gz\n",
            "Downloading http://yann.lecun.com/exdb/mnist/t10k-labels-idx1-ubyte.gz to ./MNIST/raw/t10k-labels-idx1-ubyte.gz\n"
          ]
        },
        {
          "output_type": "display_data",
          "data": {
            "text/plain": [
              "  0%|          | 0/4542 [00:00<?, ?it/s]"
            ],
            "application/vnd.jupyter.widget-view+json": {
              "version_major": 2,
              "version_minor": 0,
              "model_id": "fa67296d101941ce847f31c83f447d0f"
            }
          },
          "metadata": {}
        },
        {
          "output_type": "stream",
          "name": "stdout",
          "text": [
            "Extracting ./MNIST/raw/t10k-labels-idx1-ubyte.gz to ./MNIST/raw\n",
            "\n"
          ]
        }
      ],
      "source": [
        "\n",
        "# Define the transform to preprocess the data\n",
        "transform = transforms.Compose([transforms.ToTensor()])\n",
        "\n",
        "# Load the MNIST dataset\n",
        "mnist_data = datasets.MNIST(root='.', train=True, download=True, transform=transform)\n",
        "\n",
        "# Define the data loader\n",
        "data_loader = torch.utils.data.DataLoader(mnist_data, batch_size=64, shuffle=True)\n",
        "\n",
        "mnist_data_test = datasets.MNIST(root='.', train=False, download=True, transform=transform)\n",
        "\n",
        "test_loader = torch.utils.data.DataLoader(mnist_data_test, batch_size=64, shuffle=True)\n"
      ]
    },
    {
      "cell_type": "markdown",
      "source": [
        "### Model Build\n",
        "It is composed of two main parts: an encoder and a decoder. The encoder maps the input data to a lower-dimensional representation (also known as the bottleneck or latent representation), and the decoder maps the bottleneck representation back to the original input space (reconstruction). The goal of the autoencoder is to learn a compact representation of the input data that can be used for tasks such as dimensionality reduction, denoising, and generative modeling.\n",
        "\n",
        "![image.png](data:image/png;base64,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)"
      ],
      "metadata": {
        "id": "2Vp-d7Rdgou7"
      }
    },
    {
      "cell_type": "code",
      "source": [
        "class Autoencoder(nn.Module):\n",
        "    def __init__(self):\n",
        "        '''A class that implements an AutoEncoder with NN linear\n",
        "           Implementation of the Encoder and the decoder. Input size is 784 while using the MNISt dataset.\n",
        "         Remember the input of the encoder is the same as the last output of decoder\n",
        "        '''\n",
        "        super(Autoencoder, self).__init__()\n",
        "\n",
        "        self.encoder = nn.Sequential(\n",
        "            nn.Linear(28*28, 128),\n",
        "            nn.ReLU(),\n",
        "            nn.Linear(128, 64),\n",
        "            nn.ReLU(),\n",
        "            nn.Linear(64, 32))\n",
        "        self.decoder = nn.Sequential(\n",
        "            nn.Linear(32, 64),\n",
        "            nn.ReLU(),\n",
        "            nn.Linear(64, 128),\n",
        "            nn.ReLU(),\n",
        "            nn.Linear(128, 28*28),\n",
        "            nn.Sigmoid())\n",
        "\n",
        "    def forward(self, x):\n",
        "        \"\"\"\n",
        "        The forward function takes in an image (x) and returns the reconstructed image.\n",
        "        The latent is also returned in this case while it can be used for the visualization of latent representation\n",
        "        \"\"\"\n",
        "        latent = self.encoder(x)\n",
        "        x = self.decoder(latent)\n",
        "        return x,latent\n",
        "\n",
        "# Define the model and move it to the device\n",
        "model = Autoencoder()\n",
        "model = model.to(device)\n",
        "\n",
        "# Define the loss function and optimizer\n",
        "criterion = nn.MSELoss()\n",
        "optimizer = torch.optim.Adam(model.parameters(), lr=0.001)\n",
        "\n",
        "model.parameters"
      ],
      "metadata": {
        "colab": {
          "base_uri": "https://localhost:8080/"
        },
        "id": "SoL8mLGmxO1c",
        "outputId": "2609cd4b-8237-44ea-91de-9138c926051d"
      },
      "execution_count": null,
      "outputs": [
        {
          "output_type": "execute_result",
          "data": {
            "text/plain": [
              "<bound method Module.parameters of Autoencoder(\n",
              "  (encoder): Sequential(\n",
              "    (0): Linear(in_features=784, out_features=128, bias=True)\n",
              "    (1): ReLU()\n",
              "    (2): Linear(in_features=128, out_features=64, bias=True)\n",
              "    (3): ReLU()\n",
              "    (4): Linear(in_features=64, out_features=32, bias=True)\n",
              "  )\n",
              "  (decoder): Sequential(\n",
              "    (0): Linear(in_features=32, out_features=64, bias=True)\n",
              "    (1): ReLU()\n",
              "    (2): Linear(in_features=64, out_features=128, bias=True)\n",
              "    (3): ReLU()\n",
              "    (4): Linear(in_features=128, out_features=784, bias=True)\n",
              "    (5): Sigmoid()\n",
              "  )\n",
              ")>"
            ]
          },
          "metadata": {},
          "execution_count": 9
        }
      ]
    },
    {
      "cell_type": "code",
      "source": [
        "help(model)"
      ],
      "metadata": {
        "id": "ZRZKahgXnNzY"
      },
      "execution_count": null,
      "outputs": []
    },
    {
      "cell_type": "markdown",
      "source": [
        "### Train Model"
      ],
      "metadata": {
        "id": "k1ET1n6iyb_X"
      }
    },
    {
      "cell_type": "code",
      "source": [
        "\n",
        "# Train the model\n",
        "for epoch in range(10):\n",
        "    for data in data_loader:\n",
        "        img, _ = data\n",
        "        img = img.view(img.size(0), -1)\n",
        "        img = img.to(device)\n",
        "\n",
        "        output, latent = model(img)\n",
        "        loss = criterion(output, img)\n",
        "\n",
        "        optimizer.zero_grad()\n",
        "        loss.backward()\n",
        "        optimizer.step()\n",
        "    print(\"Epoch [{}/{}], Loss: {:.4f}\".format(epoch+1, 10, loss.item()))"
      ],
      "metadata": {
        "colab": {
          "base_uri": "https://localhost:8080/"
        },
        "id": "2Vd48JvZiHFv",
        "outputId": "7a25d9d5-1879-472a-f055-503ec8e254cc"
      },
      "execution_count": null,
      "outputs": [
        {
          "output_type": "stream",
          "name": "stdout",
          "text": [
            "Epoch [1/10], Loss: 0.0311\n",
            "Epoch [2/10], Loss: 0.0249\n",
            "Epoch [3/10], Loss: 0.0208\n",
            "Epoch [4/10], Loss: 0.0159\n",
            "Epoch [5/10], Loss: 0.0126\n",
            "Epoch [6/10], Loss: 0.0125\n",
            "Epoch [7/10], Loss: 0.0132\n",
            "Epoch [8/10], Loss: 0.0132\n",
            "Epoch [9/10], Loss: 0.0114\n",
            "Epoch [10/10], Loss: 0.0096\n"
          ]
        }
      ]
    },
    {
      "cell_type": "code",
      "source": [
        "# Visualize the original and reconstructed images\n",
        "%matplotlib inline\n",
        "import matplotlib\n",
        "import matplotlib.pyplot as plt\n",
        "import numpy as np\n",
        "from torch.utils.data import DataLoader\n",
        "\n",
        "dataloader = DataLoader(mnist_data, batch_size=512, shuffle=True)\n",
        "for data in dataloader:\n",
        "        img, labels = data\n",
        "        img = img.view(img.size(0), -1)\n",
        "        model.cpu()\n",
        "        _,latent = model(img)\n",
        "        break\n",
        "\n",
        "d = {0: 'red', 1: \"green\", 2: \"blue\", 3: \"maroon\", 4: \"yellow\",\n",
        "     5: \"pink\", 6: \"brown\", 7: \"black\", 8: \"teal\", 9: \"aqua\"}\n",
        "\n",
        "colors = []\n",
        "for e in labels.numpy():\n",
        "    colors.append(d[e])\n",
        "\n",
        "fig = plt.figure(dpi=200)\n",
        "ax = fig.add_subplot(111)\n",
        "ax.set_xlabel('Latent feature 1')\n",
        "ax.set_ylabel('Latent feature 2')\n",
        "\n",
        "ax.scatter(latent[:,0].detach().numpy(), latent[:,1].detach().numpy(),\n",
        "           c=list(colors))"
      ],
      "metadata": {
        "colab": {
          "base_uri": "https://localhost:8080/",
          "height": 764
        },
        "id": "mHmUbtWickBQ",
        "outputId": "c572145d-b5e8-4a64-8289-9bb664da1ff9"
      },
      "execution_count": null,
      "outputs": [
        {
          "output_type": "execute_result",
          "data": {
            "text/plain": [
              "<matplotlib.collections.PathCollection at 0x7fc631a52580>"
            ]
          },
          "metadata": {},
          "execution_count": 6
        },
        {
          "output_type": "display_data",
          "data": {
            "text/plain": [
              "<Figure size 1200x800 with 1 Axes>"
            ],
            "image/png": "[encoded data removed]"
          },
          "metadata": {
            "needs_background": "light"
          }
        }
      ]
    },
    {
      "cell_type": "code",
      "source": [
        "np.random.seed(42)\n",
        "\n",
        "from sklearn.manifold import TSNE\n",
        "tsne = TSNE()\n",
        "X_valid_2D = tsne.fit_transform(torch.Tensor.numpy(latent, force=True))\n",
        "#X_valid_2D = (X_valid_2D - X_valid_2D.min()) / (X_valid_2D.max() - X_valid_2D.min())"
      ],
      "metadata": {
        "id": "mbuJ3ewUVf4K",
        "outputId": "698c0b22-3e14-4818-8bc1-15531ca3fbcb",
        "colab": {
          "base_uri": "https://localhost:8080/"
        }
      },
      "execution_count": null,
      "outputs": [
        {
          "output_type": "stream",
          "name": "stderr",
          "text": [
            "/usr/local/lib/python3.8/dist-packages/sklearn/manifold/_t_sne.py:780: FutureWarning: The default initialization in TSNE will change from 'random' to 'pca' in 1.2.\n",
            "  warnings.warn(\n",
            "/usr/local/lib/python3.8/dist-packages/sklearn/manifold/_t_sne.py:790: FutureWarning: The default learning rate in TSNE will change from 200.0 to 'auto' in 1.2.\n",
            "  warnings.warn(\n"
          ]
        }
      ]
    },
    {
      "cell_type": "code",
      "source": [
        "plt.scatter(X_valid_2D[:, 0], X_valid_2D[:, 1], s=10, cmap=\"tab10\")\n",
        "plt.axis(\"off\")\n",
        "plt.show()"
      ],
      "metadata": {
        "id": "3AUtohA-Yfdo",
        "outputId": "c13b9251-cf8b-454d-9c10-f3a33e7a08ce",
        "colab": {
          "base_uri": "https://localhost:8080/",
          "height": 248
        }
      },
      "execution_count": null,
      "outputs": [
        {
          "output_type": "display_data",
          "data": {
            "text/plain": [
              "<Figure size 432x288 with 1 Axes>"
            ],
            "image/png": "[encoded data removed]"
          },
          "metadata": {
            "needs_background": "light"
          }
        }
      ]
    },
    {
      "cell_type": "markdown",
      "source": [
        "## Autoencoder with CNN\n",
        "\n",
        "In this part, we will inplement AE using the “deconvolution” (or transposed convolution) with Conv2D and ConvTranspose2d. Conv2D is mainly used when you want to detect features, e.g., in the encoder part of an autoencoder model, and it may shrink your input shape (that's the main idea of the encode to reduce dimension).\n",
        "Conversely, Conv2DTranspose is used for creating features, for example, in the decoder part of an autoencoder model for constructing an image (for the reconstruction). It makes the input shape larger."
      ],
      "metadata": {
        "id": "ZEMeG4GPb7tp"
      }
    },
    {
      "cell_type": "markdown",
      "source": [
        "### Dataset"
      ],
      "metadata": {
        "id": "nOcIvFP6yQUA"
      }
    },
    {
      "cell_type": "code",
      "source": [
        "# Load the data\n",
        "transform = transforms.Compose(\n",
        "    [transforms.Resize(256),\n",
        "     transforms.ToTensor()])\n",
        "trainset = torchvision.datasets.CIFAR10(root='./data', train=True, download=True, transform=transform)\n",
        "trainloader = torch.utils.data.DataLoader(trainset, batch_size=64, shuffle=True, num_workers=2)\n",
        "testset = torchvision.datasets.CIFAR10(root='./data', train=False, download=True, transform=transform)\n",
        "testloader = torch.utils.data.DataLoader(testset, batch_size=64, shuffle=True, num_workers=2)"
      ],
      "metadata": {
        "colab": {
          "base_uri": "https://localhost:8080/",
          "height": 101,
          "referenced_widgets": [
            "41f3d1bc3215416d82aac8bf171656df",
            "875ae51dc01d41b39715e6f8013bcf9c",
            "9e075a2d318c4be69bc294d34024f1f3",
            "dc9ed25fa2654d0c93346d2737acd243",
            "34de5591900648dabc38026b03c72c5f",
            "b32edb63331a4430aa8ac8bbb6f1206e",
            "9db44753ae6f42e5aaf878bed31a900b",
            "76daa79b11154e47a3fd4465d2dcf4b9",
            "594a980526c44db98351ada1ef2afcfa",
            "6c263d79871a484a8278d8a06c692682",
            "954d6e4e2f18413dbbb5ad33c7e1524b"
          ]
        },
        "id": "Z6MZPhnRrbqS",
        "outputId": "4287920a-af34-4a64-e27b-3bf0a39f3d75"
      },
      "execution_count": null,
      "outputs": [
        {
          "output_type": "stream",
          "name": "stdout",
          "text": [
            "Downloading https://www.cs.toronto.edu/~kriz/cifar-10-python.tar.gz to ./data/cifar-10-python.tar.gz\n"
          ]
        },
        {
          "output_type": "display_data",
          "data": {
            "text/plain": [
              "  0%|          | 0/170498071 [00:00<?, ?it/s]"
            ],
            "application/vnd.jupyter.widget-view+json": {
              "version_major": 2,
              "version_minor": 0,
              "model_id": "41f3d1bc3215416d82aac8bf171656df"
            }
          },
          "metadata": {}
        },
        {
          "output_type": "stream",
          "name": "stdout",
          "text": [
            "Extracting ./data/cifar-10-python.tar.gz to ./data\n",
            "Files already downloaded and verified\n"
          ]
        }
      ]
    },
    {
      "cell_type": "markdown",
      "source": [
        "### Model Build"
      ],
      "metadata": {
        "id": "cOkiY-v4yy26"
      }
    },
    {
      "cell_type": "code",
      "source": [
        "import torch\n",
        "import torch.nn as nn\n",
        "import torchvision\n",
        "import torchvision.transforms as transforms\n",
        "import torch.nn.functional as F\n",
        "\n",
        "device = torch.device('cuda' if torch.cuda.is_available() else 'cpu')\n",
        "device\n",
        "\n",
        "class Autoencoder(nn.Module):\n",
        "    def __init__(self):\n",
        "        \"\"\"\n",
        "        A Conv2d module applies a 2D convolution over an input signal composed of several input planes.\n",
        "        We define:\n",
        "        kernel_size: Size of the convolving kernel\n",
        "        stride : controls the stride for the cross-correlation, a single number or a tuple.\n",
        "        padding : controls the amount of padding applied to the input.\n",
        "        in_channels : 3. In CIFAR10, each image has 3 color channels and is 32x32 pixels large.\n",
        "        So we can use 3 channels instead of using the black-and-white\n",
        "        out_channels : 6\n",
        "        As always the input of the decoder is the output of the encoder and the decoder reconstruct the initial data (so output is 3).\n",
        "        \"\"\"\n",
        "        super(Autoencoder, self).__init__()\n",
        "        self.encoder = nn.Sequential(\n",
        "            nn.Conv2d(3, 6, kernel_size=3, stride=1, padding=1),\n",
        "            nn.ReLU(True),\n",
        "            nn.MaxPool2d(kernel_size=2, stride=2),\n",
        "            nn.Conv2d(6, 16, kernel_size=3, stride=1, padding=1),\n",
        "            nn.ReLU(True),\n",
        "            nn.MaxPool2d(kernel_size=2, stride=2)\n",
        "        )\n",
        "        self.decoder = nn.Sequential(\n",
        "            nn.ConvTranspose2d(16, 6, kernel_size=2, stride=2),\n",
        "            nn.ReLU(True),\n",
        "            nn.ConvTranspose2d(6, 3, kernel_size=2, stride=2),\n",
        "            nn.Sigmoid()\n",
        "        )\n",
        "\n",
        "    def forward(self, x):\n",
        "        x = self.encoder(x)\n",
        "        x = self.decoder(x)\n",
        "        return x\n",
        "\n",
        "# Create the model\n",
        "model = Autoencoder()\n",
        "\n",
        "# Define the loss function and optimizer\n",
        "criterion = nn.MSELoss()\n",
        "optimizer = torch.optim.Adam(model.parameters(), lr=0.001)\n",
        "\n",
        "model.parameters"
      ],
      "metadata": {
        "id": "oPTKHI9G_L8Q",
        "colab": {
          "base_uri": "https://localhost:8080/"
        },
        "outputId": "afe480b7-450f-4498-827c-de87c622d7b3"
      },
      "execution_count": null,
      "outputs": [
        {
          "output_type": "execute_result",
          "data": {
            "text/plain": [
              "<bound method Module.parameters of Autoencoder(\n",
              "  (encoder): Sequential(\n",
              "    (0): Conv2d(3, 6, kernel_size=(3, 3), stride=(1, 1), padding=(1, 1))\n",
              "    (1): ReLU(inplace=True)\n",
              "    (2): MaxPool2d(kernel_size=2, stride=2, padding=0, dilation=1, ceil_mode=False)\n",
              "    (3): Conv2d(6, 16, kernel_size=(3, 3), stride=(1, 1), padding=(1, 1))\n",
              "    (4): ReLU(inplace=True)\n",
              "    (5): MaxPool2d(kernel_size=2, stride=2, padding=0, dilation=1, ceil_mode=False)\n",
              "  )\n",
              "  (decoder): Sequential(\n",
              "    (0): ConvTranspose2d(16, 6, kernel_size=(2, 2), stride=(2, 2))\n",
              "    (1): ReLU(inplace=True)\n",
              "    (2): ConvTranspose2d(6, 3, kernel_size=(2, 2), stride=(2, 2))\n",
              "    (3): Sigmoid()\n",
              "  )\n",
              ")>"
            ]
          },
          "metadata": {},
          "execution_count": 28
        }
      ]
    },
    {
      "cell_type": "code",
      "source": [
        "device"
      ],
      "metadata": {
        "colab": {
          "base_uri": "https://localhost:8080/"
        },
        "id": "cdckKEy31T4n",
        "outputId": "107037b9-b2a8-424a-a968-8e69b073106f"
      },
      "execution_count": null,
      "outputs": [
        {
          "output_type": "execute_result",
          "data": {
            "text/plain": [
              "device(type='cuda')"
            ]
          },
          "metadata": {},
          "execution_count": 29
        }
      ]
    },
    {
      "cell_type": "markdown",
      "source": [
        "### Model Train"
      ],
      "metadata": {
        "id": "Qko_xZzcy5yl"
      }
    },
    {
      "cell_type": "code",
      "source": [
        "batch_size = 64\n",
        "num_epochs = 2"
      ],
      "metadata": {
        "id": "zwNcQj0azX2O"
      },
      "execution_count": null,
      "outputs": []
    },
    {
      "cell_type": "code",
      "source": [
        "def train(model, device, train_loader, optimizer, epoch):\n",
        "    model.train()\n",
        "    for batch_idx, data in enumerate(trainloader):\n",
        "        data,_ = data\n",
        "        data= data.to(device)\n",
        "        optimizer.zero_grad()\n",
        "        output = model(data)\n",
        "        loss = criterion(output,data)\n",
        "        loss.backward()\n",
        "        optimizer.step()\n",
        "        if batch_idx % 100 == 0:\n",
        "            print('Train Epoch: {} [{}/{} ({:.0f}%)]\\tLoss: {:.6f}'.format(\n",
        "                epoch, batch_idx * len(data), len(train_loader.dataset),\n",
        "                100. * batch_idx / len(trainloader), loss.item()))"
      ],
      "metadata": {
        "id": "VIZR0C-Iy9bm"
      },
      "execution_count": null,
      "outputs": []
    },
    {
      "cell_type": "code",
      "source": [
        "model=model.to(device)\n",
        "for epoch in range(5):\n",
        "    train(model, device, trainloader, optimizer, epoch)"
      ],
      "metadata": {
        "id": "EGLBI5GWzKw1",
        "outputId": "3935d68c-bc14-48d0-8755-7fbef9dcda5f",
        "colab": {
          "base_uri": "https://localhost:8080/"
        }
      },
      "execution_count": null,
      "outputs": [
        {
          "output_type": "stream",
          "name": "stdout",
          "text": [
            "Train Epoch: 0 [0/50000 (0%)]\tLoss: 0.063875\n",
            "Train Epoch: 0 [6400/50000 (13%)]\tLoss: 0.045370\n",
            "Train Epoch: 0 [12800/50000 (26%)]\tLoss: 0.014933\n",
            "Train Epoch: 0 [19200/50000 (38%)]\tLoss: 0.006535\n",
            "Train Epoch: 0 [25600/50000 (51%)]\tLoss: 0.004210\n",
            "Train Epoch: 0 [32000/50000 (64%)]\tLoss: 0.003744\n",
            "Train Epoch: 0 [38400/50000 (77%)]\tLoss: 0.002354\n",
            "Train Epoch: 0 [44800/50000 (90%)]\tLoss: 0.002912\n",
            "Train Epoch: 1 [0/50000 (0%)]\tLoss: 0.002052\n",
            "Train Epoch: 1 [6400/50000 (13%)]\tLoss: 0.002402\n",
            "Train Epoch: 1 [12800/50000 (26%)]\tLoss: 0.001827\n",
            "Train Epoch: 1 [19200/50000 (38%)]\tLoss: 0.001971\n",
            "Train Epoch: 1 [25600/50000 (51%)]\tLoss: 0.002260\n",
            "Train Epoch: 1 [32000/50000 (64%)]\tLoss: 0.001934\n",
            "Train Epoch: 1 [38400/50000 (77%)]\tLoss: 0.001922\n",
            "Train Epoch: 1 [44800/50000 (90%)]\tLoss: 0.001997\n",
            "Train Epoch: 2 [0/50000 (0%)]\tLoss: 0.002196\n",
            "Train Epoch: 2 [6400/50000 (13%)]\tLoss: 0.001842\n",
            "Train Epoch: 2 [12800/50000 (26%)]\tLoss: 0.001902\n",
            "Train Epoch: 2 [19200/50000 (38%)]\tLoss: 0.001880\n",
            "Train Epoch: 2 [25600/50000 (51%)]\tLoss: 0.002410\n",
            "Train Epoch: 2 [32000/50000 (64%)]\tLoss: 0.001875\n",
            "Train Epoch: 2 [38400/50000 (77%)]\tLoss: 0.001823\n",
            "Train Epoch: 2 [44800/50000 (90%)]\tLoss: 0.001993\n",
            "Train Epoch: 3 [0/50000 (0%)]\tLoss: 0.001671\n",
            "Train Epoch: 3 [6400/50000 (13%)]\tLoss: 0.001994\n",
            "Train Epoch: 3 [12800/50000 (26%)]\tLoss: 0.001673\n",
            "Train Epoch: 3 [19200/50000 (38%)]\tLoss: 0.001428\n",
            "Train Epoch: 3 [25600/50000 (51%)]\tLoss: 0.001395\n",
            "Train Epoch: 3 [32000/50000 (64%)]\tLoss: 0.001551\n",
            "Train Epoch: 3 [38400/50000 (77%)]\tLoss: 0.001687\n",
            "Train Epoch: 3 [44800/50000 (90%)]\tLoss: 0.001552\n",
            "Train Epoch: 4 [0/50000 (0%)]\tLoss: 0.001779\n",
            "Train Epoch: 4 [6400/50000 (13%)]\tLoss: 0.001689\n",
            "Train Epoch: 4 [12800/50000 (26%)]\tLoss: 0.001414\n",
            "Train Epoch: 4 [19200/50000 (38%)]\tLoss: 0.001699\n",
            "Train Epoch: 4 [25600/50000 (51%)]\tLoss: 0.001915\n",
            "Train Epoch: 4 [32000/50000 (64%)]\tLoss: 0.001190\n",
            "Train Epoch: 4 [38400/50000 (77%)]\tLoss: 0.001611\n",
            "Train Epoch: 4 [44800/50000 (90%)]\tLoss: 0.001580\n"
          ]
        }
      ]
    },
    {
      "cell_type": "code",
      "source": [
        "model = model.to(device)\n",
        "for epoch in range(5):\n",
        "    for data in trainloader:\n",
        "        img, _ = data\n",
        "        img = img.to(device)\n",
        "        # Forward pass\n",
        "        output = model(img)\n",
        "        loss = criterion(output, img)\n",
        "        # Backward and optimize\n",
        "        optimizer.zero_grad()\n",
        "        loss.backward()\n",
        "        optimizer.step()\n",
        "    print('eppoch [{}/{}], loss:{:.4f}'.format(epoch+1, 5, loss.item()))"
      ],
      "metadata": {
        "colab": {
          "base_uri": "https://localhost:8080/"
        },
        "id": "_iE_o9gTvPaP",
        "outputId": "154d368a-da4c-4465-ed84-c91427571f86"
      },
      "execution_count": null,
      "outputs": [
        {
          "output_type": "stream",
          "name": "stdout",
          "text": [
            "eppoch [1/5], loss:0.0067\n",
            "eppoch [2/5], loss:0.0014\n",
            "eppoch [3/5], loss:0.0025\n",
            "eppoch [4/5], loss:0.0009\n",
            "eppoch [5/5], loss:0.0014\n"
          ]
        }
      ]
    }
  ]
}