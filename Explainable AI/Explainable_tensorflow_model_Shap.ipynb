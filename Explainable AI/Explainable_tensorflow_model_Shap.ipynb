{
 "cells": [
  {
   "cell_type": "markdown",
   "id": "833c5104-a7dd-4b5c-8feb-70f114fc0522",
   "metadata": {},
   "source": [
    "# Explain tensorflow model using Shap and Model Weights on METABRIC data"
   ]
  },
  {
   "cell_type": "code",
   "execution_count": 669,
   "id": "86528d4d",
   "metadata": {},
   "outputs": [
    {
     "data": {
      "text/plain": [
       "'3.8.18'"
      ]
     },
     "execution_count": 669,
     "metadata": {},
     "output_type": "execute_result"
    }
   ],
   "source": [
    "from platform import python_version\n",
    "python_version()"
   ]
  },
  {
   "cell_type": "code",
   "execution_count": 683,
   "id": "649d2138-fed2-4153-8144-ef1b9137931f",
   "metadata": {},
   "outputs": [
    {
     "name": "stdout",
     "output_type": "stream",
     "text": [
      "TensorFlow has access to the following devices:\n",
      "[PhysicalDevice(name='/physical_device:CPU:0', device_type='CPU'), PhysicalDevice(name='/physical_device:GPU:0', device_type='GPU')]\n",
      "TensorFlow version: 2.13.0\n"
     ]
    }
   ],
   "source": [
    "import numpy as np\n",
    "import pandas as pd\n",
    "import sklearn\n",
    "import matplotlib.pyplot as plt\n",
    "from sklearn.model_selection import GridSearchCV \n",
    "from sklearn.model_selection import train_test_split\n",
    "from sklearn.preprocessing import MinMaxScaler\n",
    "from sklearn.metrics import confusion_matrix,ConfusionMatrixDisplay\n",
    "import tensorflow as tf\n",
    "from tensorflow import keras\n",
    "from tensorflow.keras.layers import Dense, Dropout\n",
    "from tensorflow.keras.callbacks import EarlyStopping\n",
    "from tensorflow.keras.models import Sequential\n",
    "\n",
    "# Check for TensorFlow GPU access\n",
    "print(f\"TensorFlow has access to the following devices:\\n{tf.config.list_physical_devices()}\")\n",
    "\n",
    "# See TensorFlow version\n",
    "print(f\"TensorFlow version: {tf.__version__}\")"
   ]
  },
  {
   "cell_type": "code",
   "execution_count": 3,
   "id": "b1887b6f",
   "metadata": {},
   "outputs": [
    {
     "name": "stdout",
     "output_type": "stream",
     "text": [
      "WARNING:tensorflow:From /var/folders/r6/gdf2rxfj40dc6v2l0101z47m0000gn/T/ipykernel_38703/337460670.py:1: is_gpu_available (from tensorflow.python.framework.test_util) is deprecated and will be removed in a future version.\n",
      "Instructions for updating:\n",
      "Use `tf.config.list_physical_devices('GPU')` instead.\n"
     ]
    },
    {
     "name": "stderr",
     "output_type": "stream",
     "text": [
      "2024-02-19 13:40:35.802602: I metal_plugin/src/device/metal_device.cc:1154] Metal device set to: Apple M3 Max\n",
      "2024-02-19 13:40:35.802618: I metal_plugin/src/device/metal_device.cc:296] systemMemory: 128.00 GB\n",
      "2024-02-19 13:40:35.802622: I metal_plugin/src/device/metal_device.cc:313] maxCacheSize: 48.00 GB\n",
      "2024-02-19 13:40:35.802646: I tensorflow/core/common_runtime/pluggable_device/pluggable_device_factory.cc:303] Could not identify NUMA node of platform GPU ID 0, defaulting to 0. Your kernel may not have been built with NUMA support.\n",
      "2024-02-19 13:40:35.802662: I tensorflow/core/common_runtime/pluggable_device/pluggable_device_factory.cc:269] Created TensorFlow device (/device:GPU:0 with 0 MB memory) -> physical PluggableDevice (device: 0, name: METAL, pci bus id: <undefined>)\n"
     ]
    },
    {
     "data": {
      "text/plain": [
       "True"
      ]
     },
     "execution_count": 3,
     "metadata": {},
     "output_type": "execute_result"
    }
   ],
   "source": [
    "tf.test.is_gpu_available()"
   ]
  },
  {
   "cell_type": "markdown",
   "id": "d4dcf3c9",
   "metadata": {},
   "source": [
    "# Data load and preprocessing "
   ]
  },
  {
   "cell_type": "markdown",
   "id": "6d76a6b9",
   "metadata": {},
   "source": [
    "## Expression data"
   ]
  },
  {
   "cell_type": "code",
   "execution_count": 4,
   "id": "40886447",
   "metadata": {},
   "outputs": [
    {
     "data": {
      "text/html": [
       "<div>\n",
       "<style scoped>\n",
       "    .dataframe tbody tr th:only-of-type {\n",
       "        vertical-align: middle;\n",
       "    }\n",
       "\n",
       "    .dataframe tbody tr th {\n",
       "        vertical-align: top;\n",
       "    }\n",
       "\n",
       "    .dataframe thead th {\n",
       "        text-align: right;\n",
       "    }\n",
       "</style>\n",
       "<table border=\"1\" class=\"dataframe\">\n",
       "  <thead>\n",
       "    <tr style=\"text-align: right;\">\n",
       "      <th></th>\n",
       "      <th>CD52</th>\n",
       "      <th>DARC</th>\n",
       "      <th>DCN</th>\n",
       "      <th>DB005376</th>\n",
       "      <th>TAT</th>\n",
       "      <th>GSTM1</th>\n",
       "      <th>UGT2B11</th>\n",
       "      <th>AKR7A3</th>\n",
       "      <th>SERHL2</th>\n",
       "      <th>ASS1</th>\n",
       "      <th>...</th>\n",
       "      <th>MYB</th>\n",
       "      <th>PROM1</th>\n",
       "      <th>GSTT1</th>\n",
       "      <th>NELL2</th>\n",
       "      <th>CST5</th>\n",
       "      <th>CCL5</th>\n",
       "      <th>TFF3</th>\n",
       "      <th>CDH3</th>\n",
       "      <th>SLC39A6</th>\n",
       "      <th>SHISA2</th>\n",
       "    </tr>\n",
       "  </thead>\n",
       "  <tbody>\n",
       "    <tr>\n",
       "      <th>0</th>\n",
       "      <td>8.240128</td>\n",
       "      <td>10.731211</td>\n",
       "      <td>11.251592</td>\n",
       "      <td>5.350604</td>\n",
       "      <td>5.698745</td>\n",
       "      <td>5.626606</td>\n",
       "      <td>5.845062</td>\n",
       "      <td>8.334491</td>\n",
       "      <td>7.150713</td>\n",
       "      <td>9.887783</td>\n",
       "      <td>...</td>\n",
       "      <td>7.864506</td>\n",
       "      <td>10.475799</td>\n",
       "      <td>5.236212</td>\n",
       "      <td>6.462909</td>\n",
       "      <td>5.333817</td>\n",
       "      <td>8.771015</td>\n",
       "      <td>10.545305</td>\n",
       "      <td>8.588759</td>\n",
       "      <td>8.287300</td>\n",
       "      <td>6.155340</td>\n",
       "    </tr>\n",
       "    <tr>\n",
       "      <th>1</th>\n",
       "      <td>7.441887</td>\n",
       "      <td>6.498731</td>\n",
       "      <td>9.968656</td>\n",
       "      <td>5.701508</td>\n",
       "      <td>5.416231</td>\n",
       "      <td>5.108180</td>\n",
       "      <td>5.382890</td>\n",
       "      <td>10.277779</td>\n",
       "      <td>6.070879</td>\n",
       "      <td>6.203103</td>\n",
       "      <td>...</td>\n",
       "      <td>10.699097</td>\n",
       "      <td>5.977531</td>\n",
       "      <td>8.450049</td>\n",
       "      <td>7.486917</td>\n",
       "      <td>5.464502</td>\n",
       "      <td>8.216436</td>\n",
       "      <td>10.422146</td>\n",
       "      <td>5.838056</td>\n",
       "      <td>10.380559</td>\n",
       "      <td>9.409817</td>\n",
       "    </tr>\n",
       "    <tr>\n",
       "      <th>2</th>\n",
       "      <td>7.977708</td>\n",
       "      <td>6.615727</td>\n",
       "      <td>9.632207</td>\n",
       "      <td>6.346358</td>\n",
       "      <td>5.480066</td>\n",
       "      <td>5.356168</td>\n",
       "      <td>7.798285</td>\n",
       "      <td>9.117568</td>\n",
       "      <td>6.230590</td>\n",
       "      <td>7.928613</td>\n",
       "      <td>...</td>\n",
       "      <td>9.861437</td>\n",
       "      <td>8.517411</td>\n",
       "      <td>7.230715</td>\n",
       "      <td>11.957439</td>\n",
       "      <td>5.359362</td>\n",
       "      <td>8.012079</td>\n",
       "      <td>12.201802</td>\n",
       "      <td>6.681570</td>\n",
       "      <td>10.009376</td>\n",
       "      <td>9.094121</td>\n",
       "    </tr>\n",
       "    <tr>\n",
       "      <th>3</th>\n",
       "      <td>8.045781</td>\n",
       "      <td>5.806614</td>\n",
       "      <td>8.927632</td>\n",
       "      <td>5.628718</td>\n",
       "      <td>5.746114</td>\n",
       "      <td>5.402901</td>\n",
       "      <td>6.043053</td>\n",
       "      <td>10.057702</td>\n",
       "      <td>11.682904</td>\n",
       "      <td>10.047193</td>\n",
       "      <td>...</td>\n",
       "      <td>9.138474</td>\n",
       "      <td>9.099391</td>\n",
       "      <td>8.072639</td>\n",
       "      <td>12.478907</td>\n",
       "      <td>5.523048</td>\n",
       "      <td>9.245577</td>\n",
       "      <td>14.169804</td>\n",
       "      <td>6.392376</td>\n",
       "      <td>11.141299</td>\n",
       "      <td>10.039994</td>\n",
       "    </tr>\n",
       "    <tr>\n",
       "      <th>4</th>\n",
       "      <td>9.001653</td>\n",
       "      <td>7.928994</td>\n",
       "      <td>9.356798</td>\n",
       "      <td>5.484226</td>\n",
       "      <td>5.152513</td>\n",
       "      <td>5.401268</td>\n",
       "      <td>8.511554</td>\n",
       "      <td>11.127156</td>\n",
       "      <td>7.472530</td>\n",
       "      <td>7.200276</td>\n",
       "      <td>...</td>\n",
       "      <td>9.591358</td>\n",
       "      <td>7.264378</td>\n",
       "      <td>8.975517</td>\n",
       "      <td>10.044922</td>\n",
       "      <td>5.034380</td>\n",
       "      <td>10.243518</td>\n",
       "      <td>13.568835</td>\n",
       "      <td>8.476834</td>\n",
       "      <td>8.916101</td>\n",
       "      <td>5.929184</td>\n",
       "    </tr>\n",
       "  </tbody>\n",
       "</table>\n",
       "<p>5 rows × 295 columns</p>\n",
       "</div>"
      ],
      "text/plain": [
       "       CD52       DARC        DCN  DB005376       TAT     GSTM1   UGT2B11  \\\n",
       "0  8.240128  10.731211  11.251592  5.350604  5.698745  5.626606  5.845062   \n",
       "1  7.441887   6.498731   9.968656  5.701508  5.416231  5.108180  5.382890   \n",
       "2  7.977708   6.615727   9.632207  6.346358  5.480066  5.356168  7.798285   \n",
       "3  8.045781   5.806614   8.927632  5.628718  5.746114  5.402901  6.043053   \n",
       "4  9.001653   7.928994   9.356798  5.484226  5.152513  5.401268  8.511554   \n",
       "\n",
       "      AKR7A3     SERHL2       ASS1  ...        MYB      PROM1     GSTT1  \\\n",
       "0   8.334491   7.150713   9.887783  ...   7.864506  10.475799  5.236212   \n",
       "1  10.277779   6.070879   6.203103  ...  10.699097   5.977531  8.450049   \n",
       "2   9.117568   6.230590   7.928613  ...   9.861437   8.517411  7.230715   \n",
       "3  10.057702  11.682904  10.047193  ...   9.138474   9.099391  8.072639   \n",
       "4  11.127156   7.472530   7.200276  ...   9.591358   7.264378  8.975517   \n",
       "\n",
       "       NELL2      CST5       CCL5       TFF3      CDH3    SLC39A6     SHISA2  \n",
       "0   6.462909  5.333817   8.771015  10.545305  8.588759   8.287300   6.155340  \n",
       "1   7.486917  5.464502   8.216436  10.422146  5.838056  10.380559   9.409817  \n",
       "2  11.957439  5.359362   8.012079  12.201802  6.681570  10.009376   9.094121  \n",
       "3  12.478907  5.523048   9.245577  14.169804  6.392376  11.141299  10.039994  \n",
       "4  10.044922  5.034380  10.243518  13.568835  8.476834   8.916101   5.929184  \n",
       "\n",
       "[5 rows x 295 columns]"
      ]
     },
     "execution_count": 4,
     "metadata": {},
     "output_type": "execute_result"
    }
   ],
   "source": [
    "df = pd.read_csv(\"/Users/lamine/Explainqble AI /metabric_test.csv\")\n",
    "df.head(5)"
   ]
  },
  {
   "cell_type": "code",
   "execution_count": 5,
   "id": "48850e5d",
   "metadata": {},
   "outputs": [
    {
     "name": "stdout",
     "output_type": "stream",
     "text": [
      "<class 'pandas.core.frame.DataFrame'>\n",
      "RangeIndex: 1897 entries, 0 to 1896\n",
      "Columns: 295 entries, CD52 to SHISA2\n",
      "dtypes: float64(295)\n",
      "memory usage: 4.3 MB\n"
     ]
    }
   ],
   "source": [
    "df.info()"
   ]
  },
  {
   "cell_type": "code",
   "execution_count": 6,
   "id": "b03aa985",
   "metadata": {},
   "outputs": [
    {
     "data": {
      "text/html": [
       "<div>\n",
       "<style scoped>\n",
       "    .dataframe tbody tr th:only-of-type {\n",
       "        vertical-align: middle;\n",
       "    }\n",
       "\n",
       "    .dataframe tbody tr th {\n",
       "        vertical-align: top;\n",
       "    }\n",
       "\n",
       "    .dataframe thead th {\n",
       "        text-align: right;\n",
       "    }\n",
       "</style>\n",
       "<table border=\"1\" class=\"dataframe\">\n",
       "  <thead>\n",
       "    <tr style=\"text-align: right;\">\n",
       "      <th></th>\n",
       "      <th>CD52</th>\n",
       "      <th>DARC</th>\n",
       "      <th>DCN</th>\n",
       "      <th>DB005376</th>\n",
       "      <th>TAT</th>\n",
       "      <th>GSTM1</th>\n",
       "      <th>UGT2B11</th>\n",
       "      <th>AKR7A3</th>\n",
       "      <th>SERHL2</th>\n",
       "      <th>ASS1</th>\n",
       "      <th>...</th>\n",
       "      <th>MYB</th>\n",
       "      <th>PROM1</th>\n",
       "      <th>GSTT1</th>\n",
       "      <th>NELL2</th>\n",
       "      <th>CST5</th>\n",
       "      <th>CCL5</th>\n",
       "      <th>TFF3</th>\n",
       "      <th>CDH3</th>\n",
       "      <th>SLC39A6</th>\n",
       "      <th>SHISA2</th>\n",
       "    </tr>\n",
       "  </thead>\n",
       "  <tbody>\n",
       "    <tr>\n",
       "      <th>count</th>\n",
       "      <td>1897.000000</td>\n",
       "      <td>1897.000000</td>\n",
       "      <td>1897.000000</td>\n",
       "      <td>1897.000000</td>\n",
       "      <td>1897.000000</td>\n",
       "      <td>1897.000000</td>\n",
       "      <td>1897.000000</td>\n",
       "      <td>1897.000000</td>\n",
       "      <td>1897.000000</td>\n",
       "      <td>1897.000000</td>\n",
       "      <td>...</td>\n",
       "      <td>1897.000000</td>\n",
       "      <td>1897.000000</td>\n",
       "      <td>1897.000000</td>\n",
       "      <td>1897.000000</td>\n",
       "      <td>1897.000000</td>\n",
       "      <td>1897.000000</td>\n",
       "      <td>1897.000000</td>\n",
       "      <td>1897.000000</td>\n",
       "      <td>1897.000000</td>\n",
       "      <td>1897.000000</td>\n",
       "    </tr>\n",
       "    <tr>\n",
       "      <th>mean</th>\n",
       "      <td>8.522002</td>\n",
       "      <td>7.439279</td>\n",
       "      <td>8.592254</td>\n",
       "      <td>6.084079</td>\n",
       "      <td>6.267616</td>\n",
       "      <td>6.477882</td>\n",
       "      <td>6.920908</td>\n",
       "      <td>9.397352</td>\n",
       "      <td>7.558455</td>\n",
       "      <td>8.298495</td>\n",
       "      <td>...</td>\n",
       "      <td>9.743111</td>\n",
       "      <td>8.041666</td>\n",
       "      <td>8.295523</td>\n",
       "      <td>7.466347</td>\n",
       "      <td>6.033271</td>\n",
       "      <td>9.845330</td>\n",
       "      <td>11.742209</td>\n",
       "      <td>7.465389</td>\n",
       "      <td>9.204424</td>\n",
       "      <td>7.725656</td>\n",
       "    </tr>\n",
       "    <tr>\n",
       "      <th>std</th>\n",
       "      <td>1.349624</td>\n",
       "      <td>1.323882</td>\n",
       "      <td>1.366120</td>\n",
       "      <td>1.489150</td>\n",
       "      <td>1.623607</td>\n",
       "      <td>1.490238</td>\n",
       "      <td>2.132190</td>\n",
       "      <td>1.280389</td>\n",
       "      <td>1.724598</td>\n",
       "      <td>1.314099</td>\n",
       "      <td>...</td>\n",
       "      <td>1.242550</td>\n",
       "      <td>1.996117</td>\n",
       "      <td>1.691650</td>\n",
       "      <td>1.532031</td>\n",
       "      <td>1.500256</td>\n",
       "      <td>1.357065</td>\n",
       "      <td>2.444823</td>\n",
       "      <td>1.274105</td>\n",
       "      <td>1.620264</td>\n",
       "      <td>1.659966</td>\n",
       "    </tr>\n",
       "    <tr>\n",
       "      <th>min</th>\n",
       "      <td>5.018810</td>\n",
       "      <td>5.099984</td>\n",
       "      <td>5.074217</td>\n",
       "      <td>4.922326</td>\n",
       "      <td>4.925973</td>\n",
       "      <td>4.939510</td>\n",
       "      <td>4.988302</td>\n",
       "      <td>6.888636</td>\n",
       "      <td>5.214098</td>\n",
       "      <td>5.001618</td>\n",
       "      <td>...</td>\n",
       "      <td>5.565536</td>\n",
       "      <td>5.047322</td>\n",
       "      <td>4.854543</td>\n",
       "      <td>5.030010</td>\n",
       "      <td>4.965204</td>\n",
       "      <td>5.685101</td>\n",
       "      <td>5.154748</td>\n",
       "      <td>5.103031</td>\n",
       "      <td>5.510203</td>\n",
       "      <td>5.119337</td>\n",
       "    </tr>\n",
       "    <tr>\n",
       "      <th>25%</th>\n",
       "      <td>7.526147</td>\n",
       "      <td>6.337077</td>\n",
       "      <td>7.585572</td>\n",
       "      <td>5.315275</td>\n",
       "      <td>5.400663</td>\n",
       "      <td>5.428807</td>\n",
       "      <td>5.547688</td>\n",
       "      <td>8.359180</td>\n",
       "      <td>6.265815</td>\n",
       "      <td>7.277712</td>\n",
       "      <td>...</td>\n",
       "      <td>9.072006</td>\n",
       "      <td>6.297426</td>\n",
       "      <td>7.469392</td>\n",
       "      <td>6.264153</td>\n",
       "      <td>5.337878</td>\n",
       "      <td>8.875585</td>\n",
       "      <td>10.657896</td>\n",
       "      <td>6.461509</td>\n",
       "      <td>7.869267</td>\n",
       "      <td>6.363869</td>\n",
       "    </tr>\n",
       "    <tr>\n",
       "      <th>50%</th>\n",
       "      <td>8.448275</td>\n",
       "      <td>7.331663</td>\n",
       "      <td>8.608817</td>\n",
       "      <td>5.461374</td>\n",
       "      <td>5.563156</td>\n",
       "      <td>5.624529</td>\n",
       "      <td>5.881415</td>\n",
       "      <td>9.331409</td>\n",
       "      <td>7.083379</td>\n",
       "      <td>8.280220</td>\n",
       "      <td>...</td>\n",
       "      <td>10.023695</td>\n",
       "      <td>7.623121</td>\n",
       "      <td>8.889979</td>\n",
       "      <td>7.056264</td>\n",
       "      <td>5.484401</td>\n",
       "      <td>9.857851</td>\n",
       "      <td>12.473404</td>\n",
       "      <td>7.303850</td>\n",
       "      <td>9.201048</td>\n",
       "      <td>7.358426</td>\n",
       "    </tr>\n",
       "    <tr>\n",
       "      <th>75%</th>\n",
       "      <td>9.428863</td>\n",
       "      <td>8.370030</td>\n",
       "      <td>9.566763</td>\n",
       "      <td>5.971988</td>\n",
       "      <td>6.175448</td>\n",
       "      <td>7.490048</td>\n",
       "      <td>7.556015</td>\n",
       "      <td>10.241203</td>\n",
       "      <td>8.371308</td>\n",
       "      <td>9.256413</td>\n",
       "      <td>...</td>\n",
       "      <td>10.654395</td>\n",
       "      <td>9.607842</td>\n",
       "      <td>9.489065</td>\n",
       "      <td>8.371956</td>\n",
       "      <td>5.818663</td>\n",
       "      <td>10.791775</td>\n",
       "      <td>13.588736</td>\n",
       "      <td>8.255375</td>\n",
       "      <td>10.508201</td>\n",
       "      <td>8.869039</td>\n",
       "    </tr>\n",
       "    <tr>\n",
       "      <th>max</th>\n",
       "      <td>13.374739</td>\n",
       "      <td>11.619202</td>\n",
       "      <td>12.478475</td>\n",
       "      <td>13.010996</td>\n",
       "      <td>13.166804</td>\n",
       "      <td>12.070735</td>\n",
       "      <td>14.145451</td>\n",
       "      <td>13.512971</td>\n",
       "      <td>13.731721</td>\n",
       "      <td>12.182876</td>\n",
       "      <td>...</td>\n",
       "      <td>12.091906</td>\n",
       "      <td>13.569006</td>\n",
       "      <td>12.784519</td>\n",
       "      <td>13.110442</td>\n",
       "      <td>13.922840</td>\n",
       "      <td>14.004198</td>\n",
       "      <td>14.808641</td>\n",
       "      <td>12.003642</td>\n",
       "      <td>13.440167</td>\n",
       "      <td>12.874823</td>\n",
       "    </tr>\n",
       "  </tbody>\n",
       "</table>\n",
       "<p>8 rows × 295 columns</p>\n",
       "</div>"
      ],
      "text/plain": [
       "              CD52         DARC          DCN     DB005376          TAT  \\\n",
       "count  1897.000000  1897.000000  1897.000000  1897.000000  1897.000000   \n",
       "mean      8.522002     7.439279     8.592254     6.084079     6.267616   \n",
       "std       1.349624     1.323882     1.366120     1.489150     1.623607   \n",
       "min       5.018810     5.099984     5.074217     4.922326     4.925973   \n",
       "25%       7.526147     6.337077     7.585572     5.315275     5.400663   \n",
       "50%       8.448275     7.331663     8.608817     5.461374     5.563156   \n",
       "75%       9.428863     8.370030     9.566763     5.971988     6.175448   \n",
       "max      13.374739    11.619202    12.478475    13.010996    13.166804   \n",
       "\n",
       "             GSTM1      UGT2B11       AKR7A3       SERHL2         ASS1  ...  \\\n",
       "count  1897.000000  1897.000000  1897.000000  1897.000000  1897.000000  ...   \n",
       "mean      6.477882     6.920908     9.397352     7.558455     8.298495  ...   \n",
       "std       1.490238     2.132190     1.280389     1.724598     1.314099  ...   \n",
       "min       4.939510     4.988302     6.888636     5.214098     5.001618  ...   \n",
       "25%       5.428807     5.547688     8.359180     6.265815     7.277712  ...   \n",
       "50%       5.624529     5.881415     9.331409     7.083379     8.280220  ...   \n",
       "75%       7.490048     7.556015    10.241203     8.371308     9.256413  ...   \n",
       "max      12.070735    14.145451    13.512971    13.731721    12.182876  ...   \n",
       "\n",
       "               MYB        PROM1        GSTT1        NELL2         CST5  \\\n",
       "count  1897.000000  1897.000000  1897.000000  1897.000000  1897.000000   \n",
       "mean      9.743111     8.041666     8.295523     7.466347     6.033271   \n",
       "std       1.242550     1.996117     1.691650     1.532031     1.500256   \n",
       "min       5.565536     5.047322     4.854543     5.030010     4.965204   \n",
       "25%       9.072006     6.297426     7.469392     6.264153     5.337878   \n",
       "50%      10.023695     7.623121     8.889979     7.056264     5.484401   \n",
       "75%      10.654395     9.607842     9.489065     8.371956     5.818663   \n",
       "max      12.091906    13.569006    12.784519    13.110442    13.922840   \n",
       "\n",
       "              CCL5         TFF3         CDH3      SLC39A6       SHISA2  \n",
       "count  1897.000000  1897.000000  1897.000000  1897.000000  1897.000000  \n",
       "mean      9.845330    11.742209     7.465389     9.204424     7.725656  \n",
       "std       1.357065     2.444823     1.274105     1.620264     1.659966  \n",
       "min       5.685101     5.154748     5.103031     5.510203     5.119337  \n",
       "25%       8.875585    10.657896     6.461509     7.869267     6.363869  \n",
       "50%       9.857851    12.473404     7.303850     9.201048     7.358426  \n",
       "75%      10.791775    13.588736     8.255375    10.508201     8.869039  \n",
       "max      14.004198    14.808641    12.003642    13.440167    12.874823  \n",
       "\n",
       "[8 rows x 295 columns]"
      ]
     },
     "execution_count": 6,
     "metadata": {},
     "output_type": "execute_result"
    }
   ],
   "source": [
    "df.describe()"
   ]
  },
  {
   "cell_type": "markdown",
   "id": "5a4f4486",
   "metadata": {},
   "source": [
    "## label data "
   ]
  },
  {
   "cell_type": "code",
   "execution_count": 7,
   "id": "692deddc",
   "metadata": {},
   "outputs": [
    {
     "data": {
      "text/html": [
       "<div>\n",
       "<style scoped>\n",
       "    .dataframe tbody tr th:only-of-type {\n",
       "        vertical-align: middle;\n",
       "    }\n",
       "\n",
       "    .dataframe tbody tr th {\n",
       "        vertical-align: top;\n",
       "    }\n",
       "\n",
       "    .dataframe thead th {\n",
       "        text-align: right;\n",
       "    }\n",
       "</style>\n",
       "<table border=\"1\" class=\"dataframe\">\n",
       "  <thead>\n",
       "    <tr style=\"text-align: right;\">\n",
       "      <th></th>\n",
       "      <th>PATIENT_ID</th>\n",
       "      <th>LYMPH_NODES_EXAMINED_POSITIVE</th>\n",
       "      <th>NPI</th>\n",
       "      <th>CELLULARITY</th>\n",
       "      <th>CHEMOTHERAPY</th>\n",
       "      <th>COHORT</th>\n",
       "      <th>ER_IHC</th>\n",
       "      <th>HER2_SNP6</th>\n",
       "      <th>HORMONE_THERAPY</th>\n",
       "      <th>INFERRED_MENOPAUSAL_STATE</th>\n",
       "      <th>...</th>\n",
       "      <th>OS_STATUS</th>\n",
       "      <th>CLAUDIN_SUBTYPE</th>\n",
       "      <th>THREEGENE</th>\n",
       "      <th>VITAL_STATUS</th>\n",
       "      <th>LATERALITY</th>\n",
       "      <th>RADIO_THERAPY</th>\n",
       "      <th>HISTOLOGICAL_SUBTYPE</th>\n",
       "      <th>BREAST_SURGERY</th>\n",
       "      <th>RFS_STATUS</th>\n",
       "      <th>RFS_MONTHS</th>\n",
       "    </tr>\n",
       "  </thead>\n",
       "  <tbody>\n",
       "    <tr>\n",
       "      <th>0</th>\n",
       "      <td>MB-0000</td>\n",
       "      <td>10.0</td>\n",
       "      <td>6.044</td>\n",
       "      <td>NaN</td>\n",
       "      <td>NO</td>\n",
       "      <td>1.0</td>\n",
       "      <td>Positve</td>\n",
       "      <td>NEUTRAL</td>\n",
       "      <td>YES</td>\n",
       "      <td>Post</td>\n",
       "      <td>...</td>\n",
       "      <td>0:LIVING</td>\n",
       "      <td>claudin-low</td>\n",
       "      <td>ER-/HER2-</td>\n",
       "      <td>Living</td>\n",
       "      <td>Right</td>\n",
       "      <td>YES</td>\n",
       "      <td>Ductal/NST</td>\n",
       "      <td>MASTECTOMY</td>\n",
       "      <td>0:Not Recurred</td>\n",
       "      <td>138.65</td>\n",
       "    </tr>\n",
       "    <tr>\n",
       "      <th>1</th>\n",
       "      <td>MB-0002</td>\n",
       "      <td>0.0</td>\n",
       "      <td>4.020</td>\n",
       "      <td>High</td>\n",
       "      <td>NO</td>\n",
       "      <td>1.0</td>\n",
       "      <td>Positve</td>\n",
       "      <td>NEUTRAL</td>\n",
       "      <td>YES</td>\n",
       "      <td>Pre</td>\n",
       "      <td>...</td>\n",
       "      <td>0:LIVING</td>\n",
       "      <td>LumA</td>\n",
       "      <td>ER+/HER2- High Prolif</td>\n",
       "      <td>Living</td>\n",
       "      <td>Right</td>\n",
       "      <td>YES</td>\n",
       "      <td>Ductal/NST</td>\n",
       "      <td>BREAST CONSERVING</td>\n",
       "      <td>0:Not Recurred</td>\n",
       "      <td>83.52</td>\n",
       "    </tr>\n",
       "    <tr>\n",
       "      <th>2</th>\n",
       "      <td>MB-0005</td>\n",
       "      <td>1.0</td>\n",
       "      <td>4.030</td>\n",
       "      <td>High</td>\n",
       "      <td>YES</td>\n",
       "      <td>1.0</td>\n",
       "      <td>Positve</td>\n",
       "      <td>NEUTRAL</td>\n",
       "      <td>YES</td>\n",
       "      <td>Pre</td>\n",
       "      <td>...</td>\n",
       "      <td>1:DECEASED</td>\n",
       "      <td>LumB</td>\n",
       "      <td>NaN</td>\n",
       "      <td>Died of Disease</td>\n",
       "      <td>Right</td>\n",
       "      <td>NO</td>\n",
       "      <td>Ductal/NST</td>\n",
       "      <td>MASTECTOMY</td>\n",
       "      <td>1:Recurred</td>\n",
       "      <td>151.28</td>\n",
       "    </tr>\n",
       "    <tr>\n",
       "      <th>3</th>\n",
       "      <td>MB-0006</td>\n",
       "      <td>3.0</td>\n",
       "      <td>4.050</td>\n",
       "      <td>Moderate</td>\n",
       "      <td>YES</td>\n",
       "      <td>1.0</td>\n",
       "      <td>Positve</td>\n",
       "      <td>NEUTRAL</td>\n",
       "      <td>YES</td>\n",
       "      <td>Pre</td>\n",
       "      <td>...</td>\n",
       "      <td>0:LIVING</td>\n",
       "      <td>LumB</td>\n",
       "      <td>NaN</td>\n",
       "      <td>Living</td>\n",
       "      <td>Right</td>\n",
       "      <td>YES</td>\n",
       "      <td>Mixed</td>\n",
       "      <td>MASTECTOMY</td>\n",
       "      <td>0:Not Recurred</td>\n",
       "      <td>162.76</td>\n",
       "    </tr>\n",
       "    <tr>\n",
       "      <th>4</th>\n",
       "      <td>MB-0008</td>\n",
       "      <td>8.0</td>\n",
       "      <td>6.080</td>\n",
       "      <td>High</td>\n",
       "      <td>YES</td>\n",
       "      <td>1.0</td>\n",
       "      <td>Positve</td>\n",
       "      <td>NEUTRAL</td>\n",
       "      <td>YES</td>\n",
       "      <td>Post</td>\n",
       "      <td>...</td>\n",
       "      <td>1:DECEASED</td>\n",
       "      <td>LumB</td>\n",
       "      <td>ER+/HER2- High Prolif</td>\n",
       "      <td>Died of Disease</td>\n",
       "      <td>Right</td>\n",
       "      <td>YES</td>\n",
       "      <td>Mixed</td>\n",
       "      <td>MASTECTOMY</td>\n",
       "      <td>1:Recurred</td>\n",
       "      <td>18.55</td>\n",
       "    </tr>\n",
       "  </tbody>\n",
       "</table>\n",
       "<p>5 rows × 24 columns</p>\n",
       "</div>"
      ],
      "text/plain": [
       "  PATIENT_ID  LYMPH_NODES_EXAMINED_POSITIVE    NPI CELLULARITY CHEMOTHERAPY  \\\n",
       "0    MB-0000                           10.0  6.044         NaN           NO   \n",
       "1    MB-0002                            0.0  4.020        High           NO   \n",
       "2    MB-0005                            1.0  4.030        High          YES   \n",
       "3    MB-0006                            3.0  4.050    Moderate          YES   \n",
       "4    MB-0008                            8.0  6.080        High          YES   \n",
       "\n",
       "   COHORT   ER_IHC HER2_SNP6 HORMONE_THERAPY INFERRED_MENOPAUSAL_STATE  ...  \\\n",
       "0     1.0  Positve   NEUTRAL             YES                      Post  ...   \n",
       "1     1.0  Positve   NEUTRAL             YES                       Pre  ...   \n",
       "2     1.0  Positve   NEUTRAL             YES                       Pre  ...   \n",
       "3     1.0  Positve   NEUTRAL             YES                       Pre  ...   \n",
       "4     1.0  Positve   NEUTRAL             YES                      Post  ...   \n",
       "\n",
       "    OS_STATUS CLAUDIN_SUBTYPE              THREEGENE     VITAL_STATUS  \\\n",
       "0    0:LIVING     claudin-low              ER-/HER2-           Living   \n",
       "1    0:LIVING            LumA  ER+/HER2- High Prolif           Living   \n",
       "2  1:DECEASED            LumB                    NaN  Died of Disease   \n",
       "3    0:LIVING            LumB                    NaN           Living   \n",
       "4  1:DECEASED            LumB  ER+/HER2- High Prolif  Died of Disease   \n",
       "\n",
       "  LATERALITY RADIO_THERAPY HISTOLOGICAL_SUBTYPE     BREAST_SURGERY  \\\n",
       "0      Right           YES           Ductal/NST         MASTECTOMY   \n",
       "1      Right           YES           Ductal/NST  BREAST CONSERVING   \n",
       "2      Right            NO           Ductal/NST         MASTECTOMY   \n",
       "3      Right           YES                Mixed         MASTECTOMY   \n",
       "4      Right           YES                Mixed         MASTECTOMY   \n",
       "\n",
       "       RFS_STATUS RFS_MONTHS  \n",
       "0  0:Not Recurred     138.65  \n",
       "1  0:Not Recurred      83.52  \n",
       "2      1:Recurred     151.28  \n",
       "3  0:Not Recurred     162.76  \n",
       "4      1:Recurred      18.55  \n",
       "\n",
       "[5 rows x 24 columns]"
      ]
     },
     "execution_count": 7,
     "metadata": {},
     "output_type": "execute_result"
    }
   ],
   "source": [
    "metadata = pd.read_csv(\"/Users/lamine/Explainqble AI /metabric_clin.csv\")\n",
    "metadata.head(5)"
   ]
  },
  {
   "cell_type": "code",
   "execution_count": 8,
   "id": "81371c78",
   "metadata": {},
   "outputs": [
    {
     "name": "stdout",
     "output_type": "stream",
     "text": [
      "<class 'pandas.core.frame.DataFrame'>\n",
      "RangeIndex: 1897 entries, 0 to 1896\n",
      "Data columns (total 24 columns):\n",
      " #   Column                         Non-Null Count  Dtype  \n",
      "---  ------                         --------------  -----  \n",
      " 0   PATIENT_ID                     1897 non-null   object \n",
      " 1   LYMPH_NODES_EXAMINED_POSITIVE  1897 non-null   float64\n",
      " 2   NPI                            1897 non-null   float64\n",
      " 3   CELLULARITY                    1843 non-null   object \n",
      " 4   CHEMOTHERAPY                   1897 non-null   object \n",
      " 5   COHORT                         1897 non-null   float64\n",
      " 6   ER_IHC                         1867 non-null   object \n",
      " 7   HER2_SNP6                      1897 non-null   object \n",
      " 8   HORMONE_THERAPY                1897 non-null   object \n",
      " 9   INFERRED_MENOPAUSAL_STATE      1897 non-null   object \n",
      " 10  SEX                            1897 non-null   object \n",
      " 11  INTCLUST                       1897 non-null   object \n",
      " 12  AGE_AT_DIAGNOSIS               1897 non-null   float64\n",
      " 13  OS_MONTHS                      1897 non-null   float64\n",
      " 14  OS_STATUS                      1897 non-null   object \n",
      " 15  CLAUDIN_SUBTYPE                1897 non-null   object \n",
      " 16  THREEGENE                      1694 non-null   object \n",
      " 17  VITAL_STATUS                   1897 non-null   object \n",
      " 18  LATERALITY                     1792 non-null   object \n",
      " 19  RADIO_THERAPY                  1897 non-null   object \n",
      " 20  HISTOLOGICAL_SUBTYPE           1882 non-null   object \n",
      " 21  BREAST_SURGERY                 1875 non-null   object \n",
      " 22  RFS_STATUS                     1897 non-null   object \n",
      " 23  RFS_MONTHS                     1897 non-null   float64\n",
      "dtypes: float64(6), object(18)\n",
      "memory usage: 355.8+ KB\n"
     ]
    }
   ],
   "source": [
    "metadata.info()"
   ]
  },
  {
   "cell_type": "code",
   "execution_count": 9,
   "id": "58c3f68e",
   "metadata": {},
   "outputs": [
    {
     "data": {
      "text/plain": [
       "Index(['PATIENT_ID', 'LYMPH_NODES_EXAMINED_POSITIVE', 'NPI', 'CELLULARITY',\n",
       "       'CHEMOTHERAPY', 'COHORT', 'ER_IHC', 'HER2_SNP6', 'HORMONE_THERAPY',\n",
       "       'INFERRED_MENOPAUSAL_STATE', 'SEX', 'INTCLUST', 'AGE_AT_DIAGNOSIS',\n",
       "       'OS_MONTHS', 'OS_STATUS', 'CLAUDIN_SUBTYPE', 'THREEGENE',\n",
       "       'VITAL_STATUS', 'LATERALITY', 'RADIO_THERAPY', 'HISTOLOGICAL_SUBTYPE',\n",
       "       'BREAST_SURGERY', 'RFS_STATUS', 'RFS_MONTHS'],\n",
       "      dtype='object')"
      ]
     },
     "execution_count": 9,
     "metadata": {},
     "output_type": "execute_result"
    }
   ],
   "source": [
    "metadata.columns"
   ]
  },
  {
   "cell_type": "code",
   "execution_count": 10,
   "id": "60e97e6e",
   "metadata": {},
   "outputs": [
    {
     "name": "stdout",
     "output_type": "stream",
     "text": [
      "The total patient ids are 1897, from those the unique ids are 1897 \n"
     ]
    }
   ],
   "source": [
    "print(f\"The total patient ids are {metadata['PATIENT_ID'].count()}, from those the unique ids are {metadata['PATIENT_ID'].value_counts().shape[0]} \")"
   ]
  },
  {
   "cell_type": "code",
   "execution_count": 11,
   "id": "97546145",
   "metadata": {},
   "outputs": [
    {
     "name": "stdout",
     "output_type": "stream",
     "text": [
      "['PATIENT_ID', 'LYMPH_NODES_EXAMINED_POSITIVE', 'NPI', 'CELLULARITY', 'CHEMOTHERAPY', 'COHORT', 'ER_IHC', 'HER2_SNP6', 'HORMONE_THERAPY', 'INFERRED_MENOPAUSAL_STATE', 'SEX', 'INTCLUST', 'AGE_AT_DIAGNOSIS', 'OS_MONTHS', 'OS_STATUS', 'CLAUDIN_SUBTYPE', 'THREEGENE', 'VITAL_STATUS', 'LATERALITY', 'RADIO_THERAPY', 'HISTOLOGICAL_SUBTYPE', 'BREAST_SURGERY', 'RFS_STATUS', 'RFS_MONTHS']\n"
     ]
    }
   ],
   "source": [
    "columns = metadata.keys()\n",
    "columns = list(columns)\n",
    "print(columns)"
   ]
  },
  {
   "cell_type": "code",
   "execution_count": 12,
   "id": "54cb76ca",
   "metadata": {},
   "outputs": [
    {
     "name": "stdout",
     "output_type": "stream",
     "text": [
      "There are 23 columns of labels for these conditions: ['LYMPH_NODES_EXAMINED_POSITIVE', 'NPI', 'CELLULARITY', 'CHEMOTHERAPY', 'COHORT', 'ER_IHC', 'HER2_SNP6', 'HORMONE_THERAPY', 'INFERRED_MENOPAUSAL_STATE', 'SEX', 'INTCLUST', 'AGE_AT_DIAGNOSIS', 'OS_MONTHS', 'OS_STATUS', 'CLAUDIN_SUBTYPE', 'THREEGENE', 'VITAL_STATUS', 'LATERALITY', 'RADIO_THERAPY', 'HISTOLOGICAL_SUBTYPE', 'BREAST_SURGERY', 'RFS_STATUS', 'RFS_MONTHS']\n"
     ]
    }
   ],
   "source": [
    "# Remove unnecesary elements\n",
    "columns.remove('PATIENT_ID')\n",
    "# Get the total classes\n",
    "print(f\"There are {len(columns)} columns of labels for these conditions: {columns}\")"
   ]
  },
  {
   "cell_type": "code",
   "execution_count": 13,
   "id": "521a36ed",
   "metadata": {},
   "outputs": [
    {
     "data": {
      "text/plain": [
       "array(['ER-/HER2-', 'ER+/HER2- High Prolif', nan, 'ER+/HER2- Low Prolif',\n",
       "       'HER2+'], dtype=object)"
      ]
     },
     "execution_count": 13,
     "metadata": {},
     "output_type": "execute_result"
    }
   ],
   "source": [
    "metadata['THREEGENE'].unique()"
   ]
  },
  {
   "cell_type": "code",
   "execution_count": 14,
   "id": "a232e7ec",
   "metadata": {},
   "outputs": [
    {
     "name": "stdout",
     "output_type": "stream",
     "text": [
      "The total patient ids are 1897, from those the unique ids CHEMOTHERAPY are 2 \n"
     ]
    }
   ],
   "source": [
    "print(f\"The total patient ids are {metadata['PATIENT_ID'].count()}, from those the unique ids CHEMOTHERAPY are {metadata['CHEMOTHERAPY'].value_counts().shape[0]} \")"
   ]
  },
  {
   "cell_type": "code",
   "execution_count": 15,
   "id": "92a424e4",
   "metadata": {},
   "outputs": [
    {
     "name": "stdout",
     "output_type": "stream",
     "text": [
      "Number of patient ER-/HER2- :290\n",
      "Number of patient ER+/HER2- High Prolif :598\n",
      "Number of patient ER+/HER2- Low Prolif :618\n",
      "Number of patient HER2+ :188\n",
      "Number of patient nan :0\n"
     ]
    }
   ],
   "source": [
    "print(f'Number of patient ER-/HER2- :%i'  %metadata[metadata['THREEGENE']=='ER-/HER2-'].count()[0])\n",
    "print(f'Number of patient ER+/HER2- High Prolif :%i'  %metadata[metadata['THREEGENE']=='ER+/HER2- High Prolif'].count()[0])\n",
    "print(f'Number of patient ER+/HER2- Low Prolif :%i'  %metadata[metadata['THREEGENE']=='ER+/HER2- Low Prolif'].count()[0])\n",
    "print(f'Number of patient HER2+ :%i'  %metadata[metadata['THREEGENE']=='HER2+'].count()[0])\n",
    "print(f'Number of patient nan :%i'  %metadata[metadata['THREEGENE']=='nan'].count()[0])"
   ]
  },
  {
   "cell_type": "code",
   "execution_count": 16,
   "id": "f94e0b33",
   "metadata": {},
   "outputs": [
    {
     "data": {
      "image/png": "[encoded data removed]",
      "text/plain": [
       "<Figure size 800x500 with 1 Axes>"
      ]
     },
     "metadata": {},
     "output_type": "display_data"
    }
   ],
   "source": [
    "plt.figure(figsize=(8,5), dpi=100)\n",
    "\n",
    "plt.style.use('ggplot')\n",
    "\n",
    "ER = metadata[metadata['THREEGENE']=='ER-/HER2-'].count()[0]\n",
    "ERhigh = metadata[metadata['THREEGENE']=='ER+/HER2- High Prolif'].count()[0]\n",
    "ERlow = metadata[metadata['THREEGENE']=='ER+/HER2- Low Prolif'].count()[0]\n",
    "HER2 = metadata[metadata['THREEGENE']=='HER2+'].count()[0]\n",
    "nan = metadata[metadata['THREEGENE']=='nan'].count()[0]\n",
    "\n",
    "\n",
    "Condition = [ER, ERhigh, ERlow, HER2, nan]\n",
    "label = ['ER', 'ERhigh', 'ERlow', 'HER2', 'nan']\n",
    "explode = (0,0,0,.4,0)\n",
    "\n",
    "plt.title('Pourcentage of number of patient per condition')\n",
    "\n",
    "plt.pie(Condition, labels=label, explode=explode, pctdistance=0.8,autopct='%.2f %%')\n",
    "plt.show()"
   ]
  },
  {
   "cell_type": "code",
   "execution_count": 17,
   "id": "ba69c766",
   "metadata": {},
   "outputs": [
    {
     "name": "stdout",
     "output_type": "stream",
     "text": [
      "Number of patient CHEMOTHERAPY Yes :396\n",
      "Number of patient CHEMOTHERAPY NO :1501\n"
     ]
    }
   ],
   "source": [
    "print(f'Number of patient CHEMOTHERAPY Yes :%i'  %metadata[metadata['CHEMOTHERAPY']=='YES'].count()[0])\n",
    "print(f'Number of patient CHEMOTHERAPY NO :%i'  %metadata[metadata['CHEMOTHERAPY']=='NO'].count()[0])\n"
   ]
  },
  {
   "cell_type": "code",
   "execution_count": 18,
   "id": "1ac1fc58",
   "metadata": {},
   "outputs": [
    {
     "data": {
      "text/html": [
       "<div>\n",
       "<style scoped>\n",
       "    .dataframe tbody tr th:only-of-type {\n",
       "        vertical-align: middle;\n",
       "    }\n",
       "\n",
       "    .dataframe tbody tr th {\n",
       "        vertical-align: top;\n",
       "    }\n",
       "\n",
       "    .dataframe thead th {\n",
       "        text-align: right;\n",
       "    }\n",
       "</style>\n",
       "<table border=\"1\" class=\"dataframe\">\n",
       "  <thead>\n",
       "    <tr style=\"text-align: right;\">\n",
       "      <th></th>\n",
       "      <th>CHEMOTHERAPY</th>\n",
       "    </tr>\n",
       "  </thead>\n",
       "  <tbody>\n",
       "    <tr>\n",
       "      <th>0</th>\n",
       "      <td>NO</td>\n",
       "    </tr>\n",
       "    <tr>\n",
       "      <th>1</th>\n",
       "      <td>NO</td>\n",
       "    </tr>\n",
       "    <tr>\n",
       "      <th>2</th>\n",
       "      <td>YES</td>\n",
       "    </tr>\n",
       "    <tr>\n",
       "      <th>3</th>\n",
       "      <td>YES</td>\n",
       "    </tr>\n",
       "    <tr>\n",
       "      <th>4</th>\n",
       "      <td>YES</td>\n",
       "    </tr>\n",
       "  </tbody>\n",
       "</table>\n",
       "</div>"
      ],
      "text/plain": [
       "  CHEMOTHERAPY\n",
       "0           NO\n",
       "1           NO\n",
       "2          YES\n",
       "3          YES\n",
       "4          YES"
      ]
     },
     "execution_count": 18,
     "metadata": {},
     "output_type": "execute_result"
    }
   ],
   "source": [
    "Outcome = pd.DataFrame(metadata['CHEMOTHERAPY'])\n",
    "Outcome.head()"
   ]
  },
  {
   "cell_type": "code",
   "execution_count": 19,
   "id": "df17e77b",
   "metadata": {},
   "outputs": [
    {
     "data": {
      "text/html": [
       "<div>\n",
       "<style scoped>\n",
       "    .dataframe tbody tr th:only-of-type {\n",
       "        vertical-align: middle;\n",
       "    }\n",
       "\n",
       "    .dataframe tbody tr th {\n",
       "        vertical-align: top;\n",
       "    }\n",
       "\n",
       "    .dataframe thead th {\n",
       "        text-align: right;\n",
       "    }\n",
       "</style>\n",
       "<table border=\"1\" class=\"dataframe\">\n",
       "  <thead>\n",
       "    <tr style=\"text-align: right;\">\n",
       "      <th></th>\n",
       "      <th>CHEMOTHERAPY</th>\n",
       "    </tr>\n",
       "  </thead>\n",
       "  <tbody>\n",
       "    <tr>\n",
       "      <th>0</th>\n",
       "      <td>0</td>\n",
       "    </tr>\n",
       "    <tr>\n",
       "      <th>1</th>\n",
       "      <td>0</td>\n",
       "    </tr>\n",
       "    <tr>\n",
       "      <th>2</th>\n",
       "      <td>1</td>\n",
       "    </tr>\n",
       "    <tr>\n",
       "      <th>3</th>\n",
       "      <td>1</td>\n",
       "    </tr>\n",
       "    <tr>\n",
       "      <th>4</th>\n",
       "      <td>1</td>\n",
       "    </tr>\n",
       "  </tbody>\n",
       "</table>\n",
       "</div>"
      ],
      "text/plain": [
       "   CHEMOTHERAPY\n",
       "0             0\n",
       "1             0\n",
       "2             1\n",
       "3             1\n",
       "4             1"
      ]
     },
     "execution_count": 19,
     "metadata": {},
     "output_type": "execute_result"
    }
   ],
   "source": [
    "Outcome = Outcome.replace(\"YES\",1)\n",
    "Outcome = Outcome.replace(\"NO\",0)\n",
    "Outcome.head()"
   ]
  },
  {
   "cell_type": "code",
   "execution_count": 20,
   "id": "02821fa2",
   "metadata": {},
   "outputs": [
    {
     "name": "stdout",
     "output_type": "stream",
     "text": [
      "Labels counts in Outcome Yes and No respectively: [1501  396]\n"
     ]
    }
   ],
   "source": [
    "print('Labels counts in Outcome Yes and No respectively:', np.bincount(Outcome['CHEMOTHERAPY']))"
   ]
  },
  {
   "cell_type": "markdown",
   "id": "d20b88ad",
   "metadata": {},
   "source": [
    "here we clearly dealing with class imbalance."
   ]
  },
  {
   "cell_type": "code",
   "execution_count": 21,
   "id": "8a88516f",
   "metadata": {},
   "outputs": [],
   "source": [
    "df.index = metadata['PATIENT_ID']\n",
    "Outcome.index = metadata['PATIENT_ID']"
   ]
  },
  {
   "cell_type": "code",
   "execution_count": 22,
   "id": "902cfae0",
   "metadata": {},
   "outputs": [
    {
     "data": {
      "text/html": [
       "<div>\n",
       "<style scoped>\n",
       "    .dataframe tbody tr th:only-of-type {\n",
       "        vertical-align: middle;\n",
       "    }\n",
       "\n",
       "    .dataframe tbody tr th {\n",
       "        vertical-align: top;\n",
       "    }\n",
       "\n",
       "    .dataframe thead th {\n",
       "        text-align: right;\n",
       "    }\n",
       "</style>\n",
       "<table border=\"1\" class=\"dataframe\">\n",
       "  <thead>\n",
       "    <tr style=\"text-align: right;\">\n",
       "      <th></th>\n",
       "      <th>CHEMOTHERAPY</th>\n",
       "    </tr>\n",
       "    <tr>\n",
       "      <th>PATIENT_ID</th>\n",
       "      <th></th>\n",
       "    </tr>\n",
       "  </thead>\n",
       "  <tbody>\n",
       "    <tr>\n",
       "      <th>MB-0000</th>\n",
       "      <td>0</td>\n",
       "    </tr>\n",
       "    <tr>\n",
       "      <th>MB-0002</th>\n",
       "      <td>0</td>\n",
       "    </tr>\n",
       "    <tr>\n",
       "      <th>MB-0005</th>\n",
       "      <td>1</td>\n",
       "    </tr>\n",
       "    <tr>\n",
       "      <th>MB-0006</th>\n",
       "      <td>1</td>\n",
       "    </tr>\n",
       "    <tr>\n",
       "      <th>MB-0008</th>\n",
       "      <td>1</td>\n",
       "    </tr>\n",
       "  </tbody>\n",
       "</table>\n",
       "</div>"
      ],
      "text/plain": [
       "            CHEMOTHERAPY\n",
       "PATIENT_ID              \n",
       "MB-0000                0\n",
       "MB-0002                0\n",
       "MB-0005                1\n",
       "MB-0006                1\n",
       "MB-0008                1"
      ]
     },
     "execution_count": 22,
     "metadata": {},
     "output_type": "execute_result"
    }
   ],
   "source": [
    "Outcome = Outcome[Outcome.index.isin(df.index)]\n",
    "Outcome.head()"
   ]
  },
  {
   "cell_type": "markdown",
   "id": "70e6508d",
   "metadata": {},
   "source": [
    "here we clearly dealing with class imbalance.\n",
    "### Class imbalance correct using imblearn"
   ]
  },
  {
   "cell_type": "code",
   "execution_count": 23,
   "id": "2ac6b210",
   "metadata": {},
   "outputs": [],
   "source": [
    "#!pip install -U imbalanced-learn\n",
    "from imblearn.over_sampling import RandomOverSampler"
   ]
  },
  {
   "cell_type": "code",
   "execution_count": 24,
   "id": "2c66316c",
   "metadata": {},
   "outputs": [],
   "source": [
    "ros = RandomOverSampler(random_state=0)\n",
    "df_resampled, Outcome_resampled = ros.fit_resample(df, Outcome['CHEMOTHERAPY'])"
   ]
  },
  {
   "cell_type": "code",
   "execution_count": 25,
   "id": "731f69ee",
   "metadata": {},
   "outputs": [
    {
     "name": "stdout",
     "output_type": "stream",
     "text": [
      "[(0, 1501), (1, 1501)]\n"
     ]
    }
   ],
   "source": [
    "from collections import Counter\n",
    "print(sorted(Counter(Outcome_resampled).items()))"
   ]
  },
  {
   "cell_type": "code",
   "execution_count": 26,
   "id": "45592363",
   "metadata": {},
   "outputs": [
    {
     "name": "stdout",
     "output_type": "stream",
     "text": [
      "Labels counts in Outcome are now: [1501 1501]\n"
     ]
    }
   ],
   "source": [
    "print('Labels counts in Outcome are now:', np.bincount(Outcome_resampled))"
   ]
  },
  {
   "cell_type": "markdown",
   "id": "f02e1c33-3fa6-45ab-8ba2-b947cc4d27ad",
   "metadata": {},
   "source": [
    "## Data preparation for deep learning model"
   ]
  },
  {
   "cell_type": "code",
   "execution_count": 27,
   "id": "16a8c7d8",
   "metadata": {},
   "outputs": [],
   "source": [
    "df_resampled = df_resampled.astype('float32')\n",
    "Outcome_resampled = Outcome_resampled.astype('float32')"
   ]
  },
  {
   "cell_type": "code",
   "execution_count": 28,
   "id": "d9c5cf0e",
   "metadata": {},
   "outputs": [],
   "source": [
    "X_train, X_test, Y_train, Y_test = train_test_split(df_resampled, Outcome_resampled,\n",
    "                                                    test_size=0.3, random_state=42, shuffle=True)"
   ]
  },
  {
   "cell_type": "code",
   "execution_count": 56,
   "id": "dda425fb-4cfc-4e9d-9c50-99bc7364adb7",
   "metadata": {},
   "outputs": [
    {
     "name": "stdout",
     "output_type": "stream",
     "text": [
      "X_train.shape = (2101, 295)\n",
      "X_train.dtypes = CD52        float32\n",
      "DARC        float32\n",
      "DCN         float32\n",
      "DB005376    float32\n",
      "TAT         float32\n",
      "             ...   \n",
      "CCL5        float32\n",
      "TFF3        float32\n",
      "CDH3        float32\n",
      "SLC39A6     float32\n",
      "SHISA2      float32\n",
      "Length: 295, dtype: object\n"
     ]
    }
   ],
   "source": [
    "print(f\"X_train.shape = {X_train.shape}\")\n",
    "print(f\"X_train.dtypes = {X_train.dtypes}\")"
   ]
  },
  {
   "cell_type": "code",
   "execution_count": 74,
   "id": "181147c4",
   "metadata": {},
   "outputs": [],
   "source": [
    "x_train, x_val, y_train, y_val = train_test_split(X_train, Y_train, \n",
    "                                                  shuffle=True)"
   ]
  },
  {
   "cell_type": "code",
   "execution_count": 75,
   "id": "66e87efb",
   "metadata": {},
   "outputs": [],
   "source": [
    "scaler  = MinMaxScaler()\n",
    "x_train_scaled = scaler.fit_transform(x_train)\n",
    "x_val_scaled = scaler.transform(x_val)   \n",
    "x_test_scaled = scaler.transform(X_test)"
   ]
  },
  {
   "cell_type": "code",
   "execution_count": 76,
   "id": "f461d058-31b9-41dc-9839-e31debc26a3d",
   "metadata": {},
   "outputs": [
    {
     "name": "stdout",
     "output_type": "stream",
     "text": [
      "x_train_scaled.shape = (1575, 295)\n",
      "x_val_scaled.shape = (526, 295)\n",
      "x_test_scaled.shape = (901, 295)\n"
     ]
    }
   ],
   "source": [
    "print(f\"x_train_scaled.shape = {x_train_scaled.shape}\")\n",
    "print(f\"x_val_scaled.shape = {x_val_scaled.shape}\")\n",
    "print(f\"x_test_scaled.shape = {x_test_scaled.shape}\")"
   ]
  },
  {
   "cell_type": "code",
   "execution_count": 171,
   "id": "a9eb539e",
   "metadata": {},
   "outputs": [],
   "source": [
    "# y_train = np.asarray(Y_train).astype('float32').reshape((-1,1))"
   ]
  },
  {
   "cell_type": "markdown",
   "id": "23a9b41c",
   "metadata": {},
   "source": [
    "# Model"
   ]
  },
  {
   "cell_type": "code",
   "execution_count": 670,
   "id": "543ae474-cc09-4fb4-9dc8-3df744803e2c",
   "metadata": {},
   "outputs": [],
   "source": [
    "EPOCHS = 50\n",
    "NB_CLASSES = 1   \n",
    "DROPOUT = 0.3"
   ]
  },
  {
   "cell_type": "code",
   "execution_count": 570,
   "id": "4c7807fc",
   "metadata": {},
   "outputs": [],
   "source": [
    "# The model hyperparatmeter was defined with gridSearchCV using scikeras.wrappers below.\n",
    "model = Sequential()\n",
    "model.add(Dense(10, input_shape=x_train_scaled.shape[1:], activation = 'relu', name='dense_layer'))\n",
    "model.add(Dropout(DROPOUT))\n",
    "model.add(Dense(10, activation = 'relu', name='dense_layer_2'))\n",
    "model.add(Dropout(DROPOUT))\n",
    "model.add(Dense(NB_CLASSES, activation= \"sigmoid\", name='dense_layer_4'))                              "
   ]
  },
  {
   "cell_type": "code",
   "execution_count": 671,
   "id": "9cba0408",
   "metadata": {},
   "outputs": [
    {
     "name": "stdout",
     "output_type": "stream",
     "text": [
      "Model: \"sequential_96\"\n",
      "_________________________________________________________________\n",
      " Layer (type)                Output Shape              Param #   \n",
      "=================================================================\n",
      " dense_layer (Dense)         (None, 10)                2960      \n",
      "                                                                 \n",
      " dropout_56 (Dropout)        (None, 10)                0         \n",
      "                                                                 \n",
      " dense_layer_2 (Dense)       (None, 10)                110       \n",
      "                                                                 \n",
      " dropout_57 (Dropout)        (None, 10)                0         \n",
      "                                                                 \n",
      " dense_layer_4 (Dense)       (None, 1)                 11        \n",
      "                                                                 \n",
      "=================================================================\n",
      "Total params: 3081 (12.04 KB)\n",
      "Trainable params: 3081 (12.04 KB)\n",
      "Non-trainable params: 0 (0.00 Byte)\n",
      "_________________________________________________________________\n"
     ]
    }
   ],
   "source": [
    "model.summary()"
   ]
  },
  {
   "cell_type": "code",
   "execution_count": 672,
   "id": "b4e2896f-39ae-4c64-ada9-d20b42c40bbd",
   "metadata": {},
   "outputs": [
    {
     "data": {
      "image/png": "[encoded data removed]",
      "text/plain": [
       "<IPython.core.display.Image object>"
      ]
     },
     "execution_count": 672,
     "metadata": {},
     "output_type": "execute_result"
    }
   ],
   "source": [
    "keras.utils.plot_model(model, show_shapes=True)"
   ]
  },
  {
   "cell_type": "code",
   "execution_count": 160,
   "id": "a9070e50-da1a-4c2a-b423-74d5e825140e",
   "metadata": {},
   "outputs": [],
   "source": [
    "early_stopping = EarlyStopping(\n",
    "    patience  = 10,     # how many epochs to wait before stopping\n",
    "    restore_best_weights=True,\n",
    ")"
   ]
  },
  {
   "cell_type": "code",
   "execution_count": 571,
   "id": "caebfcc8",
   "metadata": {},
   "outputs": [
    {
     "name": "stderr",
     "output_type": "stream",
     "text": [
      "WARNING:absl:At this time, the v2.11+ optimizer `tf.keras.optimizers.Adam` runs slowly on M1/M2 Macs, please use the legacy Keras optimizer instead, located at `tf.keras.optimizers.legacy.Adam`.\n",
      "WARNING:absl:There is a known slowdown when using v2.11+ Keras optimizers on M1/M2 Macs. Falling back to the legacy Keras optimizer, i.e., `tf.keras.optimizers.legacy.Adam`.\n"
     ]
    }
   ],
   "source": [
    "model.compile(loss=\"binary_crossentropy\", optimizer=tf.keras.optimizers.Adam(), metrics=[\"accuracy\"])"
   ]
  },
  {
   "cell_type": "code",
   "execution_count": 572,
   "id": "24eaa9ae",
   "metadata": {},
   "outputs": [
    {
     "name": "stdout",
     "output_type": "stream",
     "text": [
      "Epoch 1/50\n"
     ]
    },
    {
     "name": "stderr",
     "output_type": "stream",
     "text": [
      "2024-02-20 12:33:46.256299: I tensorflow/core/grappler/optimizers/custom_graph_optimizer_registry.cc:114] Plugin optimizer for device_type GPU is enabled.\n"
     ]
    },
    {
     "name": "stdout",
     "output_type": "stream",
     "text": [
      "50/50 [==============================] - ETA: 0s - loss: 0.6839 - accuracy: 0.5829"
     ]
    },
    {
     "name": "stderr",
     "output_type": "stream",
     "text": [
      "2024-02-20 12:33:47.283473: I tensorflow/core/grappler/optimizers/custom_graph_optimizer_registry.cc:114] Plugin optimizer for device_type GPU is enabled.\n"
     ]
    },
    {
     "name": "stdout",
     "output_type": "stream",
     "text": [
      "50/50 [==============================] - 2s 21ms/step - loss: 0.6839 - accuracy: 0.5829 - val_loss: 0.5990 - val_accuracy: 0.6768\n",
      "Epoch 2/50\n",
      "50/50 [==============================] - 0s 8ms/step - loss: 0.6034 - accuracy: 0.6819 - val_loss: 0.5764 - val_accuracy: 0.6977\n",
      "Epoch 3/50\n",
      "50/50 [==============================] - 0s 7ms/step - loss: 0.6008 - accuracy: 0.6832 - val_loss: 0.5729 - val_accuracy: 0.6996\n",
      "Epoch 4/50\n",
      "50/50 [==============================] - 0s 7ms/step - loss: 0.5981 - accuracy: 0.6902 - val_loss: 0.5348 - val_accuracy: 0.7643\n",
      "Epoch 5/50\n",
      "50/50 [==============================] - 0s 8ms/step - loss: 0.5814 - accuracy: 0.6952 - val_loss: 0.5215 - val_accuracy: 0.7586\n",
      "Epoch 6/50\n",
      "50/50 [==============================] - 0s 7ms/step - loss: 0.5875 - accuracy: 0.7079 - val_loss: 0.5359 - val_accuracy: 0.7510\n",
      "Epoch 7/50\n",
      "50/50 [==============================] - 0s 8ms/step - loss: 0.5721 - accuracy: 0.7130 - val_loss: 0.5277 - val_accuracy: 0.7624\n",
      "Epoch 8/50\n",
      "50/50 [==============================] - 0s 7ms/step - loss: 0.5721 - accuracy: 0.7067 - val_loss: 0.5178 - val_accuracy: 0.7681\n",
      "Epoch 9/50\n",
      "50/50 [==============================] - 0s 7ms/step - loss: 0.5685 - accuracy: 0.7168 - val_loss: 0.5195 - val_accuracy: 0.7700\n",
      "Epoch 10/50\n",
      "50/50 [==============================] - 0s 7ms/step - loss: 0.5573 - accuracy: 0.7187 - val_loss: 0.5153 - val_accuracy: 0.7700\n",
      "Epoch 11/50\n",
      "50/50 [==============================] - 0s 7ms/step - loss: 0.5385 - accuracy: 0.7429 - val_loss: 0.5108 - val_accuracy: 0.7738\n",
      "Epoch 12/50\n",
      "50/50 [==============================] - 0s 7ms/step - loss: 0.5352 - accuracy: 0.7384 - val_loss: 0.5133 - val_accuracy: 0.7700\n",
      "Epoch 13/50\n",
      "50/50 [==============================] - 0s 7ms/step - loss: 0.5305 - accuracy: 0.7613 - val_loss: 0.4998 - val_accuracy: 0.7681\n",
      "Epoch 14/50\n",
      "50/50 [==============================] - 0s 7ms/step - loss: 0.5362 - accuracy: 0.7371 - val_loss: 0.5041 - val_accuracy: 0.7776\n",
      "Epoch 15/50\n",
      "50/50 [==============================] - 0s 7ms/step - loss: 0.5301 - accuracy: 0.7454 - val_loss: 0.4948 - val_accuracy: 0.7795\n",
      "Epoch 16/50\n",
      "50/50 [==============================] - 0s 7ms/step - loss: 0.5179 - accuracy: 0.7549 - val_loss: 0.4999 - val_accuracy: 0.7928\n",
      "Epoch 17/50\n",
      "50/50 [==============================] - 0s 7ms/step - loss: 0.5247 - accuracy: 0.7505 - val_loss: 0.4913 - val_accuracy: 0.7795\n",
      "Epoch 18/50\n",
      "50/50 [==============================] - 0s 7ms/step - loss: 0.5123 - accuracy: 0.7530 - val_loss: 0.4837 - val_accuracy: 0.7738\n",
      "Epoch 19/50\n",
      "50/50 [==============================] - 0s 7ms/step - loss: 0.5074 - accuracy: 0.7587 - val_loss: 0.4936 - val_accuracy: 0.7928\n",
      "Epoch 20/50\n",
      "50/50 [==============================] - 0s 7ms/step - loss: 0.5051 - accuracy: 0.7638 - val_loss: 0.4838 - val_accuracy: 0.7890\n",
      "Epoch 21/50\n",
      "50/50 [==============================] - 0s 7ms/step - loss: 0.4838 - accuracy: 0.7822 - val_loss: 0.4797 - val_accuracy: 0.7833\n",
      "Epoch 22/50\n",
      "50/50 [==============================] - 0s 7ms/step - loss: 0.4927 - accuracy: 0.7644 - val_loss: 0.4762 - val_accuracy: 0.7871\n",
      "Epoch 23/50\n",
      "50/50 [==============================] - 0s 7ms/step - loss: 0.4893 - accuracy: 0.7714 - val_loss: 0.4777 - val_accuracy: 0.7890\n",
      "Epoch 24/50\n",
      "50/50 [==============================] - 0s 7ms/step - loss: 0.4911 - accuracy: 0.7790 - val_loss: 0.4736 - val_accuracy: 0.7947\n",
      "Epoch 25/50\n",
      "50/50 [==============================] - 0s 7ms/step - loss: 0.4717 - accuracy: 0.7892 - val_loss: 0.4719 - val_accuracy: 0.7909\n",
      "Epoch 26/50\n",
      "50/50 [==============================] - 0s 7ms/step - loss: 0.4769 - accuracy: 0.7740 - val_loss: 0.4697 - val_accuracy: 0.7947\n",
      "Epoch 27/50\n",
      "50/50 [==============================] - 0s 7ms/step - loss: 0.4737 - accuracy: 0.7898 - val_loss: 0.4725 - val_accuracy: 0.7909\n",
      "Epoch 28/50\n",
      "50/50 [==============================] - 0s 7ms/step - loss: 0.4718 - accuracy: 0.7829 - val_loss: 0.4868 - val_accuracy: 0.7871\n",
      "Epoch 29/50\n",
      "50/50 [==============================] - 0s 7ms/step - loss: 0.4696 - accuracy: 0.7822 - val_loss: 0.4720 - val_accuracy: 0.7928\n",
      "Epoch 30/50\n",
      "50/50 [==============================] - 0s 7ms/step - loss: 0.4648 - accuracy: 0.7829 - val_loss: 0.4690 - val_accuracy: 0.7909\n",
      "Epoch 31/50\n",
      "50/50 [==============================] - 0s 7ms/step - loss: 0.4632 - accuracy: 0.7854 - val_loss: 0.4757 - val_accuracy: 0.7947\n",
      "Epoch 32/50\n",
      "50/50 [==============================] - 0s 7ms/step - loss: 0.4689 - accuracy: 0.7854 - val_loss: 0.4712 - val_accuracy: 0.7928\n",
      "Epoch 33/50\n",
      "50/50 [==============================] - 0s 7ms/step - loss: 0.4624 - accuracy: 0.7835 - val_loss: 0.4626 - val_accuracy: 0.8061\n",
      "Epoch 34/50\n",
      "50/50 [==============================] - 0s 7ms/step - loss: 0.4500 - accuracy: 0.7937 - val_loss: 0.4670 - val_accuracy: 0.8061\n",
      "Epoch 35/50\n",
      "50/50 [==============================] - 0s 7ms/step - loss: 0.4550 - accuracy: 0.7873 - val_loss: 0.4656 - val_accuracy: 0.8061\n",
      "Epoch 36/50\n",
      "50/50 [==============================] - 0s 7ms/step - loss: 0.4462 - accuracy: 0.7956 - val_loss: 0.4596 - val_accuracy: 0.8080\n",
      "Epoch 37/50\n",
      "50/50 [==============================] - 0s 7ms/step - loss: 0.4534 - accuracy: 0.7956 - val_loss: 0.4705 - val_accuracy: 0.7966\n",
      "Epoch 38/50\n",
      "50/50 [==============================] - 0s 7ms/step - loss: 0.4310 - accuracy: 0.8089 - val_loss: 0.4583 - val_accuracy: 0.8156\n",
      "Epoch 39/50\n",
      "50/50 [==============================] - 0s 7ms/step - loss: 0.4392 - accuracy: 0.8133 - val_loss: 0.4636 - val_accuracy: 0.8099\n",
      "Epoch 40/50\n",
      "50/50 [==============================] - 0s 7ms/step - loss: 0.4394 - accuracy: 0.8076 - val_loss: 0.4653 - val_accuracy: 0.8099\n",
      "Epoch 41/50\n",
      "50/50 [==============================] - 0s 7ms/step - loss: 0.4476 - accuracy: 0.8159 - val_loss: 0.4631 - val_accuracy: 0.8099\n",
      "Epoch 42/50\n",
      "50/50 [==============================] - 0s 7ms/step - loss: 0.4445 - accuracy: 0.8057 - val_loss: 0.4573 - val_accuracy: 0.8118\n",
      "Epoch 43/50\n",
      "50/50 [==============================] - 0s 7ms/step - loss: 0.4390 - accuracy: 0.8210 - val_loss: 0.4580 - val_accuracy: 0.8061\n",
      "Epoch 44/50\n",
      "50/50 [==============================] - 0s 7ms/step - loss: 0.4605 - accuracy: 0.7879 - val_loss: 0.4565 - val_accuracy: 0.8137\n",
      "Epoch 45/50\n",
      "50/50 [==============================] - 0s 7ms/step - loss: 0.4306 - accuracy: 0.8089 - val_loss: 0.4627 - val_accuracy: 0.8099\n",
      "Epoch 46/50\n",
      "50/50 [==============================] - 0s 7ms/step - loss: 0.4416 - accuracy: 0.8038 - val_loss: 0.4683 - val_accuracy: 0.8061\n",
      "Epoch 47/50\n",
      "50/50 [==============================] - 0s 7ms/step - loss: 0.4374 - accuracy: 0.8057 - val_loss: 0.4647 - val_accuracy: 0.8118\n",
      "Epoch 48/50\n",
      "50/50 [==============================] - 0s 7ms/step - loss: 0.4227 - accuracy: 0.8197 - val_loss: 0.4644 - val_accuracy: 0.8099\n",
      "Epoch 49/50\n",
      "50/50 [==============================] - 0s 7ms/step - loss: 0.4077 - accuracy: 0.8267 - val_loss: 0.4804 - val_accuracy: 0.8042\n",
      "Epoch 50/50\n",
      "50/50 [==============================] - 0s 7ms/step - loss: 0.4276 - accuracy: 0.8159 - val_loss: 0.4603 - val_accuracy: 0.8156\n"
     ]
    }
   ],
   "source": [
    "#training the moodel\n",
    "results = model.fit(x_train_scaled, y_train, epochs=EPOCHS, \n",
    "                    verbose=1, callbacks=[early_stopping],\n",
    "                   validation_data=(x_val_scaled, y_val))"
   ]
  },
  {
   "cell_type": "code",
   "execution_count": 573,
   "id": "cbaa8c24",
   "metadata": {},
   "outputs": [
    {
     "data": {
      "image/png": "[encoded data removed]",
      "text/plain": [
       "<Figure size 800x500 with 1 Axes>"
      ]
     },
     "metadata": {},
     "output_type": "display_data"
    }
   ],
   "source": [
    "pd.DataFrame(results.history).plot(figsize=(8, 5))\n",
    "plt.grid(True)\n",
    "plt.gca().set_ylim(0, 1)\n",
    "plt.show()"
   ]
  },
  {
   "cell_type": "code",
   "execution_count": 574,
   "id": "b5d12e66-df1d-410e-9b23-0c3a706f3bfd",
   "metadata": {},
   "outputs": [
    {
     "name": "stdout",
     "output_type": "stream",
     "text": [
      "29/29 [==============================] - 0s 5ms/step - loss: 0.4471 - accuracy: 0.8069\n",
      "Test accuracy: 0.8068812489509583\n"
     ]
    }
   ],
   "source": [
    "#evalute the model\n",
    "test_loss, test_acc = model.evaluate(x_test_scaled, Y_test)\n",
    "print('Test accuracy:', test_acc)"
   ]
  },
  {
   "cell_type": "code",
   "execution_count": 663,
   "id": "bd8a8ae3-55cd-4acb-9895-552ba2d958e0",
   "metadata": {},
   "outputs": [
    {
     "name": "stdout",
     "output_type": "stream",
     "text": [
      "29/29 [==============================] - 0s 1ms/step\n"
     ]
    }
   ],
   "source": [
    "# making prediction\n",
    "predictions = model.predict(X_test)"
   ]
  },
  {
   "cell_type": "code",
   "execution_count": 576,
   "id": "534c5f16-a448-4fb2-8ad1-042920963e45",
   "metadata": {},
   "outputs": [
    {
     "data": {
      "text/plain": [
       "<sklearn.metrics._plot.confusion_matrix.ConfusionMatrixDisplay at 0x49b9a3820>"
      ]
     },
     "execution_count": 576,
     "metadata": {},
     "output_type": "execute_result"
    },
    {
     "data": {
      "image/png": "[encoded data removed]",
      "text/plain": [
       "<Figure size 640x480 with 2 Axes>"
      ]
     },
     "metadata": {},
     "output_type": "display_data"
    }
   ],
   "source": [
    "predicted = tf.squeeze(predictions)\n",
    "predicted = np.array([1 if x >= 0.5 else 0 for x in predicted])\n",
    "actual = np.array(Y_test)\n",
    "conf_mat = confusion_matrix(actual, predicted)\n",
    "displ = ConfusionMatrixDisplay(confusion_matrix=conf_mat)\n",
    "displ.plot()"
   ]
  },
  {
   "cell_type": "markdown",
   "id": "6b10c1a7-538d-4abf-ae3c-e46ef872219f",
   "metadata": {},
   "source": [
    "# Explainability "
   ]
  },
  {
   "cell_type": "markdown",
   "id": "7d99dfc7-d271-4b1e-8974-e78ccb2680ef",
   "metadata": {},
   "source": [
    "## Explain tensorflow keras model with shap DeepExplainer"
   ]
  },
  {
   "cell_type": "code",
   "execution_count": 578,
   "id": "5e807ac3-11b8-4713-87c4-70d379861c39",
   "metadata": {},
   "outputs": [
    {
     "name": "stderr",
     "output_type": "stream",
     "text": [
      "Your TensorFlow version is newer than 2.4.0 and so graph support has been removed in eager mode and some static graphs may not be supported. See PR #1483 for discussion.\n"
     ]
    }
   ],
   "source": [
    "sample_size=500\n",
    "if sample_size>len(X_train.values):\n",
    "  sample_size=len(X_train.values)\n",
    "\n",
    "explainer = shap.DeepExplainer(model, X_train.values[:sample_size], y_train)"
   ]
  },
  {
   "cell_type": "code",
   "execution_count": 580,
   "id": "2dd27a9c-9382-4c09-b3dd-284aca48ba74",
   "metadata": {},
   "outputs": [
    {
     "name": "stderr",
     "output_type": "stream",
     "text": [
      "`tf.keras.backend.set_learning_phase` is deprecated and will be removed after 2020-10-11. To update it, simply pass a True/False value to the `training` argument of the `__call__` method of your layer or model.\n",
      "2024-02-20 12:35:40.755383: I tensorflow/core/grappler/optimizers/custom_graph_optimizer_registry.cc:114] Plugin optimizer for device_type GPU is enabled.\n"
     ]
    }
   ],
   "source": [
    "# Explain the SHAP values for the whole dataset\n",
    "# to test the SHAP explainer.\n",
    "shap_values = explainer.shap_values(X_train.values[:sample_size], ranked_outputs=None)"
   ]
  },
  {
   "cell_type": "code",
   "execution_count": 675,
   "id": "0f38f80a-89ba-41cb-9d71-ee663fcf11f0",
   "metadata": {},
   "outputs": [
    {
     "data": {
      "text/plain": [
       "[array([[-1.28761018e-02,  2.61684251e-03,  1.22101256e-03, ...,\n",
       "          8.43746180e-04, -1.53695641e-03,  6.51940797e-03],\n",
       "        [ 7.81806372e-03,  4.66133794e-03, -3.80936824e-02, ...,\n",
       "         -3.02560464e-03, -3.34495748e-03,  2.56811804e-03],\n",
       "        [ 4.50713374e-03, -5.79754077e-03,  1.47271063e-02, ...,\n",
       "          3.39945336e-03,  4.03275434e-03, -4.77008102e-03],\n",
       "        ...,\n",
       "        [-3.10847047e-03,  3.97476554e-03, -1.40036177e-02, ...,\n",
       "          1.44137791e-03,  7.17193168e-03,  2.29408732e-03],\n",
       "        [ 1.69399404e-03,  1.97411259e-03,  1.24843428e-02, ...,\n",
       "         -1.57582830e-03, -2.14419863e-03,  7.04625854e-05],\n",
       "        [-7.05904374e-03,  2.57816073e-03, -1.22835450e-02, ...,\n",
       "         -3.26953549e-03, -1.49948173e-03,  3.01212166e-03]])]"
      ]
     },
     "execution_count": 675,
     "metadata": {},
     "output_type": "execute_result"
    }
   ],
   "source": [
    "shap_values"
   ]
  },
  {
   "cell_type": "code",
   "execution_count": 684,
   "id": "66e4a2c7-bc1b-4411-a082-859380d313a8",
   "metadata": {},
   "outputs": [],
   "source": [
    "# #shap_values \n",
    "# shap.initjs()\n",
    "# shap.force_plot(explainer.expected_value[0].numpy(), shap_values[0], X_train, link=\"logit\")"
   ]
  },
  {
   "cell_type": "code",
   "execution_count": 634,
   "id": "e88173ca-747e-4a32-8d94-41afb57bef81",
   "metadata": {},
   "outputs": [],
   "source": [
    "def get_fetaure_importnace(shap_values, features):\n",
    "    \"Features is the  X_train.columns names\"\n",
    "    vals = np.abs(pd.DataFrame(shap_values[0]).values).mean(0)\n",
    "    shap_importance = pd.DataFrame(list(zip(features, vals)), columns=['col_name', 'feature_importance_vals'])\n",
    "    shap_importance.sort_values(by=['feature_importance_vals'], ascending=False, inplace=True)\n",
    "    shap_importance.loc[shap_importance['feature_importance_vals']>0]\n",
    "    return shap_importance"
   ]
  },
  {
   "cell_type": "code",
   "execution_count": 637,
   "id": "16ecb166-2221-4ac0-9099-859821b39fe6",
   "metadata": {},
   "outputs": [
    {
     "data": {
      "text/html": [
       "<div>\n",
       "<style scoped>\n",
       "    .dataframe tbody tr th:only-of-type {\n",
       "        vertical-align: middle;\n",
       "    }\n",
       "\n",
       "    .dataframe tbody tr th {\n",
       "        vertical-align: top;\n",
       "    }\n",
       "\n",
       "    .dataframe thead th {\n",
       "        text-align: right;\n",
       "    }\n",
       "</style>\n",
       "<table border=\"1\" class=\"dataframe\">\n",
       "  <thead>\n",
       "    <tr style=\"text-align: right;\">\n",
       "      <th></th>\n",
       "      <th>col_name</th>\n",
       "      <th>feature_importance_vals</th>\n",
       "    </tr>\n",
       "  </thead>\n",
       "  <tbody>\n",
       "    <tr>\n",
       "      <th>131</th>\n",
       "      <td>ESR1</td>\n",
       "      <td>0.084175</td>\n",
       "    </tr>\n",
       "    <tr>\n",
       "      <th>245</th>\n",
       "      <td>BEX1</td>\n",
       "      <td>0.031682</td>\n",
       "    </tr>\n",
       "    <tr>\n",
       "      <th>279</th>\n",
       "      <td>FOSB</td>\n",
       "      <td>0.029250</td>\n",
       "    </tr>\n",
       "    <tr>\n",
       "      <th>110</th>\n",
       "      <td>IGJ</td>\n",
       "      <td>0.029118</td>\n",
       "    </tr>\n",
       "    <tr>\n",
       "      <th>271</th>\n",
       "      <td>FABP7</td>\n",
       "      <td>0.027046</td>\n",
       "    </tr>\n",
       "    <tr>\n",
       "      <th>...</th>\n",
       "      <td>...</td>\n",
       "      <td>...</td>\n",
       "    </tr>\n",
       "    <tr>\n",
       "      <th>4</th>\n",
       "      <td>TAT</td>\n",
       "      <td>0.000288</td>\n",
       "    </tr>\n",
       "    <tr>\n",
       "      <th>241</th>\n",
       "      <td>CHGB</td>\n",
       "      <td>0.000264</td>\n",
       "    </tr>\n",
       "    <tr>\n",
       "      <th>152</th>\n",
       "      <td>FOLR1</td>\n",
       "      <td>0.000237</td>\n",
       "    </tr>\n",
       "    <tr>\n",
       "      <th>198</th>\n",
       "      <td>PVALB</td>\n",
       "      <td>0.000217</td>\n",
       "    </tr>\n",
       "    <tr>\n",
       "      <th>72</th>\n",
       "      <td>S100P</td>\n",
       "      <td>0.000185</td>\n",
       "    </tr>\n",
       "  </tbody>\n",
       "</table>\n",
       "<p>295 rows × 2 columns</p>\n",
       "</div>"
      ],
      "text/plain": [
       "    col_name  feature_importance_vals\n",
       "131     ESR1                 0.084175\n",
       "245     BEX1                 0.031682\n",
       "279     FOSB                 0.029250\n",
       "110      IGJ                 0.029118\n",
       "271    FABP7                 0.027046\n",
       "..       ...                      ...\n",
       "4        TAT                 0.000288\n",
       "241     CHGB                 0.000264\n",
       "152    FOLR1                 0.000237\n",
       "198    PVALB                 0.000217\n",
       "72     S100P                 0.000185\n",
       "\n",
       "[295 rows x 2 columns]"
      ]
     },
     "execution_count": 637,
     "metadata": {},
     "output_type": "execute_result"
    }
   ],
   "source": [
    "shap_importance = get_fetaure_importnace(shap_values, features=X_train.columns)\n",
    "shap_importance"
   ]
  },
  {
   "cell_type": "code",
   "execution_count": 657,
   "id": "41c6efe2-f29d-4829-84d1-f0e9b4ab3f21",
   "metadata": {},
   "outputs": [],
   "source": [
    "def plot_importance_features(Features, top=10, title=\" \"):\n",
    "    \" Features is a 2 colunm dataframe with features names and weights\"\n",
    "    \n",
    "    fig, ax = plt.subplots(figsize =(5, 5))\n",
    "    top_features = Features.iloc[:top]\n",
    "    # Horizontal Bar Plot\n",
    "    ax.barh(top_features['col_name'], top_features['feature_importance_vals'])\n",
    "    ax.set_yticks(top_features['col_name'])\n",
    "    ax.invert_yaxis()  # labels read top-to-bottom\n",
    "    ax.set_xlabel('Importance')\n",
    "    ax.set_title(title)\n",
    "    plot = plt.show()\n",
    "    return plot"
   ]
  },
  {
   "cell_type": "code",
   "execution_count": 659,
   "id": "c6fb3587-5339-48a8-bf6e-20209d2da352",
   "metadata": {},
   "outputs": [
    {
     "data": {
      "image/png": "[encoded data removed]",
      "text/plain": [
       "<Figure size 500x500 with 1 Axes>"
      ]
     },
     "metadata": {},
     "output_type": "display_data"
    }
   ],
   "source": [
    "plot_importance_features(Features=shap_importance, top=10, title=\"Shap importance features\")"
   ]
  },
  {
   "cell_type": "code",
   "execution_count": 676,
   "id": "def5d4d1-c1ea-44dc-97d9-a1ba1a475df2",
   "metadata": {},
   "outputs": [
    {
     "data": {
      "image/png": "[encoded data removed]",
      "text/plain": [
       "<Figure size 800x550 with 1 Axes>"
      ]
     },
     "metadata": {},
     "output_type": "display_data"
    }
   ],
   "source": [
    "# visualize the first prediction's explanation (use matplotlib=True to avoid Javascript)\n",
    "shap.summary_plot(shap_values[0], X_test, plot_type=\"bar\", max_display=10)"
   ]
  },
  {
   "cell_type": "code",
   "execution_count": 625,
   "id": "cf4d05e6-4b95-48ed-9de7-e196c935d2c2",
   "metadata": {},
   "outputs": [
    {
     "data": {
      "image/png": "[encoded data removed]",
      "text/plain": [
       "<Figure size 800x550 with 2 Axes>"
      ]
     },
     "metadata": {},
     "output_type": "display_data"
    }
   ],
   "source": [
    "shap.summary_plot(shap_values[0], features=X_train.values[:sample_size], feature_names=features, show=False, plot_type=\"dot\", max_display=10)"
   ]
  },
  {
   "cell_type": "markdown",
   "id": "e538840c-fe6f-48ae-b9fc-4abe4c2bcc46",
   "metadata": {},
   "source": [
    "## Explain tensorflow keras model with weights"
   ]
  },
  {
   "cell_type": "code",
   "execution_count": 653,
   "id": "4166c23b-06f5-42e0-a57e-7f6039197601",
   "metadata": {},
   "outputs": [],
   "source": [
    "def get_weights_importnace(model, features, num=0):\n",
    "    \"Features is the  X_train.columns names\"\n",
    "    vals_weights = np.abs(model.layers[num].get_weights()[num].T).mean(num)\n",
    "    weights_importance = pd.DataFrame(list(zip(features, vals_weights)), columns=['col_name', 'feature_importance_vals'])\n",
    "    weights_importance.sort_values(by=['feature_importance_vals'], ascending=False, inplace=True)\n",
    "    weights_importance.loc[weights_importance['feature_importance_vals']>0] \n",
    "    return weights_importance"
   ]
  },
  {
   "cell_type": "code",
   "execution_count": 654,
   "id": "d672d797-a68b-4f85-bed6-7d709574b2f6",
   "metadata": {},
   "outputs": [
    {
     "data": {
      "text/html": [
       "<div>\n",
       "<style scoped>\n",
       "    .dataframe tbody tr th:only-of-type {\n",
       "        vertical-align: middle;\n",
       "    }\n",
       "\n",
       "    .dataframe tbody tr th {\n",
       "        vertical-align: top;\n",
       "    }\n",
       "\n",
       "    .dataframe thead th {\n",
       "        text-align: right;\n",
       "    }\n",
       "</style>\n",
       "<table border=\"1\" class=\"dataframe\">\n",
       "  <thead>\n",
       "    <tr style=\"text-align: right;\">\n",
       "      <th></th>\n",
       "      <th>col_name</th>\n",
       "      <th>feature_importance_vals</th>\n",
       "    </tr>\n",
       "  </thead>\n",
       "  <tbody>\n",
       "    <tr>\n",
       "      <th>131</th>\n",
       "      <td>ESR1</td>\n",
       "      <td>0.190406</td>\n",
       "    </tr>\n",
       "    <tr>\n",
       "      <th>16</th>\n",
       "      <td>AGTR1</td>\n",
       "      <td>0.136717</td>\n",
       "    </tr>\n",
       "    <tr>\n",
       "      <th>182</th>\n",
       "      <td>DCD</td>\n",
       "      <td>0.136054</td>\n",
       "    </tr>\n",
       "    <tr>\n",
       "      <th>121</th>\n",
       "      <td>KLK5</td>\n",
       "      <td>0.135646</td>\n",
       "    </tr>\n",
       "    <tr>\n",
       "      <th>110</th>\n",
       "      <td>IGJ</td>\n",
       "      <td>0.134122</td>\n",
       "    </tr>\n",
       "    <tr>\n",
       "      <th>...</th>\n",
       "      <td>...</td>\n",
       "      <td>...</td>\n",
       "    </tr>\n",
       "    <tr>\n",
       "      <th>212</th>\n",
       "      <td>PRODH</td>\n",
       "      <td>0.045159</td>\n",
       "    </tr>\n",
       "    <tr>\n",
       "      <th>194</th>\n",
       "      <td>AKR1C2</td>\n",
       "      <td>0.044727</td>\n",
       "    </tr>\n",
       "    <tr>\n",
       "      <th>176</th>\n",
       "      <td>ACTG2</td>\n",
       "      <td>0.044115</td>\n",
       "    </tr>\n",
       "    <tr>\n",
       "      <th>91</th>\n",
       "      <td>SLPI</td>\n",
       "      <td>0.042295</td>\n",
       "    </tr>\n",
       "    <tr>\n",
       "      <th>198</th>\n",
       "      <td>PVALB</td>\n",
       "      <td>0.033221</td>\n",
       "    </tr>\n",
       "  </tbody>\n",
       "</table>\n",
       "<p>295 rows × 2 columns</p>\n",
       "</div>"
      ],
      "text/plain": [
       "    col_name  feature_importance_vals\n",
       "131     ESR1                 0.190406\n",
       "16     AGTR1                 0.136717\n",
       "182      DCD                 0.136054\n",
       "121     KLK5                 0.135646\n",
       "110      IGJ                 0.134122\n",
       "..       ...                      ...\n",
       "212    PRODH                 0.045159\n",
       "194   AKR1C2                 0.044727\n",
       "176    ACTG2                 0.044115\n",
       "91      SLPI                 0.042295\n",
       "198    PVALB                 0.033221\n",
       "\n",
       "[295 rows x 2 columns]"
      ]
     },
     "execution_count": 654,
     "metadata": {},
     "output_type": "execute_result"
    }
   ],
   "source": [
    "weights_importance =  get_weights_importnace(model, features= X_train.columns)\n",
    "weights_importance"
   ]
  },
  {
   "cell_type": "code",
   "execution_count": 665,
   "id": "b0ace3b0-f211-4cc1-aeed-b137f44daa83",
   "metadata": {},
   "outputs": [
    {
     "data": {
      "image/png": "[encoded data removed]",
      "text/plain": [
       "<Figure size 500x500 with 1 Axes>"
      ]
     },
     "metadata": {},
     "output_type": "display_data"
    }
   ],
   "source": [
    "plot_importance_features(Features=weights_importance, top=10, title=\"Weights importance features\")"
   ]
  },
  {
   "cell_type": "markdown",
   "id": "e4399013-475c-4873-96dd-38f91da32a9c",
   "metadata": {},
   "source": [
    "# Hyperparameter tunning with GridSearchCV using scikeras.wrappers"
   ]
  },
  {
   "cell_type": "code",
   "execution_count": 116,
   "id": "ceb10404",
   "metadata": {},
   "outputs": [],
   "source": [
    "\n",
    "def get_model(nb_hidden, nb_neurons):\n",
    "    print(f\"##  {nb_hidden}-{nb_neurons}   ##\")\n",
    "    model = keras.models.Sequential()\n",
    "    model.add(Dense(64, input_shape=x_train_scaled.shape[1:], activation = 'relu', name='dense_layer'))\n",
    "    model.add(keras.layers.Dense(2 * nb_neurons, activation=\"relu\"))    \n",
    "    if nb_hidden > 1 :\n",
    "        for layer in range(2, nb_hidden):\n",
    "            model.add(keras.layers.Dense(nb_neurons, activation=\"relu\"))\n",
    "    model.add(keras.layers.Dense(1, activation=\"sigmoid\" ))\n",
    "\n",
    "    model.compile(loss=\"binary_crossentropy\", optimizer=\"adam\", metrics=[\"accuracy\"])\n",
    "\n",
    "    return model\n"
   ]
  },
  {
   "cell_type": "code",
   "execution_count": 114,
   "id": "b9a6028a-b196-4ab7-8bfe-b6848baaf6a4",
   "metadata": {},
   "outputs": [],
   "source": [
    "#!pip install scikeras\n",
    "from scikeras.wrappers import KerasClassifier "
   ]
  },
  {
   "cell_type": "code",
   "execution_count": 168,
   "id": "07d6f119-b282-4ad6-bba0-f05a8fda7c5c",
   "metadata": {},
   "outputs": [],
   "source": [
    "keras_classifier = KerasClassifier(get_model, nb_hidden=1, nb_neurons=1)\n",
    "\n",
    "\n",
    "param_distribs = {\n",
    "\"nb_hidden\": [1,2,3,6,8],\n",
    "\"nb_neurons\": [3,5,8,10],\n",
    "}\n",
    "\n",
    "\n",
    "\n",
    "early_stopping = keras.callbacks.EarlyStopping(patience=10, restore_best_weights=True)\n",
    "\n",
    "search_cv = GridSearchCV(keras_classifier, param_distribs,  cv=2 )\n",
    "search_cv.fit(x_train_scaled, y_train, epochs=20,  callbacks=[early_stopping], validation_data=[x_val_scaled, y_val],  )\n",
    "\n",
    "print(f\"search_cv.best_params_ = {search_cv.best_params_}\")\n",
    "\n",
    "print(f\"search_cv.best_score_ = {search_cv.best_score_}\") "
   ]
  },
  {
   "cell_type": "code",
   "execution_count": 169,
   "id": "43eb6a14-a448-40fd-be5c-44d61516f5a1",
   "metadata": {},
   "outputs": [
    {
     "name": "stdout",
     "output_type": "stream",
     "text": [
      "search_cv.best_params_ = {'nb_hidden': 1, 'nb_neurons': 10}\n",
      "search_cv.best_score_ = 0.810161475499713\n"
     ]
    }
   ],
   "source": [
    "print(f\"search_cv.best_params_ = {search_cv.best_params_}\")\n",
    "\n",
    "print(f\"search_cv.best_score_ = {search_cv.best_score_}\") "
   ]
  }
 ],
 "metadata": {
  "kernelspec": {
   "display_name": "Python 3 (ipykernel)",
   "language": "python",
   "name": "python3"
  },
  "language_info": {
   "codemirror_mode": {
    "name": "ipython",
    "version": 3
   },
   "file_extension": ".py",
   "mimetype": "text/x-python",
   "name": "python",
   "nbconvert_exporter": "python",
   "pygments_lexer": "ipython3",
   "version": "3.8.18"
  },
  "widgets": {
   "application/vnd.jupyter.widget-state+json": {
    "state": {
     "069650383bbb4b64904356a492246abb": {
      "model_module": "@jupyter-widgets/base",
      "model_module_version": "2.0.0",
      "model_name": "LayoutModel",
      "state": {}
     },
     "12b3850d1c364b4388daf8d1a83edc99": {
      "model_module": "@jupyter-widgets/base",
      "model_module_version": "2.0.0",
      "model_name": "LayoutModel",
      "state": {}
     },
     "18ceabdaa01c4841adef537d063f3069": {
      "model_module": "@jupyter-widgets/controls",
      "model_module_version": "2.0.0",
      "model_name": "HTMLStyleModel",
      "state": {
       "description_width": "",
       "font_size": null,
       "text_color": null
      }
     },
     "18f8bfd0e32342c982464a63ae916f7b": {
      "model_module": "@jupyter-widgets/controls",
      "model_module_version": "2.0.0",
      "model_name": "ProgressStyleModel",
      "state": {
       "description_width": ""
      }
     },
     "1a93dfac7b624771a3b7e0174fb7cc91": {
      "model_module": "@jupyter-widgets/controls",
      "model_module_version": "2.0.0",
      "model_name": "HTMLStyleModel",
      "state": {
       "description_width": "",
       "font_size": null,
       "text_color": null
      }
     },
     "1b83e59ac6f9444cb6d3fe33a1a55ea6": {
      "model_module": "@jupyter-widgets/controls",
      "model_module_version": "2.0.0",
      "model_name": "HBoxModel",
      "state": {
       "children": [
        "IPY_MODEL_24c96344c3df49918c81065281d03638",
        "IPY_MODEL_e37a120838234dcc8a24599655765726",
        "IPY_MODEL_6dc3babf13fc4628a810d9f208e3c5e7"
       ],
       "layout": "IPY_MODEL_f866c9c66eb94f478d7f9a827cb1371f"
      }
     },
     "1ebd67f33fa547ff8c86548fdb3dadcb": {
      "model_module": "@jupyter-widgets/controls",
      "model_module_version": "2.0.0",
      "model_name": "FloatProgressModel",
      "state": {
       "bar_style": "danger",
       "layout": "IPY_MODEL_db4cff440c4b4b5eb897c5729c398d52",
       "max": 500,
       "style": "IPY_MODEL_5ece7741124e42c5b4f8af50c6f3d982"
      }
     },
     "1fab51195e714531ba97349fa72cae7c": {
      "model_module": "@jupyter-widgets/controls",
      "model_module_version": "2.0.0",
      "model_name": "FloatProgressModel",
      "state": {
       "bar_style": "danger",
       "layout": "IPY_MODEL_e6608986d27344899cedc5de2631b8b8",
       "max": 299,
       "style": "IPY_MODEL_18f8bfd0e32342c982464a63ae916f7b"
      }
     },
     "24c96344c3df49918c81065281d03638": {
      "model_module": "@jupyter-widgets/controls",
      "model_module_version": "2.0.0",
      "model_name": "HTMLModel",
      "state": {
       "layout": "IPY_MODEL_fa5d0c0131bf4b1aa7e0f3ade0d0b48f",
       "style": "IPY_MODEL_78f1aed8f7354ddb92aee92403f15e58",
       "value": "  0%"
      }
     },
     "25d1fd5a4d93452c9d0a4419649dd51f": {
      "model_module": "@jupyter-widgets/controls",
      "model_module_version": "2.0.0",
      "model_name": "HTMLStyleModel",
      "state": {
       "description_width": "",
       "font_size": null,
       "text_color": null
      }
     },
     "27d0decb503d42c5a11849bac608ca5a": {
      "model_module": "@jupyter-widgets/base",
      "model_module_version": "2.0.0",
      "model_name": "LayoutModel",
      "state": {}
     },
     "2a3b040b2b5c4208a9a192fe13b9c0b8": {
      "model_module": "@jupyter-widgets/controls",
      "model_module_version": "2.0.0",
      "model_name": "HTMLStyleModel",
      "state": {
       "description_width": "",
       "font_size": null,
       "text_color": null
      }
     },
     "33a078c85be94696bf0ba378dfcac725": {
      "model_module": "@jupyter-widgets/controls",
      "model_module_version": "2.0.0",
      "model_name": "HTMLModel",
      "state": {
       "layout": "IPY_MODEL_83e6cff4fd244e908237056c50422b00",
       "style": "IPY_MODEL_2a3b040b2b5c4208a9a192fe13b9c0b8",
       "value": " 0/500 [00:03&lt;?, ?it/s]"
      }
     },
     "34fa59191fb94a51a2b4772b02a1f0e8": {
      "model_module": "@jupyter-widgets/base",
      "model_module_version": "2.0.0",
      "model_name": "LayoutModel",
      "state": {}
     },
     "351c88a5948d404db5e13127b0e41e19": {
      "model_module": "@jupyter-widgets/controls",
      "model_module_version": "2.0.0",
      "model_name": "FloatProgressModel",
      "state": {
       "bar_style": "danger",
       "layout": "IPY_MODEL_37120fa48ed7420697ec8d7c02998679",
       "max": 299,
       "style": "IPY_MODEL_8d6510e2b080495ca9f7dd7b499cea2e"
      }
     },
     "37120fa48ed7420697ec8d7c02998679": {
      "model_module": "@jupyter-widgets/base",
      "model_module_version": "2.0.0",
      "model_name": "LayoutModel",
      "state": {}
     },
     "37c2ea63d17f4278a2c24e405200f652": {
      "model_module": "@jupyter-widgets/base",
      "model_module_version": "2.0.0",
      "model_name": "LayoutModel",
      "state": {}
     },
     "4a98e572fb3c4243a49438e913980f7c": {
      "model_module": "@jupyter-widgets/controls",
      "model_module_version": "2.0.0",
      "model_name": "HTMLModel",
      "state": {
       "layout": "IPY_MODEL_85e2d958b1f6455c9d9cf2b10b1b5807",
       "style": "IPY_MODEL_18ceabdaa01c4841adef537d063f3069",
       "value": " 0/299 [00:01&lt;?, ?it/s]"
      }
     },
     "4cb8df980fde4e598afc711f2f8af1cb": {
      "model_module": "@jupyter-widgets/base",
      "model_module_version": "2.0.0",
      "model_name": "LayoutModel",
      "state": {}
     },
     "5ece7741124e42c5b4f8af50c6f3d982": {
      "model_module": "@jupyter-widgets/controls",
      "model_module_version": "2.0.0",
      "model_name": "ProgressStyleModel",
      "state": {
       "description_width": ""
      }
     },
     "65648d59d39f4218b6a19a3631e9c494": {
      "model_module": "@jupyter-widgets/controls",
      "model_module_version": "2.0.0",
      "model_name": "HTMLStyleModel",
      "state": {
       "description_width": "",
       "font_size": null,
       "text_color": null
      }
     },
     "69ffe5453f02459fb6eaa77f9b76e2c5": {
      "model_module": "@jupyter-widgets/controls",
      "model_module_version": "2.0.0",
      "model_name": "HTMLModel",
      "state": {
       "layout": "IPY_MODEL_069650383bbb4b64904356a492246abb",
       "style": "IPY_MODEL_65648d59d39f4218b6a19a3631e9c494",
       "value": "  0%"
      }
     },
     "6dc3babf13fc4628a810d9f208e3c5e7": {
      "model_module": "@jupyter-widgets/controls",
      "model_module_version": "2.0.0",
      "model_name": "HTMLModel",
      "state": {
       "layout": "IPY_MODEL_34fa59191fb94a51a2b4772b02a1f0e8",
       "style": "IPY_MODEL_d87312d9020049379176ca37cc91da30",
       "value": " 0/500 [00:03&lt;?, ?it/s]"
      }
     },
     "78f1aed8f7354ddb92aee92403f15e58": {
      "model_module": "@jupyter-widgets/controls",
      "model_module_version": "2.0.0",
      "model_name": "HTMLStyleModel",
      "state": {
       "description_width": "",
       "font_size": null,
       "text_color": null
      }
     },
     "793e31bcf81c428786bb4871b430bf07": {
      "model_module": "@jupyter-widgets/controls",
      "model_module_version": "2.0.0",
      "model_name": "HBoxModel",
      "state": {
       "children": [
        "IPY_MODEL_a4bbea72825246ef9610d9cfc8807e72",
        "IPY_MODEL_351c88a5948d404db5e13127b0e41e19",
        "IPY_MODEL_bec333dfe8354c41bd0dad55132b84ce"
       ],
       "layout": "IPY_MODEL_9d31b201f17b427e8c7a2baa9339e394"
      }
     },
     "7c4445c86f034c488676168341f306e9": {
      "model_module": "@jupyter-widgets/controls",
      "model_module_version": "2.0.0",
      "model_name": "ProgressStyleModel",
      "state": {
       "description_width": ""
      }
     },
     "83e6cff4fd244e908237056c50422b00": {
      "model_module": "@jupyter-widgets/base",
      "model_module_version": "2.0.0",
      "model_name": "LayoutModel",
      "state": {}
     },
     "85e2d958b1f6455c9d9cf2b10b1b5807": {
      "model_module": "@jupyter-widgets/base",
      "model_module_version": "2.0.0",
      "model_name": "LayoutModel",
      "state": {}
     },
     "8d6510e2b080495ca9f7dd7b499cea2e": {
      "model_module": "@jupyter-widgets/controls",
      "model_module_version": "2.0.0",
      "model_name": "ProgressStyleModel",
      "state": {
       "description_width": ""
      }
     },
     "8e45876c39c744238d0f372989d314d5": {
      "model_module": "@jupyter-widgets/controls",
      "model_module_version": "2.0.0",
      "model_name": "HBoxModel",
      "state": {
       "children": [
        "IPY_MODEL_c80a5a05e9a9434cb06ec3fce5afb16e",
        "IPY_MODEL_1ebd67f33fa547ff8c86548fdb3dadcb",
        "IPY_MODEL_33a078c85be94696bf0ba378dfcac725"
       ],
       "layout": "IPY_MODEL_4cb8df980fde4e598afc711f2f8af1cb"
      }
     },
     "924030d5251244fd8e751bcfa0d82576": {
      "model_module": "@jupyter-widgets/base",
      "model_module_version": "2.0.0",
      "model_name": "LayoutModel",
      "state": {}
     },
     "9785ac93839e4e548784e483e2f8ea17": {
      "model_module": "@jupyter-widgets/base",
      "model_module_version": "2.0.0",
      "model_name": "LayoutModel",
      "state": {}
     },
     "9d31b201f17b427e8c7a2baa9339e394": {
      "model_module": "@jupyter-widgets/base",
      "model_module_version": "2.0.0",
      "model_name": "LayoutModel",
      "state": {}
     },
     "a4bbea72825246ef9610d9cfc8807e72": {
      "model_module": "@jupyter-widgets/controls",
      "model_module_version": "2.0.0",
      "model_name": "HTMLModel",
      "state": {
       "layout": "IPY_MODEL_27d0decb503d42c5a11849bac608ca5a",
       "style": "IPY_MODEL_1a93dfac7b624771a3b7e0174fb7cc91",
       "value": "  0%"
      }
     },
     "ab1bd7bf092d4fc6be232efe74b707b2": {
      "model_module": "@jupyter-widgets/controls",
      "model_module_version": "2.0.0",
      "model_name": "HBoxModel",
      "state": {
       "children": [
        "IPY_MODEL_69ffe5453f02459fb6eaa77f9b76e2c5",
        "IPY_MODEL_1fab51195e714531ba97349fa72cae7c",
        "IPY_MODEL_4a98e572fb3c4243a49438e913980f7c"
       ],
       "layout": "IPY_MODEL_37c2ea63d17f4278a2c24e405200f652"
      }
     },
     "be5d905f90d14103907c25cb6e7d49b9": {
      "model_module": "@jupyter-widgets/controls",
      "model_module_version": "2.0.0",
      "model_name": "HTMLStyleModel",
      "state": {
       "description_width": "",
       "font_size": null,
       "text_color": null
      }
     },
     "bec333dfe8354c41bd0dad55132b84ce": {
      "model_module": "@jupyter-widgets/controls",
      "model_module_version": "2.0.0",
      "model_name": "HTMLModel",
      "state": {
       "layout": "IPY_MODEL_924030d5251244fd8e751bcfa0d82576",
       "style": "IPY_MODEL_be5d905f90d14103907c25cb6e7d49b9",
       "value": " 0/299 [00:01&lt;?, ?it/s]"
      }
     },
     "c80a5a05e9a9434cb06ec3fce5afb16e": {
      "model_module": "@jupyter-widgets/controls",
      "model_module_version": "2.0.0",
      "model_name": "HTMLModel",
      "state": {
       "layout": "IPY_MODEL_9785ac93839e4e548784e483e2f8ea17",
       "style": "IPY_MODEL_25d1fd5a4d93452c9d0a4419649dd51f",
       "value": "  0%"
      }
     },
     "d87312d9020049379176ca37cc91da30": {
      "model_module": "@jupyter-widgets/controls",
      "model_module_version": "2.0.0",
      "model_name": "HTMLStyleModel",
      "state": {
       "description_width": "",
       "font_size": null,
       "text_color": null
      }
     },
     "db4cff440c4b4b5eb897c5729c398d52": {
      "model_module": "@jupyter-widgets/base",
      "model_module_version": "2.0.0",
      "model_name": "LayoutModel",
      "state": {}
     },
     "e37a120838234dcc8a24599655765726": {
      "model_module": "@jupyter-widgets/controls",
      "model_module_version": "2.0.0",
      "model_name": "FloatProgressModel",
      "state": {
       "bar_style": "danger",
       "layout": "IPY_MODEL_12b3850d1c364b4388daf8d1a83edc99",
       "max": 500,
       "style": "IPY_MODEL_7c4445c86f034c488676168341f306e9"
      }
     },
     "e6608986d27344899cedc5de2631b8b8": {
      "model_module": "@jupyter-widgets/base",
      "model_module_version": "2.0.0",
      "model_name": "LayoutModel",
      "state": {}
     },
     "f866c9c66eb94f478d7f9a827cb1371f": {
      "model_module": "@jupyter-widgets/base",
      "model_module_version": "2.0.0",
      "model_name": "LayoutModel",
      "state": {}
     },
     "fa5d0c0131bf4b1aa7e0f3ade0d0b48f": {
      "model_module": "@jupyter-widgets/base",
      "model_module_version": "2.0.0",
      "model_name": "LayoutModel",
      "state": {}
     }
    },
    "version_major": 2,
    "version_minor": 0
   }
  }
 },
 "nbformat": 4,
 "nbformat_minor": 5
}
