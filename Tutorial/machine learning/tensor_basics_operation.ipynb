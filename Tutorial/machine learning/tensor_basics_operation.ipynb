{
  "nbformat": 4,
  "nbformat_minor": 0,
  "metadata": {
    "colab": {
      "provenance": [],
      "include_colab_link": true
    },
    "kernelspec": {
      "name": "python3",
      "display_name": "Python 3"
    },
    "language_info": {
      "name": "python"
    }
  },
  "cells": [
    {
      "cell_type": "markdown",
      "metadata": {
        "id": "view-in-github",
        "colab_type": "text"
      },
      "source": [
        "<a href=\"https://colab.research.google.com/github/LamineGith/PyTorch/blob/main/tensor_basics_operation.ipynb\" target=\"_parent\"><img src=\"https://colab.research.google.com/assets/colab-badge.svg\" alt=\"Open In Colab\"/></a>"
      ]
    },
    {
      "cell_type": "markdown",
      "metadata": {
        "id": "NCYsbCuZ5ZcD"
      },
      "source": [
        "**PyTorch tensor**\n",
        "\n",
        "A tensor is a data structure or data container we use in PyTorch for carrying arrays of numbers.\n",
        "\n",
        "**a. Creating a tensor**"
      ]
    },
    {
      "cell_type": "code",
      "source": [
        "pip install torch"
      ],
      "metadata": {
        "id": "4QDcgyo1p3E1",
        "colab": {
          "base_uri": "https://localhost:8080/"
        },
        "outputId": "485b603e-f46f-4dc8-94c2-b2756f63f4ef"
      },
      "execution_count": 1,
      "outputs": [
        {
          "output_type": "stream",
          "name": "stdout",
          "text": [
            "Looking in indexes: https://pypi.org/simple, https://us-python.pkg.dev/colab-wheels/public/simple/\n",
            "Requirement already satisfied: torch in /usr/local/lib/python3.8/dist-packages (1.13.0+cu116)\n",
            "Requirement already satisfied: typing-extensions in /usr/local/lib/python3.8/dist-packages (from torch) (4.4.0)\n"
          ]
        }
      ]
    },
    {
      "cell_type": "code",
      "metadata": {
        "id": "CuV5OrPJ8aTG"
      },
      "source": [
        "import torch\n",
        "import numpy as np"
      ],
      "execution_count": 2,
      "outputs": []
    },
    {
      "cell_type": "code",
      "source": [
        "# Construct a tensor from an array\n",
        "array = [[1, 2], [7, 4], [5, 6]]\n",
        "tensor0 = torch.tensor(array)\n",
        "print(tensor0)\n",
        "print(\"The data structure type of tensor0: \", type(tensor0))\n",
        "print(\"The data type of tensor0: \", tensor0.dtype)\n",
        "print(\"The shape of tensor0: \", tensor0.shape)"
      ],
      "metadata": {
        "id": "W2a2Pv03VC6T",
        "colab": {
          "base_uri": "https://localhost:8080/"
        },
        "outputId": "fad54eb3-9595-496f-d222-3b442036b50b"
      },
      "execution_count": 3,
      "outputs": [
        {
          "output_type": "stream",
          "name": "stdout",
          "text": [
            "tensor([[1, 2],\n",
            "        [7, 4],\n",
            "        [5, 6]])\n",
            "The data structure type of tensor0:  <class 'torch.Tensor'>\n",
            "The data type of tensor0:  torch.int64\n",
            "The shape of tensor0:  torch.Size([3, 2])\n"
          ]
        }
      ]
    },
    {
      "cell_type": "code",
      "metadata": {
        "id": "RJbcImRI8ccN",
        "colab": {
          "base_uri": "https://localhost:8080/"
        },
        "outputId": "6001f65e-e8e6-45d9-943a-336340d6d98d"
      },
      "source": [
        "# Construct a tensor from a numpy array\n",
        "np_array = np.array([[1, 2], [7, 4], [5, 6]])\n",
        "tensor1 = torch.tensor(np_array)\n",
        "print(tensor1)"
      ],
      "execution_count": 4,
      "outputs": [
        {
          "output_type": "stream",
          "name": "stdout",
          "text": [
            "tensor([[1, 2],\n",
            "        [7, 4],\n",
            "        [5, 6]])\n"
          ]
        }
      ]
    },
    {
      "cell_type": "markdown",
      "metadata": {
        "id": "0aLWNPD36Xhk"
      },
      "source": [
        "**b. Common Methods: Slicing and Concatenation**\n",
        "\n",
        "*Slicing*"
      ]
    },
    {
      "cell_type": "code",
      "source": [
        "tensorA = torch.tensor([[1, 1, 1], [2, 2, 2]])\n",
        "tensorB = torch.tensor([[3, 3, 3], [4, 4, 4]])\n",
        "print(tensorA)\n",
        "print(tensorB)"
      ],
      "metadata": {
        "id": "Ih8oB57hsDaT",
        "colab": {
          "base_uri": "https://localhost:8080/"
        },
        "outputId": "ead0bde5-11d1-4469-e06b-d2be61eb6de4"
      },
      "execution_count": 9,
      "outputs": [
        {
          "output_type": "stream",
          "name": "stdout",
          "text": [
            "tensor([[1, 1, 1],\n",
            "        [2, 2, 2]])\n",
            "tensor([[3, 3, 3],\n",
            "        [4, 4, 4]])\n"
          ]
        }
      ]
    },
    {
      "cell_type": "code",
      "metadata": {
        "id": "YsXfH05t9eY8",
        "colab": {
          "base_uri": "https://localhost:8080/"
        },
        "outputId": "4c408c67-4a12-4d85-cb56-8fb803a9b20e"
      },
      "source": [
        "# Slicing is all the same as numpy arrays\n",
        "print('Slicing the first two rows of tensorA (index one inclusive index two exclusive): ')\n",
        "print(tensorA[:2])\n",
        "print('Slicing the first two columns of tensorA (take all rows, then slice columns): ')\n",
        "print(tensorB[:, :2])"
      ],
      "execution_count": 11,
      "outputs": [
        {
          "output_type": "stream",
          "name": "stdout",
          "text": [
            "Slicing the first two rows of tensorA (index one inclusive index two exclusive): \n",
            "tensor([[1, 1, 1],\n",
            "        [2, 2, 2]])\n",
            "Slicing the first two columns of tensorA (take all rows, then slice columns): \n",
            "tensor([[3, 3],\n",
            "        [4, 4]])\n"
          ]
        }
      ]
    },
    {
      "cell_type": "markdown",
      "source": [
        "*Concatenation*"
      ],
      "metadata": {
        "id": "Hn4NdJvuciFW"
      }
    },
    {
      "cell_type": "code",
      "metadata": {
        "id": "WLUhrXYoFn53",
        "colab": {
          "base_uri": "https://localhost:8080/"
        },
        "outputId": "e5b5a42e-a61f-40d2-952e-bc38678fede6"
      },
      "source": [
        "print('Vertically concatenate tensorA and tensorB: (default: dim=0)')\n",
        "concat_v = torch.cat([tensorA, tensorB])\n",
        "print(concat_v)"
      ],
      "execution_count": 12,
      "outputs": [
        {
          "output_type": "stream",
          "name": "stdout",
          "text": [
            "Vertically concatenate tensorA and tensorB: (default: dim=0)\n",
            "tensor([[1, 1, 1],\n",
            "        [2, 2, 2],\n",
            "        [3, 3, 3],\n",
            "        [4, 4, 4]])\n"
          ]
        }
      ]
    },
    {
      "cell_type": "code",
      "metadata": {
        "id": "FzU279m9GbEj",
        "colab": {
          "base_uri": "https://localhost:8080/"
        },
        "outputId": "7e61b680-9fe3-4883-e958-1e12368494cc"
      },
      "source": [
        "print('Horizontally concatenate tensorA and tensorB: (dim=1)')\n",
        "concat_h = torch.cat([tensorA, tensorB], dim=1) \n",
        "print(concat_h)"
      ],
      "execution_count": 15,
      "outputs": [
        {
          "output_type": "stream",
          "name": "stdout",
          "text": [
            "Horizontally concatenate tensorA and tensorB: (dim=1)\n",
            "tensor([[1, 1, 1, 3, 3, 3],\n",
            "        [2, 2, 2, 4, 4, 4]])\n"
          ]
        }
      ]
    }
  ]
}
