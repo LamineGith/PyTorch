{
  "nbformat": 4,
  "nbformat_minor": 0,
  "metadata": {
    "colab": {
      "provenance": [],
      "include_colab_link": true
    },
    "kernelspec": {
      "name": "python3",
      "display_name": "Python 3"
    },
    "accelerator": "GPU",
    "gpuClass": "standard",
    "widgets": {
      "application/vnd.jupyter.widget-state+json": {
        "c9568d2c64014e04baab8950b37cbb14": {
          "model_module": "@jupyter-widgets/controls",
          "model_name": "HBoxModel",
          "model_module_version": "1.5.0",
          "state": {
            "_dom_classes": [],
            "_model_module": "@jupyter-widgets/controls",
            "_model_module_version": "1.5.0",
            "_model_name": "HBoxModel",
            "_view_count": null,
            "_view_module": "@jupyter-widgets/controls",
            "_view_module_version": "1.5.0",
            "_view_name": "HBoxView",
            "box_style": "",
            "children": [
              "IPY_MODEL_d876fb5aec2146bea5d4913638af7cdf",
              "IPY_MODEL_573afe5f34224160a1f4061c316bac63",
              "IPY_MODEL_6fad398a5fd0487088a12812037bfb34"
            ],
            "layout": "IPY_MODEL_9aa61c55120e428691fddb8f5803c445"
          }
        },
        "d876fb5aec2146bea5d4913638af7cdf": {
          "model_module": "@jupyter-widgets/controls",
          "model_name": "HTMLModel",
          "model_module_version": "1.5.0",
          "state": {
            "_dom_classes": [],
            "_model_module": "@jupyter-widgets/controls",
            "_model_module_version": "1.5.0",
            "_model_name": "HTMLModel",
            "_view_count": null,
            "_view_module": "@jupyter-widgets/controls",
            "_view_module_version": "1.5.0",
            "_view_name": "HTMLView",
            "description": "",
            "description_tooltip": null,
            "layout": "IPY_MODEL_e1b8b2a2a3d341a99f4fde4e5bab1f2d",
            "placeholder": "​",
            "style": "IPY_MODEL_8f993f42cd8f443fb09accd3f36bec6c",
            "value": "100%"
          }
        },
        "573afe5f34224160a1f4061c316bac63": {
          "model_module": "@jupyter-widgets/controls",
          "model_name": "FloatProgressModel",
          "model_module_version": "1.5.0",
          "state": {
            "_dom_classes": [],
            "_model_module": "@jupyter-widgets/controls",
            "_model_module_version": "1.5.0",
            "_model_name": "FloatProgressModel",
            "_view_count": null,
            "_view_module": "@jupyter-widgets/controls",
            "_view_module_version": "1.5.0",
            "_view_name": "ProgressView",
            "bar_style": "success",
            "description": "",
            "description_tooltip": null,
            "layout": "IPY_MODEL_5935f04727af4c8eaf2072bd45ce9901",
            "max": 170498071,
            "min": 0,
            "orientation": "horizontal",
            "style": "IPY_MODEL_f81902cc6e624e4b9f84aabc221dbe9e",
            "value": 170498071
          }
        },
        "6fad398a5fd0487088a12812037bfb34": {
          "model_module": "@jupyter-widgets/controls",
          "model_name": "HTMLModel",
          "model_module_version": "1.5.0",
          "state": {
            "_dom_classes": [],
            "_model_module": "@jupyter-widgets/controls",
            "_model_module_version": "1.5.0",
            "_model_name": "HTMLModel",
            "_view_count": null,
            "_view_module": "@jupyter-widgets/controls",
            "_view_module_version": "1.5.0",
            "_view_name": "HTMLView",
            "description": "",
            "description_tooltip": null,
            "layout": "IPY_MODEL_7750916e695246f6a57f08347acf153c",
            "placeholder": "​",
            "style": "IPY_MODEL_22c0582376e14948b594b8c666c62e57",
            "value": " 170498071/170498071 [00:01&lt;00:00, 83145960.52it/s]"
          }
        },
        "9aa61c55120e428691fddb8f5803c445": {
          "model_module": "@jupyter-widgets/base",
          "model_name": "LayoutModel",
          "model_module_version": "1.2.0",
          "state": {
            "_model_module": "@jupyter-widgets/base",
            "_model_module_version": "1.2.0",
            "_model_name": "LayoutModel",
            "_view_count": null,
            "_view_module": "@jupyter-widgets/base",
            "_view_module_version": "1.2.0",
            "_view_name": "LayoutView",
            "align_content": null,
            "align_items": null,
            "align_self": null,
            "border": null,
            "bottom": null,
            "display": null,
            "flex": null,
            "flex_flow": null,
            "grid_area": null,
            "grid_auto_columns": null,
            "grid_auto_flow": null,
            "grid_auto_rows": null,
            "grid_column": null,
            "grid_gap": null,
            "grid_row": null,
            "grid_template_areas": null,
            "grid_template_columns": null,
            "grid_template_rows": null,
            "height": null,
            "justify_content": null,
            "justify_items": null,
            "left": null,
            "margin": null,
            "max_height": null,
            "max_width": null,
            "min_height": null,
            "min_width": null,
            "object_fit": null,
            "object_position": null,
            "order": null,
            "overflow": null,
            "overflow_x": null,
            "overflow_y": null,
            "padding": null,
            "right": null,
            "top": null,
            "visibility": null,
            "width": null
          }
        },
        "e1b8b2a2a3d341a99f4fde4e5bab1f2d": {
          "model_module": "@jupyter-widgets/base",
          "model_name": "LayoutModel",
          "model_module_version": "1.2.0",
          "state": {
            "_model_module": "@jupyter-widgets/base",
            "_model_module_version": "1.2.0",
            "_model_name": "LayoutModel",
            "_view_count": null,
            "_view_module": "@jupyter-widgets/base",
            "_view_module_version": "1.2.0",
            "_view_name": "LayoutView",
            "align_content": null,
            "align_items": null,
            "align_self": null,
            "border": null,
            "bottom": null,
            "display": null,
            "flex": null,
            "flex_flow": null,
            "grid_area": null,
            "grid_auto_columns": null,
            "grid_auto_flow": null,
            "grid_auto_rows": null,
            "grid_column": null,
            "grid_gap": null,
            "grid_row": null,
            "grid_template_areas": null,
            "grid_template_columns": null,
            "grid_template_rows": null,
            "height": null,
            "justify_content": null,
            "justify_items": null,
            "left": null,
            "margin": null,
            "max_height": null,
            "max_width": null,
            "min_height": null,
            "min_width": null,
            "object_fit": null,
            "object_position": null,
            "order": null,
            "overflow": null,
            "overflow_x": null,
            "overflow_y": null,
            "padding": null,
            "right": null,
            "top": null,
            "visibility": null,
            "width": null
          }
        },
        "8f993f42cd8f443fb09accd3f36bec6c": {
          "model_module": "@jupyter-widgets/controls",
          "model_name": "DescriptionStyleModel",
          "model_module_version": "1.5.0",
          "state": {
            "_model_module": "@jupyter-widgets/controls",
            "_model_module_version": "1.5.0",
            "_model_name": "DescriptionStyleModel",
            "_view_count": null,
            "_view_module": "@jupyter-widgets/base",
            "_view_module_version": "1.2.0",
            "_view_name": "StyleView",
            "description_width": ""
          }
        },
        "5935f04727af4c8eaf2072bd45ce9901": {
          "model_module": "@jupyter-widgets/base",
          "model_name": "LayoutModel",
          "model_module_version": "1.2.0",
          "state": {
            "_model_module": "@jupyter-widgets/base",
            "_model_module_version": "1.2.0",
            "_model_name": "LayoutModel",
            "_view_count": null,
            "_view_module": "@jupyter-widgets/base",
            "_view_module_version": "1.2.0",
            "_view_name": "LayoutView",
            "align_content": null,
            "align_items": null,
            "align_self": null,
            "border": null,
            "bottom": null,
            "display": null,
            "flex": null,
            "flex_flow": null,
            "grid_area": null,
            "grid_auto_columns": null,
            "grid_auto_flow": null,
            "grid_auto_rows": null,
            "grid_column": null,
            "grid_gap": null,
            "grid_row": null,
            "grid_template_areas": null,
            "grid_template_columns": null,
            "grid_template_rows": null,
            "height": null,
            "justify_content": null,
            "justify_items": null,
            "left": null,
            "margin": null,
            "max_height": null,
            "max_width": null,
            "min_height": null,
            "min_width": null,
            "object_fit": null,
            "object_position": null,
            "order": null,
            "overflow": null,
            "overflow_x": null,
            "overflow_y": null,
            "padding": null,
            "right": null,
            "top": null,
            "visibility": null,
            "width": null
          }
        },
        "f81902cc6e624e4b9f84aabc221dbe9e": {
          "model_module": "@jupyter-widgets/controls",
          "model_name": "ProgressStyleModel",
          "model_module_version": "1.5.0",
          "state": {
            "_model_module": "@jupyter-widgets/controls",
            "_model_module_version": "1.5.0",
            "_model_name": "ProgressStyleModel",
            "_view_count": null,
            "_view_module": "@jupyter-widgets/base",
            "_view_module_version": "1.2.0",
            "_view_name": "StyleView",
            "bar_color": null,
            "description_width": ""
          }
        },
        "7750916e695246f6a57f08347acf153c": {
          "model_module": "@jupyter-widgets/base",
          "model_name": "LayoutModel",
          "model_module_version": "1.2.0",
          "state": {
            "_model_module": "@jupyter-widgets/base",
            "_model_module_version": "1.2.0",
            "_model_name": "LayoutModel",
            "_view_count": null,
            "_view_module": "@jupyter-widgets/base",
            "_view_module_version": "1.2.0",
            "_view_name": "LayoutView",
            "align_content": null,
            "align_items": null,
            "align_self": null,
            "border": null,
            "bottom": null,
            "display": null,
            "flex": null,
            "flex_flow": null,
            "grid_area": null,
            "grid_auto_columns": null,
            "grid_auto_flow": null,
            "grid_auto_rows": null,
            "grid_column": null,
            "grid_gap": null,
            "grid_row": null,
            "grid_template_areas": null,
            "grid_template_columns": null,
            "grid_template_rows": null,
            "height": null,
            "justify_content": null,
            "justify_items": null,
            "left": null,
            "margin": null,
            "max_height": null,
            "max_width": null,
            "min_height": null,
            "min_width": null,
            "object_fit": null,
            "object_position": null,
            "order": null,
            "overflow": null,
            "overflow_x": null,
            "overflow_y": null,
            "padding": null,
            "right": null,
            "top": null,
            "visibility": null,
            "width": null
          }
        },
        "22c0582376e14948b594b8c666c62e57": {
          "model_module": "@jupyter-widgets/controls",
          "model_name": "DescriptionStyleModel",
          "model_module_version": "1.5.0",
          "state": {
            "_model_module": "@jupyter-widgets/controls",
            "_model_module_version": "1.5.0",
            "_model_name": "DescriptionStyleModel",
            "_view_count": null,
            "_view_module": "@jupyter-widgets/base",
            "_view_module_version": "1.2.0",
            "_view_name": "StyleView",
            "description_width": ""
          }
        },
        "e56e579e522045d484c96f7a578a53fd": {
          "model_module": "@jupyter-widgets/controls",
          "model_name": "HBoxModel",
          "model_module_version": "1.5.0",
          "state": {
            "_dom_classes": [],
            "_model_module": "@jupyter-widgets/controls",
            "_model_module_version": "1.5.0",
            "_model_name": "HBoxModel",
            "_view_count": null,
            "_view_module": "@jupyter-widgets/controls",
            "_view_module_version": "1.5.0",
            "_view_name": "HBoxView",
            "box_style": "",
            "children": [
              "IPY_MODEL_cf84917871374d8a86b48a8ed3bf9675",
              "IPY_MODEL_4624f1da8c264e29827143f6ab9e3d53",
              "IPY_MODEL_7df709fc651546f29cca9cf9ee224b34"
            ],
            "layout": "IPY_MODEL_e40c21b4ce7f4c1aa554c7b4024d4b50"
          }
        },
        "cf84917871374d8a86b48a8ed3bf9675": {
          "model_module": "@jupyter-widgets/controls",
          "model_name": "HTMLModel",
          "model_module_version": "1.5.0",
          "state": {
            "_dom_classes": [],
            "_model_module": "@jupyter-widgets/controls",
            "_model_module_version": "1.5.0",
            "_model_name": "HTMLModel",
            "_view_count": null,
            "_view_module": "@jupyter-widgets/controls",
            "_view_module_version": "1.5.0",
            "_view_name": "HTMLView",
            "description": "",
            "description_tooltip": null,
            "layout": "IPY_MODEL_eed332cb75824861802b0609f7b860de",
            "placeholder": "​",
            "style": "IPY_MODEL_e64ffb9eba734604aff8070ba56545bc",
            "value": "100%"
          }
        },
        "4624f1da8c264e29827143f6ab9e3d53": {
          "model_module": "@jupyter-widgets/controls",
          "model_name": "FloatProgressModel",
          "model_module_version": "1.5.0",
          "state": {
            "_dom_classes": [],
            "_model_module": "@jupyter-widgets/controls",
            "_model_module_version": "1.5.0",
            "_model_name": "FloatProgressModel",
            "_view_count": null,
            "_view_module": "@jupyter-widgets/controls",
            "_view_module_version": "1.5.0",
            "_view_name": "ProgressView",
            "bar_style": "success",
            "description": "",
            "description_tooltip": null,
            "layout": "IPY_MODEL_3222471738904f279c49f01d6ff61020",
            "max": 553433881,
            "min": 0,
            "orientation": "horizontal",
            "style": "IPY_MODEL_43eba4c95ec7479aa8f275fe2f2df8dc",
            "value": 553433881
          }
        },
        "7df709fc651546f29cca9cf9ee224b34": {
          "model_module": "@jupyter-widgets/controls",
          "model_name": "HTMLModel",
          "model_module_version": "1.5.0",
          "state": {
            "_dom_classes": [],
            "_model_module": "@jupyter-widgets/controls",
            "_model_module_version": "1.5.0",
            "_model_name": "HTMLModel",
            "_view_count": null,
            "_view_module": "@jupyter-widgets/controls",
            "_view_module_version": "1.5.0",
            "_view_name": "HTMLView",
            "description": "",
            "description_tooltip": null,
            "layout": "IPY_MODEL_ce6afa7cbb3d4df3b143e639f94ed773",
            "placeholder": "​",
            "style": "IPY_MODEL_92c6956f4e3544c988b4b5012bf0c18a",
            "value": " 528M/528M [00:02&lt;00:00, 218MB/s]"
          }
        },
        "e40c21b4ce7f4c1aa554c7b4024d4b50": {
          "model_module": "@jupyter-widgets/base",
          "model_name": "LayoutModel",
          "model_module_version": "1.2.0",
          "state": {
            "_model_module": "@jupyter-widgets/base",
            "_model_module_version": "1.2.0",
            "_model_name": "LayoutModel",
            "_view_count": null,
            "_view_module": "@jupyter-widgets/base",
            "_view_module_version": "1.2.0",
            "_view_name": "LayoutView",
            "align_content": null,
            "align_items": null,
            "align_self": null,
            "border": null,
            "bottom": null,
            "display": null,
            "flex": null,
            "flex_flow": null,
            "grid_area": null,
            "grid_auto_columns": null,
            "grid_auto_flow": null,
            "grid_auto_rows": null,
            "grid_column": null,
            "grid_gap": null,
            "grid_row": null,
            "grid_template_areas": null,
            "grid_template_columns": null,
            "grid_template_rows": null,
            "height": null,
            "justify_content": null,
            "justify_items": null,
            "left": null,
            "margin": null,
            "max_height": null,
            "max_width": null,
            "min_height": null,
            "min_width": null,
            "object_fit": null,
            "object_position": null,
            "order": null,
            "overflow": null,
            "overflow_x": null,
            "overflow_y": null,
            "padding": null,
            "right": null,
            "top": null,
            "visibility": null,
            "width": null
          }
        },
        "eed332cb75824861802b0609f7b860de": {
          "model_module": "@jupyter-widgets/base",
          "model_name": "LayoutModel",
          "model_module_version": "1.2.0",
          "state": {
            "_model_module": "@jupyter-widgets/base",
            "_model_module_version": "1.2.0",
            "_model_name": "LayoutModel",
            "_view_count": null,
            "_view_module": "@jupyter-widgets/base",
            "_view_module_version": "1.2.0",
            "_view_name": "LayoutView",
            "align_content": null,
            "align_items": null,
            "align_self": null,
            "border": null,
            "bottom": null,
            "display": null,
            "flex": null,
            "flex_flow": null,
            "grid_area": null,
            "grid_auto_columns": null,
            "grid_auto_flow": null,
            "grid_auto_rows": null,
            "grid_column": null,
            "grid_gap": null,
            "grid_row": null,
            "grid_template_areas": null,
            "grid_template_columns": null,
            "grid_template_rows": null,
            "height": null,
            "justify_content": null,
            "justify_items": null,
            "left": null,
            "margin": null,
            "max_height": null,
            "max_width": null,
            "min_height": null,
            "min_width": null,
            "object_fit": null,
            "object_position": null,
            "order": null,
            "overflow": null,
            "overflow_x": null,
            "overflow_y": null,
            "padding": null,
            "right": null,
            "top": null,
            "visibility": null,
            "width": null
          }
        },
        "e64ffb9eba734604aff8070ba56545bc": {
          "model_module": "@jupyter-widgets/controls",
          "model_name": "DescriptionStyleModel",
          "model_module_version": "1.5.0",
          "state": {
            "_model_module": "@jupyter-widgets/controls",
            "_model_module_version": "1.5.0",
            "_model_name": "DescriptionStyleModel",
            "_view_count": null,
            "_view_module": "@jupyter-widgets/base",
            "_view_module_version": "1.2.0",
            "_view_name": "StyleView",
            "description_width": ""
          }
        },
        "3222471738904f279c49f01d6ff61020": {
          "model_module": "@jupyter-widgets/base",
          "model_name": "LayoutModel",
          "model_module_version": "1.2.0",
          "state": {
            "_model_module": "@jupyter-widgets/base",
            "_model_module_version": "1.2.0",
            "_model_name": "LayoutModel",
            "_view_count": null,
            "_view_module": "@jupyter-widgets/base",
            "_view_module_version": "1.2.0",
            "_view_name": "LayoutView",
            "align_content": null,
            "align_items": null,
            "align_self": null,
            "border": null,
            "bottom": null,
            "display": null,
            "flex": null,
            "flex_flow": null,
            "grid_area": null,
            "grid_auto_columns": null,
            "grid_auto_flow": null,
            "grid_auto_rows": null,
            "grid_column": null,
            "grid_gap": null,
            "grid_row": null,
            "grid_template_areas": null,
            "grid_template_columns": null,
            "grid_template_rows": null,
            "height": null,
            "justify_content": null,
            "justify_items": null,
            "left": null,
            "margin": null,
            "max_height": null,
            "max_width": null,
            "min_height": null,
            "min_width": null,
            "object_fit": null,
            "object_position": null,
            "order": null,
            "overflow": null,
            "overflow_x": null,
            "overflow_y": null,
            "padding": null,
            "right": null,
            "top": null,
            "visibility": null,
            "width": null
          }
        },
        "43eba4c95ec7479aa8f275fe2f2df8dc": {
          "model_module": "@jupyter-widgets/controls",
          "model_name": "ProgressStyleModel",
          "model_module_version": "1.5.0",
          "state": {
            "_model_module": "@jupyter-widgets/controls",
            "_model_module_version": "1.5.0",
            "_model_name": "ProgressStyleModel",
            "_view_count": null,
            "_view_module": "@jupyter-widgets/base",
            "_view_module_version": "1.2.0",
            "_view_name": "StyleView",
            "bar_color": null,
            "description_width": ""
          }
        },
        "ce6afa7cbb3d4df3b143e639f94ed773": {
          "model_module": "@jupyter-widgets/base",
          "model_name": "LayoutModel",
          "model_module_version": "1.2.0",
          "state": {
            "_model_module": "@jupyter-widgets/base",
            "_model_module_version": "1.2.0",
            "_model_name": "LayoutModel",
            "_view_count": null,
            "_view_module": "@jupyter-widgets/base",
            "_view_module_version": "1.2.0",
            "_view_name": "LayoutView",
            "align_content": null,
            "align_items": null,
            "align_self": null,
            "border": null,
            "bottom": null,
            "display": null,
            "flex": null,
            "flex_flow": null,
            "grid_area": null,
            "grid_auto_columns": null,
            "grid_auto_flow": null,
            "grid_auto_rows": null,
            "grid_column": null,
            "grid_gap": null,
            "grid_row": null,
            "grid_template_areas": null,
            "grid_template_columns": null,
            "grid_template_rows": null,
            "height": null,
            "justify_content": null,
            "justify_items": null,
            "left": null,
            "margin": null,
            "max_height": null,
            "max_width": null,
            "min_height": null,
            "min_width": null,
            "object_fit": null,
            "object_position": null,
            "order": null,
            "overflow": null,
            "overflow_x": null,
            "overflow_y": null,
            "padding": null,
            "right": null,
            "top": null,
            "visibility": null,
            "width": null
          }
        },
        "92c6956f4e3544c988b4b5012bf0c18a": {
          "model_module": "@jupyter-widgets/controls",
          "model_name": "DescriptionStyleModel",
          "model_module_version": "1.5.0",
          "state": {
            "_model_module": "@jupyter-widgets/controls",
            "_model_module_version": "1.5.0",
            "_model_name": "DescriptionStyleModel",
            "_view_count": null,
            "_view_module": "@jupyter-widgets/base",
            "_view_module_version": "1.2.0",
            "_view_name": "StyleView",
            "description_width": ""
          }
        }
      }
    }
  },
  "cells": [
    {
      "cell_type": "markdown",
      "metadata": {
        "id": "view-in-github",
        "colab_type": "text"
      },
      "source": [
        "<a href=\"https://colab.research.google.com/github/LamineGith/PyTorch/blob/main/Transfer_learning_using_VGG16.ipynb\" target=\"_parent\"><img src=\"https://colab.research.google.com/assets/colab-badge.svg\" alt=\"Open In Colab\"/></a>"
      ]
    },
    {
      "cell_type": "markdown",
      "source": [
        "# The CIFAR 10 dataset\n",
        "\n",
        "The CIFAR-10 and CIFAR-100 are labeled subsets of the 80 million tiny images dataset. They were collected by Alex Krizhevsky, Vinod Nair, and Geoffrey Hinton.\n",
        "The CIFAR-10 dataset\n",
        "The CIFAR-10 dataset consists of 60000 32x32 colour images in 10 classes, with 6000 images per class. There are 50000 training images and 10000 test images.\n",
        "\n",
        "The dataset is divided into five training batches and one test batch, each with 10000 images. The test batch contains exactly 1000 randomly-selected images from each class. The training batches contain the remaining images in random order, but some training batches may contain more images from one class than another. Between them, the training batches contain exactly 5000 images from each class.\n",
        "\n",
        "Here are the classes in the dataset, as well as 10 random images from each:\n",
        "\n",
        "![image.png](data:image/png;base64,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)\n",
        "The classes are completely mutually exclusive. There is no overlap between automobiles and trucks. \"Automobile\" includes sedans, SUVs, things of that sort. \"Truck\" includes only big trucks. Neither includes pickup trucks."
      ],
      "metadata": {
        "id": "zk5e7p0FjVu8"
      }
    },
    {
      "cell_type": "markdown",
      "metadata": {
        "id": "999Xuus_hUFv"
      },
      "source": [
        "#VGG16"
      ]
    },
    {
      "cell_type": "code",
      "metadata": {
        "id": "k-iG3B9nhTGk"
      },
      "source": [
        "# Setting seeds to try and ensure we have the same results - this is not guaranteed across PyTorch releases.\n",
        "import torch\n",
        "torch.manual_seed(0)\n",
        "torch.backends.cudnn.deterministic = True\n",
        "torch.backends.cudnn.benchmark = False"
      ],
      "execution_count": 1,
      "outputs": []
    },
    {
      "cell_type": "code",
      "metadata": {
        "id": "GxDchYyEo5Fe"
      },
      "source": [
        "import torch.nn as nn\n",
        "import torch.nn.functional as F\n",
        "from torchvision import datasets, transforms, models\n",
        "from torch.utils.data import DataLoader"
      ],
      "execution_count": 2,
      "outputs": []
    },
    {
      "cell_type": "code",
      "source": [
        "print(torch.__version__)"
      ],
      "metadata": {
        "colab": {
          "base_uri": "https://localhost:8080/"
        },
        "id": "kyQrseWdhQBa",
        "outputId": "23e9855c-fb32-4762-a0ea-4bccec1afef6"
      },
      "execution_count": 3,
      "outputs": [
        {
          "output_type": "stream",
          "name": "stdout",
          "text": [
            "1.13.0+cu116\n"
          ]
        }
      ]
    },
    {
      "cell_type": "code",
      "metadata": {
        "id": "CYMYVmxMpX2z",
        "colab": {
          "base_uri": "https://localhost:8080/"
        },
        "outputId": "36a8b64f-68e5-4c42-e859-860f3023a1a9"
      },
      "source": [
        "device = torch.device('cuda' if torch.cuda.is_available() else 'cpu')\n",
        "device"
      ],
      "execution_count": 4,
      "outputs": [
        {
          "output_type": "execute_result",
          "data": {
            "text/plain": [
              "device(type='cuda')"
            ]
          },
          "metadata": {},
          "execution_count": 4
        }
      ]
    },
    {
      "cell_type": "markdown",
      "source": [
        "**Data preprocessing (Resize and normalize)**"
      ],
      "metadata": {
        "id": "DZ3OFDAOklSE"
      }
    },
    {
      "cell_type": "code",
      "metadata": {
        "id": "fJEw9S-Up23y",
        "colab": {
          "base_uri": "https://localhost:8080/",
          "height": 84,
          "referenced_widgets": [
            "c9568d2c64014e04baab8950b37cbb14",
            "d876fb5aec2146bea5d4913638af7cdf",
            "573afe5f34224160a1f4061c316bac63",
            "6fad398a5fd0487088a12812037bfb34",
            "9aa61c55120e428691fddb8f5803c445",
            "e1b8b2a2a3d341a99f4fde4e5bab1f2d",
            "8f993f42cd8f443fb09accd3f36bec6c",
            "5935f04727af4c8eaf2072bd45ce9901",
            "f81902cc6e624e4b9f84aabc221dbe9e",
            "7750916e695246f6a57f08347acf153c",
            "22c0582376e14948b594b8c666c62e57"
          ]
        },
        "outputId": "a3776de2-af2c-4f52-a599-9e5f7bee8639"
      },
      "source": [
        "mean = [0.485, 0.456, 0.406]\n",
        "std = [0.229, 0.224, 0.225]\n",
        "\n",
        "transform = transforms.Compose([\n",
        "    transforms.Resize((224, 224)),\n",
        "    transforms.ToTensor(),\n",
        "    transforms.Normalize(mean=mean, std=std)\n",
        "    ])\n",
        "\n",
        "trainset = datasets.CIFAR10(root='~/.pytorch/CIFAR10',train=True, download=True,transform=transform)\n",
        "testset = datasets.CIFAR10(root='~/.pytorch/CIFAR10',train=False, transform=transform)\n",
        "\n",
        "trainloader = DataLoader(trainset, batch_size=64, shuffle=True)\n",
        "testloader = DataLoader(testset, batch_size=64, shuffle=False)"
      ],
      "execution_count": 5,
      "outputs": [
        {
          "output_type": "stream",
          "name": "stdout",
          "text": [
            "Downloading https://www.cs.toronto.edu/~kriz/cifar-10-python.tar.gz to /root/.pytorch/CIFAR10/cifar-10-python.tar.gz\n"
          ]
        },
        {
          "output_type": "display_data",
          "data": {
            "text/plain": [
              "  0%|          | 0/170498071 [00:00<?, ?it/s]"
            ],
            "application/vnd.jupyter.widget-view+json": {
              "version_major": 2,
              "version_minor": 0,
              "model_id": "c9568d2c64014e04baab8950b37cbb14"
            }
          },
          "metadata": {}
        },
        {
          "output_type": "stream",
          "name": "stdout",
          "text": [
            "Extracting /root/.pytorch/CIFAR10/cifar-10-python.tar.gz to /root/.pytorch/CIFAR10\n"
          ]
        }
      ]
    },
    {
      "cell_type": "code",
      "metadata": {
        "id": "R1CRA2mdqZ8R",
        "colab": {
          "base_uri": "https://localhost:8080/"
        },
        "outputId": "d5cec8b8-2a75-4bb5-cf0c-98f022b17759"
      },
      "source": [
        "for images, labels in trainloader:\n",
        "  print(images.size(), labels.size())\n",
        "  break"
      ],
      "execution_count": 6,
      "outputs": [
        {
          "output_type": "stream",
          "name": "stdout",
          "text": [
            "torch.Size([64, 3, 224, 224]) torch.Size([64])\n"
          ]
        }
      ]
    },
    {
      "cell_type": "code",
      "metadata": {
        "id": "wnjvoyksslmX",
        "colab": {
          "base_uri": "https://localhost:8080/",
          "height": 937,
          "referenced_widgets": [
            "e56e579e522045d484c96f7a578a53fd",
            "cf84917871374d8a86b48a8ed3bf9675",
            "4624f1da8c264e29827143f6ab9e3d53",
            "7df709fc651546f29cca9cf9ee224b34",
            "e40c21b4ce7f4c1aa554c7b4024d4b50",
            "eed332cb75824861802b0609f7b860de",
            "e64ffb9eba734604aff8070ba56545bc",
            "3222471738904f279c49f01d6ff61020",
            "43eba4c95ec7479aa8f275fe2f2df8dc",
            "ce6afa7cbb3d4df3b143e639f94ed773",
            "92c6956f4e3544c988b4b5012bf0c18a"
          ]
        },
        "outputId": "bed63c4e-ef10-439a-97b0-494c89697908"
      },
      "source": [
        "model = models.vgg16(pretrained=True)\n",
        "model"
      ],
      "execution_count": 7,
      "outputs": [
        {
          "output_type": "stream",
          "name": "stderr",
          "text": [
            "/usr/local/lib/python3.8/dist-packages/torchvision/models/_utils.py:208: UserWarning: The parameter 'pretrained' is deprecated since 0.13 and may be removed in the future, please use 'weights' instead.\n",
            "  warnings.warn(\n",
            "/usr/local/lib/python3.8/dist-packages/torchvision/models/_utils.py:223: UserWarning: Arguments other than a weight enum or `None` for 'weights' are deprecated since 0.13 and may be removed in the future. The current behavior is equivalent to passing `weights=VGG16_Weights.IMAGENET1K_V1`. You can also use `weights=VGG16_Weights.DEFAULT` to get the most up-to-date weights.\n",
            "  warnings.warn(msg)\n",
            "Downloading: \"https://download.pytorch.org/models/vgg16-397923af.pth\" to /root/.cache/torch/hub/checkpoints/vgg16-397923af.pth\n"
          ]
        },
        {
          "output_type": "display_data",
          "data": {
            "text/plain": [
              "  0%|          | 0.00/528M [00:00<?, ?B/s]"
            ],
            "application/vnd.jupyter.widget-view+json": {
              "version_major": 2,
              "version_minor": 0,
              "model_id": "e56e579e522045d484c96f7a578a53fd"
            }
          },
          "metadata": {}
        },
        {
          "output_type": "execute_result",
          "data": {
            "text/plain": [
              "VGG(\n",
              "  (features): Sequential(\n",
              "    (0): Conv2d(3, 64, kernel_size=(3, 3), stride=(1, 1), padding=(1, 1))\n",
              "    (1): ReLU(inplace=True)\n",
              "    (2): Conv2d(64, 64, kernel_size=(3, 3), stride=(1, 1), padding=(1, 1))\n",
              "    (3): ReLU(inplace=True)\n",
              "    (4): MaxPool2d(kernel_size=2, stride=2, padding=0, dilation=1, ceil_mode=False)\n",
              "    (5): Conv2d(64, 128, kernel_size=(3, 3), stride=(1, 1), padding=(1, 1))\n",
              "    (6): ReLU(inplace=True)\n",
              "    (7): Conv2d(128, 128, kernel_size=(3, 3), stride=(1, 1), padding=(1, 1))\n",
              "    (8): ReLU(inplace=True)\n",
              "    (9): MaxPool2d(kernel_size=2, stride=2, padding=0, dilation=1, ceil_mode=False)\n",
              "    (10): Conv2d(128, 256, kernel_size=(3, 3), stride=(1, 1), padding=(1, 1))\n",
              "    (11): ReLU(inplace=True)\n",
              "    (12): Conv2d(256, 256, kernel_size=(3, 3), stride=(1, 1), padding=(1, 1))\n",
              "    (13): ReLU(inplace=True)\n",
              "    (14): Conv2d(256, 256, kernel_size=(3, 3), stride=(1, 1), padding=(1, 1))\n",
              "    (15): ReLU(inplace=True)\n",
              "    (16): MaxPool2d(kernel_size=2, stride=2, padding=0, dilation=1, ceil_mode=False)\n",
              "    (17): Conv2d(256, 512, kernel_size=(3, 3), stride=(1, 1), padding=(1, 1))\n",
              "    (18): ReLU(inplace=True)\n",
              "    (19): Conv2d(512, 512, kernel_size=(3, 3), stride=(1, 1), padding=(1, 1))\n",
              "    (20): ReLU(inplace=True)\n",
              "    (21): Conv2d(512, 512, kernel_size=(3, 3), stride=(1, 1), padding=(1, 1))\n",
              "    (22): ReLU(inplace=True)\n",
              "    (23): MaxPool2d(kernel_size=2, stride=2, padding=0, dilation=1, ceil_mode=False)\n",
              "    (24): Conv2d(512, 512, kernel_size=(3, 3), stride=(1, 1), padding=(1, 1))\n",
              "    (25): ReLU(inplace=True)\n",
              "    (26): Conv2d(512, 512, kernel_size=(3, 3), stride=(1, 1), padding=(1, 1))\n",
              "    (27): ReLU(inplace=True)\n",
              "    (28): Conv2d(512, 512, kernel_size=(3, 3), stride=(1, 1), padding=(1, 1))\n",
              "    (29): ReLU(inplace=True)\n",
              "    (30): MaxPool2d(kernel_size=2, stride=2, padding=0, dilation=1, ceil_mode=False)\n",
              "  )\n",
              "  (avgpool): AdaptiveAvgPool2d(output_size=(7, 7))\n",
              "  (classifier): Sequential(\n",
              "    (0): Linear(in_features=25088, out_features=4096, bias=True)\n",
              "    (1): ReLU(inplace=True)\n",
              "    (2): Dropout(p=0.5, inplace=False)\n",
              "    (3): Linear(in_features=4096, out_features=4096, bias=True)\n",
              "    (4): ReLU(inplace=True)\n",
              "    (5): Dropout(p=0.5, inplace=False)\n",
              "    (6): Linear(in_features=4096, out_features=1000, bias=True)\n",
              "  )\n",
              ")"
            ]
          },
          "metadata": {},
          "execution_count": 7
        }
      ]
    },
    {
      "cell_type": "markdown",
      "source": [
        "# Transfer learning - Fixed Feature Extractor"
      ],
      "metadata": {
        "id": "gkzFhFFQnEmG"
      }
    },
    {
      "cell_type": "code",
      "metadata": {
        "id": "5kuGHWRnslkH",
        "colab": {
          "base_uri": "https://localhost:8080/"
        },
        "outputId": "193b8be1-33f2-4f4e-a8f8-29fc9c51bd7e"
      },
      "source": [
        "model.features"
      ],
      "execution_count": 8,
      "outputs": [
        {
          "output_type": "execute_result",
          "data": {
            "text/plain": [
              "Sequential(\n",
              "  (0): Conv2d(3, 64, kernel_size=(3, 3), stride=(1, 1), padding=(1, 1))\n",
              "  (1): ReLU(inplace=True)\n",
              "  (2): Conv2d(64, 64, kernel_size=(3, 3), stride=(1, 1), padding=(1, 1))\n",
              "  (3): ReLU(inplace=True)\n",
              "  (4): MaxPool2d(kernel_size=2, stride=2, padding=0, dilation=1, ceil_mode=False)\n",
              "  (5): Conv2d(64, 128, kernel_size=(3, 3), stride=(1, 1), padding=(1, 1))\n",
              "  (6): ReLU(inplace=True)\n",
              "  (7): Conv2d(128, 128, kernel_size=(3, 3), stride=(1, 1), padding=(1, 1))\n",
              "  (8): ReLU(inplace=True)\n",
              "  (9): MaxPool2d(kernel_size=2, stride=2, padding=0, dilation=1, ceil_mode=False)\n",
              "  (10): Conv2d(128, 256, kernel_size=(3, 3), stride=(1, 1), padding=(1, 1))\n",
              "  (11): ReLU(inplace=True)\n",
              "  (12): Conv2d(256, 256, kernel_size=(3, 3), stride=(1, 1), padding=(1, 1))\n",
              "  (13): ReLU(inplace=True)\n",
              "  (14): Conv2d(256, 256, kernel_size=(3, 3), stride=(1, 1), padding=(1, 1))\n",
              "  (15): ReLU(inplace=True)\n",
              "  (16): MaxPool2d(kernel_size=2, stride=2, padding=0, dilation=1, ceil_mode=False)\n",
              "  (17): Conv2d(256, 512, kernel_size=(3, 3), stride=(1, 1), padding=(1, 1))\n",
              "  (18): ReLU(inplace=True)\n",
              "  (19): Conv2d(512, 512, kernel_size=(3, 3), stride=(1, 1), padding=(1, 1))\n",
              "  (20): ReLU(inplace=True)\n",
              "  (21): Conv2d(512, 512, kernel_size=(3, 3), stride=(1, 1), padding=(1, 1))\n",
              "  (22): ReLU(inplace=True)\n",
              "  (23): MaxPool2d(kernel_size=2, stride=2, padding=0, dilation=1, ceil_mode=False)\n",
              "  (24): Conv2d(512, 512, kernel_size=(3, 3), stride=(1, 1), padding=(1, 1))\n",
              "  (25): ReLU(inplace=True)\n",
              "  (26): Conv2d(512, 512, kernel_size=(3, 3), stride=(1, 1), padding=(1, 1))\n",
              "  (27): ReLU(inplace=True)\n",
              "  (28): Conv2d(512, 512, kernel_size=(3, 3), stride=(1, 1), padding=(1, 1))\n",
              "  (29): ReLU(inplace=True)\n",
              "  (30): MaxPool2d(kernel_size=2, stride=2, padding=0, dilation=1, ceil_mode=False)\n",
              ")"
            ]
          },
          "metadata": {},
          "execution_count": 8
        }
      ]
    },
    {
      "cell_type": "code",
      "metadata": {
        "id": "mFsCiOFGslh3",
        "colab": {
          "base_uri": "https://localhost:8080/"
        },
        "outputId": "7afa78e4-2684-4bab-de16-e572715bb708"
      },
      "source": [
        "model.classifier"
      ],
      "execution_count": 10,
      "outputs": [
        {
          "output_type": "execute_result",
          "data": {
            "text/plain": [
              "Sequential(\n",
              "  (0): Linear(in_features=25088, out_features=4096, bias=True)\n",
              "  (1): ReLU(inplace=True)\n",
              "  (2): Dropout(p=0.5, inplace=False)\n",
              "  (3): Linear(in_features=4096, out_features=4096, bias=True)\n",
              "  (4): ReLU(inplace=True)\n",
              "  (5): Dropout(p=0.5, inplace=False)\n",
              "  (6): Linear(in_features=4096, out_features=1000, bias=True)\n",
              ")"
            ]
          },
          "metadata": {},
          "execution_count": 10
        }
      ]
    },
    {
      "cell_type": "markdown",
      "source": [
        "**When we have the model, we have modified the model parameters according to our data. We can stop the propagation inside the network in defines layer before the classifier or change the last fully connected network and retrain it.** "
      ],
      "metadata": {
        "id": "TKjCic58n35M"
      }
    },
    {
      "cell_type": "code",
      "metadata": {
        "id": "fm0FcYeRslfP"
      },
      "source": [
        "for param in model.parameters():\n",
        "  param.requires_grad = False"
      ],
      "execution_count": 11,
      "outputs": []
    },
    {
      "cell_type": "markdown",
      "source": [
        "Here we want to remove the last fully connected layer and change the output layer because we have 10 instead of 1000 classes. We add the logSoftmax at the end. "
      ],
      "metadata": {
        "id": "ZiMINHsMnN1D"
      }
    },
    {
      "cell_type": "code",
      "metadata": {
        "id": "iwKmDi09slc3"
      },
      "source": [
        "model.classifier[-1] = nn.Sequential(\n",
        "                       nn.Linear(in_features=4096, out_features=10),\n",
        "                       nn.LogSoftmax(dim=1)\n",
        "                        )"
      ],
      "execution_count": 12,
      "outputs": []
    },
    {
      "cell_type": "code",
      "metadata": {
        "id": "q-amS1IfsKif",
        "colab": {
          "base_uri": "https://localhost:8080/"
        },
        "outputId": "27b2758d-bd1c-45dc-e71a-ca9b5eb355b1"
      },
      "source": [
        "model.classifier"
      ],
      "execution_count": 13,
      "outputs": [
        {
          "output_type": "execute_result",
          "data": {
            "text/plain": [
              "Sequential(\n",
              "  (0): Linear(in_features=25088, out_features=4096, bias=True)\n",
              "  (1): ReLU(inplace=True)\n",
              "  (2): Dropout(p=0.5, inplace=False)\n",
              "  (3): Linear(in_features=4096, out_features=4096, bias=True)\n",
              "  (4): ReLU(inplace=True)\n",
              "  (5): Dropout(p=0.5, inplace=False)\n",
              "  (6): Sequential(\n",
              "    (0): Linear(in_features=4096, out_features=10, bias=True)\n",
              "    (1): LogSoftmax(dim=1)\n",
              "  )\n",
              ")"
            ]
          },
          "metadata": {},
          "execution_count": 13
        }
      ]
    },
    {
      "cell_type": "markdown",
      "source": [
        "**Training the Fixed Feature Extractor**"
      ],
      "metadata": {
        "id": "ndgJVoP8o1Nk"
      }
    },
    {
      "cell_type": "code",
      "metadata": {
        "id": "u3ljFhUusKgb"
      },
      "source": [
        "from torch.optim import Adam\n",
        "\n",
        "model = model.to(device)\n",
        "optimizer = Adam(model.parameters())"
      ],
      "execution_count": 14,
      "outputs": []
    },
    {
      "cell_type": "code",
      "metadata": {
        "id": "VM-J10IksKd3"
      },
      "source": [
        "criterion = nn.NLLLoss()"
      ],
      "execution_count": 15,
      "outputs": []
    },
    {
      "cell_type": "code",
      "metadata": {
        "id": "nd-kpr-NsKbf",
        "colab": {
          "base_uri": "https://localhost:8080/"
        },
        "outputId": "3e98a542-2afe-4414-eac9-118da4d88070"
      },
      "source": [
        "num_epochs = 1\n",
        "batch_loss = 0\n",
        "cum_epoch_loss = 0\n",
        "\n",
        "for e in range(num_epochs):\n",
        "  cum_epoch_loss = 0\n",
        "  \n",
        "  for batch, (images, labels) in enumerate(trainloader,1):\n",
        "    images = images.to(device)\n",
        "    labels = labels.to(device)\n",
        "    criterion = criterion \n",
        "    optimizer.zero_grad()\n",
        "    logps = model(images)\n",
        "    loss = criterion(logps, labels)\n",
        "    loss.backward()\n",
        "    optimizer.step()\n",
        "    \n",
        "    batch_loss += loss.item()\n",
        "    print(f'Epoch({e}/{num_epochs} : Batch number({batch}/{len(trainloader)})  Batch loss : {loss.item()}')\n",
        "    \n",
        "  print(f'Training loss : {batch_loss/len(trainloader)}') "
      ],
      "execution_count": 16,
      "outputs": [
        {
          "output_type": "stream",
          "name": "stdout",
          "text": [
            "Epoch(0/1 : Batch number(1/782)  Batch loss : 2.4472618103027344\n",
            "Epoch(0/1 : Batch number(2/782)  Batch loss : 2.231184482574463\n",
            "Epoch(0/1 : Batch number(3/782)  Batch loss : 2.0071535110473633\n",
            "Epoch(0/1 : Batch number(4/782)  Batch loss : 1.9421484470367432\n",
            "Epoch(0/1 : Batch number(5/782)  Batch loss : 1.9430814981460571\n",
            "Epoch(0/1 : Batch number(6/782)  Batch loss : 1.6382205486297607\n",
            "Epoch(0/1 : Batch number(7/782)  Batch loss : 1.5217958688735962\n",
            "Epoch(0/1 : Batch number(8/782)  Batch loss : 1.3577253818511963\n",
            "Epoch(0/1 : Batch number(9/782)  Batch loss : 1.4438300132751465\n",
            "Epoch(0/1 : Batch number(10/782)  Batch loss : 1.2072449922561646\n",
            "Epoch(0/1 : Batch number(11/782)  Batch loss : 1.0614283084869385\n",
            "Epoch(0/1 : Batch number(12/782)  Batch loss : 1.2457263469696045\n",
            "Epoch(0/1 : Batch number(13/782)  Batch loss : 1.0670894384384155\n",
            "Epoch(0/1 : Batch number(14/782)  Batch loss : 1.09145987033844\n",
            "Epoch(0/1 : Batch number(15/782)  Batch loss : 1.1152921915054321\n",
            "Epoch(0/1 : Batch number(16/782)  Batch loss : 0.9850171208381653\n",
            "Epoch(0/1 : Batch number(17/782)  Batch loss : 0.9673246145248413\n",
            "Epoch(0/1 : Batch number(18/782)  Batch loss : 0.880038321018219\n",
            "Epoch(0/1 : Batch number(19/782)  Batch loss : 0.8975075483322144\n",
            "Epoch(0/1 : Batch number(20/782)  Batch loss : 0.7708606719970703\n",
            "Epoch(0/1 : Batch number(21/782)  Batch loss : 0.772428572177887\n",
            "Epoch(0/1 : Batch number(22/782)  Batch loss : 0.7804669737815857\n",
            "Epoch(0/1 : Batch number(23/782)  Batch loss : 0.931649923324585\n",
            "Epoch(0/1 : Batch number(24/782)  Batch loss : 0.7864188551902771\n",
            "Epoch(0/1 : Batch number(25/782)  Batch loss : 0.7851861119270325\n",
            "Epoch(0/1 : Batch number(26/782)  Batch loss : 0.8151208162307739\n",
            "Epoch(0/1 : Batch number(27/782)  Batch loss : 0.8504083752632141\n",
            "Epoch(0/1 : Batch number(28/782)  Batch loss : 0.7692379951477051\n",
            "Epoch(0/1 : Batch number(29/782)  Batch loss : 0.8421614766120911\n",
            "Epoch(0/1 : Batch number(30/782)  Batch loss : 0.6432204246520996\n",
            "Epoch(0/1 : Batch number(31/782)  Batch loss : 0.8474072813987732\n",
            "Epoch(0/1 : Batch number(32/782)  Batch loss : 0.6535457968711853\n",
            "Epoch(0/1 : Batch number(33/782)  Batch loss : 0.6718240976333618\n",
            "Epoch(0/1 : Batch number(34/782)  Batch loss : 0.9112640023231506\n",
            "Epoch(0/1 : Batch number(35/782)  Batch loss : 0.7203719615936279\n",
            "Epoch(0/1 : Batch number(36/782)  Batch loss : 0.9174689054489136\n",
            "Epoch(0/1 : Batch number(37/782)  Batch loss : 0.7767692804336548\n",
            "Epoch(0/1 : Batch number(38/782)  Batch loss : 0.7751827239990234\n",
            "Epoch(0/1 : Batch number(39/782)  Batch loss : 0.727605402469635\n",
            "Epoch(0/1 : Batch number(40/782)  Batch loss : 0.6648451685905457\n",
            "Epoch(0/1 : Batch number(41/782)  Batch loss : 0.6174180507659912\n",
            "Epoch(0/1 : Batch number(42/782)  Batch loss : 0.752968966960907\n",
            "Epoch(0/1 : Batch number(43/782)  Batch loss : 0.719209611415863\n",
            "Epoch(0/1 : Batch number(44/782)  Batch loss : 0.700231671333313\n",
            "Epoch(0/1 : Batch number(45/782)  Batch loss : 0.8082693219184875\n",
            "Epoch(0/1 : Batch number(46/782)  Batch loss : 0.681194007396698\n",
            "Epoch(0/1 : Batch number(47/782)  Batch loss : 0.9105187654495239\n",
            "Epoch(0/1 : Batch number(48/782)  Batch loss : 0.9212053418159485\n",
            "Epoch(0/1 : Batch number(49/782)  Batch loss : 0.5839594006538391\n",
            "Epoch(0/1 : Batch number(50/782)  Batch loss : 0.6955371499061584\n",
            "Epoch(0/1 : Batch number(51/782)  Batch loss : 0.8231170177459717\n",
            "Epoch(0/1 : Batch number(52/782)  Batch loss : 0.8980750441551208\n",
            "Epoch(0/1 : Batch number(53/782)  Batch loss : 0.4801161587238312\n",
            "Epoch(0/1 : Batch number(54/782)  Batch loss : 0.6344966888427734\n",
            "Epoch(0/1 : Batch number(55/782)  Batch loss : 0.6696928143501282\n",
            "Epoch(0/1 : Batch number(56/782)  Batch loss : 0.6443082094192505\n",
            "Epoch(0/1 : Batch number(57/782)  Batch loss : 0.8048222064971924\n",
            "Epoch(0/1 : Batch number(58/782)  Batch loss : 0.6743636727333069\n",
            "Epoch(0/1 : Batch number(59/782)  Batch loss : 0.770437479019165\n",
            "Epoch(0/1 : Batch number(60/782)  Batch loss : 0.6232117414474487\n",
            "Epoch(0/1 : Batch number(61/782)  Batch loss : 0.8024176955223083\n",
            "Epoch(0/1 : Batch number(62/782)  Batch loss : 0.8466433882713318\n",
            "Epoch(0/1 : Batch number(63/782)  Batch loss : 0.49027812480926514\n",
            "Epoch(0/1 : Batch number(64/782)  Batch loss : 0.6431823372840881\n",
            "Epoch(0/1 : Batch number(65/782)  Batch loss : 0.701055109500885\n",
            "Epoch(0/1 : Batch number(66/782)  Batch loss : 0.7513391375541687\n",
            "Epoch(0/1 : Batch number(67/782)  Batch loss : 0.7118852734565735\n",
            "Epoch(0/1 : Batch number(68/782)  Batch loss : 0.7601311802864075\n",
            "Epoch(0/1 : Batch number(69/782)  Batch loss : 0.6121333837509155\n",
            "Epoch(0/1 : Batch number(70/782)  Batch loss : 0.8287459015846252\n",
            "Epoch(0/1 : Batch number(71/782)  Batch loss : 0.6545253992080688\n",
            "Epoch(0/1 : Batch number(72/782)  Batch loss : 0.6102750897407532\n",
            "Epoch(0/1 : Batch number(73/782)  Batch loss : 0.6932210326194763\n",
            "Epoch(0/1 : Batch number(74/782)  Batch loss : 0.9618021845817566\n",
            "Epoch(0/1 : Batch number(75/782)  Batch loss : 0.8294941782951355\n",
            "Epoch(0/1 : Batch number(76/782)  Batch loss : 0.7225808501243591\n",
            "Epoch(0/1 : Batch number(77/782)  Batch loss : 0.5746610760688782\n",
            "Epoch(0/1 : Batch number(78/782)  Batch loss : 0.7915189862251282\n",
            "Epoch(0/1 : Batch number(79/782)  Batch loss : 0.4597938656806946\n",
            "Epoch(0/1 : Batch number(80/782)  Batch loss : 0.6637513041496277\n",
            "Epoch(0/1 : Batch number(81/782)  Batch loss : 0.6492860913276672\n",
            "Epoch(0/1 : Batch number(82/782)  Batch loss : 0.8008872866630554\n",
            "Epoch(0/1 : Batch number(83/782)  Batch loss : 0.603843092918396\n",
            "Epoch(0/1 : Batch number(84/782)  Batch loss : 0.47709205746650696\n",
            "Epoch(0/1 : Batch number(85/782)  Batch loss : 0.674182653427124\n",
            "Epoch(0/1 : Batch number(86/782)  Batch loss : 0.8320193886756897\n",
            "Epoch(0/1 : Batch number(87/782)  Batch loss : 0.45045435428619385\n",
            "Epoch(0/1 : Batch number(88/782)  Batch loss : 0.539964497089386\n",
            "Epoch(0/1 : Batch number(89/782)  Batch loss : 0.5216782093048096\n",
            "Epoch(0/1 : Batch number(90/782)  Batch loss : 0.8428390622138977\n",
            "Epoch(0/1 : Batch number(91/782)  Batch loss : 0.706964373588562\n",
            "Epoch(0/1 : Batch number(92/782)  Batch loss : 0.603232741355896\n",
            "Epoch(0/1 : Batch number(93/782)  Batch loss : 0.5179840326309204\n",
            "Epoch(0/1 : Batch number(94/782)  Batch loss : 0.43184685707092285\n",
            "Epoch(0/1 : Batch number(95/782)  Batch loss : 0.7168488502502441\n",
            "Epoch(0/1 : Batch number(96/782)  Batch loss : 0.5693473815917969\n",
            "Epoch(0/1 : Batch number(97/782)  Batch loss : 0.5675541162490845\n",
            "Epoch(0/1 : Batch number(98/782)  Batch loss : 0.6181146502494812\n",
            "Epoch(0/1 : Batch number(99/782)  Batch loss : 0.6880702376365662\n",
            "Epoch(0/1 : Batch number(100/782)  Batch loss : 0.6234488487243652\n",
            "Epoch(0/1 : Batch number(101/782)  Batch loss : 0.8885912895202637\n",
            "Epoch(0/1 : Batch number(102/782)  Batch loss : 0.7719464302062988\n",
            "Epoch(0/1 : Batch number(103/782)  Batch loss : 0.6692326068878174\n",
            "Epoch(0/1 : Batch number(104/782)  Batch loss : 0.70859694480896\n",
            "Epoch(0/1 : Batch number(105/782)  Batch loss : 0.5859785676002502\n",
            "Epoch(0/1 : Batch number(106/782)  Batch loss : 0.6875414252281189\n",
            "Epoch(0/1 : Batch number(107/782)  Batch loss : 0.5254945158958435\n",
            "Epoch(0/1 : Batch number(108/782)  Batch loss : 0.7810012102127075\n",
            "Epoch(0/1 : Batch number(109/782)  Batch loss : 0.5580793023109436\n",
            "Epoch(0/1 : Batch number(110/782)  Batch loss : 0.6351724863052368\n",
            "Epoch(0/1 : Batch number(111/782)  Batch loss : 0.45104268193244934\n",
            "Epoch(0/1 : Batch number(112/782)  Batch loss : 0.6584742069244385\n",
            "Epoch(0/1 : Batch number(113/782)  Batch loss : 0.6407800912857056\n",
            "Epoch(0/1 : Batch number(114/782)  Batch loss : 0.645943284034729\n",
            "Epoch(0/1 : Batch number(115/782)  Batch loss : 0.675926685333252\n",
            "Epoch(0/1 : Batch number(116/782)  Batch loss : 0.7336859107017517\n",
            "Epoch(0/1 : Batch number(117/782)  Batch loss : 0.5359864830970764\n",
            "Epoch(0/1 : Batch number(118/782)  Batch loss : 0.452770471572876\n",
            "Epoch(0/1 : Batch number(119/782)  Batch loss : 0.5588313937187195\n",
            "Epoch(0/1 : Batch number(120/782)  Batch loss : 0.6487963199615479\n",
            "Epoch(0/1 : Batch number(121/782)  Batch loss : 0.7909245491027832\n",
            "Epoch(0/1 : Batch number(122/782)  Batch loss : 0.5000779032707214\n",
            "Epoch(0/1 : Batch number(123/782)  Batch loss : 0.5106939673423767\n",
            "Epoch(0/1 : Batch number(124/782)  Batch loss : 0.6736598610877991\n",
            "Epoch(0/1 : Batch number(125/782)  Batch loss : 0.6391501426696777\n",
            "Epoch(0/1 : Batch number(126/782)  Batch loss : 0.6424500346183777\n",
            "Epoch(0/1 : Batch number(127/782)  Batch loss : 0.6621284484863281\n",
            "Epoch(0/1 : Batch number(128/782)  Batch loss : 0.7636696696281433\n",
            "Epoch(0/1 : Batch number(129/782)  Batch loss : 0.6525097489356995\n",
            "Epoch(0/1 : Batch number(130/782)  Batch loss : 0.43543240427970886\n",
            "Epoch(0/1 : Batch number(131/782)  Batch loss : 0.46893325448036194\n",
            "Epoch(0/1 : Batch number(132/782)  Batch loss : 0.6308790445327759\n",
            "Epoch(0/1 : Batch number(133/782)  Batch loss : 0.6299154758453369\n",
            "Epoch(0/1 : Batch number(134/782)  Batch loss : 0.5981770753860474\n",
            "Epoch(0/1 : Batch number(135/782)  Batch loss : 0.86009681224823\n",
            "Epoch(0/1 : Batch number(136/782)  Batch loss : 0.6016729474067688\n",
            "Epoch(0/1 : Batch number(137/782)  Batch loss : 0.7855677604675293\n",
            "Epoch(0/1 : Batch number(138/782)  Batch loss : 0.6995458006858826\n",
            "Epoch(0/1 : Batch number(139/782)  Batch loss : 0.6680655479431152\n",
            "Epoch(0/1 : Batch number(140/782)  Batch loss : 0.46283194422721863\n",
            "Epoch(0/1 : Batch number(141/782)  Batch loss : 0.48601481318473816\n",
            "Epoch(0/1 : Batch number(142/782)  Batch loss : 0.6436841487884521\n",
            "Epoch(0/1 : Batch number(143/782)  Batch loss : 0.575107216835022\n",
            "Epoch(0/1 : Batch number(144/782)  Batch loss : 0.7316113710403442\n",
            "Epoch(0/1 : Batch number(145/782)  Batch loss : 0.5862393975257874\n",
            "Epoch(0/1 : Batch number(146/782)  Batch loss : 0.8147796988487244\n",
            "Epoch(0/1 : Batch number(147/782)  Batch loss : 0.7245230078697205\n",
            "Epoch(0/1 : Batch number(148/782)  Batch loss : 0.873357892036438\n",
            "Epoch(0/1 : Batch number(149/782)  Batch loss : 0.7109060883522034\n",
            "Epoch(0/1 : Batch number(150/782)  Batch loss : 0.547787606716156\n",
            "Epoch(0/1 : Batch number(151/782)  Batch loss : 0.7806680798530579\n",
            "Epoch(0/1 : Batch number(152/782)  Batch loss : 0.6512836813926697\n",
            "Epoch(0/1 : Batch number(153/782)  Batch loss : 0.8284737467765808\n",
            "Epoch(0/1 : Batch number(154/782)  Batch loss : 0.4220985770225525\n",
            "Epoch(0/1 : Batch number(155/782)  Batch loss : 0.5185887217521667\n",
            "Epoch(0/1 : Batch number(156/782)  Batch loss : 0.4398312270641327\n",
            "Epoch(0/1 : Batch number(157/782)  Batch loss : 0.43835294246673584\n",
            "Epoch(0/1 : Batch number(158/782)  Batch loss : 0.6655004620552063\n",
            "Epoch(0/1 : Batch number(159/782)  Batch loss : 0.8535741567611694\n",
            "Epoch(0/1 : Batch number(160/782)  Batch loss : 0.6877678036689758\n",
            "Epoch(0/1 : Batch number(161/782)  Batch loss : 0.6047279238700867\n",
            "Epoch(0/1 : Batch number(162/782)  Batch loss : 0.49969419836997986\n",
            "Epoch(0/1 : Batch number(163/782)  Batch loss : 0.49253949522972107\n",
            "Epoch(0/1 : Batch number(164/782)  Batch loss : 0.3861662447452545\n",
            "Epoch(0/1 : Batch number(165/782)  Batch loss : 0.5964959859848022\n",
            "Epoch(0/1 : Batch number(166/782)  Batch loss : 0.796068012714386\n",
            "Epoch(0/1 : Batch number(167/782)  Batch loss : 0.7890188097953796\n",
            "Epoch(0/1 : Batch number(168/782)  Batch loss : 0.5527806282043457\n",
            "Epoch(0/1 : Batch number(169/782)  Batch loss : 0.4743013381958008\n",
            "Epoch(0/1 : Batch number(170/782)  Batch loss : 0.6583073735237122\n",
            "Epoch(0/1 : Batch number(171/782)  Batch loss : 0.536910891532898\n",
            "Epoch(0/1 : Batch number(172/782)  Batch loss : 0.5538733601570129\n",
            "Epoch(0/1 : Batch number(173/782)  Batch loss : 0.47630253434181213\n",
            "Epoch(0/1 : Batch number(174/782)  Batch loss : 0.8236558437347412\n",
            "Epoch(0/1 : Batch number(175/782)  Batch loss : 0.8095219135284424\n",
            "Epoch(0/1 : Batch number(176/782)  Batch loss : 0.5451842546463013\n",
            "Epoch(0/1 : Batch number(177/782)  Batch loss : 0.6919307708740234\n",
            "Epoch(0/1 : Batch number(178/782)  Batch loss : 0.4864185154438019\n",
            "Epoch(0/1 : Batch number(179/782)  Batch loss : 0.42962655425071716\n",
            "Epoch(0/1 : Batch number(180/782)  Batch loss : 0.5391951203346252\n",
            "Epoch(0/1 : Batch number(181/782)  Batch loss : 0.5413989424705505\n",
            "Epoch(0/1 : Batch number(182/782)  Batch loss : 0.5653239488601685\n",
            "Epoch(0/1 : Batch number(183/782)  Batch loss : 0.6613482236862183\n",
            "Epoch(0/1 : Batch number(184/782)  Batch loss : 0.5327613949775696\n",
            "Epoch(0/1 : Batch number(185/782)  Batch loss : 0.8372830152511597\n",
            "Epoch(0/1 : Batch number(186/782)  Batch loss : 0.6876596212387085\n",
            "Epoch(0/1 : Batch number(187/782)  Batch loss : 0.5141844749450684\n",
            "Epoch(0/1 : Batch number(188/782)  Batch loss : 0.5395441651344299\n",
            "Epoch(0/1 : Batch number(189/782)  Batch loss : 0.664724588394165\n",
            "Epoch(0/1 : Batch number(190/782)  Batch loss : 0.6158926486968994\n",
            "Epoch(0/1 : Batch number(191/782)  Batch loss : 0.7901236414909363\n",
            "Epoch(0/1 : Batch number(192/782)  Batch loss : 0.6847739815711975\n",
            "Epoch(0/1 : Batch number(193/782)  Batch loss : 0.6005019545555115\n",
            "Epoch(0/1 : Batch number(194/782)  Batch loss : 0.7443474531173706\n",
            "Epoch(0/1 : Batch number(195/782)  Batch loss : 0.5552122592926025\n",
            "Epoch(0/1 : Batch number(196/782)  Batch loss : 0.5596039295196533\n",
            "Epoch(0/1 : Batch number(197/782)  Batch loss : 0.7188726663589478\n",
            "Epoch(0/1 : Batch number(198/782)  Batch loss : 0.7142008543014526\n",
            "Epoch(0/1 : Batch number(199/782)  Batch loss : 0.6746870279312134\n",
            "Epoch(0/1 : Batch number(200/782)  Batch loss : 0.8839515447616577\n",
            "Epoch(0/1 : Batch number(201/782)  Batch loss : 0.47132423520088196\n",
            "Epoch(0/1 : Batch number(202/782)  Batch loss : 0.5308958292007446\n",
            "Epoch(0/1 : Batch number(203/782)  Batch loss : 0.4775051474571228\n",
            "Epoch(0/1 : Batch number(204/782)  Batch loss : 0.7634710669517517\n",
            "Epoch(0/1 : Batch number(205/782)  Batch loss : 0.5200814008712769\n",
            "Epoch(0/1 : Batch number(206/782)  Batch loss : 0.5764930248260498\n",
            "Epoch(0/1 : Batch number(207/782)  Batch loss : 0.5051706433296204\n",
            "Epoch(0/1 : Batch number(208/782)  Batch loss : 0.5083056092262268\n",
            "Epoch(0/1 : Batch number(209/782)  Batch loss : 1.074889898300171\n",
            "Epoch(0/1 : Batch number(210/782)  Batch loss : 0.9769167304039001\n",
            "Epoch(0/1 : Batch number(211/782)  Batch loss : 0.8174093961715698\n",
            "Epoch(0/1 : Batch number(212/782)  Batch loss : 0.6892744898796082\n",
            "Epoch(0/1 : Batch number(213/782)  Batch loss : 0.6137502193450928\n",
            "Epoch(0/1 : Batch number(214/782)  Batch loss : 0.8806045055389404\n",
            "Epoch(0/1 : Batch number(215/782)  Batch loss : 0.6153102517127991\n",
            "Epoch(0/1 : Batch number(216/782)  Batch loss : 0.6418598890304565\n",
            "Epoch(0/1 : Batch number(217/782)  Batch loss : 0.9236591458320618\n",
            "Epoch(0/1 : Batch number(218/782)  Batch loss : 0.2783016264438629\n",
            "Epoch(0/1 : Batch number(219/782)  Batch loss : 0.5441228747367859\n",
            "Epoch(0/1 : Batch number(220/782)  Batch loss : 0.6999470591545105\n",
            "Epoch(0/1 : Batch number(221/782)  Batch loss : 0.8317822217941284\n",
            "Epoch(0/1 : Batch number(222/782)  Batch loss : 0.8016800284385681\n",
            "Epoch(0/1 : Batch number(223/782)  Batch loss : 0.6265998482704163\n",
            "Epoch(0/1 : Batch number(224/782)  Batch loss : 0.5585964918136597\n",
            "Epoch(0/1 : Batch number(225/782)  Batch loss : 0.658440887928009\n",
            "Epoch(0/1 : Batch number(226/782)  Batch loss : 0.5768511891365051\n",
            "Epoch(0/1 : Batch number(227/782)  Batch loss : 0.608953595161438\n",
            "Epoch(0/1 : Batch number(228/782)  Batch loss : 0.668402373790741\n",
            "Epoch(0/1 : Batch number(229/782)  Batch loss : 0.8624747395515442\n",
            "Epoch(0/1 : Batch number(230/782)  Batch loss : 0.6222614645957947\n",
            "Epoch(0/1 : Batch number(231/782)  Batch loss : 0.4032633900642395\n",
            "Epoch(0/1 : Batch number(232/782)  Batch loss : 0.7607954144477844\n",
            "Epoch(0/1 : Batch number(233/782)  Batch loss : 0.45432716608047485\n",
            "Epoch(0/1 : Batch number(234/782)  Batch loss : 0.6276374459266663\n",
            "Epoch(0/1 : Batch number(235/782)  Batch loss : 0.5543639659881592\n",
            "Epoch(0/1 : Batch number(236/782)  Batch loss : 0.5435991883277893\n",
            "Epoch(0/1 : Batch number(237/782)  Batch loss : 0.3426479697227478\n",
            "Epoch(0/1 : Batch number(238/782)  Batch loss : 0.4811604917049408\n",
            "Epoch(0/1 : Batch number(239/782)  Batch loss : 0.669520914554596\n",
            "Epoch(0/1 : Batch number(240/782)  Batch loss : 0.568730354309082\n",
            "Epoch(0/1 : Batch number(241/782)  Batch loss : 0.43212783336639404\n",
            "Epoch(0/1 : Batch number(242/782)  Batch loss : 0.7078235745429993\n",
            "Epoch(0/1 : Batch number(243/782)  Batch loss : 0.651172399520874\n",
            "Epoch(0/1 : Batch number(244/782)  Batch loss : 0.52781081199646\n",
            "Epoch(0/1 : Batch number(245/782)  Batch loss : 0.7320753335952759\n",
            "Epoch(0/1 : Batch number(246/782)  Batch loss : 0.6695072054862976\n",
            "Epoch(0/1 : Batch number(247/782)  Batch loss : 0.4644436836242676\n",
            "Epoch(0/1 : Batch number(248/782)  Batch loss : 0.5000645518302917\n",
            "Epoch(0/1 : Batch number(249/782)  Batch loss : 0.7092971801757812\n",
            "Epoch(0/1 : Batch number(250/782)  Batch loss : 0.610829770565033\n",
            "Epoch(0/1 : Batch number(251/782)  Batch loss : 0.4896586239337921\n",
            "Epoch(0/1 : Batch number(252/782)  Batch loss : 0.5673589706420898\n",
            "Epoch(0/1 : Batch number(253/782)  Batch loss : 0.6871930956840515\n",
            "Epoch(0/1 : Batch number(254/782)  Batch loss : 0.8895171284675598\n",
            "Epoch(0/1 : Batch number(255/782)  Batch loss : 0.9756947159767151\n",
            "Epoch(0/1 : Batch number(256/782)  Batch loss : 0.44306349754333496\n",
            "Epoch(0/1 : Batch number(257/782)  Batch loss : 0.5396999716758728\n",
            "Epoch(0/1 : Batch number(258/782)  Batch loss : 0.7568348050117493\n",
            "Epoch(0/1 : Batch number(259/782)  Batch loss : 0.5458429455757141\n",
            "Epoch(0/1 : Batch number(260/782)  Batch loss : 0.6471407413482666\n",
            "Epoch(0/1 : Batch number(261/782)  Batch loss : 0.5830707550048828\n",
            "Epoch(0/1 : Batch number(262/782)  Batch loss : 0.5490422248840332\n",
            "Epoch(0/1 : Batch number(263/782)  Batch loss : 0.8387126326560974\n",
            "Epoch(0/1 : Batch number(264/782)  Batch loss : 0.8176298141479492\n",
            "Epoch(0/1 : Batch number(265/782)  Batch loss : 0.47489994764328003\n",
            "Epoch(0/1 : Batch number(266/782)  Batch loss : 0.7867830395698547\n",
            "Epoch(0/1 : Batch number(267/782)  Batch loss : 0.6089102029800415\n",
            "Epoch(0/1 : Batch number(268/782)  Batch loss : 0.43519243597984314\n",
            "Epoch(0/1 : Batch number(269/782)  Batch loss : 0.8255168795585632\n",
            "Epoch(0/1 : Batch number(270/782)  Batch loss : 0.7984843850135803\n",
            "Epoch(0/1 : Batch number(271/782)  Batch loss : 0.46149522066116333\n",
            "Epoch(0/1 : Batch number(272/782)  Batch loss : 0.6140084862709045\n",
            "Epoch(0/1 : Batch number(273/782)  Batch loss : 0.551680326461792\n",
            "Epoch(0/1 : Batch number(274/782)  Batch loss : 0.4159856140613556\n",
            "Epoch(0/1 : Batch number(275/782)  Batch loss : 0.3957326412200928\n",
            "Epoch(0/1 : Batch number(276/782)  Batch loss : 0.7874684929847717\n",
            "Epoch(0/1 : Batch number(277/782)  Batch loss : 0.7215738296508789\n",
            "Epoch(0/1 : Batch number(278/782)  Batch loss : 0.7722930312156677\n",
            "Epoch(0/1 : Batch number(279/782)  Batch loss : 0.48096713423728943\n",
            "Epoch(0/1 : Batch number(280/782)  Batch loss : 0.7153612971305847\n",
            "Epoch(0/1 : Batch number(281/782)  Batch loss : 0.7487027645111084\n",
            "Epoch(0/1 : Batch number(282/782)  Batch loss : 0.5553444623947144\n",
            "Epoch(0/1 : Batch number(283/782)  Batch loss : 0.6508932113647461\n",
            "Epoch(0/1 : Batch number(284/782)  Batch loss : 0.6161901354789734\n",
            "Epoch(0/1 : Batch number(285/782)  Batch loss : 0.7837055921554565\n",
            "Epoch(0/1 : Batch number(286/782)  Batch loss : 0.6502672433853149\n",
            "Epoch(0/1 : Batch number(287/782)  Batch loss : 0.43358781933784485\n",
            "Epoch(0/1 : Batch number(288/782)  Batch loss : 0.4964958429336548\n",
            "Epoch(0/1 : Batch number(289/782)  Batch loss : 0.5653269290924072\n",
            "Epoch(0/1 : Batch number(290/782)  Batch loss : 0.5551846623420715\n",
            "Epoch(0/1 : Batch number(291/782)  Batch loss : 0.5162768363952637\n",
            "Epoch(0/1 : Batch number(292/782)  Batch loss : 0.5223584175109863\n",
            "Epoch(0/1 : Batch number(293/782)  Batch loss : 0.6067913174629211\n",
            "Epoch(0/1 : Batch number(294/782)  Batch loss : 0.5284320116043091\n",
            "Epoch(0/1 : Batch number(295/782)  Batch loss : 0.5026647448539734\n",
            "Epoch(0/1 : Batch number(296/782)  Batch loss : 0.7101321220397949\n",
            "Epoch(0/1 : Batch number(297/782)  Batch loss : 0.5027725100517273\n",
            "Epoch(0/1 : Batch number(298/782)  Batch loss : 0.5968829393386841\n",
            "Epoch(0/1 : Batch number(299/782)  Batch loss : 0.745620846748352\n",
            "Epoch(0/1 : Batch number(300/782)  Batch loss : 0.5915012955665588\n",
            "Epoch(0/1 : Batch number(301/782)  Batch loss : 0.511272668838501\n",
            "Epoch(0/1 : Batch number(302/782)  Batch loss : 0.39714592695236206\n",
            "Epoch(0/1 : Batch number(303/782)  Batch loss : 0.6360657811164856\n",
            "Epoch(0/1 : Batch number(304/782)  Batch loss : 0.9136107563972473\n",
            "Epoch(0/1 : Batch number(305/782)  Batch loss : 0.6186025738716125\n",
            "Epoch(0/1 : Batch number(306/782)  Batch loss : 0.6103270053863525\n",
            "Epoch(0/1 : Batch number(307/782)  Batch loss : 0.6956163048744202\n",
            "Epoch(0/1 : Batch number(308/782)  Batch loss : 0.39577457308769226\n",
            "Epoch(0/1 : Batch number(309/782)  Batch loss : 0.3718549311161041\n",
            "Epoch(0/1 : Batch number(310/782)  Batch loss : 0.6552459597587585\n",
            "Epoch(0/1 : Batch number(311/782)  Batch loss : 0.6247960925102234\n",
            "Epoch(0/1 : Batch number(312/782)  Batch loss : 0.52865070104599\n",
            "Epoch(0/1 : Batch number(313/782)  Batch loss : 0.45064353942871094\n",
            "Epoch(0/1 : Batch number(314/782)  Batch loss : 0.5045316219329834\n",
            "Epoch(0/1 : Batch number(315/782)  Batch loss : 1.0174511671066284\n",
            "Epoch(0/1 : Batch number(316/782)  Batch loss : 0.47248849272727966\n",
            "Epoch(0/1 : Batch number(317/782)  Batch loss : 0.6579678058624268\n",
            "Epoch(0/1 : Batch number(318/782)  Batch loss : 0.5494459271430969\n",
            "Epoch(0/1 : Batch number(319/782)  Batch loss : 0.672187089920044\n",
            "Epoch(0/1 : Batch number(320/782)  Batch loss : 0.48143643140792847\n",
            "Epoch(0/1 : Batch number(321/782)  Batch loss : 0.6050519943237305\n",
            "Epoch(0/1 : Batch number(322/782)  Batch loss : 0.47838905453681946\n",
            "Epoch(0/1 : Batch number(323/782)  Batch loss : 0.6801756620407104\n",
            "Epoch(0/1 : Batch number(324/782)  Batch loss : 0.44038069248199463\n",
            "Epoch(0/1 : Batch number(325/782)  Batch loss : 0.547701895236969\n",
            "Epoch(0/1 : Batch number(326/782)  Batch loss : 0.7045364379882812\n",
            "Epoch(0/1 : Batch number(327/782)  Batch loss : 0.7675736546516418\n",
            "Epoch(0/1 : Batch number(328/782)  Batch loss : 0.36438819766044617\n",
            "Epoch(0/1 : Batch number(329/782)  Batch loss : 0.6686370372772217\n",
            "Epoch(0/1 : Batch number(330/782)  Batch loss : 0.814601480960846\n",
            "Epoch(0/1 : Batch number(331/782)  Batch loss : 0.7585381269454956\n",
            "Epoch(0/1 : Batch number(332/782)  Batch loss : 0.730946958065033\n",
            "Epoch(0/1 : Batch number(333/782)  Batch loss : 0.8588382005691528\n",
            "Epoch(0/1 : Batch number(334/782)  Batch loss : 0.517646849155426\n",
            "Epoch(0/1 : Batch number(335/782)  Batch loss : 0.316030353307724\n",
            "Epoch(0/1 : Batch number(336/782)  Batch loss : 0.8421246409416199\n",
            "Epoch(0/1 : Batch number(337/782)  Batch loss : 0.5920635461807251\n",
            "Epoch(0/1 : Batch number(338/782)  Batch loss : 0.5532370209693909\n",
            "Epoch(0/1 : Batch number(339/782)  Batch loss : 0.6720740795135498\n",
            "Epoch(0/1 : Batch number(340/782)  Batch loss : 0.427580326795578\n",
            "Epoch(0/1 : Batch number(341/782)  Batch loss : 0.5387875437736511\n",
            "Epoch(0/1 : Batch number(342/782)  Batch loss : 0.6166757941246033\n",
            "Epoch(0/1 : Batch number(343/782)  Batch loss : 0.7748298645019531\n",
            "Epoch(0/1 : Batch number(344/782)  Batch loss : 0.670362651348114\n",
            "Epoch(0/1 : Batch number(345/782)  Batch loss : 0.7251222729682922\n",
            "Epoch(0/1 : Batch number(346/782)  Batch loss : 0.7529156804084778\n",
            "Epoch(0/1 : Batch number(347/782)  Batch loss : 0.5348615646362305\n",
            "Epoch(0/1 : Batch number(348/782)  Batch loss : 0.7200441360473633\n",
            "Epoch(0/1 : Batch number(349/782)  Batch loss : 0.6563940048217773\n",
            "Epoch(0/1 : Batch number(350/782)  Batch loss : 0.5628518462181091\n",
            "Epoch(0/1 : Batch number(351/782)  Batch loss : 0.7151025533676147\n",
            "Epoch(0/1 : Batch number(352/782)  Batch loss : 0.5836706161499023\n",
            "Epoch(0/1 : Batch number(353/782)  Batch loss : 0.650550365447998\n",
            "Epoch(0/1 : Batch number(354/782)  Batch loss : 0.5841370224952698\n",
            "Epoch(0/1 : Batch number(355/782)  Batch loss : 0.6160508990287781\n",
            "Epoch(0/1 : Batch number(356/782)  Batch loss : 0.5083843469619751\n",
            "Epoch(0/1 : Batch number(357/782)  Batch loss : 0.7320501804351807\n",
            "Epoch(0/1 : Batch number(358/782)  Batch loss : 0.6267932057380676\n",
            "Epoch(0/1 : Batch number(359/782)  Batch loss : 0.6718224287033081\n",
            "Epoch(0/1 : Batch number(360/782)  Batch loss : 0.39224639534950256\n",
            "Epoch(0/1 : Batch number(361/782)  Batch loss : 0.49880462884902954\n",
            "Epoch(0/1 : Batch number(362/782)  Batch loss : 0.5741066932678223\n",
            "Epoch(0/1 : Batch number(363/782)  Batch loss : 0.6591951251029968\n",
            "Epoch(0/1 : Batch number(364/782)  Batch loss : 0.5149409770965576\n",
            "Epoch(0/1 : Batch number(365/782)  Batch loss : 0.4697505533695221\n",
            "Epoch(0/1 : Batch number(366/782)  Batch loss : 0.5950822830200195\n",
            "Epoch(0/1 : Batch number(367/782)  Batch loss : 0.6210896968841553\n",
            "Epoch(0/1 : Batch number(368/782)  Batch loss : 0.7841016054153442\n",
            "Epoch(0/1 : Batch number(369/782)  Batch loss : 0.5969008803367615\n",
            "Epoch(0/1 : Batch number(370/782)  Batch loss : 0.43599486351013184\n",
            "Epoch(0/1 : Batch number(371/782)  Batch loss : 0.580047070980072\n",
            "Epoch(0/1 : Batch number(372/782)  Batch loss : 0.5865144729614258\n",
            "Epoch(0/1 : Batch number(373/782)  Batch loss : 0.49350082874298096\n",
            "Epoch(0/1 : Batch number(374/782)  Batch loss : 0.4755745232105255\n",
            "Epoch(0/1 : Batch number(375/782)  Batch loss : 0.6279872059822083\n",
            "Epoch(0/1 : Batch number(376/782)  Batch loss : 0.5383443236351013\n",
            "Epoch(0/1 : Batch number(377/782)  Batch loss : 0.4403327703475952\n",
            "Epoch(0/1 : Batch number(378/782)  Batch loss : 0.6829884648323059\n",
            "Epoch(0/1 : Batch number(379/782)  Batch loss : 0.7581155300140381\n",
            "Epoch(0/1 : Batch number(380/782)  Batch loss : 0.7426605224609375\n",
            "Epoch(0/1 : Batch number(381/782)  Batch loss : 0.8827443718910217\n",
            "Epoch(0/1 : Batch number(382/782)  Batch loss : 0.5023037791252136\n",
            "Epoch(0/1 : Batch number(383/782)  Batch loss : 0.6789712309837341\n",
            "Epoch(0/1 : Batch number(384/782)  Batch loss : 0.49630168080329895\n",
            "Epoch(0/1 : Batch number(385/782)  Batch loss : 0.7750781178474426\n",
            "Epoch(0/1 : Batch number(386/782)  Batch loss : 0.5587349534034729\n",
            "Epoch(0/1 : Batch number(387/782)  Batch loss : 0.5720505118370056\n",
            "Epoch(0/1 : Batch number(388/782)  Batch loss : 0.8499588966369629\n",
            "Epoch(0/1 : Batch number(389/782)  Batch loss : 0.504406213760376\n",
            "Epoch(0/1 : Batch number(390/782)  Batch loss : 0.822394609451294\n",
            "Epoch(0/1 : Batch number(391/782)  Batch loss : 0.576391875743866\n",
            "Epoch(0/1 : Batch number(392/782)  Batch loss : 0.5675477981567383\n",
            "Epoch(0/1 : Batch number(393/782)  Batch loss : 0.7298311591148376\n",
            "Epoch(0/1 : Batch number(394/782)  Batch loss : 0.33871543407440186\n",
            "Epoch(0/1 : Batch number(395/782)  Batch loss : 0.5661399364471436\n",
            "Epoch(0/1 : Batch number(396/782)  Batch loss : 0.7474867701530457\n",
            "Epoch(0/1 : Batch number(397/782)  Batch loss : 0.686561107635498\n",
            "Epoch(0/1 : Batch number(398/782)  Batch loss : 0.47308626770973206\n",
            "Epoch(0/1 : Batch number(399/782)  Batch loss : 0.5793898701667786\n",
            "Epoch(0/1 : Batch number(400/782)  Batch loss : 0.7701399922370911\n",
            "Epoch(0/1 : Batch number(401/782)  Batch loss : 0.9109356999397278\n",
            "Epoch(0/1 : Batch number(402/782)  Batch loss : 0.530646800994873\n",
            "Epoch(0/1 : Batch number(403/782)  Batch loss : 0.9710667133331299\n",
            "Epoch(0/1 : Batch number(404/782)  Batch loss : 0.6187557578086853\n",
            "Epoch(0/1 : Batch number(405/782)  Batch loss : 0.6632344722747803\n",
            "Epoch(0/1 : Batch number(406/782)  Batch loss : 0.6226958632469177\n",
            "Epoch(0/1 : Batch number(407/782)  Batch loss : 0.7553615570068359\n",
            "Epoch(0/1 : Batch number(408/782)  Batch loss : 0.6354790925979614\n",
            "Epoch(0/1 : Batch number(409/782)  Batch loss : 0.5785180926322937\n",
            "Epoch(0/1 : Batch number(410/782)  Batch loss : 0.3783246576786041\n",
            "Epoch(0/1 : Batch number(411/782)  Batch loss : 0.6122217774391174\n",
            "Epoch(0/1 : Batch number(412/782)  Batch loss : 0.959982693195343\n",
            "Epoch(0/1 : Batch number(413/782)  Batch loss : 0.6741698980331421\n",
            "Epoch(0/1 : Batch number(414/782)  Batch loss : 0.43542516231536865\n",
            "Epoch(0/1 : Batch number(415/782)  Batch loss : 0.6006482243537903\n",
            "Epoch(0/1 : Batch number(416/782)  Batch loss : 0.7594712376594543\n",
            "Epoch(0/1 : Batch number(417/782)  Batch loss : 0.4813486933708191\n",
            "Epoch(0/1 : Batch number(418/782)  Batch loss : 0.5133041739463806\n",
            "Epoch(0/1 : Batch number(419/782)  Batch loss : 0.7756672501564026\n",
            "Epoch(0/1 : Batch number(420/782)  Batch loss : 0.43114835023880005\n",
            "Epoch(0/1 : Batch number(421/782)  Batch loss : 0.832310676574707\n",
            "Epoch(0/1 : Batch number(422/782)  Batch loss : 0.6228570938110352\n",
            "Epoch(0/1 : Batch number(423/782)  Batch loss : 0.507828950881958\n",
            "Epoch(0/1 : Batch number(424/782)  Batch loss : 0.7162591218948364\n",
            "Epoch(0/1 : Batch number(425/782)  Batch loss : 0.514487624168396\n",
            "Epoch(0/1 : Batch number(426/782)  Batch loss : 0.3729185163974762\n",
            "Epoch(0/1 : Batch number(427/782)  Batch loss : 0.670915424823761\n",
            "Epoch(0/1 : Batch number(428/782)  Batch loss : 0.5939338207244873\n",
            "Epoch(0/1 : Batch number(429/782)  Batch loss : 0.6575393080711365\n",
            "Epoch(0/1 : Batch number(430/782)  Batch loss : 0.6847612857818604\n",
            "Epoch(0/1 : Batch number(431/782)  Batch loss : 0.583921492099762\n",
            "Epoch(0/1 : Batch number(432/782)  Batch loss : 0.5948262214660645\n",
            "Epoch(0/1 : Batch number(433/782)  Batch loss : 0.6048126816749573\n",
            "Epoch(0/1 : Batch number(434/782)  Batch loss : 0.6286665201187134\n",
            "Epoch(0/1 : Batch number(435/782)  Batch loss : 0.5434166789054871\n",
            "Epoch(0/1 : Batch number(436/782)  Batch loss : 0.6930367946624756\n",
            "Epoch(0/1 : Batch number(437/782)  Batch loss : 0.5521285533905029\n",
            "Epoch(0/1 : Batch number(438/782)  Batch loss : 0.7210499048233032\n",
            "Epoch(0/1 : Batch number(439/782)  Batch loss : 0.5980047583580017\n",
            "Epoch(0/1 : Batch number(440/782)  Batch loss : 0.5961059927940369\n",
            "Epoch(0/1 : Batch number(441/782)  Batch loss : 0.44429174065589905\n",
            "Epoch(0/1 : Batch number(442/782)  Batch loss : 0.7498698830604553\n",
            "Epoch(0/1 : Batch number(443/782)  Batch loss : 0.6701623201370239\n",
            "Epoch(0/1 : Batch number(444/782)  Batch loss : 0.8010424971580505\n",
            "Epoch(0/1 : Batch number(445/782)  Batch loss : 0.5479155778884888\n",
            "Epoch(0/1 : Batch number(446/782)  Batch loss : 0.2826715409755707\n",
            "Epoch(0/1 : Batch number(447/782)  Batch loss : 0.6827945113182068\n",
            "Epoch(0/1 : Batch number(448/782)  Batch loss : 0.464789479970932\n",
            "Epoch(0/1 : Batch number(449/782)  Batch loss : 0.7253171801567078\n",
            "Epoch(0/1 : Batch number(450/782)  Batch loss : 0.6474236845970154\n",
            "Epoch(0/1 : Batch number(451/782)  Batch loss : 0.7996121048927307\n",
            "Epoch(0/1 : Batch number(452/782)  Batch loss : 0.6048604846000671\n",
            "Epoch(0/1 : Batch number(453/782)  Batch loss : 0.6495413184165955\n",
            "Epoch(0/1 : Batch number(454/782)  Batch loss : 0.5280637741088867\n",
            "Epoch(0/1 : Batch number(455/782)  Batch loss : 0.7425614595413208\n",
            "Epoch(0/1 : Batch number(456/782)  Batch loss : 0.4920039474964142\n",
            "Epoch(0/1 : Batch number(457/782)  Batch loss : 0.6532719731330872\n",
            "Epoch(0/1 : Batch number(458/782)  Batch loss : 0.5745978355407715\n",
            "Epoch(0/1 : Batch number(459/782)  Batch loss : 0.567343533039093\n",
            "Epoch(0/1 : Batch number(460/782)  Batch loss : 0.5707617402076721\n",
            "Epoch(0/1 : Batch number(461/782)  Batch loss : 0.5429951548576355\n",
            "Epoch(0/1 : Batch number(462/782)  Batch loss : 0.7189590334892273\n",
            "Epoch(0/1 : Batch number(463/782)  Batch loss : 0.5775240063667297\n",
            "Epoch(0/1 : Batch number(464/782)  Batch loss : 0.7627661228179932\n",
            "Epoch(0/1 : Batch number(465/782)  Batch loss : 0.6525449156761169\n",
            "Epoch(0/1 : Batch number(466/782)  Batch loss : 0.620783269405365\n",
            "Epoch(0/1 : Batch number(467/782)  Batch loss : 0.5357507467269897\n",
            "Epoch(0/1 : Batch number(468/782)  Batch loss : 0.5295665860176086\n",
            "Epoch(0/1 : Batch number(469/782)  Batch loss : 0.6854893565177917\n",
            "Epoch(0/1 : Batch number(470/782)  Batch loss : 0.5065574049949646\n",
            "Epoch(0/1 : Batch number(471/782)  Batch loss : 0.7552657723426819\n",
            "Epoch(0/1 : Batch number(472/782)  Batch loss : 0.7396969199180603\n",
            "Epoch(0/1 : Batch number(473/782)  Batch loss : 0.5320834517478943\n",
            "Epoch(0/1 : Batch number(474/782)  Batch loss : 0.7532282471656799\n",
            "Epoch(0/1 : Batch number(475/782)  Batch loss : 0.4416346549987793\n",
            "Epoch(0/1 : Batch number(476/782)  Batch loss : 0.5959939956665039\n",
            "Epoch(0/1 : Batch number(477/782)  Batch loss : 0.6769382357597351\n",
            "Epoch(0/1 : Batch number(478/782)  Batch loss : 0.6731514930725098\n",
            "Epoch(0/1 : Batch number(479/782)  Batch loss : 0.6864326596260071\n",
            "Epoch(0/1 : Batch number(480/782)  Batch loss : 0.5381104946136475\n",
            "Epoch(0/1 : Batch number(481/782)  Batch loss : 0.5786455869674683\n",
            "Epoch(0/1 : Batch number(482/782)  Batch loss : 0.6030793786048889\n",
            "Epoch(0/1 : Batch number(483/782)  Batch loss : 0.5175842642784119\n",
            "Epoch(0/1 : Batch number(484/782)  Batch loss : 0.5173280239105225\n",
            "Epoch(0/1 : Batch number(485/782)  Batch loss : 0.49986979365348816\n",
            "Epoch(0/1 : Batch number(486/782)  Batch loss : 0.5576934218406677\n",
            "Epoch(0/1 : Batch number(487/782)  Batch loss : 0.8414430022239685\n",
            "Epoch(0/1 : Batch number(488/782)  Batch loss : 0.4422324597835541\n",
            "Epoch(0/1 : Batch number(489/782)  Batch loss : 0.7206338047981262\n",
            "Epoch(0/1 : Batch number(490/782)  Batch loss : 0.7563795447349548\n",
            "Epoch(0/1 : Batch number(491/782)  Batch loss : 0.37776893377304077\n",
            "Epoch(0/1 : Batch number(492/782)  Batch loss : 0.73606276512146\n",
            "Epoch(0/1 : Batch number(493/782)  Batch loss : 0.6760420799255371\n",
            "Epoch(0/1 : Batch number(494/782)  Batch loss : 0.49628394842147827\n",
            "Epoch(0/1 : Batch number(495/782)  Batch loss : 0.5480573773384094\n",
            "Epoch(0/1 : Batch number(496/782)  Batch loss : 0.608959972858429\n",
            "Epoch(0/1 : Batch number(497/782)  Batch loss : 0.558633029460907\n",
            "Epoch(0/1 : Batch number(498/782)  Batch loss : 0.7329035997390747\n",
            "Epoch(0/1 : Batch number(499/782)  Batch loss : 0.6683279871940613\n",
            "Epoch(0/1 : Batch number(500/782)  Batch loss : 0.6742287874221802\n",
            "Epoch(0/1 : Batch number(501/782)  Batch loss : 0.6715677976608276\n",
            "Epoch(0/1 : Batch number(502/782)  Batch loss : 0.6787260174751282\n",
            "Epoch(0/1 : Batch number(503/782)  Batch loss : 0.9556241035461426\n",
            "Epoch(0/1 : Batch number(504/782)  Batch loss : 0.37170228362083435\n",
            "Epoch(0/1 : Batch number(505/782)  Batch loss : 0.523084282875061\n",
            "Epoch(0/1 : Batch number(506/782)  Batch loss : 0.5387939214706421\n",
            "Epoch(0/1 : Batch number(507/782)  Batch loss : 0.7014915943145752\n",
            "Epoch(0/1 : Batch number(508/782)  Batch loss : 0.6357316970825195\n",
            "Epoch(0/1 : Batch number(509/782)  Batch loss : 0.8024764657020569\n",
            "Epoch(0/1 : Batch number(510/782)  Batch loss : 0.6589760780334473\n",
            "Epoch(0/1 : Batch number(511/782)  Batch loss : 0.41608673334121704\n",
            "Epoch(0/1 : Batch number(512/782)  Batch loss : 0.7558214664459229\n",
            "Epoch(0/1 : Batch number(513/782)  Batch loss : 0.5414577126502991\n",
            "Epoch(0/1 : Batch number(514/782)  Batch loss : 0.4863750636577606\n",
            "Epoch(0/1 : Batch number(515/782)  Batch loss : 0.7058964371681213\n",
            "Epoch(0/1 : Batch number(516/782)  Batch loss : 0.48862722516059875\n",
            "Epoch(0/1 : Batch number(517/782)  Batch loss : 0.7941679954528809\n",
            "Epoch(0/1 : Batch number(518/782)  Batch loss : 0.6362942457199097\n",
            "Epoch(0/1 : Batch number(519/782)  Batch loss : 0.5070326924324036\n",
            "Epoch(0/1 : Batch number(520/782)  Batch loss : 0.7540040612220764\n",
            "Epoch(0/1 : Batch number(521/782)  Batch loss : 1.0373263359069824\n",
            "Epoch(0/1 : Batch number(522/782)  Batch loss : 0.7378392219543457\n",
            "Epoch(0/1 : Batch number(523/782)  Batch loss : 0.37922704219818115\n",
            "Epoch(0/1 : Batch number(524/782)  Batch loss : 0.6496992111206055\n",
            "Epoch(0/1 : Batch number(525/782)  Batch loss : 0.7410475611686707\n",
            "Epoch(0/1 : Batch number(526/782)  Batch loss : 0.8316811919212341\n",
            "Epoch(0/1 : Batch number(527/782)  Batch loss : 0.6019769906997681\n",
            "Epoch(0/1 : Batch number(528/782)  Batch loss : 1.004974126815796\n",
            "Epoch(0/1 : Batch number(529/782)  Batch loss : 0.49435558915138245\n",
            "Epoch(0/1 : Batch number(530/782)  Batch loss : 0.42590808868408203\n",
            "Epoch(0/1 : Batch number(531/782)  Batch loss : 0.36245235800743103\n",
            "Epoch(0/1 : Batch number(532/782)  Batch loss : 0.41301125288009644\n",
            "Epoch(0/1 : Batch number(533/782)  Batch loss : 0.5363104939460754\n",
            "Epoch(0/1 : Batch number(534/782)  Batch loss : 0.7427675724029541\n",
            "Epoch(0/1 : Batch number(535/782)  Batch loss : 0.6011291742324829\n",
            "Epoch(0/1 : Batch number(536/782)  Batch loss : 0.7515856623649597\n",
            "Epoch(0/1 : Batch number(537/782)  Batch loss : 0.5963369607925415\n",
            "Epoch(0/1 : Batch number(538/782)  Batch loss : 0.5375844836235046\n",
            "Epoch(0/1 : Batch number(539/782)  Batch loss : 0.602465033531189\n",
            "Epoch(0/1 : Batch number(540/782)  Batch loss : 0.5028870105743408\n",
            "Epoch(0/1 : Batch number(541/782)  Batch loss : 0.4820280075073242\n",
            "Epoch(0/1 : Batch number(542/782)  Batch loss : 0.5157647728919983\n",
            "Epoch(0/1 : Batch number(543/782)  Batch loss : 0.881441593170166\n",
            "Epoch(0/1 : Batch number(544/782)  Batch loss : 0.5363494753837585\n",
            "Epoch(0/1 : Batch number(545/782)  Batch loss : 0.3276068866252899\n",
            "Epoch(0/1 : Batch number(546/782)  Batch loss : 0.6294483542442322\n",
            "Epoch(0/1 : Batch number(547/782)  Batch loss : 0.5032784342765808\n",
            "Epoch(0/1 : Batch number(548/782)  Batch loss : 0.7043796181678772\n",
            "Epoch(0/1 : Batch number(549/782)  Batch loss : 0.580467164516449\n",
            "Epoch(0/1 : Batch number(550/782)  Batch loss : 0.4073447287082672\n",
            "Epoch(0/1 : Batch number(551/782)  Batch loss : 0.467485636472702\n",
            "Epoch(0/1 : Batch number(552/782)  Batch loss : 0.6937636137008667\n",
            "Epoch(0/1 : Batch number(553/782)  Batch loss : 0.6755107045173645\n",
            "Epoch(0/1 : Batch number(554/782)  Batch loss : 0.5953344702720642\n",
            "Epoch(0/1 : Batch number(555/782)  Batch loss : 0.6026793718338013\n",
            "Epoch(0/1 : Batch number(556/782)  Batch loss : 0.2898055911064148\n",
            "Epoch(0/1 : Batch number(557/782)  Batch loss : 0.6412779092788696\n",
            "Epoch(0/1 : Batch number(558/782)  Batch loss : 0.68288254737854\n",
            "Epoch(0/1 : Batch number(559/782)  Batch loss : 0.7618099451065063\n",
            "Epoch(0/1 : Batch number(560/782)  Batch loss : 0.7401654124259949\n",
            "Epoch(0/1 : Batch number(561/782)  Batch loss : 0.5634981393814087\n",
            "Epoch(0/1 : Batch number(562/782)  Batch loss : 0.6620791554450989\n",
            "Epoch(0/1 : Batch number(563/782)  Batch loss : 0.7926945686340332\n",
            "Epoch(0/1 : Batch number(564/782)  Batch loss : 0.5107869505882263\n",
            "Epoch(0/1 : Batch number(565/782)  Batch loss : 0.3288712203502655\n",
            "Epoch(0/1 : Batch number(566/782)  Batch loss : 0.7491353154182434\n",
            "Epoch(0/1 : Batch number(567/782)  Batch loss : 0.6084270477294922\n",
            "Epoch(0/1 : Batch number(568/782)  Batch loss : 0.6116604804992676\n",
            "Epoch(0/1 : Batch number(569/782)  Batch loss : 0.7937276363372803\n",
            "Epoch(0/1 : Batch number(570/782)  Batch loss : 0.4446086287498474\n",
            "Epoch(0/1 : Batch number(571/782)  Batch loss : 0.5603504776954651\n",
            "Epoch(0/1 : Batch number(572/782)  Batch loss : 0.5436297655105591\n",
            "Epoch(0/1 : Batch number(573/782)  Batch loss : 0.6059887409210205\n",
            "Epoch(0/1 : Batch number(574/782)  Batch loss : 0.5700686573982239\n",
            "Epoch(0/1 : Batch number(575/782)  Batch loss : 0.9011242389678955\n",
            "Epoch(0/1 : Batch number(576/782)  Batch loss : 0.7352796792984009\n",
            "Epoch(0/1 : Batch number(577/782)  Batch loss : 0.5455958843231201\n",
            "Epoch(0/1 : Batch number(578/782)  Batch loss : 0.9138872623443604\n",
            "Epoch(0/1 : Batch number(579/782)  Batch loss : 0.42745447158813477\n",
            "Epoch(0/1 : Batch number(580/782)  Batch loss : 0.5527986884117126\n",
            "Epoch(0/1 : Batch number(581/782)  Batch loss : 0.660333514213562\n",
            "Epoch(0/1 : Batch number(582/782)  Batch loss : 0.6510578393936157\n",
            "Epoch(0/1 : Batch number(583/782)  Batch loss : 0.348483681678772\n",
            "Epoch(0/1 : Batch number(584/782)  Batch loss : 0.9021710753440857\n",
            "Epoch(0/1 : Batch number(585/782)  Batch loss : 0.6115544438362122\n",
            "Epoch(0/1 : Batch number(586/782)  Batch loss : 0.541872501373291\n",
            "Epoch(0/1 : Batch number(587/782)  Batch loss : 0.52153480052948\n",
            "Epoch(0/1 : Batch number(588/782)  Batch loss : 0.5350368618965149\n",
            "Epoch(0/1 : Batch number(589/782)  Batch loss : 0.4713171422481537\n",
            "Epoch(0/1 : Batch number(590/782)  Batch loss : 0.7785010933876038\n",
            "Epoch(0/1 : Batch number(591/782)  Batch loss : 0.5139359831809998\n",
            "Epoch(0/1 : Batch number(592/782)  Batch loss : 0.844659686088562\n",
            "Epoch(0/1 : Batch number(593/782)  Batch loss : 0.5212469100952148\n",
            "Epoch(0/1 : Batch number(594/782)  Batch loss : 0.6584556102752686\n",
            "Epoch(0/1 : Batch number(595/782)  Batch loss : 0.6488038301467896\n",
            "Epoch(0/1 : Batch number(596/782)  Batch loss : 0.8039218187332153\n",
            "Epoch(0/1 : Batch number(597/782)  Batch loss : 0.6547719240188599\n",
            "Epoch(0/1 : Batch number(598/782)  Batch loss : 0.7704627513885498\n",
            "Epoch(0/1 : Batch number(599/782)  Batch loss : 0.39283204078674316\n",
            "Epoch(0/1 : Batch number(600/782)  Batch loss : 1.0400530099868774\n",
            "Epoch(0/1 : Batch number(601/782)  Batch loss : 0.504397451877594\n",
            "Epoch(0/1 : Batch number(602/782)  Batch loss : 0.699006974697113\n",
            "Epoch(0/1 : Batch number(603/782)  Batch loss : 0.49265655875205994\n",
            "Epoch(0/1 : Batch number(604/782)  Batch loss : 0.7327977418899536\n",
            "Epoch(0/1 : Batch number(605/782)  Batch loss : 0.809225857257843\n",
            "Epoch(0/1 : Batch number(606/782)  Batch loss : 0.35073333978652954\n",
            "Epoch(0/1 : Batch number(607/782)  Batch loss : 0.4065733253955841\n",
            "Epoch(0/1 : Batch number(608/782)  Batch loss : 0.8053706288337708\n",
            "Epoch(0/1 : Batch number(609/782)  Batch loss : 0.4820062518119812\n",
            "Epoch(0/1 : Batch number(610/782)  Batch loss : 0.5846962928771973\n",
            "Epoch(0/1 : Batch number(611/782)  Batch loss : 0.7043479084968567\n",
            "Epoch(0/1 : Batch number(612/782)  Batch loss : 0.34994015097618103\n",
            "Epoch(0/1 : Batch number(613/782)  Batch loss : 0.4817349314689636\n",
            "Epoch(0/1 : Batch number(614/782)  Batch loss : 0.7975808382034302\n",
            "Epoch(0/1 : Batch number(615/782)  Batch loss : 0.484379380941391\n",
            "Epoch(0/1 : Batch number(616/782)  Batch loss : 0.5290202498435974\n",
            "Epoch(0/1 : Batch number(617/782)  Batch loss : 0.5806289315223694\n",
            "Epoch(0/1 : Batch number(618/782)  Batch loss : 0.534734845161438\n",
            "Epoch(0/1 : Batch number(619/782)  Batch loss : 0.5455601811408997\n",
            "Epoch(0/1 : Batch number(620/782)  Batch loss : 0.6408214569091797\n",
            "Epoch(0/1 : Batch number(621/782)  Batch loss : 0.607380747795105\n",
            "Epoch(0/1 : Batch number(622/782)  Batch loss : 0.5468354821205139\n",
            "Epoch(0/1 : Batch number(623/782)  Batch loss : 0.39993709325790405\n",
            "Epoch(0/1 : Batch number(624/782)  Batch loss : 0.5661263465881348\n",
            "Epoch(0/1 : Batch number(625/782)  Batch loss : 0.7725152373313904\n",
            "Epoch(0/1 : Batch number(626/782)  Batch loss : 0.699529230594635\n",
            "Epoch(0/1 : Batch number(627/782)  Batch loss : 0.6867872476577759\n",
            "Epoch(0/1 : Batch number(628/782)  Batch loss : 0.8521869778633118\n",
            "Epoch(0/1 : Batch number(629/782)  Batch loss : 0.9326173067092896\n",
            "Epoch(0/1 : Batch number(630/782)  Batch loss : 0.5264186263084412\n",
            "Epoch(0/1 : Batch number(631/782)  Batch loss : 0.8535378575325012\n",
            "Epoch(0/1 : Batch number(632/782)  Batch loss : 0.6236343383789062\n",
            "Epoch(0/1 : Batch number(633/782)  Batch loss : 0.5194670557975769\n",
            "Epoch(0/1 : Batch number(634/782)  Batch loss : 0.7135323882102966\n",
            "Epoch(0/1 : Batch number(635/782)  Batch loss : 0.6947751641273499\n",
            "Epoch(0/1 : Batch number(636/782)  Batch loss : 0.6431519985198975\n",
            "Epoch(0/1 : Batch number(637/782)  Batch loss : 0.7238742709159851\n",
            "Epoch(0/1 : Batch number(638/782)  Batch loss : 0.5688011050224304\n",
            "Epoch(0/1 : Batch number(639/782)  Batch loss : 0.3759114444255829\n",
            "Epoch(0/1 : Batch number(640/782)  Batch loss : 0.7092161178588867\n",
            "Epoch(0/1 : Batch number(641/782)  Batch loss : 0.6736717224121094\n",
            "Epoch(0/1 : Batch number(642/782)  Batch loss : 0.3927321434020996\n",
            "Epoch(0/1 : Batch number(643/782)  Batch loss : 0.7762894034385681\n",
            "Epoch(0/1 : Batch number(644/782)  Batch loss : 0.5807128548622131\n",
            "Epoch(0/1 : Batch number(645/782)  Batch loss : 0.4742683470249176\n",
            "Epoch(0/1 : Batch number(646/782)  Batch loss : 0.621937096118927\n",
            "Epoch(0/1 : Batch number(647/782)  Batch loss : 0.5376333594322205\n",
            "Epoch(0/1 : Batch number(648/782)  Batch loss : 0.4991680979728699\n",
            "Epoch(0/1 : Batch number(649/782)  Batch loss : 0.6482667922973633\n",
            "Epoch(0/1 : Batch number(650/782)  Batch loss : 0.49942970275878906\n",
            "Epoch(0/1 : Batch number(651/782)  Batch loss : 0.8411586880683899\n",
            "Epoch(0/1 : Batch number(652/782)  Batch loss : 0.746495246887207\n",
            "Epoch(0/1 : Batch number(653/782)  Batch loss : 0.7934471964836121\n",
            "Epoch(0/1 : Batch number(654/782)  Batch loss : 0.747407078742981\n",
            "Epoch(0/1 : Batch number(655/782)  Batch loss : 0.6462190747261047\n",
            "Epoch(0/1 : Batch number(656/782)  Batch loss : 0.6041824221611023\n",
            "Epoch(0/1 : Batch number(657/782)  Batch loss : 0.6639719009399414\n",
            "Epoch(0/1 : Batch number(658/782)  Batch loss : 0.48328277468681335\n",
            "Epoch(0/1 : Batch number(659/782)  Batch loss : 0.47595828771591187\n",
            "Epoch(0/1 : Batch number(660/782)  Batch loss : 0.6487753987312317\n",
            "Epoch(0/1 : Batch number(661/782)  Batch loss : 0.4711132049560547\n",
            "Epoch(0/1 : Batch number(662/782)  Batch loss : 0.4828324019908905\n",
            "Epoch(0/1 : Batch number(663/782)  Batch loss : 0.5065794587135315\n",
            "Epoch(0/1 : Batch number(664/782)  Batch loss : 0.6319617629051208\n",
            "Epoch(0/1 : Batch number(665/782)  Batch loss : 0.5193799734115601\n",
            "Epoch(0/1 : Batch number(666/782)  Batch loss : 0.4138513505458832\n",
            "Epoch(0/1 : Batch number(667/782)  Batch loss : 0.5211943984031677\n",
            "Epoch(0/1 : Batch number(668/782)  Batch loss : 0.6535183787345886\n",
            "Epoch(0/1 : Batch number(669/782)  Batch loss : 0.6597458124160767\n",
            "Epoch(0/1 : Batch number(670/782)  Batch loss : 0.5541476607322693\n",
            "Epoch(0/1 : Batch number(671/782)  Batch loss : 0.7305759191513062\n",
            "Epoch(0/1 : Batch number(672/782)  Batch loss : 0.8988979458808899\n",
            "Epoch(0/1 : Batch number(673/782)  Batch loss : 0.6198183298110962\n",
            "Epoch(0/1 : Batch number(674/782)  Batch loss : 0.7012845277786255\n",
            "Epoch(0/1 : Batch number(675/782)  Batch loss : 0.7182418704032898\n",
            "Epoch(0/1 : Batch number(676/782)  Batch loss : 0.6456270217895508\n",
            "Epoch(0/1 : Batch number(677/782)  Batch loss : 0.5006728768348694\n",
            "Epoch(0/1 : Batch number(678/782)  Batch loss : 0.5679606795310974\n",
            "Epoch(0/1 : Batch number(679/782)  Batch loss : 0.8634270429611206\n",
            "Epoch(0/1 : Batch number(680/782)  Batch loss : 0.5176006555557251\n",
            "Epoch(0/1 : Batch number(681/782)  Batch loss : 0.6470212340354919\n",
            "Epoch(0/1 : Batch number(682/782)  Batch loss : 0.7557275891304016\n",
            "Epoch(0/1 : Batch number(683/782)  Batch loss : 0.4211263358592987\n",
            "Epoch(0/1 : Batch number(684/782)  Batch loss : 0.5173150300979614\n",
            "Epoch(0/1 : Batch number(685/782)  Batch loss : 0.4777890145778656\n",
            "Epoch(0/1 : Batch number(686/782)  Batch loss : 0.7448849678039551\n",
            "Epoch(0/1 : Batch number(687/782)  Batch loss : 0.7678209543228149\n",
            "Epoch(0/1 : Batch number(688/782)  Batch loss : 0.6089339852333069\n",
            "Epoch(0/1 : Batch number(689/782)  Batch loss : 0.4812534749507904\n",
            "Epoch(0/1 : Batch number(690/782)  Batch loss : 0.4688219130039215\n",
            "Epoch(0/1 : Batch number(691/782)  Batch loss : 0.8609947562217712\n",
            "Epoch(0/1 : Batch number(692/782)  Batch loss : 0.7333273887634277\n",
            "Epoch(0/1 : Batch number(693/782)  Batch loss : 0.35221564769744873\n",
            "Epoch(0/1 : Batch number(694/782)  Batch loss : 0.5064975619316101\n",
            "Epoch(0/1 : Batch number(695/782)  Batch loss : 0.5356342792510986\n",
            "Epoch(0/1 : Batch number(696/782)  Batch loss : 0.5517463088035583\n",
            "Epoch(0/1 : Batch number(697/782)  Batch loss : 0.6196726560592651\n",
            "Epoch(0/1 : Batch number(698/782)  Batch loss : 0.652286946773529\n",
            "Epoch(0/1 : Batch number(699/782)  Batch loss : 0.6684399843215942\n",
            "Epoch(0/1 : Batch number(700/782)  Batch loss : 0.7986763715744019\n",
            "Epoch(0/1 : Batch number(701/782)  Batch loss : 0.4868822693824768\n",
            "Epoch(0/1 : Batch number(702/782)  Batch loss : 0.6003249883651733\n",
            "Epoch(0/1 : Batch number(703/782)  Batch loss : 0.6064913868904114\n",
            "Epoch(0/1 : Batch number(704/782)  Batch loss : 0.6958431005477905\n",
            "Epoch(0/1 : Batch number(705/782)  Batch loss : 0.4217546284198761\n",
            "Epoch(0/1 : Batch number(706/782)  Batch loss : 0.5827295780181885\n",
            "Epoch(0/1 : Batch number(707/782)  Batch loss : 0.7772004008293152\n",
            "Epoch(0/1 : Batch number(708/782)  Batch loss : 0.5963233709335327\n",
            "Epoch(0/1 : Batch number(709/782)  Batch loss : 0.516265869140625\n",
            "Epoch(0/1 : Batch number(710/782)  Batch loss : 0.8769380450248718\n",
            "Epoch(0/1 : Batch number(711/782)  Batch loss : 0.5771899223327637\n",
            "Epoch(0/1 : Batch number(712/782)  Batch loss : 0.3942238688468933\n",
            "Epoch(0/1 : Batch number(713/782)  Batch loss : 0.7709614038467407\n",
            "Epoch(0/1 : Batch number(714/782)  Batch loss : 0.3565967082977295\n",
            "Epoch(0/1 : Batch number(715/782)  Batch loss : 0.5897579789161682\n",
            "Epoch(0/1 : Batch number(716/782)  Batch loss : 0.46458321809768677\n",
            "Epoch(0/1 : Batch number(717/782)  Batch loss : 0.4999329447746277\n",
            "Epoch(0/1 : Batch number(718/782)  Batch loss : 0.908933699131012\n",
            "Epoch(0/1 : Batch number(719/782)  Batch loss : 0.6419520378112793\n",
            "Epoch(0/1 : Batch number(720/782)  Batch loss : 0.9060695171356201\n",
            "Epoch(0/1 : Batch number(721/782)  Batch loss : 0.5619222521781921\n",
            "Epoch(0/1 : Batch number(722/782)  Batch loss : 0.5564568042755127\n",
            "Epoch(0/1 : Batch number(723/782)  Batch loss : 0.5351076722145081\n",
            "Epoch(0/1 : Batch number(724/782)  Batch loss : 0.6679062247276306\n",
            "Epoch(0/1 : Batch number(725/782)  Batch loss : 0.6801314949989319\n",
            "Epoch(0/1 : Batch number(726/782)  Batch loss : 0.674117386341095\n",
            "Epoch(0/1 : Batch number(727/782)  Batch loss : 0.685249924659729\n",
            "Epoch(0/1 : Batch number(728/782)  Batch loss : 0.6738826036453247\n",
            "Epoch(0/1 : Batch number(729/782)  Batch loss : 0.7611808776855469\n",
            "Epoch(0/1 : Batch number(730/782)  Batch loss : 0.6378862857818604\n",
            "Epoch(0/1 : Batch number(731/782)  Batch loss : 0.4797687232494354\n",
            "Epoch(0/1 : Batch number(732/782)  Batch loss : 0.6696380376815796\n",
            "Epoch(0/1 : Batch number(733/782)  Batch loss : 0.5604094862937927\n",
            "Epoch(0/1 : Batch number(734/782)  Batch loss : 0.5449715256690979\n",
            "Epoch(0/1 : Batch number(735/782)  Batch loss : 0.6291915774345398\n",
            "Epoch(0/1 : Batch number(736/782)  Batch loss : 0.6702178716659546\n",
            "Epoch(0/1 : Batch number(737/782)  Batch loss : 0.7714073657989502\n",
            "Epoch(0/1 : Batch number(738/782)  Batch loss : 0.8509498238563538\n",
            "Epoch(0/1 : Batch number(739/782)  Batch loss : 0.39512068033218384\n",
            "Epoch(0/1 : Batch number(740/782)  Batch loss : 0.8438107371330261\n",
            "Epoch(0/1 : Batch number(741/782)  Batch loss : 0.6825851798057556\n",
            "Epoch(0/1 : Batch number(742/782)  Batch loss : 0.5254389643669128\n",
            "Epoch(0/1 : Batch number(743/782)  Batch loss : 0.9360045790672302\n",
            "Epoch(0/1 : Batch number(744/782)  Batch loss : 0.7521718740463257\n",
            "Epoch(0/1 : Batch number(745/782)  Batch loss : 0.7652844786643982\n",
            "Epoch(0/1 : Batch number(746/782)  Batch loss : 0.6953853368759155\n",
            "Epoch(0/1 : Batch number(747/782)  Batch loss : 0.9962753057479858\n",
            "Epoch(0/1 : Batch number(748/782)  Batch loss : 0.520943284034729\n",
            "Epoch(0/1 : Batch number(749/782)  Batch loss : 0.7840050458908081\n",
            "Epoch(0/1 : Batch number(750/782)  Batch loss : 0.4962494373321533\n",
            "Epoch(0/1 : Batch number(751/782)  Batch loss : 0.41977959871292114\n",
            "Epoch(0/1 : Batch number(752/782)  Batch loss : 0.5740584135055542\n",
            "Epoch(0/1 : Batch number(753/782)  Batch loss : 0.5242967009544373\n",
            "Epoch(0/1 : Batch number(754/782)  Batch loss : 0.5753991007804871\n",
            "Epoch(0/1 : Batch number(755/782)  Batch loss : 0.4869183599948883\n",
            "Epoch(0/1 : Batch number(756/782)  Batch loss : 0.6392263770103455\n",
            "Epoch(0/1 : Batch number(757/782)  Batch loss : 0.6276686787605286\n",
            "Epoch(0/1 : Batch number(758/782)  Batch loss : 0.6989244222640991\n",
            "Epoch(0/1 : Batch number(759/782)  Batch loss : 0.2927672564983368\n",
            "Epoch(0/1 : Batch number(760/782)  Batch loss : 0.4794183373451233\n",
            "Epoch(0/1 : Batch number(761/782)  Batch loss : 0.4898393452167511\n",
            "Epoch(0/1 : Batch number(762/782)  Batch loss : 0.768716037273407\n",
            "Epoch(0/1 : Batch number(763/782)  Batch loss : 0.5085397362709045\n",
            "Epoch(0/1 : Batch number(764/782)  Batch loss : 0.662692666053772\n",
            "Epoch(0/1 : Batch number(765/782)  Batch loss : 0.9856228828430176\n",
            "Epoch(0/1 : Batch number(766/782)  Batch loss : 0.5568333864212036\n",
            "Epoch(0/1 : Batch number(767/782)  Batch loss : 0.5665826201438904\n",
            "Epoch(0/1 : Batch number(768/782)  Batch loss : 0.44551926851272583\n",
            "Epoch(0/1 : Batch number(769/782)  Batch loss : 0.5424309968948364\n",
            "Epoch(0/1 : Batch number(770/782)  Batch loss : 0.48389899730682373\n",
            "Epoch(0/1 : Batch number(771/782)  Batch loss : 0.4647360146045685\n",
            "Epoch(0/1 : Batch number(772/782)  Batch loss : 0.7771672010421753\n",
            "Epoch(0/1 : Batch number(773/782)  Batch loss : 0.6462194919586182\n",
            "Epoch(0/1 : Batch number(774/782)  Batch loss : 0.5444169044494629\n",
            "Epoch(0/1 : Batch number(775/782)  Batch loss : 0.6214494705200195\n",
            "Epoch(0/1 : Batch number(776/782)  Batch loss : 0.4268353581428528\n",
            "Epoch(0/1 : Batch number(777/782)  Batch loss : 0.49654093384742737\n",
            "Epoch(0/1 : Batch number(778/782)  Batch loss : 0.27706897258758545\n",
            "Epoch(0/1 : Batch number(779/782)  Batch loss : 0.4966617822647095\n",
            "Epoch(0/1 : Batch number(780/782)  Batch loss : 0.5388930439949036\n",
            "Epoch(0/1 : Batch number(781/782)  Batch loss : 0.5077332258224487\n",
            "Epoch(0/1 : Batch number(782/782)  Batch loss : 0.8724468350410461\n",
            "Training loss : 0.6482589438443294\n"
          ]
        }
      ]
    },
    {
      "cell_type": "markdown",
      "source": [
        "**Evaluating the network and viewing images**"
      ],
      "metadata": {
        "id": "C32fZHBqqITA"
      }
    },
    {
      "cell_type": "code",
      "source": [
        "import matplotlib.pyplot as plt\n",
        "%matplotlib inline\n",
        "import numpy as np"
      ],
      "metadata": {
        "id": "u_cQjjSjqG5p"
      },
      "execution_count": 17,
      "outputs": []
    },
    {
      "cell_type": "markdown",
      "source": [
        "Here for the model evaluating, we have to move back the model into CPU because, the image we use run only on CPU"
      ],
      "metadata": {
        "id": "VYhiznKRslHv"
      }
    },
    {
      "cell_type": "code",
      "source": [
        "CIFAR10_classes = ['plane', 'car', 'bird', 'cat',\n",
        "           'deer', 'dog', 'frog', 'horse', 'ship', 'truck']\n",
        "\n",
        "\n",
        "model.to('cpu')\n",
        "\n",
        "model.eval()\n",
        "\n",
        "with torch.no_grad():\n",
        "  images, labels = next(iter(testloader))\n",
        "  logps = model(images)\n",
        "  \n",
        "  output = torch.exp(logps)\n",
        "  print(output)"
      ],
      "metadata": {
        "colab": {
          "base_uri": "https://localhost:8080/"
        },
        "id": "D63Yl5uKqPGy",
        "outputId": "027cd653-5a44-4f05-83f6-5eb79d194556"
      },
      "execution_count": 18,
      "outputs": [
        {
          "output_type": "stream",
          "name": "stdout",
          "text": [
            "tensor([[1.2113e-03, 5.7369e-03, 1.9268e-03, 8.9940e-01, 2.0054e-04, 3.5575e-02,\n",
            "         4.7963e-02, 5.1541e-03, 2.6829e-03, 1.4812e-04],\n",
            "        [8.5297e-03, 3.4591e-01, 1.8998e-05, 3.8195e-05, 2.3665e-06, 2.4522e-06,\n",
            "         2.7087e-06, 2.0283e-06, 6.4424e-01, 1.2575e-03],\n",
            "        [3.0444e-04, 2.0631e-03, 5.6353e-07, 2.5822e-07, 9.0606e-08, 1.5962e-08,\n",
            "         7.6774e-09, 2.2511e-07, 9.9761e-01, 1.8954e-05],\n",
            "        [2.5504e-01, 2.0685e-03, 7.3005e-02, 7.5947e-02, 1.3378e-03, 1.6631e-03,\n",
            "         1.2541e-03, 1.2839e-03, 5.8759e-01, 8.1071e-04],\n",
            "        [3.3044e-07, 2.0871e-07, 4.2308e-03, 4.2265e-04, 1.4117e-04, 1.4808e-05,\n",
            "         9.9519e-01, 1.1944e-07, 1.3658e-07, 3.1089e-08],\n",
            "        [6.8892e-06, 1.9955e-06, 1.2071e-04, 1.0398e-01, 2.2045e-02, 1.4370e-01,\n",
            "         7.2937e-01, 7.3934e-04, 1.0501e-06, 2.7530e-05],\n",
            "        [4.5535e-05, 9.9389e-01, 8.8168e-07, 4.6423e-05, 9.2625e-08, 3.4999e-05,\n",
            "         4.9127e-06, 2.5228e-05, 1.2084e-05, 5.9362e-03],\n",
            "        [3.3074e-02, 5.9544e-03, 5.4569e-02, 5.5880e-02, 1.8693e-02, 5.8131e-03,\n",
            "         7.8216e-01, 7.6402e-03, 2.0490e-02, 1.5727e-02],\n",
            "        [3.8806e-05, 3.0470e-06, 6.9235e-03, 9.7171e-01, 4.7381e-03, 1.3387e-02,\n",
            "         1.7680e-03, 1.3218e-03, 1.0466e-04, 2.4489e-06],\n",
            "        [1.7079e-05, 9.5583e-01, 5.5334e-06, 1.7630e-04, 2.2357e-05, 1.5181e-04,\n",
            "         1.4299e-04, 5.2525e-05, 1.0801e-04, 4.3497e-02],\n",
            "        [9.6833e-01, 2.0272e-05, 1.1045e-03, 6.9936e-03, 9.6624e-03, 2.0077e-03,\n",
            "         1.1925e-04, 3.6287e-03, 7.8965e-03, 2.3908e-04],\n",
            "        [2.1112e-08, 2.0599e-03, 5.1397e-10, 5.1849e-09, 2.0936e-10, 3.4549e-09,\n",
            "         1.0410e-09, 1.2440e-09, 4.8472e-07, 9.9794e-01],\n",
            "        [1.1723e-04, 3.9254e-05, 1.3782e-03, 2.5092e-01, 4.1142e-03, 5.9271e-01,\n",
            "         3.8721e-03, 1.4678e-01, 4.0515e-05, 2.4059e-05],\n",
            "        [1.9583e-04, 1.0761e-03, 1.4763e-02, 3.7750e-01, 6.8518e-03, 8.6262e-02,\n",
            "         4.4195e-03, 5.0815e-01, 2.5906e-04, 5.3065e-04],\n",
            "        [4.3737e-06, 1.3153e-03, 2.6249e-08, 3.0749e-07, 1.1680e-07, 1.4266e-07,\n",
            "         3.9740e-09, 4.3181e-07, 1.2185e-05, 9.9867e-01],\n",
            "        [2.2010e-02, 1.4526e-02, 2.4091e-02, 4.1219e-04, 1.5758e-04, 2.2269e-03,\n",
            "         7.6534e-02, 1.6532e-04, 8.5980e-01, 7.5958e-05],\n",
            "        [1.5717e-05, 1.1077e-06, 1.4269e-04, 5.6820e-02, 2.6723e-06, 9.4277e-01,\n",
            "         6.3551e-05, 1.7937e-04, 1.0929e-06, 1.0279e-06],\n",
            "        [1.8752e-04, 1.7066e-02, 6.4567e-04, 1.4506e-03, 1.6871e-03, 6.9808e-02,\n",
            "         4.1117e-03, 9.0160e-01, 1.8181e-04, 3.2636e-03],\n",
            "        [7.0071e-05, 1.6759e-04, 1.2385e-06, 6.2300e-07, 1.1085e-05, 1.3833e-07,\n",
            "         1.8829e-08, 2.7852e-06, 9.9913e-01, 6.1592e-04],\n",
            "        [6.0862e-05, 1.2807e-05, 3.8328e-03, 2.5106e-03, 1.2724e-03, 5.1355e-05,\n",
            "         9.9219e-01, 2.7570e-06, 6.5231e-05, 2.4937e-06],\n",
            "        [1.1551e-01, 6.6639e-03, 1.0507e-02, 1.2734e-01, 3.6779e-02, 2.7788e-02,\n",
            "         5.0599e-04, 6.5892e-01, 1.3684e-02, 2.3124e-03],\n",
            "        [9.8006e-01, 3.9568e-04, 3.8290e-03, 1.3180e-02, 3.3637e-04, 2.0682e-04,\n",
            "         4.8279e-04, 1.1028e-04, 1.3642e-03, 2.9690e-05],\n",
            "        [5.8600e-02, 2.7094e-04, 3.7615e-02, 3.9952e-02, 7.9403e-01, 3.0085e-03,\n",
            "         2.2774e-02, 4.3271e-03, 3.9365e-02, 5.5878e-05],\n",
            "        [1.6183e-04, 4.5932e-01, 8.6388e-07, 8.6435e-06, 4.3777e-07, 4.2037e-05,\n",
            "         1.3920e-07, 6.7257e-06, 1.1230e-04, 5.4034e-01],\n",
            "        [7.1349e-06, 1.5963e-05, 7.2371e-04, 3.4586e-02, 2.3288e-02, 9.3947e-01,\n",
            "         5.0553e-04, 1.2967e-03, 1.0013e-04, 4.9019e-06],\n",
            "        [2.5509e-03, 1.1047e-04, 7.0559e-01, 7.4033e-02, 4.0030e-02, 6.9699e-02,\n",
            "         3.6068e-04, 1.0694e-01, 6.0867e-04, 7.2859e-05],\n",
            "        [3.0123e-03, 4.2318e-04, 3.0418e-02, 6.5703e-01, 2.0195e-01, 4.2107e-02,\n",
            "         5.0389e-02, 9.2009e-03, 2.7002e-03, 2.7683e-03],\n",
            "        [7.6662e-01, 1.2839e-04, 1.5014e-01, 9.8554e-03, 1.9794e-02, 5.0792e-04,\n",
            "         1.2039e-02, 2.9692e-02, 1.0860e-02, 3.6212e-04],\n",
            "        [7.7395e-06, 1.0913e-03, 7.8448e-08, 2.9837e-06, 9.7440e-07, 2.1490e-07,\n",
            "         6.0153e-08, 1.2489e-05, 5.5653e-06, 9.9888e-01],\n",
            "        [2.0567e-05, 3.9808e-07, 1.7153e-03, 6.9518e-03, 3.0810e-03, 4.6633e-04,\n",
            "         9.8769e-01, 6.2077e-05, 1.4530e-05, 4.9431e-07],\n",
            "        [3.0752e-04, 2.0826e-04, 1.1048e-02, 2.3267e-01, 3.4816e-03, 2.0712e-03,\n",
            "         7.4914e-01, 3.5714e-04, 2.8915e-05, 6.7787e-04],\n",
            "        [3.0671e-06, 6.2482e-06, 1.3099e-03, 1.0619e-02, 1.9649e-03, 9.8235e-01,\n",
            "         2.8405e-04, 3.4460e-03, 9.4144e-06, 2.5145e-06],\n",
            "        [5.9625e-04, 1.5031e-03, 5.3364e-02, 1.9927e-02, 8.8758e-01, 1.1956e-02,\n",
            "         1.8595e-02, 5.6304e-03, 4.3343e-04, 4.1228e-04],\n",
            "        [1.6451e-05, 9.4223e-04, 5.8692e-03, 3.6749e-01, 3.4628e-02, 5.4836e-01,\n",
            "         4.1956e-02, 6.6866e-04, 2.1670e-05, 5.0091e-05],\n",
            "        [1.1482e-03, 4.1007e-04, 7.2318e-07, 7.3082e-07, 3.3509e-06, 2.1242e-07,\n",
            "         1.2835e-07, 2.8839e-06, 1.1168e-03, 9.9732e-01],\n",
            "        [6.1386e-03, 2.9135e-02, 9.7623e-02, 1.7043e-01, 5.3014e-04, 6.2670e-01,\n",
            "         5.8838e-03, 4.9938e-02, 1.2032e-02, 1.5872e-03],\n",
            "        [1.8895e-05, 2.8103e-08, 4.7548e-04, 2.3157e-03, 8.0929e-01, 8.5699e-02,\n",
            "         1.4071e-05, 1.0218e-01, 2.3894e-06, 4.0097e-08],\n",
            "        [2.4627e-04, 7.4863e-01, 4.0947e-07, 1.0164e-05, 2.2963e-06, 1.1840e-06,\n",
            "         6.9362e-07, 8.7570e-06, 2.7528e-05, 2.5107e-01],\n",
            "        [5.1783e-05, 3.3416e-03, 1.2340e-05, 6.7170e-04, 5.5872e-06, 1.9402e-03,\n",
            "         1.6461e-06, 4.6060e-04, 2.7317e-03, 9.9078e-01],\n",
            "        [8.5486e-09, 1.0791e-07, 4.3318e-07, 9.5189e-05, 6.6346e-08, 9.9990e-01,\n",
            "         4.6205e-06, 5.7553e-07, 7.0833e-08, 2.7484e-08],\n",
            "        [2.9557e-01, 7.8143e-03, 4.2952e-01, 8.8177e-03, 1.6584e-01, 2.1555e-03,\n",
            "         1.4575e-02, 6.9546e-02, 5.7538e-03, 4.0314e-04],\n",
            "        [2.0323e-04, 8.8010e-05, 4.8932e-03, 3.0158e-03, 4.7919e-03, 1.6690e-04,\n",
            "         9.8651e-01, 2.2682e-04, 2.9328e-05, 7.0730e-05],\n",
            "        [3.4228e-05, 1.3270e-04, 1.2915e-03, 1.0655e-01, 1.5613e-04, 8.8213e-01,\n",
            "         4.2506e-05, 9.5806e-03, 3.5692e-05, 4.6112e-05],\n",
            "        [2.1061e-04, 1.9460e-04, 1.3581e-02, 3.5368e-02, 3.1734e-03, 3.8354e-02,\n",
            "         9.0839e-01, 8.5377e-05, 4.1548e-04, 2.3025e-04],\n",
            "        [6.4589e-01, 1.8619e-01, 3.5772e-03, 1.1029e-04, 1.6149e-03, 7.9385e-05,\n",
            "         1.0845e-03, 1.0573e-03, 7.9282e-02, 8.1113e-02],\n",
            "        [4.9646e-05, 9.1150e-04, 3.4474e-08, 1.9303e-07, 2.3459e-07, 5.9032e-08,\n",
            "         1.0633e-09, 1.4386e-05, 1.7949e-03, 9.9723e-01],\n",
            "        [3.2627e-06, 4.1760e-04, 1.1080e-03, 7.5293e-01, 6.9407e-03, 2.3458e-01,\n",
            "         8.1675e-04, 3.0074e-03, 1.1061e-04, 9.1619e-05],\n",
            "        [1.7746e-02, 7.8845e-02, 1.0965e-04, 4.5630e-04, 1.6869e-05, 1.3913e-05,\n",
            "         2.5238e-05, 1.3167e-04, 4.4753e-02, 8.5790e-01],\n",
            "        [2.0448e-06, 6.3058e-07, 8.9893e-04, 7.4903e-05, 1.5401e-01, 1.3653e-03,\n",
            "         6.9978e-06, 8.4364e-01, 1.2190e-06, 1.4792e-07],\n",
            "        [2.2668e-04, 6.6189e-05, 5.1452e-02, 1.4459e-03, 1.0852e-02, 4.9669e-03,\n",
            "         9.3086e-01, 3.3382e-05, 1.0147e-04, 4.6010e-07],\n",
            "        [1.7992e-02, 6.1505e-05, 8.6350e-06, 4.0776e-06, 2.8062e-05, 1.7884e-07,\n",
            "         2.1865e-07, 8.0336e-06, 2.4396e-03, 9.7946e-01],\n",
            "        [1.8371e-03, 3.1564e-06, 1.1384e-04, 3.0063e-06, 3.1845e-05, 4.6281e-06,\n",
            "         5.3200e-06, 1.7263e-05, 9.9780e-01, 1.8088e-04],\n",
            "        [7.2186e-01, 1.9629e-04, 9.8230e-04, 9.6987e-03, 1.0193e-03, 5.0362e-03,\n",
            "         1.5239e-02, 1.6316e-04, 2.3508e-01, 1.0719e-02],\n",
            "        [7.6611e-06, 7.5238e-05, 1.1091e-02, 9.3578e-01, 1.7459e-03, 1.4525e-02,\n",
            "         3.6238e-02, 2.0789e-04, 8.1826e-05, 2.4313e-04],\n",
            "        [1.9646e-03, 9.0668e-07, 1.0852e-06, 3.8957e-08, 2.3115e-08, 1.0111e-08,\n",
            "         2.9286e-09, 1.1960e-08, 9.9803e-01, 4.0649e-08],\n",
            "        [1.7023e-04, 2.1604e-06, 8.2619e-05, 5.4277e-05, 1.0247e-04, 3.9206e-05,\n",
            "         1.3518e-08, 2.0571e-05, 9.9953e-01, 3.2908e-06],\n",
            "        [1.8501e-04, 5.0424e-04, 1.4459e-04, 1.5345e-01, 2.0608e-03, 1.1433e-01,\n",
            "         1.1869e-05, 7.2499e-01, 8.7002e-05, 4.2341e-03],\n",
            "        [3.4869e-02, 1.3949e-02, 3.4844e-02, 7.5717e-01, 6.8734e-02, 3.0900e-02,\n",
            "         2.7396e-02, 1.2221e-02, 1.7675e-02, 2.2405e-03],\n",
            "        [2.2636e-03, 2.1945e-04, 2.0568e-03, 5.4138e-01, 6.2347e-02, 3.3461e-01,\n",
            "         7.7418e-03, 4.0857e-02, 7.2149e-03, 1.3162e-03],\n",
            "        [3.2231e-02, 9.7227e-03, 1.3649e-02, 3.9683e-01, 3.3608e-02, 3.5756e-01,\n",
            "         1.2094e-01, 1.2010e-02, 1.2767e-02, 1.0682e-02],\n",
            "        [3.3931e-06, 5.1018e-07, 8.4840e-05, 1.0965e-05, 1.9850e-01, 9.8649e-05,\n",
            "         2.3373e-06, 8.0130e-01, 2.5734e-07, 4.0048e-08],\n",
            "        [2.1274e-05, 2.9416e-05, 1.7914e-02, 7.6104e-01, 1.7628e-03, 1.9561e-01,\n",
            "         6.5628e-03, 1.6969e-02, 5.7681e-05, 2.8008e-05],\n",
            "        [2.4290e-02, 6.3221e-03, 3.5828e-02, 1.2811e-02, 3.9836e-03, 1.1816e-03,\n",
            "         9.1090e-01, 1.7085e-03, 1.9586e-03, 1.0150e-03],\n",
            "        [9.9146e-04, 2.7040e-02, 5.4741e-03, 9.2928e-01, 4.4170e-04, 1.2461e-02,\n",
            "         4.1073e-04, 8.9370e-05, 1.6100e-02, 7.7069e-03]])\n"
          ]
        }
      ]
    },
    {
      "cell_type": "code",
      "source": [
        "CIFAR10_classes = ['plane', 'car', 'bird', 'cat',\n",
        "           'deer', 'dog', 'frog', 'horse', 'ship', 'truck']\n",
        "\n",
        "\n",
        "model.to('cpu')\n",
        "\n",
        "model.eval()\n",
        "\n",
        "with torch.no_grad():\n",
        "  images, labels = next(iter(testloader))\n",
        "  logps = model(images)\n",
        "  \n",
        "  output = torch.exp(logps)\n",
        "  \n",
        "  pred = torch.argmax(output,1)\n",
        "    \n",
        "model.train()"
      ],
      "metadata": {
        "colab": {
          "base_uri": "https://localhost:8080/"
        },
        "id": "T3LaP2Wvqf8L",
        "outputId": "ff34dba4-5156-4f3c-e1b0-050b4bc2dbce"
      },
      "execution_count": 19,
      "outputs": [
        {
          "output_type": "execute_result",
          "data": {
            "text/plain": [
              "VGG(\n",
              "  (features): Sequential(\n",
              "    (0): Conv2d(3, 64, kernel_size=(3, 3), stride=(1, 1), padding=(1, 1))\n",
              "    (1): ReLU(inplace=True)\n",
              "    (2): Conv2d(64, 64, kernel_size=(3, 3), stride=(1, 1), padding=(1, 1))\n",
              "    (3): ReLU(inplace=True)\n",
              "    (4): MaxPool2d(kernel_size=2, stride=2, padding=0, dilation=1, ceil_mode=False)\n",
              "    (5): Conv2d(64, 128, kernel_size=(3, 3), stride=(1, 1), padding=(1, 1))\n",
              "    (6): ReLU(inplace=True)\n",
              "    (7): Conv2d(128, 128, kernel_size=(3, 3), stride=(1, 1), padding=(1, 1))\n",
              "    (8): ReLU(inplace=True)\n",
              "    (9): MaxPool2d(kernel_size=2, stride=2, padding=0, dilation=1, ceil_mode=False)\n",
              "    (10): Conv2d(128, 256, kernel_size=(3, 3), stride=(1, 1), padding=(1, 1))\n",
              "    (11): ReLU(inplace=True)\n",
              "    (12): Conv2d(256, 256, kernel_size=(3, 3), stride=(1, 1), padding=(1, 1))\n",
              "    (13): ReLU(inplace=True)\n",
              "    (14): Conv2d(256, 256, kernel_size=(3, 3), stride=(1, 1), padding=(1, 1))\n",
              "    (15): ReLU(inplace=True)\n",
              "    (16): MaxPool2d(kernel_size=2, stride=2, padding=0, dilation=1, ceil_mode=False)\n",
              "    (17): Conv2d(256, 512, kernel_size=(3, 3), stride=(1, 1), padding=(1, 1))\n",
              "    (18): ReLU(inplace=True)\n",
              "    (19): Conv2d(512, 512, kernel_size=(3, 3), stride=(1, 1), padding=(1, 1))\n",
              "    (20): ReLU(inplace=True)\n",
              "    (21): Conv2d(512, 512, kernel_size=(3, 3), stride=(1, 1), padding=(1, 1))\n",
              "    (22): ReLU(inplace=True)\n",
              "    (23): MaxPool2d(kernel_size=2, stride=2, padding=0, dilation=1, ceil_mode=False)\n",
              "    (24): Conv2d(512, 512, kernel_size=(3, 3), stride=(1, 1), padding=(1, 1))\n",
              "    (25): ReLU(inplace=True)\n",
              "    (26): Conv2d(512, 512, kernel_size=(3, 3), stride=(1, 1), padding=(1, 1))\n",
              "    (27): ReLU(inplace=True)\n",
              "    (28): Conv2d(512, 512, kernel_size=(3, 3), stride=(1, 1), padding=(1, 1))\n",
              "    (29): ReLU(inplace=True)\n",
              "    (30): MaxPool2d(kernel_size=2, stride=2, padding=0, dilation=1, ceil_mode=False)\n",
              "  )\n",
              "  (avgpool): AdaptiveAvgPool2d(output_size=(7, 7))\n",
              "  (classifier): Sequential(\n",
              "    (0): Linear(in_features=25088, out_features=4096, bias=True)\n",
              "    (1): ReLU(inplace=True)\n",
              "    (2): Dropout(p=0.5, inplace=False)\n",
              "    (3): Linear(in_features=4096, out_features=4096, bias=True)\n",
              "    (4): ReLU(inplace=True)\n",
              "    (5): Dropout(p=0.5, inplace=False)\n",
              "    (6): Sequential(\n",
              "      (0): Linear(in_features=4096, out_features=10, bias=True)\n",
              "      (1): LogSoftmax(dim=1)\n",
              "    )\n",
              "  )\n",
              ")"
            ]
          },
          "metadata": {},
          "execution_count": 19
        }
      ]
    },
    {
      "cell_type": "code",
      "source": [
        "test_image_id=2\n",
        "\n",
        "def denormalize(tensor):\n",
        "  tensor = tensor*std+ mean\n",
        "  return tensor\n",
        "\n",
        "def show_img(img):\n",
        "  img = img.numpy().transpose((1,2,0))\n",
        "  img = denormalize(img)\n",
        "  img = np.clip(img,0,1)\n",
        "  plt.imshow(img)\n",
        "  \n",
        "def get_CIFAR10_class(id):\n",
        "  CIFAR10_classes = ['plane', 'car', 'bird', 'cat',\n",
        "           'deer', 'dog', 'frog', 'horse', 'ship', 'truck']\n",
        "  return CIFAR10_classes[id]\n",
        "\n",
        "show_img(images[test_image_id])\n",
        "print(get_CIFAR10_class(pred[test_image_id]))"
      ],
      "metadata": {
        "colab": {
          "base_uri": "https://localhost:8080/",
          "height": 286
        },
        "id": "1QU0y1sqqpcl",
        "outputId": "71abdbcd-c8e3-499b-ef53-f2ed00f03466"
      },
      "execution_count": 21,
      "outputs": [
        {
          "output_type": "stream",
          "name": "stdout",
          "text": [
            "ship\n"
          ]
        },
        {
          "output_type": "display_data",
          "data": {
            "text/plain": [
              "<Figure size 432x288 with 1 Axes>"
            ],
            "image/png": "[encoded data removed]"
          },
          "metadata": {
            "needs_background": "light"
          }
        }
      ]
    },
    {
      "cell_type": "markdown",
      "source": [
        "**Viewing images & normalization - Under the hood**"
      ],
      "metadata": {
        "id": "MVkgzRFat4I3"
      }
    },
    {
      "cell_type": "code",
      "source": [
        "pred"
      ],
      "metadata": {
        "colab": {
          "base_uri": "https://localhost:8080/"
        },
        "id": "Fma8iapXtmVY",
        "outputId": "939d05a2-af34-4828-895c-0ffbb2b50015"
      },
      "execution_count": 22,
      "outputs": [
        {
          "output_type": "execute_result",
          "data": {
            "text/plain": [
              "tensor([3, 8, 8, 8, 6, 6, 1, 6, 3, 1, 0, 9, 5, 7, 9, 8, 5, 7, 8, 6, 7, 0, 4, 9,\n",
              "        5, 2, 3, 0, 9, 6, 6, 5, 4, 5, 9, 5, 4, 1, 9, 5, 2, 6, 5, 6, 0, 9, 3, 9,\n",
              "        7, 6, 9, 8, 0, 3, 8, 8, 7, 3, 3, 3, 7, 3, 6, 3])"
            ]
          },
          "metadata": {},
          "execution_count": 22
        }
      ]
    },
    {
      "cell_type": "code",
      "source": [
        "images.size()"
      ],
      "metadata": {
        "colab": {
          "base_uri": "https://localhost:8080/"
        },
        "id": "aTuGxCtotmog",
        "outputId": "1676934b-7a97-420c-dda9-5430e120406f"
      },
      "execution_count": 23,
      "outputs": [
        {
          "output_type": "execute_result",
          "data": {
            "text/plain": [
              "torch.Size([64, 3, 224, 224])"
            ]
          },
          "metadata": {},
          "execution_count": 23
        }
      ]
    },
    {
      "cell_type": "code",
      "source": [
        "images[0].size()"
      ],
      "metadata": {
        "colab": {
          "base_uri": "https://localhost:8080/"
        },
        "id": "4BDr1z1MtnIl",
        "outputId": "fd19a52d-2535-47c7-e24b-ad072df5ef67"
      },
      "execution_count": 24,
      "outputs": [
        {
          "output_type": "execute_result",
          "data": {
            "text/plain": [
              "torch.Size([3, 224, 224])"
            ]
          },
          "metadata": {},
          "execution_count": 24
        }
      ]
    },
    {
      "cell_type": "code",
      "source": [
        "np.transpose(images[test_image_id],(1,2,0))"
      ],
      "metadata": {
        "colab": {
          "base_uri": "https://localhost:8080/"
        },
        "id": "0vXMAYbduI4D",
        "outputId": "d1335a98-cb5f-4a57-81f5-6106889e9b2c"
      },
      "execution_count": 26,
      "outputs": [
        {
          "output_type": "execute_result",
          "data": {
            "text/plain": [
              "tensor([[[ 0.5878,  1.2906,  2.0648],\n",
              "         [ 0.5878,  1.2906,  2.0648],\n",
              "         [ 0.5878,  1.2906,  2.0648],\n",
              "         ...,\n",
              "         [ 1.9578,  2.1835,  2.4831],\n",
              "         [ 1.9578,  2.1835,  2.4831],\n",
              "         [ 1.9578,  2.1835,  2.4831]],\n",
              "\n",
              "        [[ 0.5878,  1.2906,  2.0648],\n",
              "         [ 0.5878,  1.2906,  2.0648],\n",
              "         [ 0.5878,  1.2906,  2.0648],\n",
              "         ...,\n",
              "         [ 1.9578,  2.1835,  2.4831],\n",
              "         [ 1.9578,  2.1835,  2.4831],\n",
              "         [ 1.9578,  2.1835,  2.4831]],\n",
              "\n",
              "        [[ 0.5878,  1.2906,  2.0648],\n",
              "         [ 0.5878,  1.2906,  2.0648],\n",
              "         [ 0.5878,  1.2906,  2.0648],\n",
              "         ...,\n",
              "         [ 1.9578,  2.1835,  2.4831],\n",
              "         [ 1.9578,  2.1835,  2.4831],\n",
              "         [ 1.9578,  2.1835,  2.4831]],\n",
              "\n",
              "        ...,\n",
              "\n",
              "        [[-1.6384, -1.3179, -0.9853],\n",
              "         [-1.6384, -1.3179, -0.9853],\n",
              "         [-1.6384, -1.3179, -0.9853],\n",
              "         ...,\n",
              "         [-1.9980, -1.8957, -1.6824],\n",
              "         [-1.9980, -1.8957, -1.6824],\n",
              "         [-1.9980, -1.8957, -1.6824]],\n",
              "\n",
              "        [[-1.6384, -1.3179, -0.9853],\n",
              "         [-1.6384, -1.3179, -0.9853],\n",
              "         [-1.6384, -1.3179, -0.9853],\n",
              "         ...,\n",
              "         [-1.9980, -1.8957, -1.6824],\n",
              "         [-1.9980, -1.8957, -1.6824],\n",
              "         [-1.9980, -1.8957, -1.6824]],\n",
              "\n",
              "        [[-1.6384, -1.3179, -0.9853],\n",
              "         [-1.6384, -1.3179, -0.9853],\n",
              "         [-1.6384, -1.3179, -0.9853],\n",
              "         ...,\n",
              "         [-1.9980, -1.8957, -1.6824],\n",
              "         [-1.9980, -1.8957, -1.6824],\n",
              "         [-1.9980, -1.8957, -1.6824]]])"
            ]
          },
          "metadata": {},
          "execution_count": 26
        }
      ]
    },
    {
      "cell_type": "code",
      "source": [
        "plt.imshow(np.clip(np.transpose(images[test_image_id],(1,2,0)),0,1))"
      ],
      "metadata": {
        "colab": {
          "base_uri": "https://localhost:8080/",
          "height": 286
        },
        "id": "vXZYunZxuxMV",
        "outputId": "9bd0aa7f-28e8-4e96-97d5-be154333d296"
      },
      "execution_count": 27,
      "outputs": [
        {
          "output_type": "execute_result",
          "data": {
            "text/plain": [
              "<matplotlib.image.AxesImage at 0x7f90fbc0a1c0>"
            ]
          },
          "metadata": {},
          "execution_count": 27
        },
        {
          "output_type": "display_data",
          "data": {
            "text/plain": [
              "<Figure size 432x288 with 1 Axes>"
            ],
            "image/png": "[encoded data removed]"
          },
          "metadata": {
            "needs_background": "light"
          }
        }
      ]
    },
    {
      "cell_type": "code",
      "source": [
        "# The z-core isq defined for the normalization step.\n",
        "#z = (x - mean) / std"
      ],
      "metadata": {
        "id": "MdHQwKOtvf-W"
      },
      "execution_count": 35,
      "outputs": []
    },
    {
      "cell_type": "code",
      "source": [
        "def denormalize(tensor):\n",
        "  tensor = tensor*std + mean\n",
        "  return tensor"
      ],
      "metadata": {
        "id": "AJLXwZu-vn5L"
      },
      "execution_count": 30,
      "outputs": []
    },
    {
      "cell_type": "code",
      "source": [
        "def show_img(img):\n",
        "  img = img.numpy().transpose((1,2,0))\n",
        "  img = denormalize(img)\n",
        "  img = np.clip(img,0,1)\n",
        "  plt.imshow(img)"
      ],
      "metadata": {
        "id": "7wIwioS1vojP"
      },
      "execution_count": 31,
      "outputs": []
    },
    {
      "cell_type": "code",
      "source": [
        "show_img(images[test_image_id])"
      ],
      "metadata": {
        "colab": {
          "base_uri": "https://localhost:8080/",
          "height": 269
        },
        "id": "_i_l7b-tvov_",
        "outputId": "f85d8bf4-2e5e-4a51-e078-149c5f0feb9a"
      },
      "execution_count": 32,
      "outputs": [
        {
          "output_type": "display_data",
          "data": {
            "text/plain": [
              "<Figure size 432x288 with 1 Axes>"
            ],
            "image/png": "[encoded data removed]"
          },
          "metadata": {
            "needs_background": "light"
          }
        }
      ]
    },
    {
      "cell_type": "code",
      "source": [
        "def get_CIFAR10_class(id):\n",
        "  CIFAR10_classes = ['plane', 'car', 'bird', 'cat',\n",
        "           'deer', 'dog', 'frog', 'horse', 'ship', 'truck']\n",
        "  return CIFAR10_classes[id]\n",
        "  "
      ],
      "metadata": {
        "id": "GY0z4cGGv0OS"
      },
      "execution_count": 33,
      "outputs": []
    },
    {
      "cell_type": "code",
      "source": [
        "get_CIFAR10_class(pred[test_image_id])"
      ],
      "metadata": {
        "colab": {
          "base_uri": "https://localhost:8080/",
          "height": 35
        },
        "id": "S4uipqlZv0j9",
        "outputId": "dbb2b20c-8d41-4100-ba18-e59ee973bcde"
      },
      "execution_count": 34,
      "outputs": [
        {
          "output_type": "execute_result",
          "data": {
            "text/plain": [
              "'ship'"
            ],
            "application/vnd.google.colaboratory.intrinsic+json": {
              "type": "string"
            }
          },
          "metadata": {},
          "execution_count": 34
        }
      ]
    },
    {
      "cell_type": "markdown",
      "source": [
        "**Accuracy of the model**"
      ],
      "metadata": {
        "id": "LHWHsGGuykVW"
      }
    },
    {
      "cell_type": "code",
      "source": [
        "model.eval()\n",
        "with torch.no_grad():\n",
        "    num_correct = 0\n",
        "    total = 0\n",
        "\n",
        "    cnt = 0\n",
        "    #set_trace()\n",
        "    for images, labels in testloader:\n",
        "        \n",
        "        logps = model(images)\n",
        "        output = torch.exp(logps)\n",
        "        print(output)\n",
        "        cnt+=1\n",
        "        \n",
        "        if cnt > 0:\n",
        "          break"
      ],
      "metadata": {
        "colab": {
          "base_uri": "https://localhost:8080/"
        },
        "id": "FwutfuR2v0qu",
        "outputId": "6da3a257-cdf6-445e-fa15-dc36a959ced8"
      },
      "execution_count": 36,
      "outputs": [
        {
          "output_type": "stream",
          "name": "stdout",
          "text": [
            "tensor([[1.2113e-03, 5.7369e-03, 1.9268e-03, 8.9940e-01, 2.0054e-04, 3.5575e-02,\n",
            "         4.7963e-02, 5.1541e-03, 2.6829e-03, 1.4812e-04],\n",
            "        [8.5297e-03, 3.4591e-01, 1.8998e-05, 3.8195e-05, 2.3665e-06, 2.4522e-06,\n",
            "         2.7087e-06, 2.0283e-06, 6.4424e-01, 1.2575e-03],\n",
            "        [3.0444e-04, 2.0631e-03, 5.6353e-07, 2.5822e-07, 9.0606e-08, 1.5962e-08,\n",
            "         7.6774e-09, 2.2511e-07, 9.9761e-01, 1.8954e-05],\n",
            "        [2.5504e-01, 2.0685e-03, 7.3005e-02, 7.5947e-02, 1.3378e-03, 1.6631e-03,\n",
            "         1.2541e-03, 1.2839e-03, 5.8759e-01, 8.1071e-04],\n",
            "        [3.3044e-07, 2.0871e-07, 4.2308e-03, 4.2265e-04, 1.4117e-04, 1.4808e-05,\n",
            "         9.9519e-01, 1.1944e-07, 1.3658e-07, 3.1089e-08],\n",
            "        [6.8892e-06, 1.9955e-06, 1.2071e-04, 1.0398e-01, 2.2045e-02, 1.4370e-01,\n",
            "         7.2937e-01, 7.3934e-04, 1.0501e-06, 2.7530e-05],\n",
            "        [4.5535e-05, 9.9389e-01, 8.8168e-07, 4.6423e-05, 9.2625e-08, 3.4999e-05,\n",
            "         4.9127e-06, 2.5228e-05, 1.2084e-05, 5.9362e-03],\n",
            "        [3.3074e-02, 5.9544e-03, 5.4569e-02, 5.5880e-02, 1.8693e-02, 5.8131e-03,\n",
            "         7.8216e-01, 7.6402e-03, 2.0490e-02, 1.5727e-02],\n",
            "        [3.8806e-05, 3.0470e-06, 6.9235e-03, 9.7171e-01, 4.7381e-03, 1.3387e-02,\n",
            "         1.7680e-03, 1.3218e-03, 1.0466e-04, 2.4489e-06],\n",
            "        [1.7079e-05, 9.5583e-01, 5.5334e-06, 1.7630e-04, 2.2357e-05, 1.5181e-04,\n",
            "         1.4299e-04, 5.2525e-05, 1.0801e-04, 4.3497e-02],\n",
            "        [9.6833e-01, 2.0272e-05, 1.1045e-03, 6.9936e-03, 9.6624e-03, 2.0077e-03,\n",
            "         1.1925e-04, 3.6287e-03, 7.8965e-03, 2.3908e-04],\n",
            "        [2.1112e-08, 2.0599e-03, 5.1397e-10, 5.1849e-09, 2.0936e-10, 3.4549e-09,\n",
            "         1.0410e-09, 1.2440e-09, 4.8472e-07, 9.9794e-01],\n",
            "        [1.1723e-04, 3.9254e-05, 1.3782e-03, 2.5092e-01, 4.1142e-03, 5.9271e-01,\n",
            "         3.8721e-03, 1.4678e-01, 4.0515e-05, 2.4059e-05],\n",
            "        [1.9583e-04, 1.0761e-03, 1.4763e-02, 3.7750e-01, 6.8518e-03, 8.6262e-02,\n",
            "         4.4195e-03, 5.0815e-01, 2.5906e-04, 5.3065e-04],\n",
            "        [4.3737e-06, 1.3153e-03, 2.6249e-08, 3.0749e-07, 1.1680e-07, 1.4266e-07,\n",
            "         3.9740e-09, 4.3181e-07, 1.2185e-05, 9.9867e-01],\n",
            "        [2.2010e-02, 1.4526e-02, 2.4091e-02, 4.1219e-04, 1.5758e-04, 2.2269e-03,\n",
            "         7.6534e-02, 1.6532e-04, 8.5980e-01, 7.5958e-05],\n",
            "        [1.5717e-05, 1.1077e-06, 1.4269e-04, 5.6820e-02, 2.6723e-06, 9.4277e-01,\n",
            "         6.3551e-05, 1.7937e-04, 1.0929e-06, 1.0279e-06],\n",
            "        [1.8752e-04, 1.7066e-02, 6.4567e-04, 1.4506e-03, 1.6871e-03, 6.9808e-02,\n",
            "         4.1117e-03, 9.0160e-01, 1.8181e-04, 3.2636e-03],\n",
            "        [7.0071e-05, 1.6759e-04, 1.2385e-06, 6.2300e-07, 1.1085e-05, 1.3833e-07,\n",
            "         1.8829e-08, 2.7852e-06, 9.9913e-01, 6.1592e-04],\n",
            "        [6.0862e-05, 1.2807e-05, 3.8328e-03, 2.5106e-03, 1.2724e-03, 5.1355e-05,\n",
            "         9.9219e-01, 2.7570e-06, 6.5231e-05, 2.4937e-06],\n",
            "        [1.1551e-01, 6.6639e-03, 1.0507e-02, 1.2734e-01, 3.6779e-02, 2.7788e-02,\n",
            "         5.0599e-04, 6.5892e-01, 1.3684e-02, 2.3124e-03],\n",
            "        [9.8006e-01, 3.9568e-04, 3.8290e-03, 1.3180e-02, 3.3637e-04, 2.0682e-04,\n",
            "         4.8279e-04, 1.1028e-04, 1.3642e-03, 2.9690e-05],\n",
            "        [5.8600e-02, 2.7094e-04, 3.7615e-02, 3.9952e-02, 7.9403e-01, 3.0085e-03,\n",
            "         2.2774e-02, 4.3271e-03, 3.9365e-02, 5.5878e-05],\n",
            "        [1.6183e-04, 4.5932e-01, 8.6388e-07, 8.6435e-06, 4.3777e-07, 4.2037e-05,\n",
            "         1.3920e-07, 6.7257e-06, 1.1230e-04, 5.4034e-01],\n",
            "        [7.1349e-06, 1.5963e-05, 7.2371e-04, 3.4586e-02, 2.3288e-02, 9.3947e-01,\n",
            "         5.0553e-04, 1.2967e-03, 1.0013e-04, 4.9019e-06],\n",
            "        [2.5509e-03, 1.1047e-04, 7.0559e-01, 7.4033e-02, 4.0030e-02, 6.9699e-02,\n",
            "         3.6068e-04, 1.0694e-01, 6.0867e-04, 7.2859e-05],\n",
            "        [3.0123e-03, 4.2318e-04, 3.0418e-02, 6.5703e-01, 2.0195e-01, 4.2107e-02,\n",
            "         5.0389e-02, 9.2009e-03, 2.7002e-03, 2.7683e-03],\n",
            "        [7.6662e-01, 1.2839e-04, 1.5014e-01, 9.8554e-03, 1.9794e-02, 5.0792e-04,\n",
            "         1.2039e-02, 2.9692e-02, 1.0860e-02, 3.6212e-04],\n",
            "        [7.7395e-06, 1.0913e-03, 7.8448e-08, 2.9837e-06, 9.7440e-07, 2.1490e-07,\n",
            "         6.0153e-08, 1.2489e-05, 5.5653e-06, 9.9888e-01],\n",
            "        [2.0567e-05, 3.9808e-07, 1.7153e-03, 6.9518e-03, 3.0810e-03, 4.6633e-04,\n",
            "         9.8769e-01, 6.2077e-05, 1.4530e-05, 4.9431e-07],\n",
            "        [3.0752e-04, 2.0826e-04, 1.1048e-02, 2.3267e-01, 3.4816e-03, 2.0712e-03,\n",
            "         7.4914e-01, 3.5714e-04, 2.8915e-05, 6.7787e-04],\n",
            "        [3.0671e-06, 6.2482e-06, 1.3099e-03, 1.0619e-02, 1.9649e-03, 9.8235e-01,\n",
            "         2.8405e-04, 3.4460e-03, 9.4144e-06, 2.5145e-06],\n",
            "        [5.9625e-04, 1.5031e-03, 5.3364e-02, 1.9927e-02, 8.8758e-01, 1.1956e-02,\n",
            "         1.8595e-02, 5.6304e-03, 4.3343e-04, 4.1228e-04],\n",
            "        [1.6451e-05, 9.4223e-04, 5.8692e-03, 3.6749e-01, 3.4628e-02, 5.4836e-01,\n",
            "         4.1956e-02, 6.6866e-04, 2.1670e-05, 5.0091e-05],\n",
            "        [1.1482e-03, 4.1007e-04, 7.2318e-07, 7.3082e-07, 3.3509e-06, 2.1242e-07,\n",
            "         1.2835e-07, 2.8839e-06, 1.1168e-03, 9.9732e-01],\n",
            "        [6.1386e-03, 2.9135e-02, 9.7623e-02, 1.7043e-01, 5.3014e-04, 6.2670e-01,\n",
            "         5.8838e-03, 4.9938e-02, 1.2032e-02, 1.5872e-03],\n",
            "        [1.8895e-05, 2.8103e-08, 4.7548e-04, 2.3157e-03, 8.0929e-01, 8.5699e-02,\n",
            "         1.4071e-05, 1.0218e-01, 2.3894e-06, 4.0097e-08],\n",
            "        [2.4627e-04, 7.4863e-01, 4.0947e-07, 1.0164e-05, 2.2963e-06, 1.1840e-06,\n",
            "         6.9362e-07, 8.7570e-06, 2.7528e-05, 2.5107e-01],\n",
            "        [5.1783e-05, 3.3416e-03, 1.2340e-05, 6.7170e-04, 5.5872e-06, 1.9402e-03,\n",
            "         1.6461e-06, 4.6060e-04, 2.7317e-03, 9.9078e-01],\n",
            "        [8.5486e-09, 1.0791e-07, 4.3318e-07, 9.5189e-05, 6.6346e-08, 9.9990e-01,\n",
            "         4.6205e-06, 5.7553e-07, 7.0833e-08, 2.7484e-08],\n",
            "        [2.9557e-01, 7.8143e-03, 4.2952e-01, 8.8177e-03, 1.6584e-01, 2.1555e-03,\n",
            "         1.4575e-02, 6.9546e-02, 5.7538e-03, 4.0314e-04],\n",
            "        [2.0323e-04, 8.8010e-05, 4.8932e-03, 3.0158e-03, 4.7919e-03, 1.6690e-04,\n",
            "         9.8651e-01, 2.2682e-04, 2.9328e-05, 7.0730e-05],\n",
            "        [3.4228e-05, 1.3270e-04, 1.2915e-03, 1.0655e-01, 1.5613e-04, 8.8213e-01,\n",
            "         4.2506e-05, 9.5806e-03, 3.5692e-05, 4.6112e-05],\n",
            "        [2.1061e-04, 1.9460e-04, 1.3581e-02, 3.5368e-02, 3.1734e-03, 3.8354e-02,\n",
            "         9.0839e-01, 8.5377e-05, 4.1548e-04, 2.3025e-04],\n",
            "        [6.4589e-01, 1.8619e-01, 3.5772e-03, 1.1029e-04, 1.6149e-03, 7.9385e-05,\n",
            "         1.0845e-03, 1.0573e-03, 7.9282e-02, 8.1113e-02],\n",
            "        [4.9646e-05, 9.1150e-04, 3.4474e-08, 1.9303e-07, 2.3459e-07, 5.9032e-08,\n",
            "         1.0633e-09, 1.4386e-05, 1.7949e-03, 9.9723e-01],\n",
            "        [3.2627e-06, 4.1760e-04, 1.1080e-03, 7.5293e-01, 6.9407e-03, 2.3458e-01,\n",
            "         8.1675e-04, 3.0074e-03, 1.1061e-04, 9.1619e-05],\n",
            "        [1.7746e-02, 7.8845e-02, 1.0965e-04, 4.5630e-04, 1.6869e-05, 1.3913e-05,\n",
            "         2.5238e-05, 1.3167e-04, 4.4753e-02, 8.5790e-01],\n",
            "        [2.0448e-06, 6.3058e-07, 8.9893e-04, 7.4903e-05, 1.5401e-01, 1.3653e-03,\n",
            "         6.9978e-06, 8.4364e-01, 1.2190e-06, 1.4792e-07],\n",
            "        [2.2668e-04, 6.6189e-05, 5.1452e-02, 1.4459e-03, 1.0852e-02, 4.9669e-03,\n",
            "         9.3086e-01, 3.3382e-05, 1.0147e-04, 4.6010e-07],\n",
            "        [1.7992e-02, 6.1505e-05, 8.6350e-06, 4.0776e-06, 2.8062e-05, 1.7884e-07,\n",
            "         2.1865e-07, 8.0336e-06, 2.4396e-03, 9.7946e-01],\n",
            "        [1.8371e-03, 3.1564e-06, 1.1384e-04, 3.0063e-06, 3.1845e-05, 4.6281e-06,\n",
            "         5.3200e-06, 1.7263e-05, 9.9780e-01, 1.8088e-04],\n",
            "        [7.2186e-01, 1.9629e-04, 9.8230e-04, 9.6987e-03, 1.0193e-03, 5.0362e-03,\n",
            "         1.5239e-02, 1.6316e-04, 2.3508e-01, 1.0719e-02],\n",
            "        [7.6611e-06, 7.5238e-05, 1.1091e-02, 9.3578e-01, 1.7459e-03, 1.4525e-02,\n",
            "         3.6238e-02, 2.0789e-04, 8.1826e-05, 2.4313e-04],\n",
            "        [1.9646e-03, 9.0668e-07, 1.0852e-06, 3.8957e-08, 2.3115e-08, 1.0111e-08,\n",
            "         2.9286e-09, 1.1960e-08, 9.9803e-01, 4.0649e-08],\n",
            "        [1.7023e-04, 2.1604e-06, 8.2619e-05, 5.4277e-05, 1.0247e-04, 3.9206e-05,\n",
            "         1.3518e-08, 2.0571e-05, 9.9953e-01, 3.2908e-06],\n",
            "        [1.8501e-04, 5.0424e-04, 1.4459e-04, 1.5345e-01, 2.0608e-03, 1.1433e-01,\n",
            "         1.1869e-05, 7.2499e-01, 8.7002e-05, 4.2341e-03],\n",
            "        [3.4869e-02, 1.3949e-02, 3.4844e-02, 7.5717e-01, 6.8734e-02, 3.0900e-02,\n",
            "         2.7396e-02, 1.2221e-02, 1.7675e-02, 2.2405e-03],\n",
            "        [2.2636e-03, 2.1945e-04, 2.0568e-03, 5.4138e-01, 6.2347e-02, 3.3461e-01,\n",
            "         7.7418e-03, 4.0857e-02, 7.2149e-03, 1.3162e-03],\n",
            "        [3.2231e-02, 9.7227e-03, 1.3649e-02, 3.9683e-01, 3.3608e-02, 3.5756e-01,\n",
            "         1.2094e-01, 1.2010e-02, 1.2767e-02, 1.0682e-02],\n",
            "        [3.3931e-06, 5.1018e-07, 8.4840e-05, 1.0965e-05, 1.9850e-01, 9.8649e-05,\n",
            "         2.3373e-06, 8.0130e-01, 2.5734e-07, 4.0048e-08],\n",
            "        [2.1274e-05, 2.9416e-05, 1.7914e-02, 7.6104e-01, 1.7628e-03, 1.9561e-01,\n",
            "         6.5628e-03, 1.6969e-02, 5.7681e-05, 2.8008e-05],\n",
            "        [2.4290e-02, 6.3221e-03, 3.5828e-02, 1.2811e-02, 3.9836e-03, 1.1816e-03,\n",
            "         9.1090e-01, 1.7085e-03, 1.9586e-03, 1.0150e-03],\n",
            "        [9.9146e-04, 2.7040e-02, 5.4741e-03, 9.2928e-01, 4.4170e-04, 1.2461e-02,\n",
            "         4.1073e-04, 8.9370e-05, 1.6100e-02, 7.7069e-03]])\n"
          ]
        }
      ]
    },
    {
      "cell_type": "code",
      "source": [
        "pred,labels"
      ],
      "metadata": {
        "colab": {
          "base_uri": "https://localhost:8080/"
        },
        "id": "XC6-muKOxy3X",
        "outputId": "e8447ff8-ab30-4481-f3eb-2c76bcec99f4"
      },
      "execution_count": 37,
      "outputs": [
        {
          "output_type": "execute_result",
          "data": {
            "text/plain": [
              "(tensor([3, 8, 8, 8, 6, 6, 1, 6, 3, 1, 0, 9, 5, 7, 9, 8, 5, 7, 8, 6, 7, 0, 4, 9,\n",
              "         5, 2, 3, 0, 9, 6, 6, 5, 4, 5, 9, 5, 4, 1, 9, 5, 2, 6, 5, 6, 0, 9, 3, 9,\n",
              "         7, 6, 9, 8, 0, 3, 8, 8, 7, 3, 3, 3, 7, 3, 6, 3]),\n",
              " tensor([3, 8, 8, 0, 6, 6, 1, 6, 3, 1, 0, 9, 5, 7, 9, 8, 5, 7, 8, 6, 7, 0, 4, 9,\n",
              "         5, 2, 4, 0, 9, 6, 6, 5, 4, 5, 9, 2, 4, 1, 9, 5, 4, 6, 5, 6, 0, 9, 3, 9,\n",
              "         7, 6, 9, 8, 0, 3, 8, 8, 7, 7, 4, 6, 7, 3, 6, 3]))"
            ]
          },
          "metadata": {},
          "execution_count": 37
        }
      ]
    },
    {
      "cell_type": "code",
      "source": [
        "pred == labels"
      ],
      "metadata": {
        "colab": {
          "base_uri": "https://localhost:8080/"
        },
        "id": "bDvQ8xkO5K-A",
        "outputId": "71bdb18f-776d-422b-9ab4-935a0c8d2501"
      },
      "execution_count": 39,
      "outputs": [
        {
          "output_type": "execute_result",
          "data": {
            "text/plain": [
              "tensor([ True,  True,  True,  True,  True, False,  True,  True,  True,  True,\n",
              "        False,  True,  True, False,  True,  True,  True,  True,  True, False,\n",
              "         True,  True,  True, False,  True,  True,  True,  True,  True,  True,\n",
              "         True, False,  True,  True,  True,  True,  True, False,  True,  True,\n",
              "         True,  True,  True,  True,  True,  True, False, False, False, False,\n",
              "         True,  True, False, False,  True,  True,  True, False,  True,  True,\n",
              "        False,  True,  True,  True])"
            ]
          },
          "metadata": {},
          "execution_count": 39
        }
      ]
    },
    {
      "cell_type": "code",
      "source": [
        "model.eval()\n",
        "with torch.no_grad():\n",
        "    num_correct = 0\n",
        "    total = 0\n",
        "\n",
        "\n",
        "    for batch, (images, labels) in enumerate(testloader,1):\n",
        "        \n",
        "        logps = model(images)\n",
        "        output = torch.exp(logps)\n",
        "        \n",
        "        pred = torch.argmax(output, 1)\n",
        "        total += labels.size(0)\n",
        "        num_correct += (pred == labels).sum().item()\n",
        "        print(f'Batch ({batch}/{len(testloader)})')\n",
        "        \n",
        "        if batch == 5:\n",
        "          break\n",
        "\n",
        "    print(f'Accuracy of the model on {total} test images: {num_correct * 100 / total}% ')"
      ],
      "metadata": {
        "colab": {
          "base_uri": "https://localhost:8080/"
        },
        "id": "tjmLqvmExy-m",
        "outputId": "ef00958f-187b-4c57-eb86-1c8848b00cfa"
      },
      "execution_count": 40,
      "outputs": [
        {
          "output_type": "stream",
          "name": "stdout",
          "text": [
            "Batch (1/157)\n",
            "Batch (2/157)\n",
            "Batch (3/157)\n",
            "Batch (4/157)\n",
            "Batch (5/157)\n",
            "Accuracy of the model on 320 test images: 79.375% \n"
          ]
        }
      ]
    },
    {
      "cell_type": "code",
      "source": [],
      "metadata": {
        "id": "LUhRg5N31h9z"
      },
      "execution_count": null,
      "outputs": []
    },
    {
      "cell_type": "code",
      "source": [],
      "metadata": {
        "id": "nnPyP40p1i6y"
      },
      "execution_count": null,
      "outputs": []
    },
    {
      "cell_type": "code",
      "source": [],
      "metadata": {
        "id": "OTO1uC8xxzEw"
      },
      "execution_count": null,
      "outputs": []
    }
  ]
}
