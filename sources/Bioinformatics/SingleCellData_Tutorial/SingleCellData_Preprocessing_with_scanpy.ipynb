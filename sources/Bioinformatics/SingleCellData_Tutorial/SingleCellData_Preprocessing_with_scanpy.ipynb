{
 "cells": [
  {
   "cell_type": "markdown",
   "id": "10602322-2758-4e87-bd2f-e36d54123373",
   "metadata": {},
   "source": [
    "# Installation"
   ]
  },
  {
   "cell_type": "markdown",
   "id": "8470d70e",
   "metadata": {
    "tags": []
   },
   "source": [
    "# Read and preprocessing the datasets\n",
    "\n",
    "The dataset contains control and IFN-beta stimulated cells. We use this as the query dataset."
   ]
  },
  {
   "cell_type": "code",
   "execution_count": 3,
   "id": "237d13a9",
   "metadata": {},
   "outputs": [
    {
     "name": "stdout",
     "output_type": "stream",
     "text": [
      "3.11.7\n"
     ]
    }
   ],
   "source": [
    "from platform import python_version\n",
    "\n",
    "print(python_version())"
   ]
  },
  {
   "cell_type": "code",
   "execution_count": 4,
   "id": "ca8d5d0d",
   "metadata": {},
   "outputs": [],
   "source": [
    "import numpy as np\n",
    "import pandas as pd\n",
    "import scanpy as sc\n",
    "import anndata as ad\n",
    "import decoupler as dc\n",
    "import session_info"
   ]
  },
  {
   "cell_type": "code",
   "execution_count": 5,
   "id": "52c926c2",
   "metadata": {},
   "outputs": [],
   "source": [
    "import matplotlib.pyplot as plt\n",
    "\n",
    "sc.settings.verbosity = 3             # verbosity: errors (0), warnings (1), info (2), hints (3)\n",
    "#sc.logging.print_versions()\n",
    "\n",
    "sc.settings.set_figure_params(dpi=80)\n",
    "%matplotlib inline"
   ]
  },
  {
   "cell_type": "code",
   "execution_count": 6,
   "id": "da58d750",
   "metadata": {},
   "outputs": [
    {
     "name": "stderr",
     "output_type": "stream",
     "text": [
      "/Users/lamine/anaconda3/envs/env/lib/python3.11/site-packages/tqdm/auto.py:21: TqdmWarning: IProgress not found. Please update jupyter and ipywidgets. See https://ipywidgets.readthedocs.io/en/stable/user_install.html\n",
      "  from .autonotebook import tqdm as notebook_tqdm\n"
     ]
    },
    {
     "name": "stdout",
     "output_type": "stream",
     "text": [
      "scanpy==1.9.6 anndata==0.10.4 umap==0.5.5 numpy==1.26.3 scipy==1.12.0 pandas==2.2.0 scikit-learn==1.4.0 statsmodels==0.14.1 pynndescent==0.5.11\n"
     ]
    }
   ],
   "source": [
    "sc.settings.verbosity = 3             # verbosity: errors (0), warnings (1), info (2), hints (3)\n",
    "sc.logging.print_header()\n",
    "sc.settings.set_figure_params(dpi=80, facecolor='white')"
   ]
  },
  {
   "cell_type": "code",
   "execution_count": null,
   "id": "7861da0e",
   "metadata": {},
   "outputs": [],
   "source": [
    "results_file = '/path/Data/file_merged.h5ad'  \n",
    "#the file that will store the analysis results"
   ]
  },
  {
   "cell_type": "code",
   "execution_count": null,
   "id": "73a75b2a",
   "metadata": {},
   "outputs": [],
   "source": [
    "SS001 = sc.read_10x_mtx(\n",
    "    '/path/SS001/outs/filtered_gene_bc_matrices/GRCh38',  # the directory with the `.mtx` file\n",
    "    var_names='gene_symbols',                # use gene symbols for the variable names (variables-axis index)\n",
    "    cache=True)\n",
    "SS002 = sc.read_10x_mtx(\n",
    "    '/path/SS002/outs/filtered_gene_bc_matrices/GRCh38',  # the directory with the `.mtx` file\n",
    "    var_names='gene_symbols',                # use gene symbols for the variable names (variables-axis index)\n",
    "    cache=True)  \n",
    "SS003 = sc.read_10x_mtx(\n",
    "    '/path/SS003/outs/filtered_gene_bc_matrices/GRCh38',  # the directory with the `.mtx` file\n",
    "    var_names='gene_symbols',                # use gene symbols for the variable names (variables-axis index)\n",
    "    cache=True)  \n",
    "SS004 = sc.read_10x_mtx(\n",
    "    '/path/SS004/outs/filtered_gene_bc_matrices/GRCh38',  # the directory with the `.mtx` file\n",
    "    var_names='gene_symbols',                # use gene symbols for the variable names (variables-axis index)\n",
    "    cache=True) \n",
    "\n",
    "SS005 = sc.read_10x_mtx(\n",
    "    '/path/SS005/outs/filtered_gene_bc_matrices/GRCh38',  # the directory with the `.mtx` file\n",
    "    var_names='gene_symbols',                # use gene symbols for the variable names (variables-axis index)\n",
    "    cache=True)\n",
    "SS006 = sc.read_10x_mtx(\n",
    "    '/path/SS006/outs/filtered_gene_bc_matrices/GRCh38',  # the directory with the `.mtx` file\n",
    "    var_names='gene_symbols',                # use gene symbols for the variable names (variables-axis index)\n",
    "    cache=True)  \n",
    "SS007 = sc.read_10x_mtx(\n",
    "    '/path/SS007/outs/filtered_gene_bc_matrices/GRCh38',  # the directory with the `.mtx` file\n",
    "    var_names='gene_symbols',                # use gene symbols for the variable names (variables-axis index)\n",
    "    cache=True)  \n",
    "SS008 = sc.read_10x_mtx(\n",
    "    '/path/SS008/outs/filtered_gene_bc_matrices/GRCh38',  # the directory with the `.mtx` file\n",
    "    var_names='gene_symbols',                # use gene symbols for the variable names (variables-axis index)\n",
    "    cache=True)  \n"
   ]
  },
  {
   "cell_type": "code",
   "execution_count": null,
   "id": "b37d24a8",
   "metadata": {},
   "outputs": [],
   "source": [
    "file_merged = ad.concat([SS001, SS002, SS003, SS004, SS005, SS006, SS007, SS008], label=\"batch\", \n",
    "                            keys=[\"SS001\", \"SS002\", \"SS003\", \"SS004\", \"SS005\", \"SS006\", \"SS007\", \"SS008\"])\n",
    "file_merged"
   ]
  },
  {
   "cell_type": "code",
   "execution_count": null,
   "id": "bd8fdcf4",
   "metadata": {},
   "outputs": [],
   "source": [
    "file_merged.obs['condition'] = 'WT'\n",
    "file_merged.obs"
   ]
  },
  {
   "cell_type": "code",
   "execution_count": null,
   "id": "6432c302",
   "metadata": {},
   "outputs": [],
   "source": [
    "Trait = file_merged.obs.batch=='D6'\n",
    "file_merged.obs.loc[Trait, 'condition'] = 'IRF3&IFNb&vRNA'\n",
    "file_merged.obs['condition']"
   ]
  },
  {
   "cell_type": "code",
   "execution_count": null,
   "id": "636045d6-9c95-4929-b805-25d8c9933b33",
   "metadata": {
    "tags": []
   },
   "outputs": [],
   "source": [
    "file_merged.var_names_make_unique()  # this is unnecessary if using `var_names='gene_ids'` in `sc.read_10x_mtx`\n",
    "file_merged"
   ]
  },
  {
   "cell_type": "markdown",
   "id": "92f90c6c",
   "metadata": {},
   "source": [
    "## Detect variables genes\n",
    "\n",
    "Variable genes can be detected across the full dataset, but then we run the risk of getting many batch-specific genes that will drive a lot of the variation. Or we can select variable genes from each batch separately to get only celltype variation. In the dimensionality reduction exercise, we already selected variable genes, so they are already stored in file_merged.var.highly_variable"
   ]
  },
  {
   "cell_type": "code",
   "execution_count": null,
   "id": "e1d72960",
   "metadata": {},
   "outputs": [],
   "source": [
    "sc.pl.highest_expr_genes(file_merged, n_top=20, )"
   ]
  },
  {
   "cell_type": "code",
   "execution_count": null,
   "id": "5202d6d6",
   "metadata": {},
   "outputs": [],
   "source": [
    "sc.pp.filter_cells(file_merged, min_genes=200)\n",
    "sc.pp.filter_genes(file_merged, min_cells=3)"
   ]
  },
  {
   "cell_type": "code",
   "execution_count": null,
   "id": "a5ec46ec",
   "metadata": {},
   "outputs": [],
   "source": [
    "file_merged.var['mt'] = file_merged.var_names.str.startswith('MT-')  \n",
    "# annotate the group of mitochondrial genes as 'mt'\n",
    "sc.pp.calculate_qc_metrics(file_merged, qc_vars=['mt'], percent_top=None, log1p=False, inplace=True)"
   ]
  },
  {
   "cell_type": "code",
   "execution_count": null,
   "id": "1d98cdb8",
   "metadata": {},
   "outputs": [],
   "source": [
    "file_merged"
   ]
  },
  {
   "cell_type": "code",
   "execution_count": null,
   "id": "5880795e",
   "metadata": {},
   "outputs": [],
   "source": [
    "#leg = ax.legend() \n",
    "sc.pl.violin(file_merged, ['n_genes_by_counts', 'total_counts', 'pct_counts_mt'],\n",
    "             jitter=0.4, multi_panel=True)"
   ]
  },
  {
   "cell_type": "code",
   "execution_count": null,
   "id": "83e57fa2",
   "metadata": {},
   "outputs": [],
   "source": [
    "file_merged = file_merged[file_merged.obs.n_genes_by_counts < 8500, :]\n",
    "file_merged = file_merged[file_merged.obs.pct_counts_mt < 20 , :]"
   ]
  },
  {
   "cell_type": "code",
   "execution_count": null,
   "id": "1c0013e1",
   "metadata": {},
   "outputs": [],
   "source": [
    "file_merged"
   ]
  },
  {
   "cell_type": "code",
   "execution_count": null,
   "id": "de19f2e4",
   "metadata": {},
   "outputs": [],
   "source": [
    "file_merged.layers['counts']= file_merged.X.copy()\n",
    "sc.pp.normalize_total(file_merged, target_sum=1e4)"
   ]
  },
  {
   "cell_type": "code",
   "execution_count": null,
   "id": "e30b7baf",
   "metadata": {},
   "outputs": [],
   "source": [
    "sc.pp.log1p(file_merged)"
   ]
  },
  {
   "cell_type": "code",
   "execution_count": null,
   "id": "de562a18",
   "metadata": {},
   "outputs": [],
   "source": [
    "sc.pp.highly_variable_genes(file_merged, min_mean=0.0125, max_mean=3, min_disp=0.5)"
   ]
  },
  {
   "cell_type": "code",
   "execution_count": null,
   "id": "17362821",
   "metadata": {},
   "outputs": [],
   "source": [
    "var_genes_all = file_merged.var.highly_variable\n",
    "\n",
    "print(\"Highly variable genes: %d\"%sum(var_genes_all))"
   ]
  },
  {
   "cell_type": "markdown",
   "id": "7828ed7d",
   "metadata": {},
   "source": [
    "Detect variable genes in each dataset separately using the batch_key parameter."
   ]
  },
  {
   "cell_type": "code",
   "execution_count": null,
   "id": "49cacb07",
   "metadata": {},
   "outputs": [],
   "source": [
    "sc.pp.highly_variable_genes(file_merged, min_mean=0.0125, max_mean=3, min_disp=0.5, batch_key = 'batch')\n",
    "\n",
    "print(\"Highly variable genes intersection: %d\"%sum(file_merged.var.highly_variable_intersection))\n",
    "\n",
    "print(\"Number of batches where gene is variable:\")\n",
    "print(file_merged.var.highly_variable_nbatches.value_counts())\n",
    "\n",
    "var_genes_batch = file_merged.var.highly_variable_nbatches > 0"
   ]
  },
  {
   "cell_type": "markdown",
   "id": "0bcef4df",
   "metadata": {},
   "source": [
    "Compare overlap of the variable genes."
   ]
  },
  {
   "cell_type": "code",
   "execution_count": null,
   "id": "47050c0c",
   "metadata": {},
   "outputs": [],
   "source": [
    "print(\"Any batch var genes: %d\"%sum(var_genes_batch))\n",
    "print(\"All data var genes: %d\"%sum(var_genes_all))\n",
    "print(\"Overlap: %d\"%sum(var_genes_batch & var_genes_all))\n",
    "print(\"Variable genes in all batches: %d\"%sum(file_merged.var.highly_variable_nbatches == 6))\n",
    "print(\"Overlap batch instersection and all: %d\"%sum(var_genes_all & file_merged.var.highly_variable_intersection))"
   ]
  },
  {
   "cell_type": "markdown",
   "id": "dc1e4f54",
   "metadata": {},
   "source": [
    "Select all genes that are variable in at least 2 datasets and use for remaining analysis."
   ]
  },
  {
   "cell_type": "code",
   "execution_count": null,
   "id": "31a4ca61",
   "metadata": {},
   "outputs": [],
   "source": [
    "var_select = file_merged.var.highly_variable_nbatches > 2\n",
    "var_genes = var_select.index[var_select]\n",
    "len(var_genes)"
   ]
  },
  {
   "cell_type": "code",
   "execution_count": null,
   "id": "a5c4b146",
   "metadata": {},
   "outputs": [],
   "source": [
    "sc.pl.highly_variable_genes(file_merged)"
   ]
  },
  {
   "cell_type": "code",
   "execution_count": null,
   "id": "021c0970",
   "metadata": {},
   "outputs": [],
   "source": [
    "file_merged.raw = file_merged"
   ]
  },
  {
   "cell_type": "code",
   "execution_count": null,
   "id": "391855e3",
   "metadata": {},
   "outputs": [],
   "source": [
    "file_merged = file_merged[:, file_merged.var.highly_variable]\n",
    "sc.pp.regress_out(file_merged, ['total_counts', 'pct_counts_mt'])\n",
    "sc.pp.scale(file_merged, max_value=10)"
   ]
  },
  {
   "cell_type": "markdown",
   "id": "1d3a972c",
   "metadata": {},
   "source": [
    "## Data integration : batch effect correction\n",
    "###  BBKNN\n",
    "First we will run BBKNN that is implemented in scanpy."
   ]
  },
  {
   "cell_type": "code",
   "execution_count": null,
   "id": "156fe95a",
   "metadata": {},
   "outputs": [],
   "source": [
    "sc.tl.pca(file_merged, svd_solver='arpack')\n",
    "sc.pl.pca_variance_ratio(file_merged, log=True)"
   ]
  },
  {
   "cell_type": "code",
   "execution_count": null,
   "id": "d621679c",
   "metadata": {},
   "outputs": [],
   "source": [
    "file_merged_bbknn = file_merged"
   ]
  },
  {
   "cell_type": "code",
   "execution_count": null,
   "id": "bc9eb7d4",
   "metadata": {},
   "outputs": [],
   "source": [
    "sc.external.pp.bbknn(file_merged_bbknn, batch_key='batch', n_pcs=30)  \n"
   ]
  },
  {
   "cell_type": "code",
   "execution_count": null,
   "id": "0b7aaf75",
   "metadata": {},
   "outputs": [],
   "source": [
    "sc.pp.neighbors(file_merged, n_neighbors=10, n_pcs=30)\n",
    "sc.tl.leiden(file_merged)\n",
    "sc.tl.paga(file_merged)\n",
    "sc.pl.paga(file_merged, plot=False)  # remove `plot=False` if you want to see the coarse-grained graph\n",
    "sc.tl.umap(file_merged, init_pos='paga')\n",
    "sc.tl.tsne(file_merged)"
   ]
  },
  {
   "cell_type": "code",
   "execution_count": null,
   "id": "924d0d94",
   "metadata": {},
   "outputs": [],
   "source": [
    "sc.pp.neighbors(file_merged_bbknn, n_neighbors=10, n_pcs=30)\n",
    "sc.tl.leiden(file_merged_bbknn)\n",
    "sc.tl.paga(file_merged_bbknn)\n",
    "sc.pl.paga(file_merged_bbknn, plot=False)  # remove `plot=False` if you want to see the coarse-grained graph\n",
    "sc.tl.umap(file_merged_bbknn, init_pos='paga')\n",
    "sc.tl.tsne(file_merged_bbknn)"
   ]
  },
  {
   "cell_type": "markdown",
   "id": "27c16c59",
   "metadata": {},
   "source": [
    "We can now plot the un-integrated and the integrated space reduced dimensions."
   ]
  },
  {
   "cell_type": "code",
   "execution_count": null,
   "id": "84b0c3bf",
   "metadata": {},
   "outputs": [],
   "source": [
    "fig, axs = plt.subplots(2, 2, figsize=(10,8),constrained_layout=True)\n",
    "sc.pl.tsne(file_merged_bbknn, color=\"batch\", title=\"BBKNN Corrected tsne\", ax=axs[0,0], show=False)\n",
    "sc.pl.tsne(file_merged, color=\"batch\", title=\"Uncorrected tsne\", ax=axs[0,1], show=False)\n",
    "sc.pl.umap(file_merged_bbknn, color=\"batch\", title=\"BBKNN Corrected umap\", ax=axs[1,0], show=False)\n",
    "sc.pl.umap(file_merged, color=\"batch\", title=\"Uncorrected umap\", ax=axs[1,1], show=False)"
   ]
  },
  {
   "cell_type": "code",
   "execution_count": null,
   "id": "1834fcdd",
   "metadata": {},
   "outputs": [],
   "source": [
    "sc.pl.tsne(file_merged, color='batch', title=\"Uncorrected umap\", wspace=.5)\n",
    "sc.pl.tsne(file_merged_bbknn, color= 'batch', title=\"BBKNN Corrected umap\", wspace=.5)"
   ]
  },
  {
   "cell_type": "code",
   "execution_count": null,
   "id": "c535cc88",
   "metadata": {},
   "outputs": [],
   "source": [
    "sc.tl.rank_genes_groups(file_merged_bbknn, 'batch', method='t-test')\n",
    "sc.pl.rank_genes_groups(file_merged_bbknn, n_genes=25, sharey=False)"
   ]
  },
  {
   "cell_type": "code",
   "execution_count": null,
   "id": "2b88add0",
   "metadata": {},
   "outputs": [],
   "source": [
    "sc.settings.verbosity = 2  # reduce the verbosity\n",
    "sc.tl.rank_genes_groups(file_merged_bbknn, 'batch', method='wilcoxon')\n",
    "sc.pl.rank_genes_groups(file_merged_bbknn, n_genes=25, sharey=False)"
   ]
  },
  {
   "cell_type": "code",
   "execution_count": null,
   "id": "a666fb4c",
   "metadata": {},
   "outputs": [],
   "source": [
    "file_merged_bbknn.write(results_file)"
   ]
  },
  {
   "cell_type": "code",
   "execution_count": null,
   "id": "a5777c11",
   "metadata": {},
   "outputs": [],
   "source": [
    "pd.DataFrame(file_merged_bbknn.uns['rank_genes_groups']['names']).head(10)"
   ]
  },
  {
   "cell_type": "code",
   "execution_count": null,
   "id": "e29c3a93",
   "metadata": {},
   "outputs": [],
   "source": [
    "result = file_merged_bbknn.uns['rank_genes_groups']\n",
    "groups = result['names'].dtype.names\n",
    "pd.DataFrame(\n",
    "    {group + '_' + key[:1]: result[key][group]\n",
    "    for group in groups for key in ['names', 'pvals']}).head(10)"
   ]
  },
  {
   "cell_type": "code",
   "execution_count": null,
   "id": "557d51de",
   "metadata": {},
   "outputs": [],
   "source": [
    "sc.tl.rank_genes_groups(file_merged_bbknn, 'condition', groups=['IRF3&IFNb'], reference='IRF3', method='wilcoxon')\n",
    "sc.pl.rank_genes_groups(file_merged_bbknn, groups=['IRF3&IFNb'], n_genes=20, fontsize=10)"
   ]
  },
  {
   "cell_type": "code",
   "execution_count": null,
   "id": "eb8a0aa0",
   "metadata": {},
   "outputs": [],
   "source": [
    "sc.tl.rank_genes_groups(file_merged_bbknn, 'condition', groups=['WT&IFNb'], reference='WT', method='wilcoxon')\n",
    "sc.pl.rank_genes_groups(file_merged_bbknn, groups=['WT&IFNb'], n_genes=20, fontsize=10)"
   ]
  },
  {
   "cell_type": "code",
   "execution_count": null,
   "id": "a81d645f",
   "metadata": {},
   "outputs": [],
   "source": [
    "sc.pl.rank_genes_groups_violin(file_merged_bbknn, groups='WT&IFNb', n_genes=8)"
   ]
  },
  {
   "cell_type": "code",
   "execution_count": null,
   "id": "b163c165",
   "metadata": {},
   "outputs": [],
   "source": [
    "file_merged_bbknn.obs"
   ]
  },
  {
   "cell_type": "code",
   "execution_count": null,
   "id": "2855c2d7",
   "metadata": {},
   "outputs": [],
   "source": [
    "sc.pl.umap(file_merged_bbknn, color=['condition', 'batch'], wspace=.5)"
   ]
  },
  {
   "cell_type": "code",
   "execution_count": null,
   "id": "206feced",
   "metadata": {},
   "outputs": [],
   "source": [
    "sc.pl.tsne(file_merged_bbknn, color='leiden', legend_loc='on data', title='', frameon=False, save='.pdf')"
   ]
  },
  {
   "cell_type": "code",
   "execution_count": null,
   "id": "c3c288de",
   "metadata": {},
   "outputs": [],
   "source": [
    "file_merged_bbknn"
   ]
  },
  {
   "cell_type": "code",
   "execution_count": null,
   "id": "084b0af1",
   "metadata": {},
   "outputs": [],
   "source": [
    "file_merged_bbknn.write(results_file)"
   ]
  },
  {
   "cell_type": "markdown",
   "id": "bacca25a",
   "metadata": {},
   "source": [
    "# Cell type automatic annotation from marker genes\n",
    "\n",
    "Using ```decoupler```\n",
    "\n",
    "https://decoupler-py.readthedocs.io/en/latest/notebooks/cell_annotation.html"
   ]
  },
  {
   "cell_type": "code",
   "execution_count": null,
   "id": "4467030f",
   "metadata": {},
   "outputs": [],
   "source": [
    "markers = dc.get_resource('PanglaoDB')\n",
    "markers"
   ]
  },
  {
   "cell_type": "code",
   "execution_count": null,
   "id": "30bd17da",
   "metadata": {},
   "outputs": [],
   "source": [
    "# Filter by canonical_marker and human\n",
    "markers = markers[(markers['human']=='True')&(markers['canonical_marker']=='True')]\n",
    "\n",
    "# Remove duplicated entries\n",
    "markers = markers[~markers.duplicated(['cell_type', 'genesymbol'])]\n",
    "markers"
   ]
  },
  {
   "cell_type": "code",
   "execution_count": null,
   "id": "4fefa102",
   "metadata": {},
   "outputs": [],
   "source": [
    "dc.run_ora(\n",
    "    mat=file_merged_bbknn,\n",
    "    net=markers,\n",
    "    source='cell_type',\n",
    "    target='genesymbol',\n",
    "    min_n=3,\n",
    "    verbose=True\n",
    ")"
   ]
  },
  {
   "cell_type": "code",
   "execution_count": null,
   "id": "ea8d871c",
   "metadata": {},
   "outputs": [],
   "source": [
    "file_merged_bbknn"
   ]
  },
  {
   "cell_type": "markdown",
   "id": "5d9a1998",
   "metadata": {},
   "source": [
    "Enrichment with Over Representation Analysis (ORA)\n"
   ]
  },
  {
   "cell_type": "code",
   "execution_count": null,
   "id": "eea90d7a",
   "metadata": {},
   "outputs": [],
   "source": [
    "file_merged_bbknn.obsm['ora_estimate']"
   ]
  },
  {
   "cell_type": "code",
   "execution_count": null,
   "id": "e5d69cce",
   "metadata": {},
   "outputs": [],
   "source": [
    "acts = dc.get_acts(file_merged_bbknn, obsm_key='ora_estimate')\n",
    "\n",
    "# We need to remove inf and set them to the maximum value observed for pvals=0\n",
    "acts_v = acts.X.ravel()\n",
    "max_e = np.nanmax(acts_v[np.isfinite(acts_v)])\n",
    "acts.X[~np.isfinite(acts.X)] = max_e\n",
    "\n",
    "acts"
   ]
  },
  {
   "cell_type": "code",
   "execution_count": null,
   "id": "cf06f362",
   "metadata": {},
   "outputs": [],
   "source": [
    "sc.pl.umap(acts, color=['NK cells', 'leiden'], cmap='RdBu_r')\n",
    "sc.pl.violin(acts, keys=['NK cells'], groupby='leiden')"
   ]
  },
  {
   "cell_type": "code",
   "execution_count": null,
   "id": "bb8ef19d",
   "metadata": {},
   "outputs": [],
   "source": [
    "df = dc.rank_sources_groups(acts, groupby='leiden', reference='rest', method='t-test_overestim_var')\n",
    "df"
   ]
  },
  {
   "cell_type": "code",
   "execution_count": null,
   "id": "2039eeec",
   "metadata": {},
   "outputs": [],
   "source": [
    "n_ctypes = 3\n",
    "ctypes_dict = df.groupby('group').head(n_ctypes).groupby('group')['names'].apply(lambda x: list(x)).to_dict()\n",
    "ctypes_dict"
   ]
  },
  {
   "cell_type": "code",
   "execution_count": null,
   "id": "3ec9ba45",
   "metadata": {},
   "outputs": [],
   "source": [
    "sc.pl.matrixplot(acts, ctypes_dict, 'leiden', dendrogram=True, standard_scale='var',\n",
    "                 colorbar_title='Z-scaled scores', cmap='RdBu_r')"
   ]
  },
  {
   "cell_type": "code",
   "execution_count": null,
   "id": "d947630e",
   "metadata": {},
   "outputs": [],
   "source": [
    "sc.pl.violin(acts, keys=['T cells', 'B cells', 'Platelets', 'Monocytes', 'NK cells'], groupby='leiden')"
   ]
  },
  {
   "cell_type": "code",
   "execution_count": null,
   "id": "f3a87ab9",
   "metadata": {},
   "outputs": [],
   "source": [
    "annotation_dict = df.groupby('group').head(1).set_index('group')['names'].to_dict()\n",
    "annotation_dict"
   ]
  },
  {
   "cell_type": "code",
   "execution_count": null,
   "id": "a3f27052",
   "metadata": {},
   "outputs": [],
   "source": [
    "file_merged_bbknn.obs['cell_type'] = [annotation_dict[clust] for clust in file_merged_bbknn.obs['leiden']]"
   ]
  },
  {
   "cell_type": "code",
   "execution_count": null,
   "id": "8826f76b",
   "metadata": {},
   "outputs": [],
   "source": [
    "# Visualize\n",
    "sc.pl.umap(file_merged_bbknn, color='cell_type')"
   ]
  },
  {
   "cell_type": "code",
   "execution_count": null,
   "id": "3806112a",
   "metadata": {},
   "outputs": [],
   "source": [
    "file_merged_bbknn.obs"
   ]
  },
  {
   "cell_type": "code",
   "execution_count": null,
   "id": "97cdff8e",
   "metadata": {},
   "outputs": [],
   "source": [
    "file_merged_bbknn.write(results_file)"
   ]
  },
  {
   "cell_type": "code",
   "execution_count": 7,
   "id": "839bcf0b-a659-4a0a-ab5c-8b0b02ed8094",
   "metadata": {},
   "outputs": [
    {
     "data": {
      "text/html": [
       "<details>\n",
       "<summary>Click to view session information</summary>\n",
       "<pre>\n",
       "-----\n",
       "anndata             0.10.4\n",
       "decoupler           1.5.0\n",
       "matplotlib          3.8.2\n",
       "numpy               1.26.3\n",
       "pandas              2.2.0\n",
       "scanpy              1.9.6\n",
       "session_info        1.0.0\n",
       "-----\n",
       "</pre>\n",
       "<details>\n",
       "<summary>Click to view modules imported as dependencies</summary>\n",
       "<pre>\n",
       "PIL                         10.2.0\n",
       "anyio                       NA\n",
       "appnope                     0.1.3\n",
       "asttokens                   NA\n",
       "attr                        23.1.0\n",
       "attrs                       23.1.0\n",
       "babel                       2.11.0\n",
       "brotli                      1.0.9\n",
       "certifi                     2023.11.17\n",
       "cffi                        1.16.0\n",
       "charset_normalizer          2.0.4\n",
       "comm                        0.2.1\n",
       "cycler                      0.12.1\n",
       "cython_runtime              NA\n",
       "dateutil                    2.8.2\n",
       "debugpy                     1.6.7\n",
       "decorator                   5.1.1\n",
       "defusedxml                  0.7.1\n",
       "executing                   2.0.1\n",
       "fastjsonschema              NA\n",
       "h5py                        3.10.0\n",
       "idna                        3.4\n",
       "ipykernel                   6.29.0\n",
       "jedi                        0.19.1\n",
       "jinja2                      3.1.2\n",
       "joblib                      1.3.2\n",
       "json5                       NA\n",
       "jsonschema                  4.19.2\n",
       "jsonschema_specifications   NA\n",
       "jupyter_events              0.8.0\n",
       "jupyter_server              2.10.0\n",
       "jupyterlab_server           2.25.1\n",
       "kiwisolver                  1.4.5\n",
       "llvmlite                    0.41.1\n",
       "markupsafe                  2.1.3\n",
       "matplotlib_inline           0.1.6\n",
       "mpl_toolkits                NA\n",
       "natsort                     8.4.0\n",
       "nbformat                    5.9.2\n",
       "numba                       0.58.1\n",
       "overrides                   NA\n",
       "packaging                   23.2\n",
       "parso                       0.8.3\n",
       "patsy                       0.5.6\n",
       "pexpect                     4.8.0\n",
       "pickleshare                 0.7.5\n",
       "pkg_resources               NA\n",
       "platformdirs                4.1.0\n",
       "prometheus_client           NA\n",
       "prompt_toolkit              3.0.42\n",
       "psutil                      5.9.0\n",
       "ptyprocess                  0.7.0\n",
       "pure_eval                   0.2.2\n",
       "pycparser                   2.21\n",
       "pydev_ipython               NA\n",
       "pydevconsole                NA\n",
       "pydevd                      2.9.5\n",
       "pydevd_file_utils           NA\n",
       "pydevd_plugins              NA\n",
       "pydevd_tracing              NA\n",
       "pygments                    2.17.2\n",
       "pynndescent                 0.5.11\n",
       "pyparsing                   3.1.1\n",
       "pythonjsonlogger            NA\n",
       "pytz                        2023.3.post1\n",
       "referencing                 NA\n",
       "requests                    2.31.0\n",
       "rfc3339_validator           0.1.4\n",
       "rfc3986_validator           0.1.1\n",
       "rpds                        NA\n",
       "scipy                       1.12.0\n",
       "send2trash                  NA\n",
       "six                         1.16.0\n",
       "sklearn                     1.4.0\n",
       "sniffio                     1.3.0\n",
       "socks                       1.7.1\n",
       "stack_data                  0.6.2\n",
       "statsmodels                 0.14.1\n",
       "threadpoolctl               3.2.0\n",
       "tornado                     6.3.3\n",
       "tqdm                        4.66.1\n",
       "traitlets                   5.14.1\n",
       "typing_extensions           NA\n",
       "umap                        0.5.5\n",
       "urllib3                     1.26.18\n",
       "wcwidth                     0.2.13\n",
       "websocket                   0.58.0\n",
       "yaml                        6.0.1\n",
       "zmq                         25.1.2\n",
       "</pre>\n",
       "</details> <!-- seems like this ends pre, so might as well be explicit -->\n",
       "<pre>\n",
       "-----\n",
       "IPython             8.20.0\n",
       "jupyter_client      8.6.0\n",
       "jupyter_core        5.5.0\n",
       "jupyterlab          4.0.8\n",
       "notebook            7.0.6\n",
       "-----\n",
       "Python 3.11.7 (main, Dec 15 2023, 12:09:56) [Clang 14.0.6 ]\n",
       "macOS-14.2.1-arm64-arm-64bit\n",
       "-----\n",
       "Session information updated at 2024-01-30 16:02\n",
       "</pre>\n",
       "</details>"
      ],
      "text/plain": [
       "<IPython.core.display.HTML object>"
      ]
     },
     "execution_count": 7,
     "metadata": {},
     "output_type": "execute_result"
    }
   ],
   "source": [
    "session_info.show()"
   ]
  },
  {
   "cell_type": "code",
   "execution_count": null,
   "id": "d0700b59-cbce-433a-83cf-de4dff127f5b",
   "metadata": {},
   "outputs": [],
   "source": []
  }
 ],
 "metadata": {
  "kernelspec": {
   "display_name": "Python 3 (ipykernel)",
   "language": "python",
   "name": "python3"
  },
  "language_info": {
   "codemirror_mode": {
    "name": "ipython",
    "version": 3
   },
   "file_extension": ".py",
   "mimetype": "text/x-python",
   "name": "python",
   "nbconvert_exporter": "python",
   "pygments_lexer": "ipython3",
   "version": "3.11.7"
  }
 },
 "nbformat": 4,
 "nbformat_minor": 5
}
