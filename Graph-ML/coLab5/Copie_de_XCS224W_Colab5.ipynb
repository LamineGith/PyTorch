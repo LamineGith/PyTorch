{
  "cells": [
    {
      "cell_type": "markdown",
      "metadata": {
        "id": "XuXWJLEm2UWS"
      },
      "source": [
        "# **CS224W - Colab 5**"
      ]
    },
    {
      "cell_type": "markdown",
      "metadata": {
        "id": "8gzsP50bF6Gb"
      },
      "source": [
        "In this final Colab we will continue experimenting with advanced topics in GNNs. Specifically, we will look at different techniques for scaling up GNNs using PyTorch Geometric, DeepSNAP and NetworkX. In the preivous Colab we worked with PyTorch Geometric's `NeighborSampler` to scale up training and testing on the OGB `arxiv` dataset and now we will be using DeepSNAP and NetworkX, to implement our own simplified version of `NeighborSampler` and run experiments with different sampling ratios on the Cora graph.\n",
        "\n",
        "Lastly, we will partition the Cora graph into clusters by using different partition algorithms and then train the models using a vanilla Cluster-GCN.\n",
        "\n",
        "**Note**: Make sure to **sequentially run all the cells in each section**, so that the intermediate variables / packages will carry over to the next cell"
      ]
    },
    {
      "cell_type": "markdown",
      "metadata": {
        "id": "MSaetj53YnT6"
      },
      "source": [
        "# Device\n",
        "You likely will want to us a GPU for this Colab.\n",
        "\n",
        "Please click `Runtime` and then `Change runtime type`. Then set the `hardware accelerator` to **GPU**."
      ]
    },
    {
      "cell_type": "markdown",
      "metadata": {
        "id": "67gOQITlCNQi"
      },
      "source": [
        "# Installation"
      ]
    },
    {
      "cell_type": "code",
      "execution_count": 5,
      "metadata": {
        "id": "J_m9l6OYCQZP",
        "colab": {
          "base_uri": "https://localhost:8080/"
        },
        "outputId": "40eba9db-91f1-477a-aef7-31fc6c04881b"
      },
      "outputs": [
        {
          "output_type": "stream",
          "name": "stdout",
          "text": [
            "Looking in indexes: https://pypi.org/simple, https://us-python.pkg.dev/colab-wheels/public/simple/\n",
            "Looking in links: https://pytorch-geometric.com/whl/torch-1.12.0+cu113.html\n",
            "Requirement already satisfied: torch-scatter in /usr/local/lib/python3.7/dist-packages (2.0.9)\n",
            "Looking in indexes: https://pypi.org/simple, https://us-python.pkg.dev/colab-wheels/public/simple/\n",
            "Looking in links: https://pytorch-geometric.com/whl/torch-1.12.0+cu113.html\n",
            "Requirement already satisfied: torch-sparse in /usr/local/lib/python3.7/dist-packages (0.6.14)\n",
            "Requirement already satisfied: scipy in /usr/local/lib/python3.7/dist-packages (from torch-sparse) (1.7.3)\n",
            "Requirement already satisfied: numpy<1.23.0,>=1.16.5 in /usr/local/lib/python3.7/dist-packages (from scipy->torch-sparse) (1.21.6)\n",
            "Looking in indexes: https://pypi.org/simple, https://us-python.pkg.dev/colab-wheels/public/simple/\n",
            "Requirement already satisfied: torch-geometric in /usr/local/lib/python3.7/dist-packages (2.0.4)\n",
            "Requirement already satisfied: pandas in /usr/local/lib/python3.7/dist-packages (from torch-geometric) (1.3.5)\n",
            "Requirement already satisfied: scipy in /usr/local/lib/python3.7/dist-packages (from torch-geometric) (1.7.3)\n",
            "Requirement already satisfied: tqdm in /usr/local/lib/python3.7/dist-packages (from torch-geometric) (4.64.0)\n",
            "Requirement already satisfied: requests in /usr/local/lib/python3.7/dist-packages (from torch-geometric) (2.23.0)\n",
            "Requirement already satisfied: pyparsing in /usr/local/lib/python3.7/dist-packages (from torch-geometric) (3.0.9)\n",
            "Requirement already satisfied: jinja2 in /usr/local/lib/python3.7/dist-packages (from torch-geometric) (2.11.3)\n",
            "Requirement already satisfied: scikit-learn in /usr/local/lib/python3.7/dist-packages (from torch-geometric) (1.0.2)\n",
            "Requirement already satisfied: numpy in /usr/local/lib/python3.7/dist-packages (from torch-geometric) (1.21.6)\n",
            "Requirement already satisfied: MarkupSafe>=0.23 in /usr/local/lib/python3.7/dist-packages (from jinja2->torch-geometric) (2.0.1)\n",
            "Requirement already satisfied: pytz>=2017.3 in /usr/local/lib/python3.7/dist-packages (from pandas->torch-geometric) (2022.1)\n",
            "Requirement already satisfied: python-dateutil>=2.7.3 in /usr/local/lib/python3.7/dist-packages (from pandas->torch-geometric) (2.8.2)\n",
            "Requirement already satisfied: six>=1.5 in /usr/local/lib/python3.7/dist-packages (from python-dateutil>=2.7.3->pandas->torch-geometric) (1.15.0)\n",
            "Requirement already satisfied: certifi>=2017.4.17 in /usr/local/lib/python3.7/dist-packages (from requests->torch-geometric) (2022.6.15)\n",
            "Requirement already satisfied: chardet<4,>=3.0.2 in /usr/local/lib/python3.7/dist-packages (from requests->torch-geometric) (3.0.4)\n",
            "Requirement already satisfied: urllib3!=1.25.0,!=1.25.1,<1.26,>=1.21.1 in /usr/local/lib/python3.7/dist-packages (from requests->torch-geometric) (1.24.3)\n",
            "Requirement already satisfied: idna<3,>=2.5 in /usr/local/lib/python3.7/dist-packages (from requests->torch-geometric) (2.10)\n",
            "Requirement already satisfied: joblib>=0.11 in /usr/local/lib/python3.7/dist-packages (from scikit-learn->torch-geometric) (1.1.0)\n",
            "Requirement already satisfied: threadpoolctl>=2.0.0 in /usr/local/lib/python3.7/dist-packages (from scikit-learn->torch-geometric) (3.1.0)\n"
          ]
        }
      ],
      "source": [
        "# Install torch geometric\n",
        "import os\n",
        "if 'IS_GRADESCOPE_ENV' not in os.environ:\n",
        "  !pip install torch-scatter -f https://pytorch-geometric.com/whl/torch-1.12.0+cu113.html\n",
        "  !pip install torch-sparse -f https://pytorch-geometric.com/whl/torch-1.12.0+cu113.html\n",
        "  !pip install torch-geometric\n",
        "  !pip install -q ogb\n",
        "  !pip install -q git+https://github.com/snap-stanford/deepsnap.git"
      ]
    },
    {
      "cell_type": "code",
      "execution_count": 6,
      "metadata": {
        "id": "PRfgbfTjCRD_",
        "colab": {
          "base_uri": "https://localhost:8080/",
          "height": 35
        },
        "outputId": "7e3e433f-8bd4-45ef-c117-254b267413de"
      },
      "outputs": [
        {
          "output_type": "execute_result",
          "data": {
            "text/plain": [
              "'2.0.4'"
            ],
            "application/vnd.google.colaboratory.intrinsic+json": {
              "type": "string"
            }
          },
          "metadata": {},
          "execution_count": 6
        }
      ],
      "source": [
        "import torch_geometric\n",
        "torch_geometric.__version__"
      ]
    },
    {
      "cell_type": "markdown",
      "metadata": {
        "id": "WFb2OAvOSn_O"
      },
      "source": [
        "# 1) Neighbor Sampling with Different Ratios\n",
        "\n",
        "We will implement our own simplified version of Neighbor Sampling using DeepSNAP and NetworkX. Then we will use our sampler to train models with different neighborhood sampling ratios and compare their performance.\n",
        "\n",
        "To make our experiments faster, we will use the Cora graph."
      ]
    },
    {
      "cell_type": "markdown",
      "metadata": {
        "id": "P9U0F7bnSz9u"
      },
      "source": [
        "## Setup"
      ]
    },
    {
      "cell_type": "code",
      "execution_count": 7,
      "metadata": {
        "id": "PUF4on-fSxcq"
      },
      "outputs": [],
      "source": [
        "import copy\n",
        "import torch\n",
        "import random\n",
        "import numpy as np\n",
        "import pandas as pd\n",
        "import networkx as nx\n",
        "import torch.nn as nn\n", 
        "import torch.nn.functional as F\n",
        "\n",
        "from torch_geometric.nn import SAGEConv\n",
        "from torch.utils.data import DataLoader\n",
        "from torch_geometric.datasets import Planetoid\n",
        "from torch.nn import Sequential, Linear, ReLU\n",
        "from deepsnap.dataset import GraphDataset\n",
        "from deepsnap.graph import Graph\n",
        "\n",
        "if 'IS_GRADESCOPE_ENV' not in os.environ:\n",
        "  pyg_dataset = Planetoid('./tmp', \"Cora\")"
      ]
    },
    {
      "cell_type": "markdown",
      "metadata": {
        "id": "qw6k-KdFTEYw"
      },
      "source": [
        "## GNN Model\n",
        "\n",
        "We use a simple GraphSage GNN model, which we provide to you below. Similar to in section one, notice the slightly different implementations of the forward method depending on the data `mode`. When `mode = \"batch\"` we use Neighbor sampling. Thus, the data parameter contains our graph's node features (`x`) and a list `edge_indices` containing the connectivity of each GNN layer (i.e. an edge_index for each layer, defining the bipartite neighborhood computation graph). \n",
        "\n",
        "**NOTE:** Refer to sections *Neighbor Sampling* and *PyTorch Geometric Neighbor Sampler* from Colab4 for a detailed overview of the Neighbor Sampling technique."
      ]
    },
    {
      "cell_type": "code",
      "execution_count": 8,
      "metadata": {
        "id": "PvUlNi2TS09i"
      },
      "outputs": [],
      "source": [
        "class GNN(torch.nn.Module):\n",
        "    def __init__(self, input_dim, hidden_dim, output_dim, args):\n",
        "        super(GNN, self).__init__()\n",
        "        self.dropout = args['dropout']\n",
        "        self.num_layers = args['num_layers']\n",
        "\n",
        "        self.convs = nn.ModuleList()\n",
        "        self.bns = nn.ModuleList()\n",
        "\n",
        "        self.convs.append(SAGEConv(input_dim, hidden_dim))\n",
        "        self.bns.append(nn.BatchNorm1d(hidden_dim))\n",
        "\n",
        "        for l in range(self.num_layers - 2):\n",
        "            self.convs.append(SAGEConv(hidden_dim, hidden_dim))\n",
        "            self.bns.append(nn.BatchNorm1d(hidden_dim))\n",
        "        self.convs.append(SAGEConv(hidden_dim, hidden_dim))\n",
        "\n",
        "        self.post_mp = nn.Linear(hidden_dim, output_dim)\n",
        "\n",
        "    def forward(self, data, mode=\"batch\"):\n",
        "        # Observe the difference between mode == \"batch\" and mode == \"all\".\n",
        "        # In mode == \"batch\" we pass in an edge index for each conv layer\n",
        "        # corresponding to that layer's bipartite graph structure.\n",
        "        if mode == \"batch\":\n",
        "            edge_indices, x = data\n",
        "            for i in range(len(self.convs) - 1):\n",
        "                edge_index = edge_indices[i]\n",
        "                x = self.convs[i](x, edge_index)\n",
        "                x = self.bns[i](x)\n",
        "                x = F.relu(x)\n",
        "                x = F.dropout(x, p=self.dropout, training=self.training)\n",
        "            x = self.convs[-1](x, edge_indices[len(self.convs) - 1])\n",
        "        else:\n",
        "            x, edge_index = data.node_feature, data.edge_index\n",
        "            for i in range(len(self.convs) - 1):\n",
        "                x = self.convs[i](x, edge_index)\n",
        "                x = self.bns[i](x)\n",
        "                x = F.relu(x)\n",
        "                x = F.dropout(x, p=self.dropout, training=self.training)\n",
        "            x = self.convs[-1](x, edge_index)\n",
        "        x = self.post_mp(x)\n",
        "        x = F.log_softmax(x, dim=1)\n",
        "        return x"
      ]
    },
    {
      "cell_type": "markdown",
      "metadata": {
        "id": "Ulp1A3evcJ-I"
      },
      "source": [
        "## Implementing Neighbor Sampling\n",
        "\n",
        "Now let's take a stab at implementing our own basic version of Neighbor Sampling using DeepSNAP and NetworkX. To decompose the process, we will define several helper functions before finally defining our own `neighbor_sampling` function! \n",
        "\n",
        "**NOTE:** Before working through this section, we highly recommend reviewing sections `Neighbor Sampling` and `PyTorch Geometric Neighbor Sampler`. Specifically, it is important to understand how we explicitly define an `edge_index` for each GNN layer, representing the bipartite computation graph connecting the `target_nodes` that we are embedding for that layer to their relevant neighbors from the previous layer needed for message passing. "
      ]
    },
    {
      "cell_type": "markdown",
      "metadata": {
        "id": "VWneVr3_Hj4n"
      },
      "source": [
        "## **Question 1.1a**: Implementing the `sample_neighbors` function. (5 points)"
      ]
    },
    {
      "cell_type": "code",
      "execution_count": 9,
      "metadata": {
        "id": "V1TZXvJhHjRK",
        "colab": {
          "base_uri": "https://localhost:8080/"
        },
        "outputId": "8d55f64f-fc3b-447a-ab6e-f2606a3ab976"
      },
      "outputs": [
        {
          "output_type": "stream",
          "name": "stdout",
          "text": [
            "Index fields: test_mask ignored.\n",
            "Index fields: val_mask ignored.\n",
            "Index fields: train_mask ignored.\n",
            "Neighbors with ratio = 1: {1632, 1090, 1315, 1316, 1093, 970, 2444, 2642, 1271, 24, 927, 2140, 2367}\n",
            "Neighbors with ratio = 0.3: {1090, 2642, 927}\n",
            "Ratio of sampled neighbors: 0.23076923076923078\n"
          ]
        }
      ],
      "source": [
        "def sample_neighbors(nodes, G, ratio, all_nodes):\n",
        "    # TODO: Implement a function that takes as input a set of nodes, \n",
        "    # a NetworkX graph G, and a neighbor sampling ratio and returns:\n",
        "    #   1. A set of the sampled nodes\n",
        "    #   2. A set union between `all_nodes` and the newly sampled neighbor nodes.\n",
        "    #      This allows us to track the nodes needed across all message passing layers.\n",
        "    #   3. The set of edges connecting the sampled neighboring nodes to our inpute\n",
        "    #      set of nodes. Represents a bi-partite graph between targets (nodes)\n",
        "    #      and source (neighbor) nodes.\n",
        "\n",
        "    neighbors = set()\n",
        "    edges = []\n",
        "\n",
        "    ############# Your code here ############\n",
        "    ## (~8-10 line of code)\n",
        "    ## Note:\n",
        "    ## 1. You will will need to sample neighbors from each node given to you in \n",
        "    ##    `nodes` list. \n",
        "    ##    Hint: Used graph `G` to assist in obtaining the neighbors of each node. \n",
        "    ## 2. Randomly sample neighbors without replacement (i.e. the same neighbors \n",
        "    ##    should not be selected more than once for a given node) \n",
        "    ## 3. The neighbors are stored in a set data structure to ensure that duplicates\n",
        "    ##    are avoided.  This is useful as the set union will be taken with `all_nodes`. \n",
        "    ## 5. The edges list should contain all edges sampled in the form of a tuple\n",
        "    ##    of (neighbor, node)  \n",
        "\n",
        "    # neighbors of each node\n",
        "    for node in nodes:\n",
        "        neighbors_list = list(nx.neighbors(G, node))\n",
        "\n",
        "        num = int(len(neighbors_list) * ratio)\n",
        "        if num > 0:\n",
        "            random.shuffle(neighbors_list)\n",
        "            neighbors_list = neighbors_list[:num]\n",
        "            for neighbor in neighbors_list:\n",
        "                neighbors.add(neighbor)\n",
        "                edges.append((neighbor, node))\n",
        "    ########################################## \n",
        "    return neighbors, neighbors.union(all_nodes), edges\n",
        "  \n",
        "if 'IS_GRADESCOPE_ENV' not in os.environ:\n",
        "  graphs_train, _, _ = \\\n",
        "      GraphDataset.pyg_to_graphs(pyg_dataset, verbose=True, fixed_split=True)\n",
        "\n",
        "  graph_train = graphs_train[0]\n",
        "\n",
        "  nodes = [15, 16, 17]\n",
        "  neighbors_full, _, _ = sample_neighbors(nodes, graph_train.G, 1, set())\n",
        "  neighbors_sampled, _, _ = sample_neighbors(nodes, graph_train.G, 0.3, set())\n",
        "  print (\"Neighbors with ratio = 1:\", neighbors_full)\n",
        "  print (\"Neighbors with ratio = 0.3:\", neighbors_sampled)\n",
        "  # Note that this is not expected to be 0.3. Since we apply\n",
        "  # our sampling ratio for each node, the number of neighbors\n",
        "  # for each node may not evenly divide by the ratio   \n",
        "  print (\"Ratio of sampled neighbors:\", len(neighbors_sampled) / len(neighbors_full))"
      ]
    },
    {
      "cell_type": "markdown",
      "metadata": {
        "id": "4NKNh4TEJ8_p"
      },
      "source": [
        "## Tensor transformation and node relabeling helper functions. "
      ]
    },
    {
      "cell_type": "code",
      "execution_count": 10,
      "metadata": {
        "id": "H2PeBMJIJ9Tn"
      },
      "outputs": [],
      "source": [
        "def nodes_to_tensor(nodes):\n",
        "    \"\"\"\n",
        "      Transforms a set of nodes into a node index tensor.\n",
        "    \"\"\"\n",
        "\n",
        "    node_label_index = torch.tensor(list(nodes), dtype=torch.long)\n",
        "    return node_label_index\n",
        "\n",
        "\n",
        "def edges_to_tensor(edges):\n",
        "    \"\"\"\n",
        "      Transforms a list of undirected edges into the corresponding PyG\n",
        "      edge_index tensor representation. Notice that we explicitly make\n",
        "      sure to include both edge directions.  \n",
        "    \"\"\"\n",
        "\n",
        "    edge_index = torch.tensor(list(edges), dtype=torch.long)\n",
        "    edge_index = torch.cat([edge_index, torch.flip(edge_index, [1])], dim=0)\n",
        "    edge_index = edge_index.permute(1, 0)\n",
        "\n",
        "    return edge_index\n",
        "\n",
        "def relabel(nodes, labeled_nodes, edges_list):\n",
        "    \"\"\"\n",
        "      Relabel nodes with 0 based indeces.\n",
        "      \n",
        "      During the sampling process, we are likely to sample a list of\n",
        "      non-continuous node ids. However, our GNN models rely on continuous\n",
        "      0 based indexing to index into the rows of our node features matrix \n",
        "      based on edges in the graph (edge_index)\n",
        "    \"\"\"\n",
        "\n",
        "    relabeled_edges_list = []\n",
        "    sorted_nodes = sorted(nodes)\n",
        "    node_mapping = {node : i for i, node in enumerate(sorted_nodes)}\n",
        "    for orig_edges in edges_list:\n",
        "        relabeled_edges = []\n",
        "        for edge in orig_edges:\n",
        "            relabeled_edges.append((node_mapping[edge[0]], node_mapping[edge[1]]))\n",
        "        relabeled_edges_list.append(relabeled_edges)\n",
        "    relabeled_labeled_nodes = [node_mapping[node] for node in labeled_nodes]\n",
        "    relabeled_nodes = [node_mapping[node] for node in nodes]\n",
        "\n",
        "    return relabeled_edges_list, relabeled_nodes, relabeled_labeled_nodes, sorted_nodes\n"
      ]
    },
    {
      "cell_type": "markdown",
      "metadata": {
        "id": "El-2h_ApOJYP"
      },
      "source": [
        "## **Question 1.1b**: Putting it all together - Implementing our own Neighbor Sampling function. (4 points)\n",
        "\n",
        "Now that we've developed a better understanding of what the Neighbor Sampling function does, we will implement our own version of it. Instead of choosing $H_k$ number of samples at each layer, we will use a ratio of the number of neigbors that a givn node has. Can you think of the pros and cons of using a ratio of the number of neighbors for a node at different layers?  "
      ]
    },
    {
      "cell_type": "code",
      "execution_count": 11,
      "metadata": {
        "id": "LI4qHkE4cQOh",
        "colab": {
          "base_uri": "https://localhost:8080/"
        },
        "outputId": "11712c78-8bfa-40f8-d623-f543524d931f"
      },
      "outputs": [
        {
          "output_type": "stream",
          "name": "stdout",
          "text": [
            "Index fields: test_mask ignored.\n",
            "Index fields: val_mask ignored.\n",
            "Index fields: train_mask ignored.\n",
            "Sampled 2218 nodes, 7554 edges, 140 labeled nodes\n"
          ]
        }
      ],
      "source": [
        "def neighbor_sampling(graph, K=2, ratios=(0.1, 0.1, 0.1)):\n",
        "    # TODO: Implement a function that performs Neighbor Sampling on an input\n",
        "    # graph G for a K layer GNN. Notice that len(ratios) = K + 1. Ratios[-1]\n",
        "    # determines size of our mini-batch (i.e. the number of labeled \n",
        "    # nodes we sample computation graphs for). \n",
        "\n",
        "    assert K + 1 == len(ratios)\n",
        "\n",
        "    labeled_nodes = graph.node_label_index.tolist()\n",
        "    random.shuffle(labeled_nodes)\n",
        "    num = int(len(labeled_nodes) * ratios[-1])\n",
        "    if num > 0:\n",
        "        labeled_nodes = labeled_nodes[:num]\n",
        "    nodes_list = [set(labeled_nodes)]\n",
        "    edges_list = []\n",
        "    all_nodes = labeled_nodes\n",
        "\n",
        "    ############# Your code here ############\n",
        "    ## (~4-6 line of code)\n",
        "    ## Note:\n",
        "    ## 1. Using your previously defined `sample_neighbors` function, build up the \n",
        "    ##    edges_list for our K layer network.\n",
        "    ## 2. nodes_list is a list where nodes_list[i] is set of nodes used for message\n",
        "    ##    passing in layer i+1 of our GNN (i.e. level i in our computation graph).\n",
        "    ##    Notice, node_list[-1] represents the target nodes we want to \n",
        "    ##    embedd in the mini-batch.\n",
        "    ## 3. edge_list is a list of the bi-partite edge conections between layers\n",
        "    ##    in the computation graph.\n",
        "    ## 4. all_nodes is used to track all the nodes needed for message passing.\n",
        "    ## 5. Remember in a GNN, information flows from the base of the computation\n",
        "    ##    graph to the root. How does this affect the way we add to the nodes_list \n",
        "    ##    and edge_list, as well as how we read from ratios (ratios[-1] \n",
        "    ##    represents the root nodes in our computation graph)?\n",
        "    for k in range(K):\n",
        "      nodes, all_nodes, edges = sample_neighbors(nodes_list[-1], graph.G, ratios[len(ratios) - k - 2], all_nodes)\n",
        "      nodes_list.append(nodes)\n",
        "      edges_list.append(edges)\n",
        "    \n",
        "    nodes_list.reverse()\n",
        "    edges_list.reverse()\n",
        "    #########################################\n",
        "\n",
        "    relabeled_edges_list, relabeled_all_nodes, relabeled_labeled_nodes, sorted_original_nodes = \\\n",
        "        relabel(all_nodes, labeled_nodes, edges_list)\n",
        "\n",
        "    node_index = nodes_to_tensor(sorted_original_nodes)\n",
        "    # All node features that will be used\n",
        "    node_feature = graph.node_feature[node_index]\n",
        "    edge_indices = [edges_to_tensor(edges) for edges in relabeled_edges_list]\n",
        "    node_label_index = nodes_to_tensor(relabeled_labeled_nodes)\n",
        "    orig_node_label_index = nodes_to_tensor(labeled_nodes)\n",
        "    log = \"Sampled {} nodes, {} edges, {} labeled nodes\"\n",
        "    print(log.format(node_feature.shape[0], edge_indices[0].shape[1] // 2, node_label_index.shape[0]))\n",
        "    return node_feature, edge_indices, node_label_index, orig_node_label_index\n",
        "\n",
        "if 'IS_GRADESCOPE_ENV' not in os.environ:\n",
        "  # Need to define some basic test! Primarily to test whether they build \n",
        "  # in the correct reverse order. So ideally something like ratio = (0.3, 0.5, 0.8).\n",
        "  # Just need to check shapes.\n",
        "  \n",
        "  graphs_train, _, _ = \\\n",
        "      GraphDataset.pyg_to_graphs(pyg_dataset, verbose=True, fixed_split=True)\n",
        "\n",
        "  graph_train = graphs_train[0]\n",
        "\n",
        "  node_feature, edge_indices, node_label_index, _ = neighbor_sampling(graph_train, K=3, ratios=(1, 1, 1, 1))"
      ]
    },
    {
      "cell_type": "markdown",
      "metadata": {
        "id": "ooy6Hcf7TIhI"
      },
      "source": [
        "## Training and Testing\n",
        "\n",
        "Additionally, notice that node classification task on Cora is a semi-supervised classification task, here we keep all the labeled training nodes (140 nodes) by setting the last ratio to 1."
      ]
    },
    {
      "cell_type": "code",
      "execution_count": 12,
      "metadata": {
        "id": "iSmZhpzPTGPY"
      },
      "outputs": [],
      "source": [
        "def train(train_graphs, val_graphs, args, model, optimizer, mode=\"batch\"):\n",
        "    best_val = 0\n",
        "    best_model = None\n",
        "    accs = []\n",
        "    graph_train = train_graphs[0]\n",
        "    graph_train.to(args['device'])\n",
        "    for epoch in range(1, 1 + args['epochs']):\n",
        "        model.train()\n",
        "        optimizer.zero_grad()\n",
        "        if mode == \"batch\":\n",
        "            node_feature, edge_indices, node_label_index, orig_node_index = neighbor_sampling(graph_train, args['num_layers'], args['ratios'])\n",
        "            node_feature = node_feature.to(args['device'])\n",
        "            node_label_index = node_label_index.to(args['device'])\n",
        "            for i in range(len(edge_indices)):\n",
        "                edge_indices[i] = edge_indices[i].to(args['device'])\n",
        "            pred = model([edge_indices, node_feature])\n",
        "            pred = pred[node_label_index]\n",
        "            label = graph_train.node_label[orig_node_index]\n",
        "        elif mode == \"community\":\n",
        "            graph = random.choice(train_graphs)\n",
        "            graph = graph.to(args['device'])\n",
        "            pred = model(graph, mode=\"all\")\n",
        "            pred = pred[graph.node_label_index]\n",
        "            label = graph.node_label[graph.node_label_index]\n",
        "        else:\n",
        "            pred = model(graph_train, mode=\"all\")\n",
        "            label = graph_train.node_label\n",
        "            pred = pred[graph_train.node_label_index]\n",
        "        loss = F.nll_loss(pred, label)\n",
        "        loss.backward()\n",
        "        optimizer.step()\n",
        "\n",
        "        train_acc, val_acc, test_acc = test(val_graphs, model)\n",
        "        accs.append((train_acc, val_acc, test_acc))\n",
        "        if val_acc > best_val:\n",
        "            best_val = val_acc\n",
        "            best_model = copy.deepcopy(model)\n",
        "        print(f'Epoch: {epoch:02d}, '\n",
        "              f'Loss: {loss:.4f}, '\n",
        "              f'Train: {100 * train_acc:.2f}%, '\n",
        "              f'Valid: {100 * val_acc:.2f}% '\n",
        "              f'Test: {100 * test_acc:.2f}%')\n",
        "    return best_model, accs\n",
        "\n",
        "def test(graphs, model, save_model_results=False, batch_type=\"batch\", title=None):\n",
        "    model.eval()\n",
        "    accs = []\n",
        "  \n",
        "    for graph in graphs:\n",
        "        graph = graph.to(args['device'])\n",
        "        pred = model(graph, mode=\"all\")\n",
        "        label = graph.node_label\n",
        "        pred = pred[graph.node_label_index].max(1)[1]\n",
        "        acc = pred.eq(label).sum().item()\n",
        "        acc /= len(label)\n",
        "        accs.append(acc)\n",
        "    \n",
        "    if save_model_results:\n",
        "      print (\"Saving Model Predictions for Model:\", batch_type, title)\n",
        "\n",
        "      data = {}\n",
        "      # The last dataset we test is the test graph\n",
        "      data['pred'] = pred.view(-1).cpu().detach().numpy()\n",
        "      data['label'] = label.view(-1).cpu().detach().numpy()\n",
        "\n",
        "      df = pd.DataFrame(data=data)\n",
        "      # Save locally as csv\n",
        "      file_name = 'CORA_Node_' + batch_type\n",
        "      if title is not None:\n",
        "        file_name = file_name + \"_\" + title\n",
        "\n",
        "      df.to_csv(file_name + '.csv', sep=',', index=False)\n",
        "\n",
        "    return accs"
      ]
    },
    {
      "cell_type": "code",
      "execution_count": 13,
      "metadata": {
        "id": "HV7i0v0ETKzf"
      },
      "outputs": [],
      "source": [
        "args = {\n",
        "    'device': torch.device('cuda' if torch.cuda.is_available() else 'cpu'),\n",
        "    'dropout': 0.5,\n",
        "    'num_layers': 2,\n",
        "    'hidden_size': 64,\n",
        "    'lr': 0.005,\n",
        "    'epochs': 50,\n",
        "    'ratios': (0.8, 0.8, 1),\n",
        "}"
      ]
    },
    {
      "cell_type": "code",
      "execution_count": 14,
      "metadata": {
        "id": "kfiKId8-iBj1"
      },
      "outputs": [],
      "source": [
        "def set_seed(seed=224):\n",
        "\n",
        "    random.seed(seed)\n",
        "    np.random.seed(seed)\n",
        "    torch.manual_seed(seed)\n",
        "    torch.backends.cudnn.benchmark = False"
      ]
    },
    {
      "cell_type": "markdown",
      "metadata": {
        "id": "rLpRYKbnTQnj"
      },
      "source": [
        "## Full-Batch Training\n",
        "\n",
        "As a baseline, we train our GNN model over the entire graph without any Neighbor Sampling."
      ]
    },
    {
      "cell_type": "code",
      "execution_count": 15,
      "metadata": {
        "id": "pMGGjbJBTOo1",
        "colab": {
          "base_uri": "https://localhost:8080/"
        },
        "outputId": "4216363e-5a4c-4fcb-ecfe-43022342be11"
      },
      "outputs": [
        {
          "output_type": "stream",
          "name": "stdout",
          "text": [
            "Index fields: test_mask ignored.\n",
            "Index fields: val_mask ignored.\n",
            "Index fields: train_mask ignored.\n",
            "Epoch: 01, Loss: 2.0228, Train: 65.00%, Valid: 29.00% Test: 35.10%\n",
            "Epoch: 02, Loss: 1.0957, Train: 97.86%, Valid: 54.00% Test: 58.50%\n",
            "Epoch: 03, Loss: 0.6141, Train: 100.00%, Valid: 68.20% Test: 69.90%\n",
            "Epoch: 04, Loss: 0.2814, Train: 100.00%, Valid: 74.40% Test: 74.00%\n",
            "Epoch: 05, Loss: 0.1553, Train: 100.00%, Valid: 75.60% Test: 75.50%\n",
            "Epoch: 06, Loss: 0.0629, Train: 100.00%, Valid: 76.40% Test: 75.90%\n",
            "Epoch: 07, Loss: 0.0454, Train: 100.00%, Valid: 76.80% Test: 76.00%\n",
            "Epoch: 08, Loss: 0.0232, Train: 100.00%, Valid: 77.40% Test: 76.50%\n",
            "Epoch: 09, Loss: 0.0108, Train: 100.00%, Valid: 77.40% Test: 76.10%\n",
            "Epoch: 10, Loss: 0.0120, Train: 100.00%, Valid: 77.20% Test: 76.20%\n",
            "Epoch: 11, Loss: 0.0047, Train: 100.00%, Valid: 76.60% Test: 76.20%\n",
            "Epoch: 12, Loss: 0.0061, Train: 100.00%, Valid: 76.40% Test: 76.20%\n",
            "Epoch: 13, Loss: 0.0046, Train: 100.00%, Valid: 76.20% Test: 76.10%\n",
            "Epoch: 14, Loss: 0.0012, Train: 100.00%, Valid: 76.20% Test: 76.10%\n",
            "Epoch: 15, Loss: 0.0049, Train: 100.00%, Valid: 76.00% Test: 75.80%\n",
            "Epoch: 16, Loss: 0.0019, Train: 100.00%, Valid: 75.80% Test: 75.90%\n",
            "Epoch: 17, Loss: 0.0006, Train: 100.00%, Valid: 75.20% Test: 75.80%\n",
            "Epoch: 18, Loss: 0.0013, Train: 100.00%, Valid: 75.20% Test: 75.80%\n",
            "Epoch: 19, Loss: 0.0003, Train: 100.00%, Valid: 75.20% Test: 75.60%\n",
            "Epoch: 20, Loss: 0.0005, Train: 100.00%, Valid: 75.00% Test: 75.70%\n",
            "Epoch: 21, Loss: 0.0003, Train: 100.00%, Valid: 75.00% Test: 75.50%\n",
            "Epoch: 22, Loss: 0.0001, Train: 100.00%, Valid: 75.20% Test: 75.40%\n",
            "Epoch: 23, Loss: 0.0005, Train: 100.00%, Valid: 75.00% Test: 75.30%\n",
            "Epoch: 24, Loss: 0.0004, Train: 100.00%, Valid: 74.80% Test: 75.20%\n",
            "Epoch: 25, Loss: 0.0001, Train: 100.00%, Valid: 74.60% Test: 75.10%\n",
            "Epoch: 26, Loss: 0.0002, Train: 100.00%, Valid: 74.60% Test: 75.20%\n",
            "Epoch: 27, Loss: 0.0005, Train: 100.00%, Valid: 74.60% Test: 75.10%\n",
            "Epoch: 28, Loss: 0.0002, Train: 100.00%, Valid: 75.00% Test: 75.30%\n",
            "Epoch: 29, Loss: 0.0007, Train: 100.00%, Valid: 75.00% Test: 75.30%\n",
            "Epoch: 30, Loss: 0.0001, Train: 100.00%, Valid: 75.00% Test: 75.40%\n",
            "Epoch: 31, Loss: 0.0007, Train: 100.00%, Valid: 75.20% Test: 75.30%\n",
            "Epoch: 32, Loss: 0.0000, Train: 100.00%, Valid: 75.00% Test: 75.00%\n",
            "Epoch: 33, Loss: 0.0001, Train: 100.00%, Valid: 75.00% Test: 75.20%\n",
            "Epoch: 34, Loss: 0.0000, Train: 100.00%, Valid: 75.00% Test: 75.20%\n",
            "Epoch: 35, Loss: 0.0001, Train: 100.00%, Valid: 75.00% Test: 75.30%\n",
            "Epoch: 36, Loss: 0.0000, Train: 100.00%, Valid: 74.80% Test: 75.40%\n",
            "Epoch: 37, Loss: 0.0000, Train: 100.00%, Valid: 74.60% Test: 75.40%\n",
            "Epoch: 38, Loss: 0.0000, Train: 100.00%, Valid: 74.60% Test: 75.40%\n",
            "Epoch: 39, Loss: 0.0001, Train: 100.00%, Valid: 74.60% Test: 75.40%\n",
            "Epoch: 40, Loss: 0.0000, Train: 100.00%, Valid: 74.40% Test: 75.30%\n",
            "Epoch: 41, Loss: 0.0002, Train: 100.00%, Valid: 74.40% Test: 75.10%\n",
            "Epoch: 42, Loss: 0.0002, Train: 100.00%, Valid: 74.60% Test: 75.10%\n",
            "Epoch: 43, Loss: 0.0000, Train: 100.00%, Valid: 74.60% Test: 75.00%\n",
            "Epoch: 44, Loss: 0.0000, Train: 100.00%, Valid: 74.60% Test: 75.00%\n",
            "Epoch: 45, Loss: 0.0001, Train: 100.00%, Valid: 74.60% Test: 74.90%\n",
            "Epoch: 46, Loss: 0.0000, Train: 100.00%, Valid: 74.60% Test: 74.90%\n",
            "Epoch: 47, Loss: 0.0001, Train: 100.00%, Valid: 74.40% Test: 74.80%\n",
            "Epoch: 48, Loss: 0.0007, Train: 100.00%, Valid: 74.40% Test: 74.90%\n",
            "Epoch: 49, Loss: 0.0001, Train: 100.00%, Valid: 74.40% Test: 74.80%\n",
            "Epoch: 50, Loss: 0.0000, Train: 100.00%, Valid: 74.40% Test: 74.90%\n",
            "Best model: Train: 100.00%, Valid: 77.40% Test: 76.50%\n"
          ]
        }
      ],
      "source": [
        "if 'IS_GRADESCOPE_ENV' not in os.environ:\n",
        "  \n",
        "  set_seed()\n",
        "\n",
        "  graphs_train, graphs_val, graphs_test = \\\n",
        "      GraphDataset.pyg_to_graphs(pyg_dataset, verbose=True, fixed_split=True)\n",
        "\n",
        "  graph_train = graphs_train[0]\n",
        "  graph_val = graphs_val[0]\n",
        "  graph_test = graphs_test[0]\n",
        "\n",
        "  model = GNN(graph_train.num_node_features, args['hidden_size'], graph_train.num_node_labels, args).to(args['device'])\n",
        "  optimizer = torch.optim.Adam(model.parameters(), lr=args['lr'])\n",
        "  graphs = [graph_train, graph_val, graph_test]\n",
        "  all_best_model, all_accs = train(graphs, graphs, args, model, optimizer, mode=\"all\")\n",
        "  train_acc, val_acc, test_acc = test([graph_train, graph_val, graph_test], all_best_model)\n",
        "  print('Best model:',\n",
        "        f'Train: {100 * train_acc:.2f}%, '\n",
        "        f'Valid: {100 * val_acc:.2f}% '\n",
        "        f'Test: {100 * test_acc:.2f}%')"
      ]
    },
    {
      "cell_type": "markdown",
      "metadata": {
        "id": "JWkGiwB6Thr4"
      },
      "source": [
        "## **Question 1.2a:** What is the maximum test accuracy using samping ratios = (0.7, 0.9, 1)? (12 points)\n",
        "\n",
        "Running the cell below will show the results of your best model and save your best model's predictions to a file named CORA_Node_batch_(0.7, 0.9, 1).csv'.\n",
        "\n",
        "As we have seen before you can view this file by clicking on the Folder icon on the left side pannel. When you sumbit your assignment, you will have to download this file and attatch it to your submission."
      ]
    },
    {
      "cell_type": "code",
      "execution_count": 16,
      "metadata": {
        "id": "yWusJ9u3Tfhv",
        "colab": {
          "base_uri": "https://localhost:8080/"
        },
        "outputId": "4a0a39c6-24e9-4496-f2e1-412019c17c2d"
      },
      "outputs": [
        {
          "output_type": "stream",
          "name": "stdout",
          "text": [
            "Index fields: test_mask ignored.\n",
            "Index fields: val_mask ignored.\n",
            "Index fields: train_mask ignored.\n",
            "Sampled 1282 nodes, 1825 edges, 140 labeled nodes\n",
            "Epoch: 01, Loss: 1.9865, Train: 50.00%, Valid: 21.40% Test: 25.40%\n",
            "Sampled 1247 nodes, 1779 edges, 140 labeled nodes\n",
            "Epoch: 02, Loss: 1.3804, Train: 90.71%, Valid: 45.60% Test: 50.70%\n",
            "Sampled 1267 nodes, 1782 edges, 140 labeled nodes\n",
            "Epoch: 03, Loss: 0.9118, Train: 96.43%, Valid: 63.20% Test: 65.00%\n",
            "Sampled 1250 nodes, 1781 edges, 140 labeled nodes\n",
            "Epoch: 04, Loss: 0.5949, Train: 98.57%, Valid: 69.00% Test: 70.80%\n",
            "Sampled 1260 nodes, 1808 edges, 140 labeled nodes\n",
            "Epoch: 05, Loss: 0.4114, Train: 98.57%, Valid: 72.00% Test: 74.80%\n",
            "Sampled 1277 nodes, 1821 edges, 140 labeled nodes\n",
            "Epoch: 06, Loss: 0.2631, Train: 98.57%, Valid: 74.40% Test: 76.90%\n",
            "Sampled 1284 nodes, 1801 edges, 140 labeled nodes\n",
            "Epoch: 07, Loss: 0.1592, Train: 99.29%, Valid: 74.80% Test: 77.00%\n",
            "Sampled 1274 nodes, 1834 edges, 140 labeled nodes\n",
            "Epoch: 08, Loss: 0.1114, Train: 99.29%, Valid: 75.80% Test: 77.30%\n",
            "Sampled 1273 nodes, 1798 edges, 140 labeled nodes\n",
            "Epoch: 09, Loss: 0.0933, Train: 100.00%, Valid: 75.80% Test: 77.60%\n",
            "Sampled 1223 nodes, 1707 edges, 140 labeled nodes\n",
            "Epoch: 10, Loss: 0.0638, Train: 100.00%, Valid: 76.20% Test: 77.40%\n",
            "Sampled 1241 nodes, 1767 edges, 140 labeled nodes\n",
            "Epoch: 11, Loss: 0.0457, Train: 100.00%, Valid: 76.60% Test: 77.10%\n",
            "Sampled 1262 nodes, 1794 edges, 140 labeled nodes\n",
            "Epoch: 12, Loss: 0.0367, Train: 100.00%, Valid: 77.00% Test: 76.40%\n",
            "Sampled 1253 nodes, 1818 edges, 140 labeled nodes\n",
            "Epoch: 13, Loss: 0.0353, Train: 100.00%, Valid: 77.00% Test: 76.30%\n",
            "Sampled 1247 nodes, 1757 edges, 140 labeled nodes\n",
            "Epoch: 14, Loss: 0.0111, Train: 100.00%, Valid: 77.20% Test: 75.90%\n",
            "Sampled 1248 nodes, 1778 edges, 140 labeled nodes\n",
            "Epoch: 15, Loss: 0.0345, Train: 100.00%, Valid: 77.00% Test: 76.00%\n",
            "Sampled 1258 nodes, 1778 edges, 140 labeled nodes\n",
            "Epoch: 16, Loss: 0.0154, Train: 100.00%, Valid: 76.80% Test: 76.00%\n",
            "Sampled 1266 nodes, 1788 edges, 140 labeled nodes\n",
            "Epoch: 17, Loss: 0.0064, Train: 100.00%, Valid: 76.80% Test: 75.50%\n",
            "Sampled 1262 nodes, 1779 edges, 140 labeled nodes\n",
            "Epoch: 18, Loss: 0.0059, Train: 100.00%, Valid: 76.40% Test: 75.30%\n",
            "Sampled 1271 nodes, 1830 edges, 140 labeled nodes\n",
            "Epoch: 19, Loss: 0.0059, Train: 100.00%, Valid: 76.40% Test: 75.30%\n",
            "Sampled 1228 nodes, 1771 edges, 140 labeled nodes\n",
            "Epoch: 20, Loss: 0.0201, Train: 100.00%, Valid: 76.20% Test: 75.20%\n",
            "Sampled 1277 nodes, 1830 edges, 140 labeled nodes\n",
            "Epoch: 21, Loss: 0.0119, Train: 100.00%, Valid: 75.60% Test: 74.90%\n",
            "Sampled 1236 nodes, 1756 edges, 140 labeled nodes\n",
            "Epoch: 22, Loss: 0.0188, Train: 100.00%, Valid: 75.20% Test: 74.80%\n",
            "Sampled 1264 nodes, 1786 edges, 140 labeled nodes\n",
            "Epoch: 23, Loss: 0.0086, Train: 100.00%, Valid: 75.00% Test: 74.80%\n",
            "Sampled 1291 nodes, 1841 edges, 140 labeled nodes\n",
            "Epoch: 24, Loss: 0.0019, Train: 100.00%, Valid: 74.40% Test: 74.80%\n",
            "Sampled 1264 nodes, 1827 edges, 140 labeled nodes\n",
            "Epoch: 25, Loss: 0.0169, Train: 100.00%, Valid: 74.40% Test: 75.00%\n",
            "Sampled 1261 nodes, 1772 edges, 140 labeled nodes\n",
            "Epoch: 26, Loss: 0.0008, Train: 100.00%, Valid: 74.20% Test: 75.00%\n",
            "Sampled 1274 nodes, 1829 edges, 140 labeled nodes\n",
            "Epoch: 27, Loss: 0.0007, Train: 100.00%, Valid: 74.20% Test: 75.10%\n",
            "Sampled 1267 nodes, 1802 edges, 140 labeled nodes\n",
            "Epoch: 28, Loss: 0.0072, Train: 100.00%, Valid: 74.60% Test: 75.20%\n",
            "Sampled 1279 nodes, 1787 edges, 140 labeled nodes\n",
            "Epoch: 29, Loss: 0.0090, Train: 100.00%, Valid: 74.80% Test: 75.10%\n",
            "Sampled 1274 nodes, 1831 edges, 140 labeled nodes\n",
            "Epoch: 30, Loss: 0.0036, Train: 100.00%, Valid: 74.80% Test: 75.10%\n",
            "Sampled 1231 nodes, 1766 edges, 140 labeled nodes\n",
            "Epoch: 31, Loss: 0.0137, Train: 100.00%, Valid: 75.00% Test: 75.00%\n",
            "Sampled 1262 nodes, 1832 edges, 140 labeled nodes\n",
            "Epoch: 32, Loss: 0.0023, Train: 100.00%, Valid: 75.00% Test: 75.00%\n",
            "Sampled 1240 nodes, 1766 edges, 140 labeled nodes\n",
            "Epoch: 33, Loss: 0.0043, Train: 100.00%, Valid: 75.20% Test: 75.10%\n",
            "Sampled 1265 nodes, 1819 edges, 140 labeled nodes\n",
            "Epoch: 34, Loss: 0.0009, Train: 100.00%, Valid: 75.20% Test: 75.20%\n",
            "Sampled 1237 nodes, 1768 edges, 140 labeled nodes\n",
            "Epoch: 35, Loss: 0.0010, Train: 100.00%, Valid: 75.20% Test: 75.00%\n",
            "Sampled 1256 nodes, 1784 edges, 140 labeled nodes\n",
            "Epoch: 36, Loss: 0.0137, Train: 100.00%, Valid: 75.20% Test: 74.90%\n",
            "Sampled 1267 nodes, 1836 edges, 140 labeled nodes\n",
            "Epoch: 37, Loss: 0.0015, Train: 100.00%, Valid: 75.20% Test: 74.80%\n",
            "Sampled 1265 nodes, 1778 edges, 140 labeled nodes\n",
            "Epoch: 38, Loss: 0.0005, Train: 100.00%, Valid: 75.00% Test: 74.60%\n",
            "Sampled 1273 nodes, 1798 edges, 140 labeled nodes\n",
            "Epoch: 39, Loss: 0.0009, Train: 100.00%, Valid: 74.80% Test: 74.60%\n",
            "Sampled 1203 nodes, 1717 edges, 140 labeled nodes\n",
            "Epoch: 40, Loss: 0.0014, Train: 100.00%, Valid: 74.80% Test: 74.60%\n",
            "Sampled 1250 nodes, 1786 edges, 140 labeled nodes\n",
            "Epoch: 41, Loss: 0.0004, Train: 100.00%, Valid: 74.80% Test: 74.50%\n",
            "Sampled 1280 nodes, 1816 edges, 140 labeled nodes\n",
            "Epoch: 42, Loss: 0.0025, Train: 100.00%, Valid: 74.60% Test: 74.30%\n",
            "Sampled 1245 nodes, 1777 edges, 140 labeled nodes\n",
            "Epoch: 43, Loss: 0.0148, Train: 100.00%, Valid: 74.60% Test: 74.30%\n",
            "Sampled 1294 nodes, 1838 edges, 140 labeled nodes\n",
            "Epoch: 44, Loss: 0.0025, Train: 100.00%, Valid: 74.60% Test: 74.10%\n",
            "Sampled 1252 nodes, 1817 edges, 140 labeled nodes\n",
            "Epoch: 45, Loss: 0.0046, Train: 100.00%, Valid: 75.00% Test: 74.20%\n",
            "Sampled 1268 nodes, 1827 edges, 140 labeled nodes\n",
            "Epoch: 46, Loss: 0.0010, Train: 100.00%, Valid: 75.00% Test: 74.20%\n",
            "Sampled 1248 nodes, 1807 edges, 140 labeled nodes\n",
            "Epoch: 47, Loss: 0.0023, Train: 100.00%, Valid: 75.20% Test: 74.30%\n",
            "Sampled 1197 nodes, 1749 edges, 140 labeled nodes\n",
            "Epoch: 48, Loss: 0.0009, Train: 100.00%, Valid: 75.00% Test: 74.30%\n",
            "Sampled 1260 nodes, 1800 edges, 140 labeled nodes\n",
            "Epoch: 49, Loss: 0.0008, Train: 100.00%, Valid: 74.60% Test: 74.10%\n",
            "Sampled 1250 nodes, 1764 edges, 140 labeled nodes\n",
            "Epoch: 50, Loss: 0.0005, Train: 100.00%, Valid: 74.60% Test: 74.10%\n",
            "Saving Model Predictions for Model: batch (0.7,0.9,1)\n",
            "Best model: Train: 100.00%, Valid: 77.20% Test: 75.90%\n"
          ]
        }
      ],
      "source": [
        "if 'IS_GRADESCOPE_ENV' not in os.environ:\n",
        "  \n",
        "  set_seed()\n",
        "\n",
        "  args['ratios'] = (0.7, 0.9, 1)\n",
        "\n",
        "  graphs_train, graphs_val, graphs_test = \\\n",
        "      GraphDataset.pyg_to_graphs(pyg_dataset, verbose=True, fixed_split=True)\n",
        "\n",
        "  graph_train = graphs_train[0]\n",
        "  graph_val = graphs_val[0]\n",
        "  graph_test = graphs_test[0]\n",
        "\n",
        "  model = GNN(graph_train.num_node_features, args['hidden_size'], graph_train.num_node_labels, args).to(args['device'])\n",
        "  optimizer = torch.optim.Adam(model.parameters(), lr=args['lr'])\n",
        "  graphs = [graph_train, graph_val, graph_test]\n",
        "  batch_best_model, batch_accs = train(graphs, graphs, args, model, optimizer)\n",
        "  train_acc, val_acc, test_acc = test([graph_train, graph_val, graph_test], batch_best_model, save_model_results=True, batch_type=\"batch\", title=\"(0.7,0.9,1)\")\n",
        "  print('Best model:',\n",
        "        f'Train: {100 * train_acc:.2f}%, '\n",
        "        f'Valid: {100 * val_acc:.2f}% '\n",
        "        f'Test: {100 * test_acc:.2f}%')"
      ]
    },
    {
      "cell_type": "markdown",
      "metadata": {
        "id": "w_FjkNHDT4c6"
      },
      "source": [
        "## **Question 1.2b:** What is the maximum test accuracy using samping ratios = (0.3, 0.5, 1)? (12 points)\n",
        "\n",
        "Running the cell below will show the results of your best model and save your best model's predictions to a file named CORA_Node_batch_(0.3, 0.5, 1).csv'.\n",
        "\n",
        "As we have seen before you can view this file by clicking on the Folder icon on the left side pannel. When you submit your assignment, you will have to download this file and attach it to your submission."
      ]
    },
    {
      "cell_type": "code",
      "execution_count": 17,
      "metadata": {
        "id": "booJ6DASTjO4",
        "colab": {
          "base_uri": "https://localhost:8080/"
        },
        "outputId": "577ffadd-ee4e-4592-e68a-ed24b5d4b305"
      },
      "outputs": [
        {
          "output_type": "stream",
          "name": "stdout",
          "text": [
            "Index fields: test_mask ignored.\n",
            "Index fields: val_mask ignored.\n",
            "Index fields: train_mask ignored.\n",
            "Sampled 645 nodes, 426 edges, 140 labeled nodes\n",
            "Epoch: 01, Loss: 2.0345, Train: 43.57%, Valid: 18.20% Test: 23.10%\n",
            "Sampled 652 nodes, 452 edges, 140 labeled nodes\n",
            "Epoch: 02, Loss: 1.5353, Train: 81.43%, Valid: 32.80% Test: 39.30%\n",
            "Sampled 692 nodes, 491 edges, 140 labeled nodes\n",
            "Epoch: 03, Loss: 1.1194, Train: 90.00%, Valid: 51.20% Test: 54.00%\n",
            "Sampled 656 nodes, 435 edges, 140 labeled nodes\n",
            "Epoch: 04, Loss: 0.8249, Train: 94.29%, Valid: 60.00% Test: 62.50%\n",
            "Sampled 678 nodes, 475 edges, 140 labeled nodes\n",
            "Epoch: 05, Loss: 0.6035, Train: 98.57%, Valid: 65.00% Test: 68.60%\n",
            "Sampled 659 nodes, 437 edges, 140 labeled nodes\n",
            "Epoch: 06, Loss: 0.4582, Train: 98.57%, Valid: 69.80% Test: 72.30%\n",
            "Sampled 649 nodes, 444 edges, 140 labeled nodes\n",
            "Epoch: 07, Loss: 0.2901, Train: 99.29%, Valid: 72.20% Test: 75.40%\n",
            "Sampled 665 nodes, 447 edges, 140 labeled nodes\n",
            "Epoch: 08, Loss: 0.2060, Train: 99.29%, Valid: 72.80% Test: 77.40%\n",
            "Sampled 706 nodes, 487 edges, 140 labeled nodes\n",
            "Epoch: 09, Loss: 0.1534, Train: 99.29%, Valid: 73.00% Test: 76.90%\n",
            "Sampled 645 nodes, 412 edges, 140 labeled nodes\n",
            "Epoch: 10, Loss: 0.1028, Train: 99.29%, Valid: 74.00% Test: 77.20%\n",
            "Sampled 656 nodes, 420 edges, 140 labeled nodes\n",
            "Epoch: 11, Loss: 0.0897, Train: 99.29%, Valid: 73.80% Test: 77.20%\n",
            "Sampled 664 nodes, 448 edges, 140 labeled nodes\n",
            "Epoch: 12, Loss: 0.0668, Train: 100.00%, Valid: 73.60% Test: 76.60%\n",
            "Sampled 665 nodes, 439 edges, 140 labeled nodes\n",
            "Epoch: 13, Loss: 0.0469, Train: 100.00%, Valid: 73.20% Test: 76.60%\n",
            "Sampled 679 nodes, 459 edges, 140 labeled nodes\n",
            "Epoch: 14, Loss: 0.0302, Train: 100.00%, Valid: 73.20% Test: 76.50%\n",
            "Sampled 635 nodes, 440 edges, 140 labeled nodes\n",
            "Epoch: 15, Loss: 0.0299, Train: 100.00%, Valid: 72.80% Test: 76.10%\n",
            "Sampled 675 nodes, 466 edges, 140 labeled nodes\n",
            "Epoch: 16, Loss: 0.0261, Train: 100.00%, Valid: 72.40% Test: 76.00%\n",
            "Sampled 648 nodes, 421 edges, 140 labeled nodes\n",
            "Epoch: 17, Loss: 0.0120, Train: 100.00%, Valid: 72.40% Test: 76.10%\n",
            "Sampled 663 nodes, 422 edges, 140 labeled nodes\n",
            "Epoch: 18, Loss: 0.0096, Train: 100.00%, Valid: 72.20% Test: 75.80%\n",
            "Sampled 665 nodes, 468 edges, 140 labeled nodes\n",
            "Epoch: 19, Loss: 0.0038, Train: 100.00%, Valid: 72.20% Test: 76.30%\n",
            "Sampled 673 nodes, 453 edges, 140 labeled nodes\n",
            "Epoch: 20, Loss: 0.0118, Train: 100.00%, Valid: 72.40% Test: 76.10%\n",
            "Sampled 642 nodes, 434 edges, 140 labeled nodes\n",
            "Epoch: 21, Loss: 0.0257, Train: 100.00%, Valid: 72.60% Test: 75.80%\n",
            "Sampled 673 nodes, 474 edges, 140 labeled nodes\n",
            "Epoch: 22, Loss: 0.0177, Train: 100.00%, Valid: 72.40% Test: 75.50%\n",
            "Sampled 655 nodes, 454 edges, 140 labeled nodes\n",
            "Epoch: 23, Loss: 0.0148, Train: 100.00%, Valid: 72.40% Test: 75.20%\n",
            "Sampled 654 nodes, 441 edges, 140 labeled nodes\n",
            "Epoch: 24, Loss: 0.0048, Train: 100.00%, Valid: 72.40% Test: 74.90%\n",
            "Sampled 658 nodes, 459 edges, 140 labeled nodes\n",
            "Epoch: 25, Loss: 0.0052, Train: 100.00%, Valid: 72.20% Test: 74.80%\n",
            "Sampled 662 nodes, 445 edges, 140 labeled nodes\n",
            "Epoch: 26, Loss: 0.0053, Train: 100.00%, Valid: 72.00% Test: 74.60%\n",
            "Sampled 643 nodes, 436 edges, 140 labeled nodes\n",
            "Epoch: 27, Loss: 0.0041, Train: 100.00%, Valid: 71.80% Test: 74.50%\n",
            "Sampled 665 nodes, 432 edges, 140 labeled nodes\n",
            "Epoch: 28, Loss: 0.0044, Train: 100.00%, Valid: 71.80% Test: 74.40%\n",
            "Sampled 646 nodes, 437 edges, 140 labeled nodes\n",
            "Epoch: 29, Loss: 0.0126, Train: 100.00%, Valid: 71.60% Test: 74.20%\n",
            "Sampled 688 nodes, 474 edges, 140 labeled nodes\n",
            "Epoch: 30, Loss: 0.0048, Train: 100.00%, Valid: 71.80% Test: 74.20%\n",
            "Sampled 695 nodes, 471 edges, 140 labeled nodes\n",
            "Epoch: 31, Loss: 0.0103, Train: 100.00%, Valid: 72.00% Test: 74.20%\n",
            "Sampled 671 nodes, 459 edges, 140 labeled nodes\n",
            "Epoch: 32, Loss: 0.0009, Train: 100.00%, Valid: 71.60% Test: 74.80%\n",
            "Sampled 630 nodes, 411 edges, 140 labeled nodes\n",
            "Epoch: 33, Loss: 0.0184, Train: 100.00%, Valid: 72.00% Test: 74.90%\n",
            "Sampled 671 nodes, 484 edges, 140 labeled nodes\n",
            "Epoch: 34, Loss: 0.0035, Train: 100.00%, Valid: 72.40% Test: 75.10%\n",
            "Sampled 676 nodes, 453 edges, 140 labeled nodes\n",
            "Epoch: 35, Loss: 0.0015, Train: 100.00%, Valid: 72.40% Test: 75.10%\n",
            "Sampled 655 nodes, 460 edges, 140 labeled nodes\n",
            "Epoch: 36, Loss: 0.0043, Train: 100.00%, Valid: 72.40% Test: 75.00%\n",
            "Sampled 699 nodes, 457 edges, 140 labeled nodes\n",
            "Epoch: 37, Loss: 0.0034, Train: 100.00%, Valid: 72.40% Test: 75.10%\n",
            "Sampled 682 nodes, 478 edges, 140 labeled nodes\n",
            "Epoch: 38, Loss: 0.0014, Train: 100.00%, Valid: 72.20% Test: 75.10%\n",
            "Sampled 673 nodes, 452 edges, 140 labeled nodes\n",
            "Epoch: 39, Loss: 0.0023, Train: 100.00%, Valid: 72.00% Test: 75.30%\n",
            "Sampled 647 nodes, 408 edges, 140 labeled nodes\n",
            "Epoch: 40, Loss: 0.0016, Train: 100.00%, Valid: 72.00% Test: 76.00%\n",
            "Sampled 647 nodes, 433 edges, 140 labeled nodes\n",
            "Epoch: 41, Loss: 0.0018, Train: 100.00%, Valid: 71.80% Test: 76.00%\n",
            "Sampled 642 nodes, 432 edges, 140 labeled nodes\n",
            "Epoch: 42, Loss: 0.0057, Train: 100.00%, Valid: 71.80% Test: 76.10%\n",
            "Sampled 684 nodes, 469 edges, 140 labeled nodes\n",
            "Epoch: 43, Loss: 0.0007, Train: 100.00%, Valid: 71.60% Test: 76.20%\n",
            "Sampled 656 nodes, 445 edges, 140 labeled nodes\n",
            "Epoch: 44, Loss: 0.0011, Train: 100.00%, Valid: 71.60% Test: 76.00%\n",
            "Sampled 672 nodes, 445 edges, 140 labeled nodes\n",
            "Epoch: 45, Loss: 0.0037, Train: 100.00%, Valid: 71.60% Test: 76.00%\n",
            "Sampled 648 nodes, 435 edges, 140 labeled nodes\n",
            "Epoch: 46, Loss: 0.0042, Train: 100.00%, Valid: 71.80% Test: 76.20%\n",
            "Sampled 679 nodes, 449 edges, 140 labeled nodes\n",
            "Epoch: 47, Loss: 0.0019, Train: 100.00%, Valid: 72.00% Test: 76.10%\n",
            "Sampled 642 nodes, 432 edges, 140 labeled nodes\n",
            "Epoch: 48, Loss: 0.0006, Train: 100.00%, Valid: 72.00% Test: 76.10%\n",
            "Sampled 639 nodes, 420 edges, 140 labeled nodes\n",
            "Epoch: 49, Loss: 0.0007, Train: 100.00%, Valid: 72.00% Test: 76.10%\n",
            "Sampled 663 nodes, 446 edges, 140 labeled nodes\n",
            "Epoch: 50, Loss: 0.0059, Train: 100.00%, Valid: 71.80% Test: 76.10%\n",
            "Saving Model Predictions for Model: batch (0.3,0.5,1)\n",
            "Best model: Train: 99.29%, Valid: 74.00% Test: 77.20%\n"
          ]
        }
      ],
      "source": [
        "if 'IS_GRADESCOPE_ENV' not in os.environ:\n",
        "  \n",
        "  set_seed()\n",
        "\n",
        "  # Change the ratio to 0.3\n",
        "  args['ratios'] = (0.3, 0.5, 1)\n",
        "\n",
        "  graphs_train, graphs_val, graphs_test = \\\n",
        "      GraphDataset.pyg_to_graphs(pyg_dataset, verbose=True, fixed_split=True)\n",
        "\n",
        "  graph_train = graphs_train[0]\n",
        "  graph_val = graphs_val[0]\n",
        "  graph_test = graphs_test[0]\n",
        "\n",
        "  model = GNN(graph_train.num_node_features, args['hidden_size'], graph_train.num_node_labels, args).to(args['device'])\n",
        "  optimizer = torch.optim.Adam(model.parameters(), lr=args['lr'])\n",
        "  graphs = [graph_train, graph_val, graph_test]\n",
        "  batch_best_model, batch_accs_1 = train(graphs, graphs, args, model, optimizer)\n",
        "  train_acc, val_acc, test_acc = test([graph_train, graph_val, graph_test], batch_best_model, save_model_results=True, batch_type=\"batch\", title=\"(0.3,0.5,1)\")\n",
        "  print('Best model:',\n",
        "        f'Train: {100 * train_acc:.2f}%, '\n",
        "        f'Valid: {100 * val_acc:.2f}% '\n",
        "        f'Test: {100 * test_acc:.2f}%')"
      ]
    },
    {
      "cell_type": "markdown",
      "metadata": {
        "id": "EePAvNlGUM2K"
      },
      "source": [
        "## Visualization"
      ]
    },
    {
      "cell_type": "code",
      "execution_count": 18,
      "metadata": {
        "id": "7etNAkXAT55d",
        "colab": {
          "base_uri": "https://localhost:8080/",
          "height": 458
        },
        "outputId": "c1ea38da-9d01-4f9c-a50f-f8c62f6103d5"
      },
      "outputs": [
        {
          "output_type": "display_data",
          "data": {
            "text/plain": [
              "<Figure size 648x504 with 1 Axes>"
            ],
            "image/png": "[encoded data removed]"
          },
          "metadata": {
            "needs_background": "light"
          }
        }
      ],
      "source": [
        "import numpy as np\n",
        "from matplotlib import pyplot as plt\n",
        "\n",
        "if 'IS_GRADESCOPE_ENV' not in os.environ:\n",
        "  batch_results = np.array(batch_accs)\n",
        "  batch_results_1 = np.array(batch_accs_1)\n",
        "  all_results = np.array(all_accs)\n",
        "\n",
        "  x = np.arange(1, 51)\n",
        "\n",
        "  plt.figure(figsize=(9, 7))\n",
        "\n",
        "  plt.plot(x, batch_results[:, 0], label=\"Batch 0.8 Train\")\n",
        "  plt.plot(x, batch_results[:, 1], label=\"Batch 0.8 Validation\")\n",
        "  plt.plot(x, batch_results[:, 2], label=\"Batch 0.8 Test\")\n",
        "  plt.plot(x, batch_results_1[:, 0], label=\"Batch 0.3 Train\")\n",
        "  plt.plot(x, batch_results_1[:, 1], label=\"Batch 0.3 Validation\")\n",
        "  plt.plot(x, batch_results_1[:, 2], label=\"Batch 0.3 Test\")\n",
        "  plt.plot(x, all_results[:, 0], label=\"All Train\")\n",
        "  plt.plot(x, all_results[:, 1], label=\"All Validation\")\n",
        "  plt.plot(x, all_results[:, 2], label=\"All Test\")\n",
        "  plt.title('Model Accuracy')\n",
        "  plt.ylabel('Accuracy')\n",
        "  plt.xlabel('Epoch')\n",
        "  plt.legend()\n",
        "  plt.show()"
      ]
    },
    {
      "cell_type": "markdown",
      "metadata": {
        "id": "bkA7-0groq7q"
      },
      "source": [
        "**NOTE:** We always evaluate accuracy in full-batch mode. Namely, only during training do we use neighborhood sub-sampling. We do this for a couple reason: 1) fairness of comparison, 2) we worry most about computational cost during training as compared to evaluation, and 3) during the inference phase we want to leverage as much neighborhood information as possible!  "
      ]
    },
    {
      "cell_type": "markdown",
      "metadata": {
        "id": "Iee0U8KGURc8"
      },
      "source": [
        "# 2) Cluster Sampling\n",
        "\n",
        "As discussed in Module 7.2, we can also use subgraph (cluster) sampling to scale up GNN. Specifically, we will explore the methods proposed in Cluster-GCN ([Chiang et al. (2019)](https://arxiv.org/abs/1905.07953)), where we break our graph into smaller subgraphs to avoid the computational cost of training on the entire graph at once.\n",
        "\n",
        "In this final section, we will implement a vanilla Cluster-GCN and experiment with 3 different community partition algorithms.\n",
        "\n",
        "**NOTE:** the code in this section requires that you have run the `Setup`, `GNN Model` and `Training and Testing` cells of section 2."
      ]
    },
    {
      "cell_type": "markdown",
      "metadata": {
        "id": "_BXjP79gUYir"
      },
      "source": [
        "## Setup"
      ]
    },
    {
      "cell_type": "code",
      "execution_count": 19,
      "metadata": {
        "id": "UGQ_VKp8UOEm"
      },
      "outputs": [],
      "source": [
        "import copy\n",
        "import torch\n",
        "import random\n",
        "import numpy as np\n",
        "import networkx as nx\n",
        "import torch.nn as nn\n",
        "import pandas as pd\n",
        "import torch.nn.functional as F\n",
        "import community.community_louvain as community_louvain\n",
        "\n",
        "from torch_geometric.nn import SAGEConv\n",
        "from torch.utils.data import DataLoader\n",
        "from torch_geometric.datasets import Planetoid\n",
        "from torch.nn import Sequential, Linear, ReLU\n",
        "from deepsnap.dataset import GraphDataset\n",
        "from deepsnap.graph import Graph\n",
        "\n",
        "if 'IS_GRADESCOPE_ENV' not in os.environ:   \n",
        "  pyg_dataset = Planetoid('./tmp', \"Cora\")"
      ]
    },
    {
      "cell_type": "code",
      "execution_count": 20,
      "metadata": {
        "id": "bzMatyCSUaB6"
      },
      "outputs": [],
      "source": [
        "args = {\n",
        "    'device': torch.device('cuda' if torch.cuda.is_available() else 'cpu'),\n",
        "    'dropout': 0.5,\n",
        "    'num_layers': 2,\n",
        "    'hidden_size': 64,\n",
        "    'lr': 0.005,\n",
        "    'epochs': 150,\n",
        "}"
      ]
    },
    {
      "cell_type": "markdown",
      "metadata": {
        "id": "ekV-sokSUeLc"
      },
      "source": [
        "## Partitioning the Graph into Clusters\n",
        "\n",
        "We will experiment with three community detection / partition algorithms to partition our graph into different clusters:\n",
        "* [Kernighan–Lin algorithm (bisection)](https://networkx.org/documentation/stable/reference/algorithms/generated/networkx.algorithms.community.kernighan_lin.kernighan_lin_bisection.html)\n",
        "* [Clauset-Newman-Moore greedy modularity maximization](https://networkx.org/documentation/stable/reference/algorithms/generated/networkx.algorithms.community.modularity_max.greedy_modularity_communities.html#networkx.algorithms.community.modularity_max.greedy_modularity_communities)\n",
        "* [Louvain algorithm](https://python-louvain.readthedocs.io/en/latest/api.html)\n",
        "\n",
        "\n",
        "As a preprocessing step, we partition our graph into a list of seperate subgraphs using one of the three communitiy detection algorithms above. Then during training we iteratively train our vanilla Cluster-GNN model on a randomly selected subgraph, rather than on over the entire graph at once. To make training more stable, we discard any communities that have less than 10 nodes.\n",
        "\n",
        "Let's begin by defining the three partition algorithms."
      ]
    },
    {
      "cell_type": "code",
      "execution_count": 37,
      "metadata": {
        "id": "N8XeT005UcKh"
      },
      "outputs": [],
      "source": [
        "def partition(G, method=\"louvain\"):\n",
        "    # TODO: Implement a function that takes a Networkx graph G and\n",
        "    # partitions the graph into communities using the specified graph\n",
        "    # partition algorithm.\n",
        "    # \n",
        "    # Return: A list of sets of nodes, one for each community!\n",
        "\n",
        "    communities = None\n",
        "\n",
        "    if method == \"louvain\":\n",
        "        ############# Your code here #############\n",
        "        ## (~9 line of code)\n",
        "        ## Note:\n",
        "        ## 1. Find a community mapping corresponding to the partition of the \n",
        "        ##    graph nodes which maximizes the modularity for the Louvain algorithm. \n",
        "        ##    Set your resolution to 10.\n",
        "        ## 2. Create a mapping of communities to a set of member nodes. \n",
        "        ## 3. Extract the node sets from each community and return \n",
        "        ##    as a list of sets. \n",
        "        ##    Hint: Perhaps a dictionary structure can assist.\n",
        "        ## 4. SET random_state = 8 \n",
        "        community_mapping = community_louvain.best_partition(G, resolution=10, random_state=8)\n",
        "        communities = {}\n",
        "        for node in community_mapping:\n",
        "            comm = community_mapping[node]\n",
        "            if comm in communities:\n",
        "                communities[comm].add(node)\n",
        "            else:\n",
        "                communities[comm] = set([node])\n",
        "        communities = communities.values()\n",
        "        ##########################################\n",
        "    elif method == \"bisection\":\n",
        "        ############# Your code here #############\n",
        "        ## (~1 line of code)\n",
        "        ## Note:\n",
        "        ## 1. The Kernigan-Lin algorithm ensures that nodes are partitioned into two \n",
        "        ##    primary communities.  \n",
        "        ## 2. Ensure that the resultant data structure is consistent with expected\n",
        "        ##    output.\n",
        "        ## 3. SET seed = 8\n",
        "        communities = nx.algorithms.community.kernighan_lin_bisection(G, seed=8)\n",
        "        ##########################################\n",
        "    elif method == \"greedy\":\n",
        "        ############# Your code here #############\n",
        "        ## (~1 line of code)\n",
        "        ## Note:\n",
        "        ## 1. Clauset-Newman-Moore greedy modularity maximization joins pair \n",
        "        ##    of communities nodes that most increases modularity until no such \n",
        "        ##    pair exists.\n",
        "        communities = nx.algorithms.community.greedy_modularity_communities(G)\n",
        "        ##########################################\n",
        "\n",
        "    return communities \n",
        "\n",
        "\n",
        "def preprocess(G, node_label_index, method=\"louvain\"):\n",
        "    graphs = []\n",
        "    labeled_nodes = set(node_label_index.tolist())\n",
        "\n",
        "    communities = partition(G, method)\n",
        "\n",
        "    for community in communities:\n",
        "        nodes = set(community)\n",
        "        subgraph = G.subgraph(nodes)\n",
        "        # Make sure each subgraph has more than 10 nodes\n",
        "        if subgraph.number_of_nodes() > 10:\n",
        "            node_mapping = {node : i for i, node in enumerate(subgraph.nodes())}\n",
        "            subgraph = nx.relabel_nodes(subgraph, node_mapping)\n",
        "            # Get the id of the training set labeled node in the new graph\n",
        "            train_label_index = []\n",
        "            for node in labeled_nodes:\n",
        "                if node in node_mapping:\n",
        "                    # Append relabeled labeled node index\n",
        "                    train_label_index.append(node_mapping[node])\n",
        "\n",
        "            # Make sure the subgraph contains at least one training set labeled node\n",
        "            if len(train_label_index) > 0:\n",
        "                dg = Graph(subgraph)\n",
        "                # Update node_label_index\n",
        "                dg.node_label_index = torch.tensor(train_label_index, dtype=torch.long)\n",
        "                graphs.append(dg)\n",
        "    return graphs"
      ]
    },
    {
      "cell_type": "markdown",
      "metadata": {
        "id": "YKrUdkhC1-A3"
      },
      "source": [
        "## Experimenting with different graph partition algorithms\n",
        "\n",
        "We will now experiment with the three graph partition algorithms, using the resulting graph clusters to train our vanilla Cluster-GNN. We will first observe how each parition algorithm partitions the original graph. Then we will compare the perfomance of our vanilla Cluster-GNN trained using the different graph clustering techniques. Lastly, we will compare against training a vanilla GCN over the entire graph (refered to as Full-Batch training).  "
      ]
    },
    {
      "cell_type": "markdown",
      "metadata": {
        "id": "7CYEamCAU-TJ"
      },
      "source": [
        "## **Question 2.1a:** How does the Louvain algorithm partition our graph? (3 points)\n"
      ]
    },
    {
      "cell_type": "code",
      "execution_count": 38,
      "metadata": {
        "id": "-TrC6ybWU7eO",
        "colab": {
          "base_uri": "https://localhost:8080/"
        },
        "outputId": "b6efabfc-7bb5-43be-c2f9-29a729f42fed"
      },
      "outputs": [
        {
          "output_type": "stream",
          "name": "stdout",
          "text": [
            "Index fields: test_mask ignored.\n",
            "Index fields: val_mask ignored.\n",
            "Index fields: train_mask ignored.\n",
            "\n",
            "Partitioning the graph in to 77 communities\n",
            "Each community has 21 nodes in average\n",
            "Each community has 30 edges in average\n"
          ]
        }
      ],
      "source": [
        "if 'IS_GRADESCOPE_ENV' not in os.environ:\n",
        "  \n",
        "  set_seed()\n",
        "\n",
        "  graphs_train, graphs_val, graphs_test = GraphDataset.pyg_to_graphs(pyg_dataset, verbose=True, fixed_split=True)\n",
        "\n",
        "  graph_train = graphs_train[0]\n",
        "  graph_val = graphs_val[0]\n",
        "  graph_test = graphs_test[0]\n",
        "  graphs = preprocess(graph_train.G, graph_train.node_label_index, method=\"louvain\")\n",
        "  print()\n",
        "  print(\"Partitioning the graph in to {} communities\".format(len(graphs)))\n",
        "  avg_num_nodes = 0\n",
        "  avg_num_edges = 0\n",
        "  for graph in graphs:\n",
        "      avg_num_nodes += graph.num_nodes\n",
        "      avg_num_edges += graph.num_edges\n",
        "  avg_num_nodes = int(avg_num_nodes / len(graphs))\n",
        "  avg_num_edges = int(avg_num_edges / len(graphs))\n",
        "  print(\"Each community has {} nodes in average\".format(avg_num_nodes))\n",
        "  print(\"Each community has {} edges in average\".format(avg_num_edges))"
      ]
    },
    {
      "cell_type": "markdown",
      "metadata": {
        "id": "O03uXIuGVIgJ"
      },
      "source": [
        "## **Question 2.1b:** Using Louvain clustering, what is the maximum test accuracy obtained by your vanilla Cluster-GCN? (6 points)\n"
      ]
    },
    {
      "cell_type": "code",
      "execution_count": 39,
      "metadata": {
        "id": "iSbGf5ADVFQq",
        "colab": {
          "base_uri": "https://localhost:8080/"
        },
        "outputId": "17129d8e-ce62-4cb2-d524-20d333d471af"
      },
      "outputs": [
        {
          "output_type": "stream",
          "name": "stdout",
          "text": [
            "Epoch: 01, Loss: 2.2475, Train: 13.57%, Valid: 7.20% Test: 9.00%\n",
            "Epoch: 02, Loss: 2.0039, Train: 20.71%, Valid: 8.60% Test: 11.40%\n",
            "Epoch: 03, Loss: 2.2459, Train: 18.57%, Valid: 13.00% Test: 13.60%\n",
            "Epoch: 04, Loss: 1.3824, Train: 16.43%, Valid: 13.60% Test: 13.80%\n",
            "Epoch: 05, Loss: 2.6401, Train: 18.57%, Valid: 15.00% Test: 14.60%\n",
            "Epoch: 06, Loss: 2.5787, Train: 20.71%, Valid: 15.40% Test: 16.60%\n",
            "Epoch: 07, Loss: 2.6248, Train: 21.43%, Valid: 16.60% Test: 18.20%\n",
            "Epoch: 08, Loss: 2.4910, Train: 22.86%, Valid: 16.80% Test: 18.70%\n",
            "Epoch: 09, Loss: 2.5500, Train: 23.57%, Valid: 17.20% Test: 19.20%\n",
            "Epoch: 10, Loss: 3.6896, Train: 22.14%, Valid: 18.40% Test: 21.20%\n",
            "Epoch: 11, Loss: 1.5465, Train: 23.57%, Valid: 16.60% Test: 21.50%\n",
            "Epoch: 12, Loss: 1.7542, Train: 24.29%, Valid: 15.20% Test: 18.00%\n",
            "Epoch: 13, Loss: 1.8731, Train: 22.86%, Valid: 13.60% Test: 14.40%\n",
            "Epoch: 14, Loss: 2.5883, Train: 22.86%, Valid: 10.80% Test: 11.20%\n",
            "Epoch: 15, Loss: 1.7295, Train: 22.14%, Valid: 9.60% Test: 8.90%\n",
            "Epoch: 16, Loss: 2.9222, Train: 22.14%, Valid: 10.60% Test: 9.20%\n",
            "Epoch: 17, Loss: 1.6310, Train: 22.14%, Valid: 11.20% Test: 9.50%\n",
            "Epoch: 18, Loss: 2.3224, Train: 23.57%, Valid: 11.40% Test: 9.20%\n",
            "Epoch: 19, Loss: 2.6001, Train: 23.57%, Valid: 11.00% Test: 9.10%\n",
            "Epoch: 20, Loss: 1.1372, Train: 23.57%, Valid: 13.20% Test: 9.50%\n",
            "Epoch: 21, Loss: 1.5426, Train: 25.00%, Valid: 12.80% Test: 8.80%\n",
            "Epoch: 22, Loss: 0.2949, Train: 22.14%, Valid: 11.20% Test: 9.00%\n",
            "Epoch: 23, Loss: 1.7837, Train: 21.43%, Valid: 10.60% Test: 9.20%\n",
            "Epoch: 24, Loss: 3.3548, Train: 22.86%, Valid: 10.20% Test: 9.40%\n",
            "Epoch: 25, Loss: 1.4559, Train: 22.86%, Valid: 9.80% Test: 9.90%\n",
            "Epoch: 26, Loss: 1.0774, Train: 25.00%, Valid: 10.60% Test: 10.00%\n",
            "Epoch: 27, Loss: 3.0715, Train: 25.00%, Valid: 11.80% Test: 10.90%\n",
            "Epoch: 28, Loss: 0.3368, Train: 27.14%, Valid: 11.40% Test: 12.10%\n",
            "Epoch: 29, Loss: 1.5439, Train: 26.43%, Valid: 11.20% Test: 12.40%\n",
            "Epoch: 30, Loss: 1.7088, Train: 28.57%, Valid: 11.00% Test: 11.90%\n",
            "Epoch: 31, Loss: 3.3427, Train: 25.00%, Valid: 11.20% Test: 11.50%\n",
            "Epoch: 32, Loss: 0.7771, Train: 25.71%, Valid: 10.60% Test: 11.10%\n",
            "Epoch: 33, Loss: 1.8770, Train: 25.00%, Valid: 11.80% Test: 11.60%\n",
            "Epoch: 34, Loss: 2.6074, Train: 25.00%, Valid: 11.20% Test: 10.80%\n",
            "Epoch: 35, Loss: 1.9601, Train: 25.00%, Valid: 11.00% Test: 9.30%\n",
            "Epoch: 36, Loss: 0.9160, Train: 22.86%, Valid: 10.80% Test: 9.10%\n",
            "Epoch: 37, Loss: 2.8357, Train: 25.71%, Valid: 11.20% Test: 9.70%\n",
            "Epoch: 38, Loss: 0.5760, Train: 25.00%, Valid: 10.80% Test: 8.30%\n",
            "Epoch: 39, Loss: 2.1262, Train: 24.29%, Valid: 10.80% Test: 9.10%\n",
            "Epoch: 40, Loss: 1.3920, Train: 24.29%, Valid: 10.60% Test: 9.90%\n",
            "Epoch: 41, Loss: 3.5451, Train: 23.57%, Valid: 11.40% Test: 11.10%\n",
            "Epoch: 42, Loss: 3.3492, Train: 21.43%, Valid: 11.40% Test: 11.70%\n",
            "Epoch: 43, Loss: 3.0640, Train: 21.43%, Valid: 12.60% Test: 13.00%\n",
            "Epoch: 44, Loss: 2.7309, Train: 26.43%, Valid: 12.40% Test: 13.80%\n",
            "Epoch: 45, Loss: 0.9440, Train: 28.57%, Valid: 12.60% Test: 14.70%\n",
            "Epoch: 46, Loss: 1.6209, Train: 32.14%, Valid: 14.20% Test: 15.60%\n",
            "Epoch: 47, Loss: 4.7187, Train: 37.14%, Valid: 14.80% Test: 16.70%\n",
            "Epoch: 48, Loss: 0.4061, Train: 39.29%, Valid: 14.40% Test: 16.70%\n",
            "Epoch: 49, Loss: 0.2443, Train: 38.57%, Valid: 15.60% Test: 16.80%\n",
            "Epoch: 50, Loss: 0.3152, Train: 40.00%, Valid: 14.00% Test: 16.30%\n",
            "Epoch: 51, Loss: 0.0638, Train: 40.71%, Valid: 13.00% Test: 15.00%\n",
            "Epoch: 52, Loss: 1.0026, Train: 40.00%, Valid: 11.40% Test: 14.00%\n",
            "Epoch: 53, Loss: 0.5037, Train: 37.14%, Valid: 11.20% Test: 13.00%\n",
            "Epoch: 54, Loss: 0.0866, Train: 37.86%, Valid: 10.80% Test: 12.20%\n",
            "Epoch: 55, Loss: 0.3910, Train: 35.71%, Valid: 9.40% Test: 11.00%\n",
            "Epoch: 56, Loss: 1.1625, Train: 35.00%, Valid: 10.00% Test: 10.70%\n",
            "Epoch: 57, Loss: 1.4963, Train: 34.29%, Valid: 9.40% Test: 9.90%\n",
            "Epoch: 58, Loss: 0.1311, Train: 35.71%, Valid: 9.60% Test: 10.10%\n",
            "Epoch: 59, Loss: 3.6724, Train: 37.14%, Valid: 9.20% Test: 10.00%\n",
            "Epoch: 60, Loss: 2.4130, Train: 37.86%, Valid: 10.40% Test: 10.30%\n",
            "Epoch: 61, Loss: 1.0969, Train: 36.43%, Valid: 11.20% Test: 11.30%\n",
            "Epoch: 62, Loss: 1.5137, Train: 37.86%, Valid: 11.00% Test: 11.60%\n",
            "Epoch: 63, Loss: 2.4103, Train: 38.57%, Valid: 11.00% Test: 12.00%\n",
            "Epoch: 64, Loss: 1.0314, Train: 38.57%, Valid: 11.00% Test: 11.80%\n",
            "Epoch: 65, Loss: 1.5490, Train: 38.57%, Valid: 11.80% Test: 12.00%\n",
            "Epoch: 66, Loss: 0.3869, Train: 39.29%, Valid: 13.00% Test: 12.40%\n",
            "Epoch: 67, Loss: 4.7156, Train: 40.71%, Valid: 13.00% Test: 12.10%\n",
            "Epoch: 68, Loss: 0.5351, Train: 40.00%, Valid: 12.40% Test: 13.00%\n",
            "Epoch: 69, Loss: 1.0651, Train: 40.71%, Valid: 12.20% Test: 13.90%\n",
            "Epoch: 70, Loss: 3.0398, Train: 42.14%, Valid: 14.40% Test: 16.00%\n",
            "Epoch: 71, Loss: 3.4672, Train: 43.57%, Valid: 14.60% Test: 17.60%\n",
            "Epoch: 72, Loss: 1.0583, Train: 45.00%, Valid: 14.80% Test: 18.00%\n",
            "Epoch: 73, Loss: 0.9642, Train: 45.00%, Valid: 16.20% Test: 18.90%\n",
            "Epoch: 74, Loss: 0.0259, Train: 44.29%, Valid: 16.20% Test: 19.70%\n",
            "Epoch: 75, Loss: 2.1023, Train: 44.29%, Valid: 16.80% Test: 19.20%\n",
            "Epoch: 76, Loss: 0.1731, Train: 43.57%, Valid: 15.80% Test: 18.10%\n",
            "Epoch: 77, Loss: 2.4771, Train: 44.29%, Valid: 14.40% Test: 18.00%\n",
            "Epoch: 78, Loss: 0.0156, Train: 45.00%, Valid: 15.60% Test: 17.90%\n",
            "Epoch: 79, Loss: 3.8404, Train: 45.00%, Valid: 15.40% Test: 17.10%\n",
            "Epoch: 80, Loss: 0.0105, Train: 43.57%, Valid: 14.00% Test: 16.50%\n",
            "Epoch: 81, Loss: 2.4383, Train: 42.86%, Valid: 14.40% Test: 17.30%\n",
            "Epoch: 82, Loss: 2.7360, Train: 45.00%, Valid: 15.40% Test: 17.40%\n",
            "Epoch: 83, Loss: 0.0002, Train: 44.29%, Valid: 15.00% Test: 17.30%\n",
            "Epoch: 84, Loss: 0.1013, Train: 42.86%, Valid: 15.40% Test: 16.50%\n",
            "Epoch: 85, Loss: 0.0024, Train: 44.29%, Valid: 15.40% Test: 16.80%\n",
            "Epoch: 86, Loss: 0.9033, Train: 45.71%, Valid: 15.60% Test: 17.60%\n",
            "Epoch: 87, Loss: 0.3267, Train: 45.71%, Valid: 15.60% Test: 16.60%\n",
            "Epoch: 88, Loss: 0.9536, Train: 47.14%, Valid: 15.40% Test: 17.30%\n",
            "Epoch: 89, Loss: 1.2341, Train: 47.86%, Valid: 15.40% Test: 17.30%\n",
            "Epoch: 90, Loss: 0.4296, Train: 45.71%, Valid: 15.80% Test: 17.40%\n",
            "Epoch: 91, Loss: 0.7260, Train: 45.71%, Valid: 15.60% Test: 17.10%\n",
            "Epoch: 92, Loss: 0.2486, Train: 46.43%, Valid: 16.80% Test: 17.60%\n",
            "Epoch: 93, Loss: 0.6930, Train: 45.71%, Valid: 16.40% Test: 16.70%\n",
            "Epoch: 94, Loss: 2.9394, Train: 47.86%, Valid: 16.00% Test: 15.70%\n",
            "Epoch: 95, Loss: 1.6245, Train: 48.57%, Valid: 15.60% Test: 15.30%\n",
            "Epoch: 96, Loss: 0.9540, Train: 51.43%, Valid: 15.60% Test: 16.30%\n",
            "Epoch: 97, Loss: 0.0336, Train: 51.43%, Valid: 15.60% Test: 16.10%\n",
            "Epoch: 98, Loss: 4.6714, Train: 51.43%, Valid: 16.80% Test: 16.50%\n",
            "Epoch: 99, Loss: 4.7176, Train: 52.14%, Valid: 17.20% Test: 16.90%\n",
            "Epoch: 100, Loss: 2.1094, Train: 54.29%, Valid: 17.40% Test: 17.30%\n",
            "Epoch: 101, Loss: 2.6531, Train: 55.00%, Valid: 18.00% Test: 17.70%\n",
            "Epoch: 102, Loss: 1.3552, Train: 56.43%, Valid: 17.60% Test: 18.00%\n",
            "Epoch: 103, Loss: 0.6029, Train: 57.86%, Valid: 17.00% Test: 18.40%\n",
            "Epoch: 104, Loss: 0.0073, Train: 57.14%, Valid: 15.60% Test: 19.40%\n",
            "Epoch: 105, Loss: 1.1346, Train: 56.43%, Valid: 16.60% Test: 18.60%\n",
            "Epoch: 106, Loss: 0.0130, Train: 57.14%, Valid: 15.80% Test: 18.60%\n",
            "Epoch: 107, Loss: 0.0812, Train: 57.14%, Valid: 16.20% Test: 17.60%\n",
            "Epoch: 108, Loss: 2.4847, Train: 57.86%, Valid: 16.40% Test: 17.50%\n",
            "Epoch: 109, Loss: 0.3421, Train: 60.71%, Valid: 16.80% Test: 18.80%\n",
            "Epoch: 110, Loss: 0.3881, Train: 59.29%, Valid: 17.00% Test: 19.80%\n",
            "Epoch: 111, Loss: 0.0006, Train: 60.71%, Valid: 17.00% Test: 19.50%\n",
            "Epoch: 112, Loss: 3.1432, Train: 60.00%, Valid: 16.60% Test: 19.90%\n",
            "Epoch: 113, Loss: 0.1738, Train: 59.29%, Valid: 16.60% Test: 19.80%\n",
            "Epoch: 114, Loss: 1.5374, Train: 60.71%, Valid: 16.60% Test: 19.70%\n",
            "Epoch: 115, Loss: 2.0604, Train: 59.29%, Valid: 16.40% Test: 19.10%\n",
            "Epoch: 116, Loss: 0.9403, Train: 60.00%, Valid: 16.40% Test: 17.00%\n",
            "Epoch: 117, Loss: 0.1554, Train: 58.57%, Valid: 17.60% Test: 17.30%\n",
            "Epoch: 118, Loss: 0.7807, Train: 60.00%, Valid: 18.00% Test: 16.70%\n",
            "Epoch: 119, Loss: 2.1930, Train: 60.71%, Valid: 17.20% Test: 17.00%\n",
            "Epoch: 120, Loss: 1.2339, Train: 58.57%, Valid: 17.20% Test: 17.60%\n",
            "Epoch: 121, Loss: 1.3981, Train: 57.86%, Valid: 16.80% Test: 18.00%\n",
            "Epoch: 122, Loss: 1.3949, Train: 59.29%, Valid: 16.00% Test: 18.00%\n",
            "Epoch: 123, Loss: 1.4971, Train: 57.14%, Valid: 17.00% Test: 18.30%\n",
            "Epoch: 124, Loss: 1.2161, Train: 60.00%, Valid: 18.00% Test: 18.90%\n",
            "Epoch: 125, Loss: 0.1592, Train: 58.57%, Valid: 18.20% Test: 17.70%\n",
            "Epoch: 126, Loss: 1.7721, Train: 60.71%, Valid: 17.80% Test: 18.20%\n",
            "Epoch: 127, Loss: 0.0668, Train: 62.86%, Valid: 18.20% Test: 18.60%\n",
            "Epoch: 128, Loss: 3.0942, Train: 62.86%, Valid: 18.40% Test: 18.60%\n",
            "Epoch: 129, Loss: 2.7719, Train: 65.00%, Valid: 18.20% Test: 19.30%\n",
            "Epoch: 130, Loss: 0.4081, Train: 64.29%, Valid: 19.20% Test: 21.80%\n",
            "Epoch: 131, Loss: 0.2760, Train: 65.00%, Valid: 19.20% Test: 22.40%\n",
            "Epoch: 132, Loss: 0.3976, Train: 63.57%, Valid: 18.80% Test: 21.90%\n",
            "Epoch: 133, Loss: 0.7913, Train: 62.86%, Valid: 18.00% Test: 21.80%\n",
            "Epoch: 134, Loss: 0.0439, Train: 63.57%, Valid: 21.00% Test: 23.80%\n",
            "Epoch: 135, Loss: 0.0004, Train: 63.57%, Valid: 21.80% Test: 24.00%\n",
            "Epoch: 136, Loss: 4.2310, Train: 63.57%, Valid: 21.00% Test: 24.60%\n",
            "Epoch: 137, Loss: 2.5373, Train: 64.29%, Valid: 22.60% Test: 24.90%\n",
            "Epoch: 138, Loss: 0.0861, Train: 64.29%, Valid: 22.20% Test: 23.90%\n",
            "Epoch: 139, Loss: 0.0095, Train: 62.86%, Valid: 22.20% Test: 24.10%\n",
            "Epoch: 140, Loss: 0.9468, Train: 66.43%, Valid: 24.80% Test: 24.70%\n",
            "Epoch: 141, Loss: 0.0226, Train: 65.00%, Valid: 24.80% Test: 25.10%\n",
            "Epoch: 142, Loss: 1.4802, Train: 65.71%, Valid: 24.20% Test: 25.00%\n",
            "Epoch: 143, Loss: 0.3587, Train: 65.71%, Valid: 24.40% Test: 25.00%\n",
            "Epoch: 144, Loss: 0.2322, Train: 65.71%, Valid: 24.40% Test: 25.60%\n",
            "Epoch: 145, Loss: 3.3827, Train: 66.43%, Valid: 24.80% Test: 25.70%\n",
            "Epoch: 146, Loss: 0.2856, Train: 66.43%, Valid: 24.20% Test: 24.10%\n",
            "Epoch: 147, Loss: 0.8148, Train: 65.71%, Valid: 23.80% Test: 24.40%\n",
            "Epoch: 148, Loss: 0.1549, Train: 67.14%, Valid: 25.40% Test: 24.90%\n",
            "Epoch: 149, Loss: 0.2046, Train: 66.43%, Valid: 25.20% Test: 23.90%\n",
            "Epoch: 150, Loss: 0.0142, Train: 65.71%, Valid: 25.60% Test: 23.80%\n",
            "Saving Model Predictions for Model: cluster louvain\n",
            "Best model: Train: 65.71%, Valid: 25.60% Test: 23.80%\n"
          ]
        }
      ],
      "source": [
        "if 'IS_GRADESCOPE_ENV' not in os.environ:\n",
        "  \n",
        "  set_seed()\n",
        "  \n",
        "  model = GNN(graph_train.num_node_features, args['hidden_size'], graph_train.num_node_labels, args).to(args['device'])\n",
        "  optimizer = torch.optim.Adam(model.parameters(), lr=args['lr'])\n",
        "  louvain_best_model, louvain_accs = train(graphs, [graph_train, graph_val, graph_test], args, model, optimizer, mode=\"community\")\n",
        "  train_acc, val_acc, test_acc = test([graph_train, graph_val, graph_test], louvain_best_model, save_model_results=True, batch_type=\"cluster\", title=\"louvain\")\n",
        "  print('Best model:',\n",
        "        f'Train: {100 * train_acc:.2f}%, '\n",
        "        f'Valid: {100 * val_acc:.2f}% '\n",
        "        f'Test: {100 * test_acc:.2f}%')"
      ]
    },
    {
      "cell_type": "markdown",
      "metadata": {
        "id": "6CvTf0ANVO9U"
      },
      "source": [
        "## **Question 2.2a:** How does the Bisection algorithm partition our graph? (3 points)"
      ]
    },
    {
      "cell_type": "code",
      "execution_count": 40,
      "metadata": {
        "id": "HkV0zlhgVJ7u",
        "colab": {
          "base_uri": "https://localhost:8080/"
        },
        "outputId": "06dfa224-91dc-46f7-dd6b-786168dcd462"
      },
      "outputs": [
        {
          "output_type": "stream",
          "name": "stdout",
          "text": [
            "Index fields: test_mask ignored.\n",
            "Index fields: val_mask ignored.\n",
            "Index fields: train_mask ignored.\n",
            "Partition the graph in to 2 communities\n",
            "Each community has 1354 nodes in average\n",
            "Each community has 2397 edges in average\n"
          ]
        }
      ],
      "source": [
        "if 'IS_GRADESCOPE_ENV' not in os.environ:\n",
        "  \n",
        "  set_seed()\n",
        "\n",
        "  graphs_train, graphs_val, graphs_test = GraphDataset.pyg_to_graphs(pyg_dataset, verbose=True, fixed_split=True)\n",
        "\n",
        "  graph_train = graphs_train[0]\n",
        "  graph_val = graphs_val[0]\n",
        "  graph_test = graphs_test[0]\n",
        "  graphs = preprocess(graph_train.G, graph_train.node_label_index, method=\"bisection\")\n",
        "  print(\"Partition the graph in to {} communities\".format(len(graphs)))\n",
        "  avg_num_nodes = 0\n",
        "  avg_num_edges = 0\n",
        "  for graph in graphs:\n",
        "      avg_num_nodes += graph.num_nodes\n",
        "      avg_num_edges += graph.num_edges\n",
        "  avg_num_nodes = int(avg_num_nodes / len(graphs))\n",
        "  avg_num_edges = int(avg_num_edges / len(graphs))\n",
        "  print(\"Each community has {} nodes in average\".format(avg_num_nodes))\n",
        "  print(\"Each community has {} edges in average\".format(avg_num_edges))"
      ]
    },
    {
      "cell_type": "markdown",
      "metadata": {
        "id": "IqMCvP8wVVms"
      },
      "source": [
        "## **Question 2.2b:** Using the Bisection algorithm to partition the graph, what is the maximum test accuracy obtained by your vanilla Cluster-GCN? (6 points)\n"
      ]
    },
    {
      "cell_type": "code",
      "execution_count": 41,
      "metadata": {
        "id": "k1wgFg1bVRGY",
        "colab": {
          "base_uri": "https://localhost:8080/"
        },
        "outputId": "3d275520-5e6e-4f4e-9026-71c74f73a05a"
      },
      "outputs": [
        {
          "output_type": "stream",
          "name": "stdout",
          "text": [
            "Epoch: 01, Loss: 2.1193, Train: 25.71%, Valid: 8.20% Test: 10.20%\n",
            "Epoch: 02, Loss: 1.0584, Train: 36.43%, Valid: 12.40% Test: 15.90%\n",
            "Epoch: 03, Loss: 2.0182, Train: 53.57%, Valid: 26.20% Test: 29.80%\n",
            "Epoch: 04, Loss: 0.3854, Train: 78.57%, Valid: 39.20% Test: 42.80%\n",
            "Epoch: 05, Loss: 0.2455, Train: 87.14%, Valid: 52.60% Test: 54.20%\n",
            "Epoch: 06, Loss: 0.1568, Train: 91.43%, Valid: 58.80% Test: 59.70%\n",
            "Epoch: 07, Loss: 0.6597, Train: 96.43%, Valid: 64.00% Test: 63.80%\n",
            "Epoch: 08, Loss: 0.0463, Train: 98.57%, Valid: 66.40% Test: 67.00%\n",
            "Epoch: 09, Loss: 0.0458, Train: 98.57%, Valid: 67.80% Test: 68.40%\n",
            "Epoch: 10, Loss: 0.3323, Train: 99.29%, Valid: 69.20% Test: 69.90%\n",
            "Epoch: 11, Loss: 0.1825, Train: 100.00%, Valid: 70.00% Test: 70.60%\n",
            "Epoch: 12, Loss: 0.0131, Train: 100.00%, Valid: 70.20% Test: 70.80%\n",
            "Epoch: 13, Loss: 0.0083, Train: 100.00%, Valid: 71.60% Test: 71.50%\n",
            "Epoch: 14, Loss: 0.0103, Train: 100.00%, Valid: 71.60% Test: 71.80%\n",
            "Epoch: 15, Loss: 0.0158, Train: 100.00%, Valid: 71.40% Test: 72.00%\n",
            "Epoch: 16, Loss: 0.0226, Train: 100.00%, Valid: 71.60% Test: 72.00%\n",
            "Epoch: 17, Loss: 0.0022, Train: 100.00%, Valid: 71.60% Test: 72.20%\n",
            "Epoch: 18, Loss: 0.0181, Train: 100.00%, Valid: 72.00% Test: 72.30%\n",
            "Epoch: 19, Loss: 0.0147, Train: 100.00%, Valid: 71.80% Test: 72.60%\n",
            "Epoch: 20, Loss: 0.0048, Train: 100.00%, Valid: 71.80% Test: 72.60%\n",
            "Epoch: 21, Loss: 0.0062, Train: 100.00%, Valid: 71.60% Test: 72.70%\n",
            "Epoch: 22, Loss: 0.0034, Train: 100.00%, Valid: 71.60% Test: 73.00%\n",
            "Epoch: 23, Loss: 0.0085, Train: 100.00%, Valid: 71.60% Test: 72.60%\n",
            "Epoch: 24, Loss: 0.0026, Train: 100.00%, Valid: 71.60% Test: 72.60%\n",
            "Epoch: 25, Loss: 0.0025, Train: 100.00%, Valid: 71.40% Test: 72.60%\n",
            "Epoch: 26, Loss: 0.0020, Train: 100.00%, Valid: 71.40% Test: 72.40%\n",
            "Epoch: 27, Loss: 0.0019, Train: 100.00%, Valid: 71.40% Test: 72.50%\n",
            "Epoch: 28, Loss: 0.0047, Train: 100.00%, Valid: 71.80% Test: 72.50%\n",
            "Epoch: 29, Loss: 0.0153, Train: 100.00%, Valid: 72.20% Test: 72.60%\n",
            "Epoch: 30, Loss: 0.0015, Train: 100.00%, Valid: 72.40% Test: 72.50%\n",
            "Epoch: 31, Loss: 0.0006, Train: 100.00%, Valid: 72.60% Test: 72.30%\n",
            "Epoch: 32, Loss: 0.0011, Train: 100.00%, Valid: 72.80% Test: 72.70%\n",
            "Epoch: 33, Loss: 0.0006, Train: 100.00%, Valid: 72.60% Test: 72.60%\n",
            "Epoch: 34, Loss: 0.0012, Train: 100.00%, Valid: 72.60% Test: 72.50%\n",
            "Epoch: 35, Loss: 0.0003, Train: 100.00%, Valid: 72.40% Test: 72.50%\n",
            "Epoch: 36, Loss: 0.0004, Train: 100.00%, Valid: 72.80% Test: 72.50%\n",
            "Epoch: 37, Loss: 0.0005, Train: 100.00%, Valid: 72.80% Test: 72.70%\n",
            "Epoch: 38, Loss: 0.0002, Train: 100.00%, Valid: 73.00% Test: 72.70%\n",
            "Epoch: 39, Loss: 0.0019, Train: 100.00%, Valid: 72.80% Test: 72.80%\n",
            "Epoch: 40, Loss: 0.0025, Train: 100.00%, Valid: 73.00% Test: 72.70%\n",
            "Epoch: 41, Loss: 0.0002, Train: 100.00%, Valid: 72.80% Test: 72.90%\n",
            "Epoch: 42, Loss: 0.0003, Train: 100.00%, Valid: 73.00% Test: 72.90%\n",
            "Epoch: 43, Loss: 0.0012, Train: 100.00%, Valid: 72.80% Test: 72.80%\n",
            "Epoch: 44, Loss: 0.0003, Train: 100.00%, Valid: 73.00% Test: 72.90%\n",
            "Epoch: 45, Loss: 0.0011, Train: 100.00%, Valid: 73.00% Test: 73.00%\n",
            "Epoch: 46, Loss: 0.0020, Train: 100.00%, Valid: 72.80% Test: 72.90%\n",
            "Epoch: 47, Loss: 0.0006, Train: 100.00%, Valid: 72.80% Test: 72.90%\n",
            "Epoch: 48, Loss: 0.0013, Train: 100.00%, Valid: 72.60% Test: 73.20%\n",
            "Epoch: 49, Loss: 0.0004, Train: 100.00%, Valid: 72.80% Test: 73.00%\n",
            "Epoch: 50, Loss: 0.0001, Train: 100.00%, Valid: 72.80% Test: 73.00%\n",
            "Epoch: 51, Loss: 0.0004, Train: 100.00%, Valid: 72.60% Test: 72.90%\n",
            "Epoch: 52, Loss: 0.0008, Train: 100.00%, Valid: 72.60% Test: 73.10%\n",
            "Epoch: 53, Loss: 0.0017, Train: 100.00%, Valid: 72.60% Test: 73.40%\n",
            "Epoch: 54, Loss: 0.0018, Train: 100.00%, Valid: 72.60% Test: 73.10%\n",
            "Epoch: 55, Loss: 0.0003, Train: 100.00%, Valid: 72.20% Test: 73.10%\n",
            "Epoch: 56, Loss: 0.0003, Train: 100.00%, Valid: 72.60% Test: 73.10%\n",
            "Epoch: 57, Loss: 0.0000, Train: 100.00%, Valid: 72.20% Test: 73.20%\n",
            "Epoch: 58, Loss: 0.0000, Train: 100.00%, Valid: 72.40% Test: 73.20%\n",
            "Epoch: 59, Loss: 0.0008, Train: 100.00%, Valid: 72.60% Test: 73.20%\n",
            "Epoch: 60, Loss: 0.0002, Train: 100.00%, Valid: 72.80% Test: 73.30%\n",
            "Epoch: 61, Loss: 0.0003, Train: 100.00%, Valid: 72.80% Test: 73.30%\n",
            "Epoch: 62, Loss: 0.0002, Train: 100.00%, Valid: 72.40% Test: 73.30%\n",
            "Epoch: 63, Loss: 0.0001, Train: 100.00%, Valid: 72.00% Test: 73.30%\n",
            "Epoch: 64, Loss: 0.0002, Train: 100.00%, Valid: 72.00% Test: 73.10%\n",
            "Epoch: 65, Loss: 0.0023, Train: 100.00%, Valid: 72.20% Test: 73.40%\n",
            "Epoch: 66, Loss: 0.0001, Train: 100.00%, Valid: 72.00% Test: 73.20%\n",
            "Epoch: 67, Loss: 0.0005, Train: 100.00%, Valid: 72.40% Test: 73.40%\n",
            "Epoch: 68, Loss: 0.0001, Train: 100.00%, Valid: 72.60% Test: 73.50%\n",
            "Epoch: 69, Loss: 0.0018, Train: 100.00%, Valid: 72.80% Test: 73.60%\n",
            "Epoch: 70, Loss: 0.0003, Train: 100.00%, Valid: 72.80% Test: 73.60%\n",
            "Epoch: 71, Loss: 0.0047, Train: 100.00%, Valid: 73.20% Test: 74.00%\n",
            "Epoch: 72, Loss: 0.0000, Train: 100.00%, Valid: 73.20% Test: 73.80%\n",
            "Epoch: 73, Loss: 0.0002, Train: 100.00%, Valid: 73.00% Test: 73.90%\n",
            "Epoch: 74, Loss: 0.0093, Train: 100.00%, Valid: 73.00% Test: 73.80%\n",
            "Epoch: 75, Loss: 0.0007, Train: 100.00%, Valid: 73.40% Test: 74.00%\n",
            "Epoch: 76, Loss: 0.0001, Train: 100.00%, Valid: 73.60% Test: 74.10%\n",
            "Epoch: 77, Loss: 0.0004, Train: 100.00%, Valid: 73.00% Test: 73.90%\n",
            "Epoch: 78, Loss: 0.0001, Train: 100.00%, Valid: 73.20% Test: 74.10%\n",
            "Epoch: 79, Loss: 0.0000, Train: 100.00%, Valid: 72.80% Test: 74.00%\n",
            "Epoch: 80, Loss: 0.0003, Train: 100.00%, Valid: 72.60% Test: 74.10%\n",
            "Epoch: 81, Loss: 0.0000, Train: 100.00%, Valid: 72.80% Test: 74.20%\n",
            "Epoch: 82, Loss: 0.0004, Train: 100.00%, Valid: 72.60% Test: 74.20%\n",
            "Epoch: 83, Loss: 0.0008, Train: 100.00%, Valid: 72.60% Test: 74.40%\n",
            "Epoch: 84, Loss: 0.0001, Train: 100.00%, Valid: 72.60% Test: 74.40%\n",
            "Epoch: 85, Loss: 0.0000, Train: 100.00%, Valid: 72.40% Test: 74.40%\n",
            "Epoch: 86, Loss: 0.0002, Train: 100.00%, Valid: 72.40% Test: 74.00%\n",
            "Epoch: 87, Loss: 0.0001, Train: 100.00%, Valid: 72.40% Test: 74.10%\n",
            "Epoch: 88, Loss: 0.0011, Train: 100.00%, Valid: 72.80% Test: 74.50%\n",
            "Epoch: 89, Loss: 0.0002, Train: 100.00%, Valid: 72.80% Test: 74.80%\n",
            "Epoch: 90, Loss: 0.0002, Train: 100.00%, Valid: 72.80% Test: 75.00%\n",
            "Epoch: 91, Loss: 0.0002, Train: 100.00%, Valid: 73.00% Test: 75.00%\n",
            "Epoch: 92, Loss: 0.0001, Train: 100.00%, Valid: 73.40% Test: 75.00%\n",
            "Epoch: 93, Loss: 0.0000, Train: 100.00%, Valid: 72.80% Test: 75.00%\n",
            "Epoch: 94, Loss: 0.0002, Train: 100.00%, Valid: 73.20% Test: 75.00%\n",
            "Epoch: 95, Loss: 0.0005, Train: 100.00%, Valid: 73.60% Test: 75.10%\n",
            "Epoch: 96, Loss: 0.0000, Train: 100.00%, Valid: 73.00% Test: 75.10%\n",
            "Epoch: 97, Loss: 0.0000, Train: 100.00%, Valid: 73.40% Test: 75.00%\n",
            "Epoch: 98, Loss: 0.0004, Train: 100.00%, Valid: 73.60% Test: 75.00%\n",
            "Epoch: 99, Loss: 0.0000, Train: 100.00%, Valid: 73.00% Test: 75.00%\n",
            "Epoch: 100, Loss: 0.0002, Train: 100.00%, Valid: 73.60% Test: 74.80%\n",
            "Epoch: 101, Loss: 0.0013, Train: 100.00%, Valid: 73.40% Test: 75.10%\n",
            "Epoch: 102, Loss: 0.0000, Train: 100.00%, Valid: 73.40% Test: 75.00%\n",
            "Epoch: 103, Loss: 0.0002, Train: 100.00%, Valid: 73.40% Test: 75.00%\n",
            "Epoch: 104, Loss: 0.0002, Train: 100.00%, Valid: 73.40% Test: 74.90%\n",
            "Epoch: 105, Loss: 0.0001, Train: 100.00%, Valid: 73.00% Test: 74.70%\n",
            "Epoch: 106, Loss: 0.0000, Train: 100.00%, Valid: 73.20% Test: 74.80%\n",
            "Epoch: 107, Loss: 0.0001, Train: 100.00%, Valid: 73.00% Test: 74.80%\n",
            "Epoch: 108, Loss: 0.0000, Train: 100.00%, Valid: 73.00% Test: 74.80%\n",
            "Epoch: 109, Loss: 0.0015, Train: 100.00%, Valid: 73.00% Test: 74.70%\n",
            "Epoch: 110, Loss: 0.0000, Train: 100.00%, Valid: 72.80% Test: 74.80%\n",
            "Epoch: 111, Loss: 0.0001, Train: 100.00%, Valid: 72.80% Test: 74.60%\n",
            "Epoch: 112, Loss: 0.0003, Train: 100.00%, Valid: 73.20% Test: 74.80%\n",
            "Epoch: 113, Loss: 0.0008, Train: 100.00%, Valid: 73.20% Test: 74.80%\n",
            "Epoch: 114, Loss: 0.0000, Train: 100.00%, Valid: 73.00% Test: 74.60%\n",
            "Epoch: 115, Loss: 0.0000, Train: 100.00%, Valid: 73.20% Test: 74.10%\n",
            "Epoch: 116, Loss: 0.0002, Train: 100.00%, Valid: 73.20% Test: 74.40%\n",
            "Epoch: 117, Loss: 0.0003, Train: 100.00%, Valid: 73.40% Test: 74.40%\n",
            "Epoch: 118, Loss: 0.0001, Train: 100.00%, Valid: 73.20% Test: 74.10%\n",
            "Epoch: 119, Loss: 0.0001, Train: 100.00%, Valid: 73.40% Test: 74.00%\n",
            "Epoch: 120, Loss: 0.0002, Train: 100.00%, Valid: 73.40% Test: 74.10%\n",
            "Epoch: 121, Loss: 0.0000, Train: 100.00%, Valid: 73.20% Test: 74.00%\n",
            "Epoch: 122, Loss: 0.0002, Train: 100.00%, Valid: 73.20% Test: 74.00%\n",
            "Epoch: 123, Loss: 0.0001, Train: 100.00%, Valid: 73.20% Test: 74.00%\n",
            "Epoch: 124, Loss: 0.0000, Train: 100.00%, Valid: 73.20% Test: 74.10%\n",
            "Epoch: 125, Loss: 0.0310, Train: 100.00%, Valid: 72.80% Test: 73.80%\n",
            "Epoch: 126, Loss: 0.0001, Train: 100.00%, Valid: 72.40% Test: 73.80%\n",
            "Epoch: 127, Loss: 0.0007, Train: 100.00%, Valid: 72.20% Test: 73.60%\n",
            "Epoch: 128, Loss: 0.0001, Train: 100.00%, Valid: 72.40% Test: 73.20%\n",
            "Epoch: 129, Loss: 0.0000, Train: 100.00%, Valid: 72.00% Test: 72.90%\n",
            "Epoch: 130, Loss: 0.0003, Train: 100.00%, Valid: 72.00% Test: 73.00%\n",
            "Epoch: 131, Loss: 0.0007, Train: 100.00%, Valid: 71.80% Test: 72.90%\n",
            "Epoch: 132, Loss: 0.0001, Train: 100.00%, Valid: 71.80% Test: 72.90%\n",
            "Epoch: 133, Loss: 0.0001, Train: 100.00%, Valid: 71.80% Test: 72.90%\n",
            "Epoch: 134, Loss: 0.0001, Train: 100.00%, Valid: 71.80% Test: 73.00%\n",
            "Epoch: 135, Loss: 0.0007, Train: 100.00%, Valid: 71.80% Test: 73.00%\n",
            "Epoch: 136, Loss: 0.0001, Train: 100.00%, Valid: 71.80% Test: 73.00%\n",
            "Epoch: 137, Loss: 0.0002, Train: 100.00%, Valid: 71.80% Test: 72.90%\n",
            "Epoch: 138, Loss: 0.0000, Train: 100.00%, Valid: 72.00% Test: 72.90%\n",
            "Epoch: 139, Loss: 0.0001, Train: 100.00%, Valid: 72.00% Test: 72.90%\n",
            "Epoch: 140, Loss: 0.0003, Train: 100.00%, Valid: 71.80% Test: 73.00%\n",
            "Epoch: 141, Loss: 0.0003, Train: 100.00%, Valid: 72.00% Test: 72.90%\n",
            "Epoch: 142, Loss: 0.0002, Train: 100.00%, Valid: 72.00% Test: 72.80%\n",
            "Epoch: 143, Loss: 0.0005, Train: 100.00%, Valid: 72.20% Test: 72.80%\n",
            "Epoch: 144, Loss: 0.0002, Train: 100.00%, Valid: 72.40% Test: 72.80%\n",
            "Epoch: 145, Loss: 0.0001, Train: 100.00%, Valid: 72.20% Test: 72.50%\n",
            "Epoch: 146, Loss: 0.0001, Train: 100.00%, Valid: 72.20% Test: 72.70%\n",
            "Epoch: 147, Loss: 0.0000, Train: 100.00%, Valid: 72.00% Test: 72.50%\n",
            "Epoch: 148, Loss: 0.0001, Train: 100.00%, Valid: 72.00% Test: 72.70%\n",
            "Epoch: 149, Loss: 0.0000, Train: 100.00%, Valid: 72.20% Test: 72.80%\n",
            "Epoch: 150, Loss: 0.0000, Train: 100.00%, Valid: 72.00% Test: 72.70%\n",
            "Saving Model Predictions for Model: cluster bisection\n",
            "Best model: Train: 100.00%, Valid: 73.60% Test: 74.10%\n"
          ]
        }
      ],
      "source": [
        "if 'IS_GRADESCOPE_ENV' not in os.environ:\n",
        "  \n",
        "  set_seed()\n",
        "  \n",
        "  model = GNN(graph_train.num_node_features, args['hidden_size'], graph_train.num_node_labels, args).to(args['device'])\n",
        "  optimizer = torch.optim.Adam(model.parameters(), lr=args['lr'])\n",
        "  bisection_best_model, bisection_accs = train(graphs, [graph_train, graph_val, graph_test], args, model, optimizer, mode=\"community\")\n",
        "  train_acc, val_acc, test_acc = test([graph_train, graph_val, graph_test], bisection_best_model, save_model_results=True, batch_type=\"cluster\", title=\"bisection\")\n",
        "  print('Best model:',\n",
        "        f'Train: {100 * train_acc:.2f}%, '\n",
        "        f'Valid: {100 * val_acc:.2f}% '\n",
        "        f'Test: {100 * test_acc:.2f}%')"
      ]
    },
    {
      "cell_type": "markdown",
      "metadata": {
        "id": "5PROPwoOVcJy"
      },
      "source": [
        "## **Question 2.3a:** How does Greedy preprocessing partition our graph? (3 points)"
      ]
    },
    {
      "cell_type": "code",
      "execution_count": 26,
      "metadata": {
        "id": "h3DVamWqVT92",
        "colab": {
          "base_uri": "https://localhost:8080/"
        },
        "outputId": "d9ac2015-5079-4b1a-b77c-791d6b6a7a56"
      },
      "outputs": [
        {
          "output_type": "stream",
          "name": "stdout",
          "text": [
            "Index fields: test_mask ignored.\n",
            "Index fields: val_mask ignored.\n",
            "Index fields: train_mask ignored.\n",
            "Partition the graph in to 20 communities\n",
            "Each community has 121 nodes in average\n",
            "Each community has 222 edges in average\n"
          ]
        }
      ],
      "source": [
        "if 'IS_GRADESCOPE_ENV' not in os.environ:\n",
        "  \n",
        "  set_seed()\n",
        "\n",
        "  graphs_train, graphs_val, graphs_test = \\\n",
        "      GraphDataset.pyg_to_graphs(pyg_dataset, verbose=True, fixed_split=True)\n",
        "\n",
        "  graph_train = graphs_train[0]\n",
        "  graph_val = graphs_val[0]\n",
        "  graph_test = graphs_test[0]\n",
        "  graphs = preprocess(graph_train.G, graph_train.node_label_index, method=\"greedy\")\n",
        "  print(\"Partition the graph in to {} communities\".format(len(graphs)))\n",
        "  avg_num_nodes = 0\n",
        "  avg_num_edges = 0\n",
        "  for graph in graphs:\n",
        "      avg_num_nodes += graph.num_nodes\n",
        "      avg_num_edges += graph.num_edges\n",
        "  avg_num_nodes = int(avg_num_nodes / len(graphs))\n",
        "  avg_num_edges = int(avg_num_edges / len(graphs))\n",
        "  print(\"Each community has {} nodes in average\".format(avg_num_nodes))\n",
        "  print(\"Each community has {} edges in average\".format(avg_num_edges))"
      ]
    },
    {
      "cell_type": "markdown",
      "metadata": {
        "id": "93pR_-kxVgma"
      },
      "source": [
        "## **Question 2.3b:** Using Greedy preprocessing to partition the graph, what is the maximum test accuracy obtained by your vanilla Cluster-GCN? (6 points)"
      ]
    },
    {
      "cell_type": "code",
      "execution_count": 27,
      "metadata": {
        "id": "lQgQY-jPVd_U",
        "colab": {
          "base_uri": "https://localhost:8080/"
        },
        "outputId": "30fc6dce-f758-474a-fbdc-8852900e5abd"
      },
      "outputs": [
        {
          "output_type": "stream",
          "name": "stdout",
          "text": [
            "Epoch: 01, Loss: 1.9727, Train: 20.00%, Valid: 14.80% Test: 18.10%\n",
            "Epoch: 02, Loss: 2.4017, Train: 24.29%, Valid: 23.60% Test: 26.20%\n",
            "Epoch: 03, Loss: 2.2739, Train: 22.14%, Valid: 14.00% Test: 16.80%\n",
            "Epoch: 04, Loss: 0.5295, Train: 22.86%, Valid: 12.20% Test: 12.10%\n",
            "Epoch: 05, Loss: 1.7647, Train: 23.57%, Valid: 12.20% Test: 12.80%\n",
            "Epoch: 06, Loss: 1.9055, Train: 22.86%, Valid: 14.60% Test: 15.40%\n",
            "Epoch: 07, Loss: 2.6335, Train: 25.00%, Valid: 16.00% Test: 19.60%\n",
            "Epoch: 08, Loss: 1.2063, Train: 22.86%, Valid: 21.20% Test: 26.80%\n",
            "Epoch: 09, Loss: 3.7775, Train: 22.14%, Valid: 26.00% Test: 29.60%\n",
            "Epoch: 10, Loss: 2.4445, Train: 22.86%, Valid: 28.80% Test: 30.50%\n",
            "Epoch: 11, Loss: 2.1492, Train: 28.57%, Valid: 30.40% Test: 30.60%\n",
            "Epoch: 12, Loss: 3.0951, Train: 33.57%, Valid: 30.00% Test: 30.50%\n",
            "Epoch: 13, Loss: 2.2231, Train: 37.14%, Valid: 30.00% Test: 29.10%\n",
            "Epoch: 14, Loss: 0.1941, Train: 38.57%, Valid: 28.00% Test: 28.90%\n",
            "Epoch: 15, Loss: 0.8704, Train: 37.14%, Valid: 27.60% Test: 27.80%\n",
            "Epoch: 16, Loss: 1.1060, Train: 40.00%, Valid: 26.40% Test: 26.20%\n",
            "Epoch: 17, Loss: 0.8965, Train: 41.43%, Valid: 25.00% Test: 25.60%\n",
            "Epoch: 18, Loss: 0.1780, Train: 42.14%, Valid: 26.20% Test: 25.80%\n",
            "Epoch: 19, Loss: 1.7052, Train: 42.86%, Valid: 25.80% Test: 24.90%\n",
            "Epoch: 20, Loss: 1.9418, Train: 43.57%, Valid: 25.20% Test: 23.00%\n",
            "Epoch: 21, Loss: 0.1880, Train: 45.71%, Valid: 25.20% Test: 23.50%\n",
            "Epoch: 22, Loss: 1.2547, Train: 50.00%, Valid: 24.80% Test: 22.20%\n",
            "Epoch: 23, Loss: 0.7905, Train: 50.71%, Valid: 24.20% Test: 22.00%\n",
            "Epoch: 24, Loss: 0.2647, Train: 50.71%, Valid: 22.60% Test: 21.40%\n",
            "Epoch: 25, Loss: 2.3001, Train: 49.29%, Valid: 23.00% Test: 20.40%\n",
            "Epoch: 26, Loss: 0.8733, Train: 51.43%, Valid: 21.40% Test: 19.50%\n",
            "Epoch: 27, Loss: 4.1094, Train: 55.71%, Valid: 21.00% Test: 19.80%\n",
            "Epoch: 28, Loss: 0.0256, Train: 55.71%, Valid: 21.60% Test: 21.20%\n",
            "Epoch: 29, Loss: 0.1439, Train: 57.14%, Valid: 22.80% Test: 21.40%\n",
            "Epoch: 30, Loss: 0.0008, Train: 56.43%, Valid: 23.00% Test: 21.20%\n",
            "Epoch: 31, Loss: 1.8086, Train: 57.14%, Valid: 22.00% Test: 21.70%\n",
            "Epoch: 32, Loss: 1.8900, Train: 57.86%, Valid: 21.60% Test: 21.80%\n",
            "Epoch: 33, Loss: 0.8696, Train: 58.57%, Valid: 22.00% Test: 22.70%\n",
            "Epoch: 34, Loss: 0.6062, Train: 57.86%, Valid: 22.00% Test: 22.80%\n",
            "Epoch: 35, Loss: 4.6667, Train: 56.43%, Valid: 22.00% Test: 22.40%\n",
            "Epoch: 36, Loss: 3.7746, Train: 56.43%, Valid: 21.80% Test: 22.20%\n",
            "Epoch: 37, Loss: 2.5545, Train: 60.00%, Valid: 21.20% Test: 22.10%\n",
            "Epoch: 38, Loss: 2.0166, Train: 68.57%, Valid: 21.40% Test: 22.20%\n",
            "Epoch: 39, Loss: 0.0103, Train: 70.71%, Valid: 22.40% Test: 23.10%\n",
            "Epoch: 40, Loss: 0.9032, Train: 75.00%, Valid: 22.60% Test: 23.10%\n",
            "Epoch: 41, Loss: 0.2046, Train: 77.14%, Valid: 22.40% Test: 23.20%\n",
            "Epoch: 42, Loss: 0.6433, Train: 77.14%, Valid: 22.80% Test: 23.50%\n",
            "Epoch: 43, Loss: 0.9804, Train: 78.57%, Valid: 21.60% Test: 23.30%\n",
            "Epoch: 44, Loss: 0.8814, Train: 77.86%, Valid: 22.60% Test: 23.00%\n",
            "Epoch: 45, Loss: 1.0266, Train: 77.86%, Valid: 23.20% Test: 21.80%\n",
            "Epoch: 46, Loss: 2.1769, Train: 77.86%, Valid: 22.60% Test: 21.30%\n",
            "Epoch: 47, Loss: 0.2869, Train: 76.43%, Valid: 22.40% Test: 21.30%\n",
            "Epoch: 48, Loss: 0.1653, Train: 76.43%, Valid: 22.00% Test: 21.60%\n",
            "Epoch: 49, Loss: 0.0566, Train: 75.71%, Valid: 22.00% Test: 21.90%\n",
            "Epoch: 50, Loss: 0.5551, Train: 76.43%, Valid: 23.00% Test: 21.90%\n",
            "Epoch: 51, Loss: 0.0090, Train: 77.14%, Valid: 24.40% Test: 23.20%\n",
            "Epoch: 52, Loss: 1.2407, Train: 79.29%, Valid: 24.80% Test: 24.00%\n",
            "Epoch: 53, Loss: 0.0598, Train: 81.43%, Valid: 24.80% Test: 23.80%\n",
            "Epoch: 54, Loss: 0.3940, Train: 82.14%, Valid: 24.40% Test: 24.80%\n",
            "Epoch: 55, Loss: 0.4612, Train: 82.14%, Valid: 24.80% Test: 26.00%\n",
            "Epoch: 56, Loss: 0.9660, Train: 84.29%, Valid: 25.60% Test: 27.60%\n",
            "Epoch: 57, Loss: 0.0240, Train: 85.71%, Valid: 26.40% Test: 27.60%\n",
            "Epoch: 58, Loss: 1.6410, Train: 85.00%, Valid: 26.60% Test: 27.50%\n",
            "Epoch: 59, Loss: 0.0965, Train: 86.43%, Valid: 26.60% Test: 28.70%\n",
            "Epoch: 60, Loss: 0.1125, Train: 87.14%, Valid: 26.40% Test: 28.70%\n",
            "Epoch: 61, Loss: 0.5058, Train: 87.14%, Valid: 27.20% Test: 29.50%\n",
            "Epoch: 62, Loss: 0.0621, Train: 87.14%, Valid: 27.40% Test: 29.20%\n",
            "Epoch: 63, Loss: 0.0188, Train: 89.29%, Valid: 27.80% Test: 28.70%\n",
            "Epoch: 64, Loss: 0.4116, Train: 89.29%, Valid: 28.40% Test: 28.30%\n",
            "Epoch: 65, Loss: 0.3318, Train: 89.29%, Valid: 26.60% Test: 28.20%\n",
            "Epoch: 66, Loss: 0.6131, Train: 89.29%, Valid: 26.40% Test: 27.80%\n",
            "Epoch: 67, Loss: 0.3731, Train: 89.29%, Valid: 26.20% Test: 27.90%\n",
            "Epoch: 68, Loss: 0.0001, Train: 88.57%, Valid: 27.20% Test: 28.40%\n",
            "Epoch: 69, Loss: 0.3357, Train: 88.57%, Valid: 25.60% Test: 27.80%\n",
            "Epoch: 70, Loss: 0.0186, Train: 88.57%, Valid: 25.00% Test: 27.60%\n",
            "Epoch: 71, Loss: 0.2833, Train: 87.86%, Valid: 24.60% Test: 29.30%\n",
            "Epoch: 72, Loss: 0.7171, Train: 88.57%, Valid: 25.00% Test: 28.10%\n",
            "Epoch: 73, Loss: 0.0894, Train: 88.57%, Valid: 24.60% Test: 27.00%\n",
            "Epoch: 74, Loss: 0.1159, Train: 87.86%, Valid: 24.00% Test: 26.80%\n",
            "Epoch: 75, Loss: 0.0003, Train: 87.86%, Valid: 24.20% Test: 25.40%\n",
            "Epoch: 76, Loss: 0.8710, Train: 88.57%, Valid: 24.80% Test: 25.60%\n",
            "Epoch: 77, Loss: 0.0025, Train: 89.29%, Valid: 24.80% Test: 26.90%\n",
            "Epoch: 78, Loss: 0.3670, Train: 89.29%, Valid: 25.20% Test: 26.70%\n",
            "Epoch: 79, Loss: 0.0904, Train: 89.29%, Valid: 25.80% Test: 27.90%\n",
            "Epoch: 80, Loss: 0.2418, Train: 89.29%, Valid: 26.60% Test: 29.30%\n",
            "Epoch: 81, Loss: 0.4441, Train: 90.00%, Valid: 26.80% Test: 28.40%\n",
            "Epoch: 82, Loss: 0.0549, Train: 90.00%, Valid: 27.80% Test: 28.60%\n",
            "Epoch: 83, Loss: 0.2080, Train: 88.57%, Valid: 27.20% Test: 28.70%\n",
            "Epoch: 84, Loss: 0.0006, Train: 88.57%, Valid: 27.00% Test: 30.10%\n",
            "Epoch: 85, Loss: 0.0855, Train: 87.86%, Valid: 27.20% Test: 29.90%\n",
            "Epoch: 86, Loss: 0.0019, Train: 88.57%, Valid: 26.60% Test: 29.00%\n",
            "Epoch: 87, Loss: 0.0382, Train: 87.86%, Valid: 27.00% Test: 29.00%\n",
            "Epoch: 88, Loss: 1.5581, Train: 87.86%, Valid: 27.80% Test: 28.30%\n",
            "Epoch: 89, Loss: 0.0307, Train: 87.86%, Valid: 29.00% Test: 30.60%\n",
            "Epoch: 90, Loss: 0.0028, Train: 88.57%, Valid: 28.40% Test: 29.80%\n",
            "Epoch: 91, Loss: 0.0639, Train: 87.86%, Valid: 28.60% Test: 30.10%\n",
            "Epoch: 92, Loss: 0.0005, Train: 88.57%, Valid: 27.80% Test: 29.60%\n",
            "Epoch: 93, Loss: 0.0003, Train: 88.57%, Valid: 29.40% Test: 29.80%\n",
            "Epoch: 94, Loss: 0.0098, Train: 87.86%, Valid: 28.60% Test: 30.40%\n",
            "Epoch: 95, Loss: 0.0111, Train: 87.86%, Valid: 28.80% Test: 30.80%\n",
            "Epoch: 96, Loss: 0.1568, Train: 88.57%, Valid: 29.60% Test: 30.80%\n",
            "Epoch: 97, Loss: 0.2031, Train: 88.57%, Valid: 28.60% Test: 29.70%\n",
            "Epoch: 98, Loss: 0.1736, Train: 88.57%, Valid: 29.60% Test: 30.10%\n",
            "Epoch: 99, Loss: 0.4516, Train: 88.57%, Valid: 28.60% Test: 30.10%\n",
            "Epoch: 100, Loss: 0.1253, Train: 89.29%, Valid: 29.00% Test: 30.00%\n",
            "Epoch: 101, Loss: 0.0384, Train: 88.57%, Valid: 29.40% Test: 30.40%\n",
            "Epoch: 102, Loss: 0.1639, Train: 89.29%, Valid: 28.80% Test: 30.40%\n",
            "Epoch: 103, Loss: 0.0776, Train: 89.29%, Valid: 29.00% Test: 30.40%\n",
            "Epoch: 104, Loss: 0.1474, Train: 89.29%, Valid: 29.60% Test: 31.10%\n",
            "Epoch: 105, Loss: 0.0670, Train: 89.29%, Valid: 29.00% Test: 30.60%\n",
            "Epoch: 106, Loss: 0.0756, Train: 89.29%, Valid: 28.40% Test: 31.20%\n",
            "Epoch: 107, Loss: 0.0976, Train: 89.29%, Valid: 29.20% Test: 31.50%\n",
            "Epoch: 108, Loss: 0.0002, Train: 89.29%, Valid: 29.80% Test: 31.90%\n",
            "Epoch: 109, Loss: 0.0066, Train: 89.29%, Valid: 28.40% Test: 31.50%\n",
            "Epoch: 110, Loss: 0.0001, Train: 89.29%, Valid: 28.40% Test: 31.90%\n",
            "Epoch: 111, Loss: 0.0004, Train: 89.29%, Valid: 28.40% Test: 31.00%\n",
            "Epoch: 112, Loss: 0.0019, Train: 89.29%, Valid: 29.60% Test: 32.50%\n",
            "Epoch: 113, Loss: 0.0186, Train: 89.29%, Valid: 30.20% Test: 32.50%\n",
            "Epoch: 114, Loss: 0.0001, Train: 89.29%, Valid: 28.80% Test: 32.90%\n",
            "Epoch: 115, Loss: 0.0433, Train: 89.29%, Valid: 29.80% Test: 32.50%\n",
            "Epoch: 116, Loss: 0.0186, Train: 89.29%, Valid: 29.20% Test: 32.80%\n",
            "Epoch: 117, Loss: 0.0000, Train: 89.29%, Valid: 30.00% Test: 32.50%\n",
            "Epoch: 118, Loss: 0.0005, Train: 89.29%, Valid: 29.60% Test: 33.00%\n",
            "Epoch: 119, Loss: 0.0168, Train: 89.29%, Valid: 29.40% Test: 33.20%\n",
            "Epoch: 120, Loss: 0.0013, Train: 89.29%, Valid: 30.20% Test: 33.00%\n",
            "Epoch: 121, Loss: 0.0052, Train: 89.29%, Valid: 30.00% Test: 33.30%\n",
            "Epoch: 122, Loss: 0.0012, Train: 89.29%, Valid: 29.60% Test: 32.90%\n",
            "Epoch: 123, Loss: 0.0270, Train: 89.29%, Valid: 29.20% Test: 33.10%\n",
            "Epoch: 124, Loss: 0.2434, Train: 89.29%, Valid: 28.20% Test: 33.10%\n",
            "Epoch: 125, Loss: 0.0672, Train: 89.29%, Valid: 28.20% Test: 32.60%\n",
            "Epoch: 126, Loss: 0.0342, Train: 90.00%, Valid: 29.00% Test: 31.70%\n",
            "Epoch: 127, Loss: 0.0458, Train: 90.00%, Valid: 28.40% Test: 32.20%\n",
            "Epoch: 128, Loss: 0.0337, Train: 89.29%, Valid: 29.20% Test: 32.20%\n",
            "Epoch: 129, Loss: 0.0011, Train: 89.29%, Valid: 29.80% Test: 32.50%\n",
            "Epoch: 130, Loss: 0.1919, Train: 89.29%, Valid: 29.60% Test: 32.60%\n",
            "Epoch: 131, Loss: 0.1764, Train: 89.29%, Valid: 29.60% Test: 32.70%\n",
            "Epoch: 132, Loss: 0.0000, Train: 89.29%, Valid: 29.00% Test: 31.80%\n",
            "Epoch: 133, Loss: 0.0016, Train: 90.00%, Valid: 30.00% Test: 32.60%\n",
            "Epoch: 134, Loss: 0.0089, Train: 89.29%, Valid: 29.80% Test: 32.00%\n",
            "Epoch: 135, Loss: 0.0237, Train: 90.00%, Valid: 29.20% Test: 31.60%\n",
            "Epoch: 136, Loss: 0.2033, Train: 90.00%, Valid: 29.20% Test: 31.80%\n",
            "Epoch: 137, Loss: 0.0048, Train: 90.00%, Valid: 29.60% Test: 32.10%\n",
            "Epoch: 138, Loss: 0.0144, Train: 90.00%, Valid: 29.40% Test: 31.50%\n",
            "Epoch: 139, Loss: 0.0778, Train: 90.00%, Valid: 29.60% Test: 30.60%\n",
            "Epoch: 140, Loss: 0.0004, Train: 90.00%, Valid: 29.60% Test: 31.50%\n",
            "Epoch: 141, Loss: 0.0759, Train: 90.00%, Valid: 30.40% Test: 30.40%\n",
            "Epoch: 142, Loss: 0.0021, Train: 90.00%, Valid: 30.20% Test: 30.80%\n",
            "Epoch: 143, Loss: 0.0023, Train: 90.00%, Valid: 30.80% Test: 30.60%\n",
            "Epoch: 144, Loss: 0.0361, Train: 90.00%, Valid: 30.40% Test: 31.60%\n",
            "Epoch: 145, Loss: 0.0003, Train: 90.00%, Valid: 30.00% Test: 30.70%\n",
            "Epoch: 146, Loss: 0.0000, Train: 90.00%, Valid: 30.20% Test: 31.00%\n",
            "Epoch: 147, Loss: 0.0000, Train: 90.71%, Valid: 29.40% Test: 30.70%\n",
            "Epoch: 148, Loss: 0.0000, Train: 90.00%, Valid: 30.00% Test: 31.60%\n",
            "Epoch: 149, Loss: 0.0124, Train: 90.00%, Valid: 29.40% Test: 31.80%\n",
            "Epoch: 150, Loss: 0.0388, Train: 90.00%, Valid: 29.40% Test: 31.80%\n",
            "Saving Model Predictions for Model: cluster greedy\n",
            "Best model: Train: 90.00%, Valid: 30.80% Test: 30.60%\n"
          ]
        }
      ],
      "source": [
        "if 'IS_GRADESCOPE_ENV' not in os.environ: \n",
        "  \n",
        "  set_seed()\n",
        "\n",
        "  model = GNN(graph_train.num_node_features, args['hidden_size'], graph_train.num_node_labels, args).to(args['device'])\n",
        "  optimizer = torch.optim.Adam(model.parameters(), lr=args['lr'])\n",
        "  greedy_best_model, greedy_accs = train(graphs, [graph_train, graph_val, graph_test], args, model, optimizer, mode=\"community\")\n",
        "  train_acc, val_acc, test_acc = test([graph_train, graph_val, graph_test], greedy_best_model, save_model_results=True, batch_type=\"cluster\", title=\"greedy\")\n",
        "  print('Best model:',\n",
        "        f'Train: {100 * train_acc:.2f}%, '\n",
        "        f'Valid: {100 * val_acc:.2f}% '\n",
        "        f'Test: {100 * test_acc:.2f}%')"
      ]
    },
    {
      "cell_type": "markdown",
      "metadata": {
        "id": "D5edKKT6Vk1C"
      },
      "source": [
        "## Full-Batch Training"
      ]
    },
    {
      "cell_type": "code",
      "execution_count": 28,
      "metadata": {
        "id": "N5tIXxC8ViFD",
        "colab": {
          "base_uri": "https://localhost:8080/"
        },
        "outputId": "7adc5a57-c402-4f26-9c58-4a32fd946ebf"
      },
      "outputs": [
        {
          "output_type": "stream",
          "name": "stdout",
          "text": [
            "Index fields: test_mask ignored.\n",
            "Index fields: val_mask ignored.\n",
            "Index fields: train_mask ignored.\n",
            "Epoch: 01, Loss: 2.0228, Train: 65.00%, Valid: 29.20% Test: 34.90%\n",
            "Epoch: 02, Loss: 1.0957, Train: 97.86%, Valid: 54.40% Test: 58.80%\n",
            "Epoch: 03, Loss: 0.6141, Train: 100.00%, Valid: 68.40% Test: 69.90%\n",
            "Epoch: 04, Loss: 0.2814, Train: 100.00%, Valid: 74.20% Test: 74.10%\n",
            "Epoch: 05, Loss: 0.1553, Train: 100.00%, Valid: 75.60% Test: 75.40%\n",
            "Epoch: 06, Loss: 0.0629, Train: 100.00%, Valid: 76.60% Test: 76.00%\n",
            "Epoch: 07, Loss: 0.0454, Train: 100.00%, Valid: 76.60% Test: 76.20%\n",
            "Epoch: 08, Loss: 0.0232, Train: 100.00%, Valid: 77.20% Test: 76.40%\n",
            "Epoch: 09, Loss: 0.0108, Train: 100.00%, Valid: 77.40% Test: 76.20%\n",
            "Epoch: 10, Loss: 0.0120, Train: 100.00%, Valid: 77.00% Test: 76.10%\n",
            "Epoch: 11, Loss: 0.0047, Train: 100.00%, Valid: 76.60% Test: 76.20%\n",
            "Epoch: 12, Loss: 0.0061, Train: 100.00%, Valid: 76.60% Test: 76.10%\n",
            "Epoch: 13, Loss: 0.0046, Train: 100.00%, Valid: 76.20% Test: 75.90%\n",
            "Epoch: 14, Loss: 0.0012, Train: 100.00%, Valid: 76.20% Test: 76.10%\n",
            "Epoch: 15, Loss: 0.0049, Train: 100.00%, Valid: 75.80% Test: 76.00%\n",
            "Epoch: 16, Loss: 0.0019, Train: 100.00%, Valid: 75.40% Test: 75.70%\n",
            "Epoch: 17, Loss: 0.0006, Train: 100.00%, Valid: 75.20% Test: 75.70%\n",
            "Epoch: 18, Loss: 0.0013, Train: 100.00%, Valid: 75.20% Test: 75.70%\n",
            "Epoch: 19, Loss: 0.0003, Train: 100.00%, Valid: 75.00% Test: 75.60%\n",
            "Epoch: 20, Loss: 0.0005, Train: 100.00%, Valid: 75.00% Test: 75.50%\n",
            "Epoch: 21, Loss: 0.0003, Train: 100.00%, Valid: 75.00% Test: 75.60%\n",
            "Epoch: 22, Loss: 0.0001, Train: 100.00%, Valid: 75.20% Test: 75.40%\n",
            "Epoch: 23, Loss: 0.0005, Train: 100.00%, Valid: 74.80% Test: 75.30%\n",
            "Epoch: 24, Loss: 0.0004, Train: 100.00%, Valid: 75.00% Test: 75.20%\n",
            "Epoch: 25, Loss: 0.0001, Train: 100.00%, Valid: 74.80% Test: 75.10%\n",
            "Epoch: 26, Loss: 0.0002, Train: 100.00%, Valid: 74.60% Test: 75.10%\n",
            "Epoch: 27, Loss: 0.0005, Train: 100.00%, Valid: 74.80% Test: 75.30%\n",
            "Epoch: 28, Loss: 0.0002, Train: 100.00%, Valid: 74.80% Test: 75.00%\n",
            "Epoch: 29, Loss: 0.0007, Train: 100.00%, Valid: 75.00% Test: 75.20%\n",
            "Epoch: 30, Loss: 0.0001, Train: 100.00%, Valid: 75.00% Test: 75.30%\n",
            "Epoch: 31, Loss: 0.0007, Train: 100.00%, Valid: 75.00% Test: 75.10%\n",
            "Epoch: 32, Loss: 0.0000, Train: 100.00%, Valid: 75.00% Test: 75.00%\n",
            "Epoch: 33, Loss: 0.0001, Train: 100.00%, Valid: 75.00% Test: 75.10%\n",
            "Epoch: 34, Loss: 0.0000, Train: 100.00%, Valid: 75.00% Test: 75.20%\n",
            "Epoch: 35, Loss: 0.0001, Train: 100.00%, Valid: 75.00% Test: 75.20%\n",
            "Epoch: 36, Loss: 0.0000, Train: 100.00%, Valid: 74.80% Test: 75.30%\n",
            "Epoch: 37, Loss: 0.0000, Train: 100.00%, Valid: 74.60% Test: 75.30%\n",
            "Epoch: 38, Loss: 0.0000, Train: 100.00%, Valid: 74.60% Test: 75.40%\n",
            "Epoch: 39, Loss: 0.0001, Train: 100.00%, Valid: 74.60% Test: 75.40%\n",
            "Epoch: 40, Loss: 0.0000, Train: 100.00%, Valid: 74.20% Test: 75.40%\n",
            "Epoch: 41, Loss: 0.0002, Train: 100.00%, Valid: 74.20% Test: 75.10%\n",
            "Epoch: 42, Loss: 0.0002, Train: 100.00%, Valid: 74.40% Test: 74.90%\n",
            "Epoch: 43, Loss: 0.0000, Train: 100.00%, Valid: 74.60% Test: 75.00%\n",
            "Epoch: 44, Loss: 0.0000, Train: 100.00%, Valid: 74.60% Test: 75.00%\n",
            "Epoch: 45, Loss: 0.0001, Train: 100.00%, Valid: 74.60% Test: 74.90%\n",
            "Epoch: 46, Loss: 0.0000, Train: 100.00%, Valid: 74.40% Test: 74.80%\n",
            "Epoch: 47, Loss: 0.0001, Train: 100.00%, Valid: 74.40% Test: 74.80%\n",
            "Epoch: 48, Loss: 0.0007, Train: 100.00%, Valid: 74.40% Test: 74.90%\n",
            "Epoch: 49, Loss: 0.0001, Train: 100.00%, Valid: 74.40% Test: 74.80%\n",
            "Epoch: 50, Loss: 0.0000, Train: 100.00%, Valid: 74.40% Test: 74.80%\n",
            "Epoch: 51, Loss: 0.0001, Train: 100.00%, Valid: 74.40% Test: 74.90%\n",
            "Epoch: 52, Loss: 0.0001, Train: 100.00%, Valid: 74.40% Test: 75.00%\n",
            "Epoch: 53, Loss: 0.0001, Train: 100.00%, Valid: 74.60% Test: 75.00%\n",
            "Epoch: 54, Loss: 0.0001, Train: 100.00%, Valid: 74.60% Test: 74.90%\n",
            "Epoch: 55, Loss: 0.0005, Train: 100.00%, Valid: 74.60% Test: 74.90%\n",
            "Epoch: 56, Loss: 0.0001, Train: 100.00%, Valid: 74.60% Test: 74.90%\n",
            "Epoch: 57, Loss: 0.0001, Train: 100.00%, Valid: 74.60% Test: 74.90%\n",
            "Epoch: 58, Loss: 0.0001, Train: 100.00%, Valid: 74.60% Test: 75.00%\n",
            "Epoch: 59, Loss: 0.0000, Train: 100.00%, Valid: 74.60% Test: 75.00%\n",
            "Epoch: 60, Loss: 0.0001, Train: 100.00%, Valid: 74.60% Test: 75.00%\n",
            "Epoch: 61, Loss: 0.0002, Train: 100.00%, Valid: 74.60% Test: 75.00%\n",
            "Epoch: 62, Loss: 0.0002, Train: 100.00%, Valid: 74.60% Test: 75.00%\n",
            "Epoch: 63, Loss: 0.0000, Train: 100.00%, Valid: 74.60% Test: 75.00%\n",
            "Epoch: 64, Loss: 0.0001, Train: 100.00%, Valid: 74.60% Test: 75.00%\n",
            "Epoch: 65, Loss: 0.0000, Train: 100.00%, Valid: 74.60% Test: 75.00%\n",
            "Epoch: 66, Loss: 0.0000, Train: 100.00%, Valid: 74.60% Test: 74.90%\n",
            "Epoch: 67, Loss: 0.0001, Train: 100.00%, Valid: 74.60% Test: 75.00%\n",
            "Epoch: 68, Loss: 0.0000, Train: 100.00%, Valid: 74.60% Test: 75.00%\n",
            "Epoch: 69, Loss: 0.0000, Train: 100.00%, Valid: 74.60% Test: 75.00%\n",
            "Epoch: 70, Loss: 0.0001, Train: 100.00%, Valid: 74.60% Test: 75.10%\n",
            "Epoch: 71, Loss: 0.0001, Train: 100.00%, Valid: 74.60% Test: 75.10%\n",
            "Epoch: 72, Loss: 0.0001, Train: 100.00%, Valid: 74.80% Test: 75.10%\n",
            "Epoch: 73, Loss: 0.0000, Train: 100.00%, Valid: 74.80% Test: 75.10%\n",
            "Epoch: 74, Loss: 0.0000, Train: 100.00%, Valid: 74.80% Test: 75.20%\n",
            "Epoch: 75, Loss: 0.0001, Train: 100.00%, Valid: 74.80% Test: 75.20%\n",
            "Epoch: 76, Loss: 0.0001, Train: 100.00%, Valid: 74.80% Test: 75.20%\n",
            "Epoch: 77, Loss: 0.0002, Train: 100.00%, Valid: 74.80% Test: 75.20%\n",
            "Epoch: 78, Loss: 0.0001, Train: 100.00%, Valid: 74.80% Test: 75.20%\n",
            "Epoch: 79, Loss: 0.0000, Train: 100.00%, Valid: 74.80% Test: 75.20%\n",
            "Epoch: 80, Loss: 0.0000, Train: 100.00%, Valid: 74.80% Test: 75.20%\n",
            "Epoch: 81, Loss: 0.0000, Train: 100.00%, Valid: 74.80% Test: 75.20%\n",
            "Epoch: 82, Loss: 0.0000, Train: 100.00%, Valid: 74.80% Test: 75.20%\n",
            "Epoch: 83, Loss: 0.0000, Train: 100.00%, Valid: 74.80% Test: 75.20%\n",
            "Epoch: 84, Loss: 0.0000, Train: 100.00%, Valid: 74.80% Test: 75.20%\n",
            "Epoch: 85, Loss: 0.0000, Train: 100.00%, Valid: 74.80% Test: 75.20%\n",
            "Epoch: 86, Loss: 0.0000, Train: 100.00%, Valid: 75.00% Test: 75.40%\n",
            "Epoch: 87, Loss: 0.0001, Train: 100.00%, Valid: 75.00% Test: 75.40%\n",
            "Epoch: 88, Loss: 0.0001, Train: 100.00%, Valid: 75.00% Test: 75.60%\n",
            "Epoch: 89, Loss: 0.0001, Train: 100.00%, Valid: 74.80% Test: 75.50%\n",
            "Epoch: 90, Loss: 0.0000, Train: 100.00%, Valid: 75.00% Test: 75.50%\n",
            "Epoch: 91, Loss: 0.0000, Train: 100.00%, Valid: 75.00% Test: 75.50%\n",
            "Epoch: 92, Loss: 0.0000, Train: 100.00%, Valid: 75.00% Test: 75.40%\n",
            "Epoch: 93, Loss: 0.0000, Train: 100.00%, Valid: 75.00% Test: 75.40%\n",
            "Epoch: 94, Loss: 0.0000, Train: 100.00%, Valid: 75.00% Test: 75.40%\n",
            "Epoch: 95, Loss: 0.0001, Train: 100.00%, Valid: 75.00% Test: 75.40%\n",
            "Epoch: 96, Loss: 0.0005, Train: 100.00%, Valid: 75.00% Test: 75.30%\n",
            "Epoch: 97, Loss: 0.0001, Train: 100.00%, Valid: 75.00% Test: 75.10%\n",
            "Epoch: 98, Loss: 0.0000, Train: 100.00%, Valid: 75.00% Test: 75.00%\n",
            "Epoch: 99, Loss: 0.0000, Train: 100.00%, Valid: 75.00% Test: 75.00%\n",
            "Epoch: 100, Loss: 0.0000, Train: 100.00%, Valid: 75.00% Test: 75.00%\n",
            "Epoch: 101, Loss: 0.0000, Train: 100.00%, Valid: 75.00% Test: 75.00%\n",
            "Epoch: 102, Loss: 0.0000, Train: 100.00%, Valid: 75.00% Test: 75.10%\n",
            "Epoch: 103, Loss: 0.0000, Train: 100.00%, Valid: 75.00% Test: 75.10%\n",
            "Epoch: 104, Loss: 0.0001, Train: 100.00%, Valid: 74.80% Test: 75.10%\n",
            "Epoch: 105, Loss: 0.0000, Train: 100.00%, Valid: 74.80% Test: 75.10%\n",
            "Epoch: 106, Loss: 0.0000, Train: 100.00%, Valid: 74.80% Test: 75.20%\n",
            "Epoch: 107, Loss: 0.0003, Train: 100.00%, Valid: 74.60% Test: 75.30%\n",
            "Epoch: 108, Loss: 0.0000, Train: 100.00%, Valid: 74.60% Test: 75.20%\n",
            "Epoch: 109, Loss: 0.0000, Train: 100.00%, Valid: 74.60% Test: 75.20%\n",
            "Epoch: 110, Loss: 0.0000, Train: 100.00%, Valid: 74.40% Test: 75.20%\n",
            "Epoch: 111, Loss: 0.0000, Train: 100.00%, Valid: 74.40% Test: 75.10%\n",
            "Epoch: 112, Loss: 0.0000, Train: 100.00%, Valid: 74.40% Test: 75.10%\n",
            "Epoch: 113, Loss: 0.0000, Train: 100.00%, Valid: 74.40% Test: 75.10%\n",
            "Epoch: 114, Loss: 0.0000, Train: 100.00%, Valid: 74.40% Test: 75.10%\n",
            "Epoch: 115, Loss: 0.0000, Train: 100.00%, Valid: 74.40% Test: 75.10%\n",
            "Epoch: 116, Loss: 0.0000, Train: 100.00%, Valid: 74.40% Test: 75.10%\n",
            "Epoch: 117, Loss: 0.0000, Train: 100.00%, Valid: 74.40% Test: 75.10%\n",
            "Epoch: 118, Loss: 0.0001, Train: 100.00%, Valid: 74.40% Test: 75.10%\n",
            "Epoch: 119, Loss: 0.0000, Train: 100.00%, Valid: 74.40% Test: 75.10%\n",
            "Epoch: 120, Loss: 0.0000, Train: 100.00%, Valid: 74.40% Test: 75.10%\n",
            "Epoch: 121, Loss: 0.0008, Train: 100.00%, Valid: 74.40% Test: 75.10%\n",
            "Epoch: 122, Loss: 0.0003, Train: 100.00%, Valid: 74.40% Test: 75.10%\n",
            "Epoch: 123, Loss: 0.0000, Train: 100.00%, Valid: 74.40% Test: 75.10%\n",
            "Epoch: 124, Loss: 0.0000, Train: 100.00%, Valid: 74.40% Test: 75.20%\n",
            "Epoch: 125, Loss: 0.0001, Train: 100.00%, Valid: 74.40% Test: 75.20%\n",
            "Epoch: 126, Loss: 0.0002, Train: 100.00%, Valid: 74.40% Test: 75.20%\n",
            "Epoch: 127, Loss: 0.0000, Train: 100.00%, Valid: 74.40% Test: 75.20%\n",
            "Epoch: 128, Loss: 0.0000, Train: 100.00%, Valid: 74.40% Test: 75.20%\n",
            "Epoch: 129, Loss: 0.0000, Train: 100.00%, Valid: 74.40% Test: 75.30%\n",
            "Epoch: 130, Loss: 0.0000, Train: 100.00%, Valid: 74.40% Test: 75.30%\n",
            "Epoch: 131, Loss: 0.0001, Train: 100.00%, Valid: 74.40% Test: 75.30%\n",
            "Epoch: 132, Loss: 0.0000, Train: 100.00%, Valid: 74.40% Test: 75.30%\n",
            "Epoch: 133, Loss: 0.0001, Train: 100.00%, Valid: 74.40% Test: 75.40%\n",
            "Epoch: 134, Loss: 0.0000, Train: 100.00%, Valid: 74.40% Test: 75.40%\n",
            "Epoch: 135, Loss: 0.0000, Train: 100.00%, Valid: 74.40% Test: 75.40%\n",
            "Epoch: 136, Loss: 0.0028, Train: 100.00%, Valid: 74.40% Test: 75.30%\n",
            "Epoch: 137, Loss: 0.0000, Train: 100.00%, Valid: 74.20% Test: 75.40%\n",
            "Epoch: 138, Loss: 0.0000, Train: 100.00%, Valid: 74.20% Test: 75.20%\n",
            "Epoch: 139, Loss: 0.0000, Train: 100.00%, Valid: 74.20% Test: 75.20%\n",
            "Epoch: 140, Loss: 0.0000, Train: 100.00%, Valid: 74.20% Test: 75.10%\n",
            "Epoch: 141, Loss: 0.0000, Train: 100.00%, Valid: 74.20% Test: 75.20%\n",
            "Epoch: 142, Loss: 0.0000, Train: 100.00%, Valid: 74.20% Test: 75.10%\n",
            "Epoch: 143, Loss: 0.0000, Train: 100.00%, Valid: 74.40% Test: 75.20%\n",
            "Epoch: 144, Loss: 0.0000, Train: 100.00%, Valid: 74.20% Test: 75.00%\n",
            "Epoch: 145, Loss: 0.0000, Train: 100.00%, Valid: 74.00% Test: 74.90%\n",
            "Epoch: 146, Loss: 0.0000, Train: 100.00%, Valid: 74.00% Test: 74.90%\n",
            "Epoch: 147, Loss: 0.0000, Train: 100.00%, Valid: 74.00% Test: 74.90%\n",
            "Epoch: 148, Loss: 0.0000, Train: 100.00%, Valid: 74.00% Test: 74.90%\n",
            "Epoch: 149, Loss: 0.0000, Train: 100.00%, Valid: 74.00% Test: 74.90%\n",
            "Epoch: 150, Loss: 0.0000, Train: 100.00%, Valid: 74.00% Test: 74.90%\n",
            "Best model: Train: 100.00%, Valid: 77.40% Test: 76.20%\n"
          ]
        }
      ],
      "source": [
        "if 'IS_GRADESCOPE_ENV' not in os.environ:\n",
        "  \n",
        "  set_seed()\n",
        "\n",
        "  graphs_train, graphs_val, graphs_test = \\\n",
        "      GraphDataset.pyg_to_graphs(pyg_dataset, verbose=True, fixed_split=True)\n",
        "\n",
        "  graph_train = graphs_train[0]\n",
        "  graph_val = graphs_val[0]\n",
        "  graph_test = graphs_test[0]\n",
        "\n",
        "  model = GNN(graph_train.num_node_features, args['hidden_size'], graph_train.num_node_labels, args).to(args['device'])\n",
        "  optimizer = torch.optim.Adam(model.parameters(), lr=args['lr'])\n",
        "  graphs = [graph_train, graph_val, graph_test]\n",
        "  all_best_model, all_accs = train(graphs, graphs, args, model, optimizer, mode=\"all\")\n",
        "  train_acc, val_acc, test_acc = test([graph_train, graph_val, graph_test], all_best_model)\n",
        "  print('Best model:',\n",
        "        f'Train: {100 * train_acc:.2f}%, '\n",
        "        f'Valid: {100 * val_acc:.2f}% '\n",
        "        f'Test: {100 * test_acc:.2f}%')"
      ]
    },
    {
      "cell_type": "markdown",
      "metadata": {
        "id": "6RpuETv7Vpx0"
      },
      "source": [
        "## Visualization"
      ]
    },
    {
      "cell_type": "code",
      "execution_count": 29,
      "metadata": {
        "id": "PMK33kY5VmF5",
        "colab": {
          "base_uri": "https://localhost:8080/",
          "height": 458
        },
        "outputId": "e4cbfb70-af36-43ec-e542-8ba3106bce08"
      },
      "outputs": [
        {
          "output_type": "display_data",
          "data": {
            "text/plain": [
              "<Figure size 648x504 with 1 Axes>"
            ],
            "image/png": "[encoded data removed]"
          },
          "metadata": {
            "needs_background": "light"
          }
        }
      ],
      "source": [
        "import numpy as np\n",
        "from matplotlib import pyplot as plt\n",
        "\n",
        "if 'IS_GRADESCOPE_ENV' not in os.environ:\n",
        "  louvain_results = np.array(louvain_accs)\n",
        "  bisection_results = np.array(bisection_accs)\n",
        "  greedy_results = np.array(greedy_accs)\n",
        "  all_results = np.array(all_accs)\n",
        "\n",
        "  x = np.arange(1, 151)\n",
        "\n",
        "  plt.figure(figsize=(9, 7))\n",
        "\n",
        "  plt.plot(x, louvain_results[:, 1], label=\"Louvain Validation\")\n",
        "  plt.plot(x, louvain_results[:, 2], label=\"Louvain Test\")\n",
        "  plt.plot(x, bisection_results[:, 1], label=\"Bisection Validation\")\n",
        "  plt.plot(x, bisection_results[:, 2], label=\"Bisection Test\")\n",
        "  plt.plot(x, greedy_results[:, 1], label=\"Greedy Validation\")\n",
        "  plt.plot(x, greedy_results[:, 2], label=\"Greedy Test\")\n",
        "  plt.plot(x, all_results[:, 1], label=\"All Validation\")\n",
        "  plt.plot(x, all_results[:, 2], label=\"All Test\")\n",
        "  plt.title('Model Accuracy')\n",
        "  plt.ylabel('Accuracy')\n",
        "  plt.xlabel('Epoch')\n",
        "  plt.legend()\n",
        "  plt.show()"
      ]
    },
    {
      "cell_type": "markdown",
      "metadata": {
        "id": "kfucBiYfVYFF"
      },
      "source": [
        "# Submission\n",
        "\n",
        "You will need to submit three files on Gradescope to complete this notebook. \n",
        "\n",
        "1.   Your completed *XCS224W_Colab5.ipynb*. From the \"File\" menu select \"Download .ipynb\" to save a local copy of your completed Colab. \n",
        "2.  *CORA_Node_batch_(0.7,0.9,1).csv*\n",
        "3.  *CORA_Node_batch_(0.3,0.5,1).csv*\n",
        "4.  *CORA_Node_cluster_louvain.csv*\n",
        "5.  *CORA_Node_cluster_greedy.csv*\n",
        "6.  *CORA_Node_cluster_bisection.csv*\n",
        "\n",
        "Download the csv files by selecting the *Folder* icon on the left panel. \n",
        "\n",
        "To submit your work, zip the files downloaded in steps 1-7 above and submit to gradescope. **NOTE:** DO NOT rename any of the downloaded files. "
      ]
    }
  ],
  "metadata": {
    "accelerator": "GPU",
    "colab": {
      "collapsed_sections": [],
      "machine_shape": "hm",
      "name": "Copie de XCS224W_Colab5.ipynb",
      "provenance": []
    },
    "kernelspec": {
      "display_name": "Python 3",
      "language": "python",
      "name": "python3"
    },
    "language_info": {
      "codemirror_mode": {
        "name": "ipython",
        "version": 3
      },
      "file_extension": ".py",
      "mimetype": "text/x-python",
      "name": "python",
      "nbconvert_exporter": "python",
      "pygments_lexer": "ipython3",
      "version": "3.8.12"
    },
    "gpuClass": "standard"
  },
  "nbformat": 4,
  "nbformat_minor": 0
}
