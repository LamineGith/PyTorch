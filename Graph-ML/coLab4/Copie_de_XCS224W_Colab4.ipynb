{
  "cells": [
    {
      "cell_type": "markdown",
      "metadata": {
        "id": "XuXWJLEm2UWS"
      },
      "source": [
        "# **CS224W - Colab 4**"
      ]
    },
    {
      "cell_type": "markdown",
      "metadata": {
        "id": "8gzsP50bF6Gb"
      },
      "source": [
        "In this Colab, we shift our focus from homogenous graphs to heterogeneous graphs. Heterogeneous graphs extend the traditional homogenous graphs that we have been working with by incorporating different node and edge types. This additional information allows us to extend the graph neural nework models that we have worked with before. Namely, we can apply heterogenous message passing, where different message types now exist between different node and edge type relationships. \n",
        "\n",
        "In this notebook, you will first learn how to transform NetworkX graphs into DeepSNAP representations. Then, you will dive deeper into how DeepSNAP stores and represents heterogeneous graphs as PyTorch Tensors.\n",
        "\n",
        "With this knowledge, you will build your own heterogenous graph neural netowrk models using PyTorch Geometric and DeepSNAP. You will then apply your models for a node property prediction task; specifically, you will evaluate these models on the heterogeneous ACM node prediction dataset.\n",
        "\n",
        "Lastly, we give a sneak preview into the work you will do on Colab5. To close out this assignment we introduce the concept of Neighborhood Sampling and mini-batch training for scaling GNNs to large graphs.\n",
        "\n",
        "**Note**: Make sure to **sequentially run all the cells in each section**, so that the intermediate variables / packages will carry over to the next cell\n",
        "\n",
        "Have fun and good luck on Colab 4 :)"
      ]
    },
    {
      "cell_type": "markdown",
      "metadata": {
        "id": "MSaetj53YnT6"
      },
      "source": [
        "# Device\n",
        "You might need to use GPU for this Colab.\n",
        "\n",
        "Please click `Runtime` and then `Change runtime type`. Then set the `hardware accelerator` to **GPU**."
      ]
    },
    {
      "cell_type": "markdown",
      "metadata": {
        "id": "67gOQITlCNQi"
      },
      "source": [
        "# Installation"
      ]
    },
    {
      "cell_type": "code",
      "execution_count": null,
      "metadata": {
        "id": "J_m9l6OYCQZP",
        "colab": {
          "base_uri": "https://localhost:8080/"
        },
        "outputId": "482f1490-84a9-44ad-ee2f-79955b3b081b"
      },
      "outputs": [
        {
          "output_type": "stream",
          "name": "stdout",
          "text": [
            "Looking in indexes: https://pypi.org/simple, https://us-python.pkg.dev/colab-wheels/public/simple/\n",
            "Looking in links: https://pytorch-geometric.com/whl/torch-1.11.0+cu113.html\n",
            "Requirement already satisfied: torch-scatter in /usr/local/lib/python3.7/dist-packages (2.0.9)\n",
            "Looking in indexes: https://pypi.org/simple, https://us-python.pkg.dev/colab-wheels/public/simple/\n",
            "Looking in links: https://pytorch-geometric.com/whl/torch-1.11.0+cu113.html\n",
            "Requirement already satisfied: torch-sparse in /usr/local/lib/python3.7/dist-packages (0.6.14)\n",
            "Requirement already satisfied: scipy in /usr/local/lib/python3.7/dist-packages (from torch-sparse) (1.4.1)\n",
            "Requirement already satisfied: numpy>=1.13.3 in /usr/local/lib/python3.7/dist-packages (from scipy->torch-sparse) (1.21.6)\n",
            "Looking in indexes: https://pypi.org/simple, https://us-python.pkg.dev/colab-wheels/public/simple/\n",
            "Requirement already satisfied: torch-geometric in /usr/local/lib/python3.7/dist-packages (2.0.4)\n",
            "Requirement already satisfied: tqdm in /usr/local/lib/python3.7/dist-packages (from torch-geometric) (4.64.0)\n",
            "Requirement already satisfied: pandas in /usr/local/lib/python3.7/dist-packages (from torch-geometric) (1.3.5)\n",
            "Requirement already satisfied: jinja2 in /usr/local/lib/python3.7/dist-packages (from torch-geometric) (2.11.3)\n",
            "Requirement already satisfied: pyparsing in /usr/local/lib/python3.7/dist-packages (from torch-geometric) (3.0.9)\n",
            "Requirement already satisfied: scikit-learn in /usr/local/lib/python3.7/dist-packages (from torch-geometric) (1.0.2)\n",
            "Requirement already satisfied: requests in /usr/local/lib/python3.7/dist-packages (from torch-geometric) (2.23.0)\n",
            "Requirement already satisfied: numpy in /usr/local/lib/python3.7/dist-packages (from torch-geometric) (1.21.6)\n",
            "Requirement already satisfied: scipy in /usr/local/lib/python3.7/dist-packages (from torch-geometric) (1.4.1)\n",
            "Requirement already satisfied: MarkupSafe>=0.23 in /usr/local/lib/python3.7/dist-packages (from jinja2->torch-geometric) (2.0.1)\n",
            "Requirement already satisfied: python-dateutil>=2.7.3 in /usr/local/lib/python3.7/dist-packages (from pandas->torch-geometric) (2.8.2)\n",
            "Requirement already satisfied: pytz>=2017.3 in /usr/local/lib/python3.7/dist-packages (from pandas->torch-geometric) (2022.1)\n",
            "Requirement already satisfied: six>=1.5 in /usr/local/lib/python3.7/dist-packages (from python-dateutil>=2.7.3->pandas->torch-geometric) (1.15.0)\n",
            "Requirement already satisfied: chardet<4,>=3.0.2 in /usr/local/lib/python3.7/dist-packages (from requests->torch-geometric) (3.0.4)\n",
            "Requirement already satisfied: urllib3!=1.25.0,!=1.25.1,<1.26,>=1.21.1 in /usr/local/lib/python3.7/dist-packages (from requests->torch-geometric) (1.24.3)\n",
            "Requirement already satisfied: certifi>=2017.4.17 in /usr/local/lib/python3.7/dist-packages (from requests->torch-geometric) (2022.6.15)\n",
            "Requirement already satisfied: idna<3,>=2.5 in /usr/local/lib/python3.7/dist-packages (from requests->torch-geometric) (2.10)\n",
            "Requirement already satisfied: threadpoolctl>=2.0.0 in /usr/local/lib/python3.7/dist-packages (from scikit-learn->torch-geometric) (3.1.0)\n",
            "Requirement already satisfied: joblib>=0.11 in /usr/local/lib/python3.7/dist-packages (from scikit-learn->torch-geometric) (1.1.0)\n"
          ]
        }
      ],
      "source": [
        "# Install torch geometric\n",
        "import os\n",
        "if 'IS_GRADESCOPE_ENV' not in os.environ:\n",
        "  !pip install torch-scatter -f https://pytorch-geometric.com/whl/torch-1.11.0+cu113.html\n",
        "  !pip install torch-sparse -f https://pytorch-geometric.com/whl/torch-1.11.0+cu113.html\n",
        "  !pip install torch-geometric\n",
        "  !pip install -q git+https://github.com/snap-stanford/deepsnap.git\n",
        "  !pip install -U -q PyDrive"
      ]
    },
    {
      "cell_type": "code",
      "execution_count": null,
      "metadata": {
        "id": "Qpr0ThDgZmZV",
        "colab": {
          "base_uri": "https://localhost:8080/"
        },
        "outputId": "a6a7f22d-6a10-4acc-9f17-d5cb8d973d10"
      },
      "outputs": [
        {
          "output_type": "stream",
          "name": "stdout",
          "text": [
            "nvcc: NVIDIA (R) Cuda compiler driver\n",
            "Copyright (c) 2005-2020 NVIDIA Corporation\n",
            "Built on Mon_Oct_12_20:09:46_PDT_2020\n",
            "Cuda compilation tools, release 11.1, V11.1.105\n",
            "Build cuda_11.1.TC455_06.29190527_0\n",
            "11.3\n"
          ]
        }
      ],
      "source": [
        "if 'IS_GRADESCOPE_ENV' not in os.environ:\n",
        "  !nvcc --version\n",
        "  !python -c \"import torch; print(torch.version.cuda)\""
      ]
    },
    {
      "cell_type": "code",
      "execution_count": null,
      "metadata": {
        "id": "PRfgbfTjCRD_",
        "colab": {
          "base_uri": "https://localhost:8080/"
        },
        "outputId": "8970a072-3038-484f-f51f-bc17174e2732"
      },
      "outputs": [
        {
          "output_type": "stream",
          "name": "stdout",
          "text": [
            "1.11.0+cu113\n",
            "2.0.4\n"
          ]
        }
      ],
      "source": [
        "if 'IS_GRADESCOPE_ENV' not in os.environ:\n",
        "  import torch\n",
        "  import torch_geometric\n",
        "  print(torch.__version__)\n",
        "  print(torch_geometric.__version__)"
      ]
    },
    {
      "cell_type": "markdown",
      "metadata": {
        "id": "ZoXlf4MtYrbz"
      },
      "source": [
        "# 1) DeepSNAP Heterogeneous Graph\n",
        "\n",
        "First, you will explore how to transform a NetworkX graph into the format supported by DeepSNAP. \n",
        "\n",
        "DeepSNAP extends its traditional graph representation to include heterogeneous graphs by including the following graph property features:  \n",
        "* `node_feature`: The feature of each node (`torch.tensor`)\n",
        "* `edge_feature`: The feature of each edge (`torch.tensor`)\n",
        "* `node_label`: The label of each node (`int`)\n",
        "* `node_type`: The type of each node (`string`)\n",
        "* `edge_type`: The type of each edge (`string`)\n",
        "\n",
        "where the key **new** features added are `node_type` and `edge_type`, which enables us to perform heterogenous message passing.\n",
        "\n",
        "For this first question you will work with the familiar [karate club graph](https://networkx.github.io/documentation/stable/auto_examples/graph/plot_karate_club.html) seen in Colab 1. To start, since each node in the graph belongs to one of two clubs (club \"Mr. Hi\" or club \"Officer\"), you will treat the club as the `node_type`. The code below demonstrates how to differentiate the nodes in the NetworkX graph.\n"
      ]
    },
    {
      "cell_type": "code",
      "execution_count": null,
      "metadata": {
        "id": "8LQ_z5gcBVA1",
        "colab": {
          "base_uri": "https://localhost:8080/",
          "height": 535
        },
        "outputId": "6d80f1a2-45da-4e4c-a84e-b53cbdcc8686"
      },
      "outputs": [
        {
          "output_type": "display_data",
          "data": {
            "text/plain": [
              "<Figure size 504x504 with 1 Axes>"
            ],
            "image/png": "[encoded data removed]"
          },
          "metadata": {}
        }
      ],
      "source": [
        "import networkx as nx\n",
        "from networkx.algorithms.community import greedy_modularity_communities\n",
        "import matplotlib.pyplot as plt\n",
        "import copy\n",
        "\n",
        "if 'IS_GRADESCOPE_ENV' not in os.environ:\n",
        "  from pylab import show\n",
        "  G = nx.karate_club_graph()\n",
        "  community_map = {}\n",
        "  for node in G.nodes(data=True):\n",
        "    if node[1][\"club\"] == \"Mr. Hi\":\n",
        "      community_map[node[0]] = 0\n",
        "    else:\n",
        "      community_map[node[0]] = 1\n",
        "  node_color = []\n",
        "  color_map = {0: 0, 1: 1}\n",
        "  node_color = [color_map[community_map[node]] for node in G.nodes()]\n",
        "  pos = nx.spring_layout(G)\n",
        "  plt.figure(figsize=(7, 7))\n",
        "  nx.draw(G, pos=pos, cmap=plt.get_cmap('coolwarm'), node_color=node_color)\n",
        "  show()"
      ]
    },
    {
      "cell_type": "markdown",
      "metadata": {
        "id": "1JpFb9fTw1lg"
      },
      "source": [
        "### Question 1.1: Assigning Node Type and Node Features (10 points)\n",
        "\n",
        "Using the `community_map` dictionary and graph `G` from above, add node attributes `node_type` and `node_label` to the graph G. Namely, for `node_type` assign nodes in the \"Mr. Hi\" club to a node type `n0` and nodes in club \"Officer\" a node type `n1`. Note: the node type should be a `string` property.\n",
        "\n",
        "Then for `node_label`, assign nodes in \"Mr. Hi\" club to a `node_label` `0` and nodes in club \"Officer\" a `node_label` of `1`.\n",
        "\n",
        "Lastly, assign every node the *tensor* feature vector $[1, 1, 1, 1, 1]$. \n",
        "\n",
        "**Hint**: Look at the NetworkX function `nx.classes.function.set_node_attributes`.\n",
        "\n",
        "**Note**: This question is not specifically graded but is important for later questions."
      ]
    },
    {
      "cell_type": "code",
      "execution_count": null,
      "metadata": {
        "id": "zev_hMJHJXK1",
        "colab": {
          "base_uri": "https://localhost:8080/"
        },
        "outputId": "b9a8c43e-2365-46c5-934c-56b7dc27e21f"
      },
      "outputs": [
        {
          "output_type": "stream",
          "name": "stdout",
          "text": [
            "Node 20 has properties: {'club': 'Officer', 'node_type': 'n1', 'node_label': 1, 'node_feature': tensor([1., 1., 1., 1., 1.])}\n"
          ]
        }
      ],
      "source": [
        "import torch\n",
        "\n",
        "def assign_node_types(G, community_map):\n",
        "  # TODO: Implement a function that takes in a NetworkX graph\n",
        "  # G and community map assignment (mapping node id --> 0/1 label)\n",
        "  # and adds 'node_type' as a node_attribute in G.\n",
        "\n",
        "  ############# Your code here ############\n",
        "  ## (~2 line of code)\n",
        "  ## Note\n",
        "  ## 1. Look up NetworkX `nx.classes.function.set_node_attributes`\n",
        "  ## 2. Look above for the two node type values!\n",
        "  node_type_map = {0:'n0', 1:'n1'}\n",
        "  node_types = {node:node_type_map[community_map[node]] for node in G.nodes()}\n",
        "  nx.set_node_attributes(G, node_types, 'node_type')\n",
        "  #########################################\n",
        "\n",
        "def assign_node_labels(G, community_map):\n",
        "  # TODO: Implement a function that takes in a NetworkX graph\n",
        "  # G and community map assignment (mapping node id --> 0/1 label)\n",
        "  # and adds 'node_label' as a node_attribute in G.\n",
        "\n",
        "  ############# Your code here ############\n",
        "  ## (~2 line of code)\n",
        "  ## Note\n",
        "  ## 1. Look up NetworkX `nx.classes.function.set_node_attributes`\n",
        "  node_label_map = {0:0, 1:1}\n",
        "  node_labels = {node:node_label_map[community_map[node]] for node in G.nodes()}\n",
        "  nx.set_node_attributes(G, node_labels, 'node_label')\n",
        "  #########################################\n",
        "\n",
        "def assign_node_features(G):\n",
        "  # TODO: Implement a function that takes in a NetworkX graph\n",
        "  # G and adds 'node_feature' as a node_attribute in G. Each node\n",
        "  # in the graph has the same feature vector - a torchtensor with \n",
        "  # data [1., 1., 1., 1., 1.]\n",
        "\n",
        "  ############# Your code here ############\n",
        "  ## (~2 line of code)\n",
        "  ## Note\n",
        "  ## 1. Look up NetworkX `nx.classes.function.set_node_attributes`\n",
        "  nx.classes.function.set_node_attributes(G, torch.Tensor([1., 1., 1., 1., 1.]), name='node_feature')\n",
        "  #########################################\n",
        "\n",
        "if 'IS_GRADESCOPE_ENV' not in os.environ:\n",
        "  assign_node_types(G, community_map)\n",
        "  assign_node_labels(G, community_map)\n",
        "  assign_node_features(G)\n",
        "\n",
        "  # Explore node properties for the node with id: 20\n",
        "  node_id = 20\n",
        "  print (f\"Node {node_id} has properties:\", G.nodes(data=True)[node_id])"
      ]
    },
    {
      "cell_type": "markdown",
      "metadata": {
        "id": "mafN0P3EOhSb"
      },
      "source": [
        "### Question 1.2: Assigning Edge Types (2.5 points)\n",
        "\n",
        "Next, we will assign three different `edge_types`: \n",
        "* Edges within club \"Mr. Hi\": `e0`\n",
        "* Edges within club \"Officer\": `e1`\n",
        "* Edges between the two clubs: `e2`\n",
        "\n",
        "**Hint**: Use the `community_map` from before and `nx.classes.function.set_edge_attributes`"
      ]
    },
    {
      "cell_type": "code",
      "execution_count": null,
      "metadata": {
        "id": "rsbYWEVwSV5n",
        "colab": {
          "base_uri": "https://localhost:8080/"
        },
        "outputId": "d13b2a50-4ec8-4c59-c2f5-ce079e6c0fb3"
      },
      "outputs": [
        {
          "output_type": "stream",
          "name": "stdout",
          "text": [
            "Edge (0, 31) has properties: {'edge_type': 'e2'}\n",
            "Node 0 has properties: {'club': 'Mr. Hi', 'node_type': 'n0', 'node_label': 0, 'node_feature': tensor([1., 1., 1., 1., 1.])}\n",
            "Node 31 has properties: {'club': 'Officer', 'node_type': 'n1', 'node_label': 1, 'node_feature': tensor([1., 1., 1., 1., 1.])}\n"
          ]
        }
      ],
      "source": [
        "def assign_edge_types(G, community_map):\n",
        "  # TODO: Implement a function that takes in a NetworkX graph\n",
        "  # G and community map assignment (mapping node id --> 0/1 label)\n",
        "  # and adds 'edge_type' as a edge_attribute in G.\n",
        "\n",
        "  ############# Your code here ############\n",
        "  ## (~5 line of code)\n",
        "  ## Note\n",
        "  ## 1. Create an edge assignment dict following rules above\n",
        "  ## 2. Look up NetworkX `nx.classes.function.set_edge_attributes`\n",
        "  edge_type_map = {'00':'e0', '11':'e1', '01':'e2', '10':'e2'}\n",
        "  edge_types = {}\n",
        "    \n",
        "  for edge in G.edges:\n",
        "    class_node_0 = str(community_map[edge[0]])\n",
        "    class_node_1 = str(community_map[edge[1]])\n",
        "    edge_type = class_node_0 + class_node_1\n",
        "    edge_types[edge] = edge_type_map[edge_type]\n",
        "    \n",
        "  nx.set_edge_attributes(G, edge_types, 'edge_type')\n",
        "  #########################################\n",
        "\n",
        "if 'IS_GRADESCOPE_ENV' not in os.environ:\n",
        "  assign_edge_types(G, community_map)\n",
        "\n",
        "  # Explore edge properties for a sampled edge and check the corresponding\n",
        "  # node types\n",
        "  edge_idx = 15\n",
        "  n1 = 0\n",
        "  n2 = 31\n",
        "  edge = list(G.edges(data=True))[edge_idx]\n",
        "  print (f\"Edge ({edge[0]}, {edge[1]}) has properties:\", edge[2])\n",
        "  print (f\"Node {n1} has properties:\", G.nodes(data=True)[n1])\n",
        "  print (f\"Node {n2} has properties:\", G.nodes(data=True)[n2])"
      ]
    },
    {
      "cell_type": "markdown",
      "metadata": {
        "id": "VBsTdTPVTQ52"
      },
      "source": [
        "## Heterogeneous Graph Visualization\n",
        "\n",
        "Now we can visualize the Heterogeneous Graph we have generated."
      ]
    },
    {
      "cell_type": "code",
      "execution_count": null,
      "metadata": {
        "id": "n2sdufbODHtp",
        "colab": {
          "base_uri": "https://localhost:8080/",
          "height": 607
        },
        "outputId": "b838b205-158d-41c3-d927-153dfc5d9efd"
      },
      "outputs": [
        {
          "output_type": "display_data",
          "data": {
            "text/plain": [
              "<Figure size 576x576 with 1 Axes>"
            ],
            "image/png": "[encoded data removed]"
          },
          "metadata": {}
        }
      ],
      "source": [
        "if 'IS_GRADESCOPE_ENV' not in os.environ:\n",
        "  edge_color = {}\n",
        "  for edge in G.edges():\n",
        "    n1, n2 = edge\n",
        "    edge_color[edge] = community_map[n1] if community_map[n1] == community_map[n2] else 2\n",
        "    if community_map[n1] == community_map[n2] and community_map[n1] == 0:\n",
        "      edge_color[edge] = 'blue'\n",
        "    elif community_map[n1] == community_map[n2] and community_map[n1] == 1:\n",
        "      edge_color[edge] = 'red'\n",
        "    else:\n",
        "      edge_color[edge] = 'green'\n",
        "\n",
        "  G_orig = copy.deepcopy(G)\n",
        "  nx.classes.function.set_edge_attributes(G, edge_color, name='color')\n",
        "  colors = nx.get_edge_attributes(G,'color').values()\n",
        "  labels = nx.get_node_attributes(G, 'node_type')\n",
        "  plt.figure(figsize=(8, 8))\n",
        "  nx.draw(G, pos=pos, cmap=plt.get_cmap('coolwarm'), node_color=node_color, edge_color=colors, labels=labels, font_color='white')\n",
        "  show()"
      ]
    },
    {
      "cell_type": "markdown",
      "metadata": {
        "id": "QRANkF1jRxLV"
      },
      "source": [
        "You should see that we differentiate edges within each clubs (2 types) and edges between the two clubs (1 type). Different types of nodes and edges are visualized in different colors. The NetworkX object `G` in following code can be transformed into `deepsnap.hetero_graph.HeteroGraph` directly."
      ]
    },
    {
      "cell_type": "markdown",
      "metadata": {
        "id": "4DW8L0hxbxw4"
      },
      "source": [
        "## Transforming to DeepSNAP representation\n",
        "\n",
        "You will now work through transforming the NetworkX object `G` into a `deepsnap.hetero_graph.HeteroGraph`."
      ]
    },
    {
      "cell_type": "code",
      "execution_count": null,
      "metadata": {
        "id": "-ZfHZ_eoVVGd"
      },
      "outputs": [],
      "source": [
        "from deepsnap.hetero_graph import HeteroGraph\n",
        "\n",
        "if 'IS_GRADESCOPE_ENV' not in os.environ:\n",
        "  hete = HeteroGraph(G_orig)"
      ]
    },
    {
      "cell_type": "markdown",
      "metadata": {
        "id": "izq4t_O9WxDH"
      },
      "source": [
        "## Question 1.3: How many nodes are of each type (2.5 Points)\n"
      ]
    },
    {
      "cell_type": "code",
      "execution_count": null,
      "metadata": {
        "id": "wRNSP6nnW78C",
        "colab": {
          "base_uri": "https://localhost:8080/"
        },
        "outputId": "c3690e7f-5e38-4010-9756-7f53a777e92f"
      },
      "outputs": [
        {
          "output_type": "stream",
          "name": "stdout",
          "text": [
            "Node type n0 has 17 nodes\n",
            "Node type n1 has 17 nodes\n"
          ]
        }
      ],
      "source": [
        "def get_nodes_per_type(hete):\n",
        "  # TODO: Implement a function that takes a DeepSNAP dataset object\n",
        "  # and return the number of nodes per `node_type`.\n",
        "\n",
        "  num_nodes_n0 = 0\n",
        "  num_nodes_n1 = 0\n",
        "\n",
        "  ############# Your code here ############\n",
        "  ## (~2 line of code)\n",
        "  ## Note\n",
        "  ## 1. Colab autocomplete functionality might be useful.\n",
        "  num_nodes_n0 = len(hete.node_type['n0'])\n",
        "  num_nodes_n1 = len(hete.node_type['n1'])\n",
        "  #########################################\n",
        "\n",
        "  return num_nodes_n0, num_nodes_n1\n",
        "\n",
        "if 'IS_GRADESCOPE_ENV' not in os.environ:\n",
        "  num_nodes_n0, num_nodes_n1 = get_nodes_per_type(hete)\n",
        "  print(\"Node type n0 has {} nodes\".format(num_nodes_n0))\n",
        "  print(\"Node type n1 has {} nodes\".format(num_nodes_n1))"
      ]
    },
    {
      "cell_type": "markdown",
      "metadata": {
        "id": "vEsHJp2ZYaE2"
      },
      "source": [
        "## Question 1.4: Message Types - How many edges are of each message type (2.5 Points)\n",
        "\n",
        "When working with heterogenous graphs, we now have heterogenous message types (i.e. different message types for the different `node_type` and `edge_type` combinations). For example, an edge of type `e0` connecting two nodes in club \"Mr. HI\" would have a message type of (`n0`, `e0`, `n0`). In this problem we will analyze how many edges in our graph are of each message type.\n",
        "\n",
        "**Hint**: If you want to learn more about what the different message types are try the call `hete.message_types`"
      ]
    },
    {
      "cell_type": "code",
      "execution_count": null,
      "metadata": {
        "id": "qobKuqbAYvJ7",
        "colab": {
          "base_uri": "https://localhost:8080/"
        },
        "outputId": "7625dec8-b31b-4301-e841-b172e04c42b4"
      },
      "outputs": [
        {
          "output_type": "stream",
          "name": "stdout",
          "text": [
            "Message type ('n0', 'e0', 'n0') has 35 edges\n",
            "Message type ('n0', 'e2', 'n1') has 11 edges\n",
            "Message type ('n1', 'e1', 'n1') has 32 edges\n"
          ]
        }
      ],
      "source": [
        "def get_num_message_edges(hete):\n",
        "  # TODO: Implement this function that takes a DeepSNAP dataset object\n",
        "  # and return the number of edges for each message type. \n",
        "  # You should return a list of tuples as \n",
        "  # (message_type, num_edge)\n",
        "\n",
        "  message_type_edges = []\n",
        "\n",
        "  ############# Your code here ############\n",
        "  ## (~2 line of code)\n",
        "  ## Note\n",
        "  ## 1. Colab autocomplete functionality might be useful.\n",
        "  for message_type in hete.message_types:\n",
        "    message_type_edges.append((message_type, len(hete.edge_type[message_type])))\n",
        "  #########################################\n",
        "\n",
        "  return message_type_edges\n",
        "\n",
        "if 'IS_GRADESCOPE_ENV' not in os.environ:\n",
        "  message_type_edges = get_num_message_edges(hete)\n",
        "  for (message_type, num_edges) in message_type_edges:\n",
        "    print(\"Message type {} has {} edges\".format(message_type, num_edges))"
      ]
    },
    {
      "cell_type": "markdown",
      "metadata": {
        "id": "bjMVik1JbJ76"
      },
      "source": [
        "## Question 1.5: Dataset Splitting - How many nodes are in each dataset split? (2.5 Points)\n",
        "\n",
        "DeepSNAP has built in Dataset creation and splitting methods for heterogeneous graphs. Here you will create train, validation, and test datasets for a node prediction task and inspect the resulting subgraphs. Specifically, write a function that computes the number of nodes with a known label in each dataset split.\n"
      ]
    },
    {
      "cell_type": "code",
      "execution_count": null,
      "metadata": {
        "id": "Ct10Oh4gcqgD",
        "colab": {
          "base_uri": "https://localhost:8080/"
        },
        "outputId": "da55b14f-d61b-4fcc-e742-81f02b620c1e"
      },
      "outputs": [
        {
          "output_type": "stream",
          "name": "stdout",
          "text": [
            "train dataset has 12 nodes\n",
            "val dataset has 10 nodes\n",
            "test dataset has 12 nodes\n"
          ]
        }
      ],
      "source": [
        "from deepsnap.dataset import GraphDataset\n",
        "\n",
        "def compute_dataset_split_counts(datasets):\n",
        "  # TODO: Implement a function that takes a dict of datasets in the form\n",
        "  # {'train': dataset_train, 'val': dataset_val, 'test': dataset_test}\n",
        "  # and returns a dict mapping dataset names to the number of labeled\n",
        "  # nodes used for supervision in that respective dataset.  \n",
        "  \n",
        "  data_set_splits = {}\n",
        "\n",
        "  ############# Your code here ############\n",
        "  ## (~3 line of code)\n",
        "  ## Note\n",
        "  ## 1. The DeepSNAP `node_label_index` dictionary will be helpful.\n",
        "  ## 2. Remember to count both node_types\n",
        "  ## 3. Remember each dataset only has one graph that we need to access \n",
        "  ##    (i.e. dataset[0])\n",
        "  for dataset_split in datasets.keys() : \n",
        "    num_n0 = len(datasets[dataset_split][0].node_label_index['n0'])\n",
        "    num_n1 = len(datasets[dataset_split][0].node_label_index['n1'])\n",
        "    data_set_splits[dataset_split] = num_n0 + num_n1  \n",
        "  #########################################\n",
        "\n",
        "  return data_set_splits\n",
        "\n",
        "if 'IS_GRADESCOPE_ENV' not in os.environ:\n",
        "  dataset = GraphDataset([hete], task='node')\n",
        "  # Splitting the dataset\n",
        "  dataset_train, dataset_val, dataset_test = dataset.split(transductive=True, split_ratio=[0.4, 0.3, 0.3])\n",
        "  datasets = {'train': dataset_train, 'val': dataset_val, 'test': dataset_test}\n",
        "\n",
        "  data_set_splits = compute_dataset_split_counts(datasets)\n",
        "  for dataset_name, num_nodes in data_set_splits.items():\n",
        "    print(\"{} dataset has {} nodes\".format(dataset_name, num_nodes))"
      ]
    },
    {
      "cell_type": "markdown",
      "metadata": {
        "id": "lFY2PaDbVKe4"
      },
      "source": [
        "## DeepSNAP Dataset Visualization\n",
        "\n",
        "Now you can visualize the different nodes and edges used in each graph dataset split."
      ]
    },
    {
      "cell_type": "code",
      "execution_count": null,
      "metadata": {
        "id": "iiyEw-agbgV8",
        "colab": {
          "base_uri": "https://localhost:8080/",
          "height": 1000
        },
        "outputId": "b9501bfb-3c80-4c7b-aba5-1e4b50f8f72a"
      },
      "outputs": [
        {
          "output_type": "display_data",
          "data": {
            "text/plain": [
              "<Figure size 504x504 with 1 Axes>"
            ],
            "image/png": "[encoded data removed]"
          },
          "metadata": {}
        },
        {
          "output_type": "display_data",
          "data": {
            "text/plain": [
              "<Figure size 504x504 with 1 Axes>"
            ],
            "image/png": "[encoded data removed]"
          },
          "metadata": {}
        },
        {
          "output_type": "display_data",
          "data": {
            "text/plain": [
              "<Figure size 504x504 with 1 Axes>"
            ],
            "image/png": "[encoded data removed]"
          },
          "metadata": {}
        }
      ],
      "source": [
        "from deepsnap.dataset import GraphDataset\n",
        "\n",
        "if 'IS_GRADESCOPE_ENV' not in os.environ:\n",
        "  dataset = GraphDataset([hete], task='node')\n",
        "  # Splitting the dataset\n",
        "  dataset_train, dataset_val, dataset_test = dataset.split(transductive=True, split_ratio=[0.4, 0.3, 0.3])\n",
        "  titles = ['Train', 'Validation', 'Test']\n",
        "\n",
        "  for i, dataset in enumerate([dataset_train, dataset_val, dataset_test]):\n",
        "    n0 = hete._convert_to_graph_index(dataset[0].node_label_index['n0'], 'n0').tolist()\n",
        "    n1 = hete._convert_to_graph_index(dataset[0].node_label_index['n1'], 'n1').tolist()\n",
        "\n",
        "    plt.figure(figsize=(7, 7))\n",
        "    plt.title(titles[i])\n",
        "    nx.draw(G_orig, pos=pos, node_color=\"grey\", edge_color=colors, labels=labels, font_color='white')\n",
        "    nx.draw_networkx_nodes(G_orig.subgraph(n0), pos=pos, node_color=\"blue\")\n",
        "    nx.draw_networkx_nodes(G_orig.subgraph(n1), pos=pos, node_color=\"red\")\n",
        "    show()"
      ]
    },
    {
      "cell_type": "markdown",
      "metadata": {
        "id": "e5LsVSRuI3hU"
      },
      "source": [
        "# 2) Heterogeneous Graph Node Property Prediction\n",
        "\n",
        "Now that we have introduced you to the basics of Heterogeneous graphs, you will use PyTorch Geometric and DeepSNAP to implement a GNN model for heterogeneous graph node property prediction (node classification). You will draw upon your understanding of heterogeneous graphs from lecture and previous work in implementing GNN layers using PyG (introduced in Colab 3).\n",
        "\n",
        "First let's take a look at the general structure of a heterogeneous GNN layer by working through an example:\n",
        "\n",
        "Let's assume we have a graph $G$, which contains two node types $a$ and $b$, and three message types $m_1=(a, r_1, a)$, $m_2=(a, r_2, b)$ and $m_3=(a, r_3, b)$. For notation sake, we view each message as (src, relation, dst), where messages \"flow\" from src to dst node types. \n",
        "\n",
        "When applying message passing in heterogenous graphs, we separately apply message passing over each message type separately. For example, updating node type $b$ relies on two different message types $m_2$ and $m_3$. For the graph $G$, a heterogeneous GNN layer contains three separate Heterogeneous Message Passing layers (`HeteroGNNConv` in this Colab), where each `HeteroGNNConv` layer performs message passing and aggregation with respect to *only one message type*. Since a message type is viewed as (src, relation, dst) and messages \"flow\" from src to dst, each `HeteroGNNConv` layer only computes embeddings for the *dst* nodes of a given message type. For example, the `HeteroGNNConv` layer for message type $m_2$ outputs updated embedding representations *only* for node's with type b. \n",
        "\n",
        "---\n",
        "\n",
        "An overview of the heterogeneous layer you will create is shown below:\n",
        "\n",
        "![test](https://drive.google.com/uc?export=view&id=1mkp4OeRrvC4iNFTXSywrmI6Pfl5J__gA)\n",
        "\n",
        "where we highlight the following notation:\n",
        "\n",
        "- $H_a^{(l)[m_1]}$ is the intermediate matrix of node embeddings for node type $a$, generated by the $l^{th}$ `HeteroGNNConv` layer for message type $m_1$.\n",
        "- $H_a^{(l)}$ is the matrix with current embeddings for nodes of type $a$ after the $l^{th}$ layer of our Heterogeneous GNN model. Note that these embeddings can rely on one or more intermediate `HeteroGNNConv` layer embeddings(i.e. $H_b^{(l)}$ combines $H_b^{(l)[m_2]}$ and $H_b^{(l)[m_3]}$).\n",
        "\n",
        "Since each `HeteroGNNConv` is only applied over a single message type, we additionally define a Heterogeneous GNN Wrapper layer (`HeteroGNNWrapperConv`). This wrapper manages and combines the output of each `HeteroGNNConv` layer in order to generate the complete updated node embeddings for each node type in layer $l$ of our model. More specifically, the $l^{th}$ `HeteroGNNWrapperConv` layer takes as input the node embeddings computed for each message type and node type (e.g. $H_b^{(l)[m_2]}$ and $H_b^{(l)[m_3]}$) and aggregates across message types with the same $dst$ node type. The resulting output of the $l^{th}$ `HeteroGNNWrapperConv` layer is the updated embedding matrix $H_i^{(l)}$ for each node type i. \n",
        "\n",
        "Continuing on our example above, to compute the node embeddings $H_b^{(l)}$, the wrapper layer aggregates output embeddings from the `HeteroGNNConv` layers associated with message types $m_2$ and $m_3$ (i.e. $H_b^{(l)[m_2]}$ and $H_b^{(l)[m_3]}$). \n",
        "\n",
        "---\n",
        "\n",
        "With the `HeteroGNNWrapperConv` module, we can now draw a \"simplified\" heterogeneous layer structure as follows:\n",
        "\n",
        "<br/>\n",
        "<center>\n",
        "<img src=\"http://web.stanford.edu/class/cs224w/images/colab4/hetero_conv_1.png\"/>\n",
        "</center>\n",
        "<br/>\n",
        "\n",
        "---\n",
        "**NOTE**: \n",
        "As reference, it may be helpful to additionally read through PyG's introduction to heterogeneous graph representations and buidling heterogeneous GNN models: https://pytorch-geometric.readthedocs.io/en/latest/notes/heterogeneous.html "
      ]
    },
    {
      "cell_type": "markdown",
      "metadata": {
        "id": "rOTCyuRcJikS"
      },
      "source": [
        "<font color='red'>Looking ahead, we recommend you implement the heterogeneous GNN model in following steps:</font>\n",
        "\n",
        "1. Implement `HeteroGNNConv`.\n",
        "2. Implement **just** `mean` aggregation within `HeteroGNNWrapperConv`.\n",
        "3. Implement `generate_convs`.\n",
        "4. Implement the `HeteroGNN` model and the `train` function.\n",
        "5. Train the model with `mean` aggregation and test your model to make sure your model has reasonable performance.\n",
        "6. Once you are confident in your mean aggregation model, implement `attn` aggregation in `HeteroGNNWrapperConv`.\n",
        "7. Train the model with `attn` aggregation and test your model to make sure your model has reasonable performance.\n",
        "\n",
        "Note: The key point of advice is to work completely through implementing the mean aggregation heterogeneous GNN model before diving into the more difficult attention based model."
      ]
    },
    {
      "cell_type": "markdown",
      "metadata": {
        "id": "pkFjcktiJJLm"
      },
      "source": [
        "## Setup"
      ]
    },
    {
      "cell_type": "code",
      "execution_count": null,
      "metadata": {
        "id": "NAm9_OcJJJ-W"
      },
      "outputs": [],
      "source": [
        "import copy\n",
        "import torch\n",
        "import deepsnap\n",
        "import random\n",
        "import numpy as np\n",
        "import torch.nn as nn\n",
        "import torch.nn.functional as F\n",
        "import torch_geometric.nn as pyg_nn\n",
        "\n",
        "from sklearn.metrics import f1_score\n",
        "from deepsnap.hetero_gnn import forward_op\n",
        "from deepsnap.hetero_graph import HeteroGraph\n",
        "from torch_sparse import SparseTensor, matmul"
      ]
    },
    {
      "cell_type": "markdown",
      "metadata": {
        "id": "n2prITo3JSbo"
      },
      "source": [
        "## Dataset\n",
        "\n",
        "You need to login to your Google account and enter the verification code below."
      ]
    },
    {
      "cell_type": "code",
      "execution_count": null,
      "metadata": {
        "id": "QvQwxJX4JTJX"
      },
      "outputs": [],
      "source": [
        "if 'IS_GRADESCOPE_ENV' not in os.environ:\n",
        "  from pydrive.auth import GoogleAuth\n",
        "  from pydrive.drive import GoogleDrive\n",
        "  from google.colab import auth\n",
        "  from oauth2client.client import GoogleCredentials\n",
        "\n",
        "  # Authenticate and create the PyDrive client\n",
        "  auth.authenticate_user()\n",
        "  gauth = GoogleAuth()\n",
        "  gauth.credentials = GoogleCredentials.get_application_default()\n",
        "  drive = GoogleDrive(gauth)"
      ]
    },
    {
      "cell_type": "code",
      "execution_count": null,
      "metadata": {
        "id": "Igoy4F_xJbVn"
      },
      "outputs": [],
      "source": [
        "if 'IS_GRADESCOPE_ENV' not in os.environ:\n",
        "  id='1ivlxd6lJMcZ9taS44TMGG72x2V1GeVvk'\n",
        "  downloaded = drive.CreateFile({'id': id})\n",
        "  downloaded.GetContentFile('acm.pkl')"
      ]
    },
    {
      "cell_type": "markdown",
      "metadata": {
        "id": "VBlboS5kJmJL"
      },
      "source": [
        "## Implementing `HeteroGNNConv`\n",
        "\n",
        "Now let's start working on your own implementation of the heterogeneous message passing layer (`HeteroGNNConv`)! Just as in Colab 3, you will implement the layer using PyTorch Geometric. \n",
        "\n",
        "At a high level, the `HeteroGNNConv` layer is equivalent to the homogenous GNN layers you implemented in Colab 3, but now applied to an individual heterogeneous message type. Moreover, our heterogeneous GNN layer draws directly from the **GraphSAGE** message passing model ([Hamilton et al. (2017)](https://arxiv.org/abs/1706.02216)).\n",
        "\n",
        "You will begin by defining the `HeteroGNNConv` layer with respect to message type $m$:\n",
        "\n",
        "\\begin{equation}\n",
        "m =(s, r, d)\n",
        "\\end{equation}\n",
        "\n",
        "where each message type is a tuple containing three elements: $s$ - the source node type, $r$ - the edge (relation) type, and $d$ - the destination node type. \n",
        "\n",
        "The message passing update rule that you will implement is very similar to that of GraphSAGE, except you now need to include the node types and the edge relation type. The update rule for message type $m$ is described below:\n",
        "\n",
        "\\begin{equation}\n",
        "h_v^{(l)[m]} = W^{(l)[m]} \\cdot \\text{CONCAT} \\Big( W_d^{(l)[m]} \\cdot h_v^{(l-1)}, W_s^{(l)[m]} \\cdot AGG(\\{h_u^{(l-1)}, \\forall u \\in N_{m}(v) \\})\\Big)\n",
        "\\end{equation}\n",
        "\n",
        "where you compute $h_v^{(l)[m]}$, the node embedding representation for node $v$ after `HeteroGNNConv` layer $l$ with respect message type $m$. Further unpacking the formula:\n",
        "- $W_s^{(l)[m]}$ - linear transformation matrix for the messages of neighboring source nodes of type $s$ along message type $m$.\n",
        "- $W_d^{(l)[m]}$ - linear transformation matrix for the message from the node $v$ itself of type $d$.\n",
        "- $W^{(l)[m]}$ - linear transformation matrix for the concatenated messages from neighboring node's and the central node.\n",
        "- $h_u^{(l-1)}$ - the hidden embedding representation for node $u$ after the $(l-1)^{th}$ `HeteroGNNWrapperConv` layer. Note, that this embedding is not associated with a particular message type (see layer diagrams above). \n",
        "- $N_{m}(v)$ - the set of neighbor source nodes $s$ for the node v that we are embedding along message type $m = (s, r, d)$. \n",
        "\n",
        "**NOTE**: We emphasize that each weight matrix is associated with a specific message type $[m]$ and additionally, the weight matrices applied to node messages are differentiated by node type (i.e. $W_s$ and $W_d$).\n",
        "\n",
        "Lastly, for simplicity, we use mean aggregations for $AGG$ where:\n",
        "\n",
        "\\begin{equation}\n",
        "AGG(\\{h_u^{(l-1)}, \\forall u \\in N_{m}(v) \\}) = \\frac{1}{|N_{m}(v)|} \\sum_{u\\in N_{m}(v)} h_u^{(l-1)}\n",
        "\\end{equation}"
      ]
    },
    {
      "cell_type": "code",
      "execution_count": null,
      "metadata": {
        "id": "_Z1b0Mf8Jova"
      },
      "outputs": [],
      "source": [
        "class HeteroGNNConv(pyg_nn.MessagePassing):\n",
        "    def __init__(self, in_channels_src, in_channels_dst, out_channels):\n",
        "        super(HeteroGNNConv, self).__init__(aggr=\"mean\")\n",
        "\n",
        "        self.in_channels_src = in_channels_src\n",
        "        self.in_channels_dst = in_channels_dst\n",
        "        self.out_channels = out_channels\n",
        "\n",
        "        # To simplify implementation, please initialize both self.lin_dst\n",
        "        # and self.lin_src out_features to out_channels\n",
        "        self.lin_dst = None\n",
        "        self.lin_src = None\n",
        "\n",
        "        self.lin_update = None\n",
        "\n",
        "        ############# Your code here #############\n",
        "        ## (~3 lines of code)\n",
        "        ## Note:\n",
        "        ## 1. Initialize the 3 linear layers.\n",
        "        ## 2. Think through the connection between the mathematical\n",
        "        ##    definition of the update rule and torch linear layers!\n",
        "        self.lin_dst = nn.Linear(self.in_channels_src, self.out_channels)\n",
        "        self.lin_src = nn.Linear(self.in_channels_dst, self.out_channels)\n",
        "        self.lin_update = nn.Linear(2*self.out_channels, self.out_channels)\n",
        "        ##########################################\n",
        "\n",
        "    def forward(\n",
        "        self,\n",
        "        node_feature_src,\n",
        "        node_feature_dst,\n",
        "        edge_index,\n",
        "        size=None\n",
        "    ):\n",
        "        ############# Your code here #############\n",
        "        ## (~1 line of code)\n",
        "        ## Note:\n",
        "        ## 1. Unlike Colab 3, we just need to call self.propagate with \n",
        "        ## proper arguments.\n",
        "        return self.propagate(edge_index, size=size, node_feature_src=node_feature_src, node_feature_dst=node_feature_dst)\n",
        "        ##########################################\n",
        "\n",
        "    def message_and_aggregate(self, edge_index, node_feature_src):\n",
        "\n",
        "        ############# Your code here #############\n",
        "        ## (~1 line of code)\n",
        "        ## Note:\n",
        "        ## 1. Different from what we implemented in Colab 3, we use message_and_aggregate\n",
        "        ##    to combine the previously seperate message and aggregate functions. \n",
        "        ##    The benefit is that we can avoid materializing x_i and x_j\n",
        "        ##    to make the implementation more efficient.\n",
        "        ## 2. To implement efficiently, refer to PyG documentation for message_and_aggregate\n",
        "        ##    and sparse-matrix multiplication:\n",
        "        ##    https://pytorch-geometric.readthedocs.io/en/latest/notes/sparse_tensor.html\n",
        "        ## 3. Here edge_index is torch_sparse SparseTensor. Although interesting, you\n",
        "        ##    do not need to deeply understand SparseTensor represenations!\n",
        "        ## 4. Conceptually, think through how the message passing and aggregation\n",
        "        ##    expressed mathematically can be expressed through matrix multiplication.\n",
        "        out = matmul(edge_index, node_feature_src, reduce='mean')\n",
        "        ##########################################\n",
        "\n",
        "        return out\n",
        "\n",
        "    def update(self, aggr_out, node_feature_dst):\n",
        "\n",
        "        ############# Your code here #############\n",
        "        ## (~4 lines of code)\n",
        "        ## Note:\n",
        "        ## 1. The update function is called after message_and_aggregate\n",
        "        ## 2. Think through the one-one connection between the mathematical update\n",
        "        ##    rule and the 3 linear layers defined in the constructor. \n",
        "        aggr_out = self.lin_src(aggr_out)\n",
        "        node_feature_dst = self.lin_dst(node_feature_dst)\n",
        "\n",
        "        concat_features = torch.cat((node_feature_dst, aggr_out), dim=-1)\n",
        "        aggr_out = self.lin_update(concat_features)\n",
        "\n",
        "        ##########################################\n",
        "\n",
        "        return aggr_out"
      ]
    },
    {
      "cell_type": "markdown",
      "metadata": {
        "id": "aKq8ScTiJthn"
      },
      "source": [
        "## Heterogeneous GNN Wrapper Layer\n",
        "\n",
        "After implementing the `HeteroGNNConv` layer for each message type, you need to manage and aggregate the node embedding results (with respect to each message types). Here you will implement two types of message type level aggregation.\n",
        "\n",
        "The first one is simply mean aggregation over message types:\n",
        "\n",
        "\\begin{equation}\n",
        "h_v^{(l)} = \\frac{1}{M}\\sum_{m=1}^{M}h_v^{(l)[m]}\n",
        "\\end{equation}\n",
        "\n",
        "where node $v$ has node type $d$ and we sum over the $M$ message types that have destination node type $d$. From our original example, for a node v of type $b$ you aggregate v's `HeteroGNNConv` embeddings for message types $m_2$ and $m_3$ (i.e. $h_v^{(l)[m_2]}$ and $h_v^{(l)[m_3]}$).\n",
        "\n",
        "The second method you will implement is the semantic level attention introduced in **HAN** ([Wang et al. (2019)](https://arxiv.org/abs/1903.07293)). Instead of directly averaging on the message type aggregation results, you use attention to learn which message type result is more important, then aggregate across all the message types. Below are the equations for semantic level attention:\n",
        "\n",
        "\\begin{equation}\n",
        "e_{m} = \\frac{1}{|V_{d}|} \\sum_{v \\in V_{d}} q_{attn}^{(l)T} \\cdot tanh \\Big( W_{attn}^{(l)} \\cdot h_v^{(l)[m]} + b \\Big)\n",
        "\\end{equation}\n",
        "\n",
        "where $m$ is the message type and $d$ refers to the destination node type for that message ($m = (s, r, d)$). Additionally, $V_{d}$ refers to the set of nodes v with type $d$. Lastly, the unnormalized attention weight $e_m$ is a scaler computed for each message type $m$. \n",
        "\n",
        "Next, you can compute the normalized attention weights and update $h_v^{(l)}$:\n",
        "\n",
        "\\begin{equation}\n",
        "\\alpha_{m} = \\frac{\\exp(e_{m})}{\\sum_{m=1}^M \\exp(e_{m})}\n",
        "\\end{equation}\n",
        "\n",
        "\\begin{equation}\n",
        "h_v^{(l)} = \\sum_{m=1}^{M} \\alpha_{m} \\cdot h_v^{(l)[m]}\n",
        "\\end{equation}\n",
        "\n",
        ", where we emphasize that $M$ here is the number of message types associated with the destination node type $d$. \n",
        "\n",
        "**Note**: The implementation of the attention aggregation is tricky and nuanced. We strongly recommend working carefully through the math equations to undersatnd exactly what each notation refers to and how all the pieces fit together. If you can, try to connect the math to our original example, focusing on node type $b$, which depends on two different message types!"
      ]
    },
    {
      "cell_type": "code",
      "execution_count": null,
      "metadata": {
        "id": "0_bun02xJwFm"
      },
      "outputs": [],
      "source": [
        "class HeteroGNNWrapperConv(deepsnap.hetero_gnn.HeteroConv):\n",
        "    def __init__(self, convs, args, aggr=None):\n",
        "        super(HeteroGNNWrapperConv, self).__init__(convs, None)\n",
        "        self.aggr = aggr\n",
        "\n",
        "        # Map the index and message type\n",
        "        self.mapping = {}\n",
        "\n",
        "        # A numpy array that stores the final attention probability\n",
        "        self.alpha = None\n",
        "\n",
        "        self.attn_proj = None\n",
        "\n",
        "        if self.aggr == \"attn\":\n",
        "            ############# Your code here #############\n",
        "            ## (~1 line of code)\n",
        "            ## Note:\n",
        "            ## 1. Initialize self.attn_proj, where self.attn_proj should include\n",
        "            ##    two linear layers. Note, make sure you understand\n",
        "            ##    which part of the equation self.attn_proj captures.\n",
        "            ## 2. You should use nn.Sequential for self.attn_proj\n",
        "            ## 3. nn.Linear and nn.Tanh are useful.\n",
        "            ## 4. You can model a weight vector (rather than matrix) by using:\n",
        "            ##    nn.Linear(some_size, 1, bias=False).\n",
        "            ## 5. The first linear layer should have out_features as args['attn_size']\n",
        "            ## 6. You can assume we only have one \"head\" for the attention.\n",
        "            ## 7. We recommend you to implement the mean aggregation first. After \n",
        "            ##    the mean aggregation works well in the training, then you can \n",
        "            ##    implement this part.\n",
        "            self.attn_proj = nn.Sequential(nn.Linear(args['hidden_size'], args['attn_size']), nn.Tanh(), nn.Linear(args['attn_size'], 1, bias=False))\n",
        "            ##########################################\n",
        "    \n",
        "    def reset_parameters(self):\n",
        "        super(HeteroGNNWrapperConv, self).reset_parameters()\n",
        "        if self.aggr == \"attn\":\n",
        "            for layer in self.attn_proj.children():\n",
        "                layer.reset_parameters()\n",
        "    \n",
        "    def forward(self, node_features, edge_indices):\n",
        "        message_type_emb = {}\n",
        "        for message_key, message_type in edge_indices.items():\n",
        "            src_type, edge_type, dst_type = message_key\n",
        "            node_feature_src = node_features[src_type]\n",
        "            node_feature_dst = node_features[dst_type]\n",
        "            edge_index = edge_indices[message_key]\n",
        "            message_type_emb[message_key] = (\n",
        "                self.convs[message_key](\n",
        "                    node_feature_src,\n",
        "                    node_feature_dst,\n",
        "                    edge_index,\n",
        "                )\n",
        "            )\n",
        "        node_emb = {dst: [] for _, _, dst in message_type_emb.keys()}\n",
        "        mapping = {}        \n",
        "        for (src, edge_type, dst), item in message_type_emb.items():\n",
        "            mapping[len(node_emb[dst])] = (src, edge_type, dst)\n",
        "            node_emb[dst].append(item)\n",
        "        self.mapping = mapping\n",
        "        for node_type, embs in node_emb.items():\n",
        "            if len(embs) == 1:\n",
        "                node_emb[node_type] = embs[0]\n",
        "            else:\n",
        "                node_emb[node_type] = self.aggregate(embs)\n",
        "        return node_emb\n",
        "    \n",
        "    def aggregate(self, xs):\n",
        "        # TODO: Implement this function that aggregates all message type results for one node type.\n",
        "        # Here, xs is a list of tensors (embeddings) with respect to message \n",
        "        # type aggregation results.\n",
        "        \n",
        "        # Useful dimensions from xs - particularly for `attn` aggregation\n",
        "        N = xs[0].shape[0] # Number of nodes for the given node type\n",
        "        M = len(xs) # Number of message types for the given node type\n",
        "\n",
        "        if self.aggr == \"mean\":\n",
        "\n",
        "            ############# Your code here #############\n",
        "            ## (~2 lines of code)\n",
        "            ## Note:\n",
        "            ## 1. Explore the function parameter `xs`! \n",
        "            xs = torch.stack(xs)\n",
        "            out = torch.mean(xs, dim=0)\n",
        "            return out\n",
        "            ##########################################\n",
        "\n",
        "        elif self.aggr == \"attn\":\n",
        "            ############# Your code here #############\n",
        "            ## (~10 lines of code)\n",
        "            ## Note:\n",
        "            ## 1. Try to map out how the equations can be translated into code.\n",
        "            ## 2. N and M defined above may be useful at least to understand.\n",
        "            ## 3. Work first to compute the un-normalized attention weights e\n",
        "            ##    for each message type - try to vectorize this!\n",
        "            ## 4. torch.softmax and torch.cat are useful.\n",
        "            ## 5. It might be useful to reshape and concatenate tensors using the  \n",
        "            ##    `view()` function https://pytorch.org/docs/stable/tensor_view.html\n",
        "            ##    and `torch.cat()`https://pytorch.org/docs/stable/generated/torch.cat.html\n",
        "            ## 6. Store the value of attention alpha (as a numpy array) to self.alpha,\n",
        "            ##    which has the shape (len(xs), ) self.alpha will be not be used \n",
        "            ##    to backpropagate etc. in the model. We will use it to see how much \n",
        "            ##    attention the layer pays on different message types.\n",
        "            xs = torch.stack(xs, dim=0)\n",
        "\n",
        "            s = self.attn_proj(xs).squeeze(-1)\n",
        "            s = torch.mean(s, dim=-1)\n",
        "\n",
        "            self.alpha = torch.softmax(s, dim=0).detach()\n",
        "\n",
        "            out = self.alpha.reshape(-1, 1, 1) * xs\n",
        "            out = torch.sum(out, dim=0)\n",
        "            \n",
        "            return out\n",
        "            ##########################################"
      ]
    },
    {
      "cell_type": "markdown",
      "metadata": {
        "id": "tn_pnCOKJw-d"
      },
      "source": [
        "## Initialize Heterogeneous GNN Layers\n",
        "\n",
        "Now let's put it all together and initialize the Heterogeneous GNN Layers. Different from the homogeneous graph case, heterogeneous graphs can be a little bit complex.\n",
        "\n",
        "In general, you need to create a dictionary of `HeteroGNNConv` layers where the keys are message types.\n",
        "\n",
        "* To get all message types, `deepsnap.hetero_graph.HeteroGraph.message_types` is useful.\n",
        "* When you initialize the first conv layers, you need to get the feature dimension of each node type. Using `deepsnap.hetero_graph.HeteroGraph.num_node_features(node_type)` will return the node feature dimension of `node_type`. In this function, you will set each `HeteroGNNConv` `out_channels` to be `hidden_size`.\n",
        "* For the remaining conv layers, all node types will have the same embedding dimension `hidden_size` and we still set `HeteroGNNConv` `out_channels` to be `hidden_size` for simplicity.\n",
        "\n"
      ]
    },
    {
      "cell_type": "code",
      "execution_count": null,
      "metadata": {
        "id": "hSBImHClJzf4"
      },
      "outputs": [],
      "source": [
        "def generate_convs(hetero_graph, conv, hidden_size, first_layer=False):\n",
        "    # TODO: Implement this function that returns a dictionary of `HeteroGNNConv` \n",
        "    # layers where the keys are message types. `hetero_graph` is deepsnap `HeteroGraph`\n",
        "    # object and the `conv` is the `HeteroGNNConv`.\n",
        "\n",
        "    convs = {}\n",
        "\n",
        "    ############# Your code here #############\n",
        "    ## (~9 lines of code)\n",
        "    ## Note:\n",
        "    ## 1. See the hints above!\n",
        "    ## 2. conv is of type `HeteroGNNConv`\n",
        "    all_messages_types = hetero_graph.message_types\n",
        "    for message_type in all_messages_types:\n",
        "        if first_layer:\n",
        "            in_channels_src = hetero_graph.num_node_features(message_type[0])\n",
        "            in_channels_dst = hetero_graph.num_node_features(message_type[2])\n",
        "        else:\n",
        "            in_channels_src = hidden_size\n",
        "            in_channels_dst = hidden_size\n",
        "        out_channels = hidden_size\n",
        "        convs[message_type] = conv(in_channels_src, in_channels_dst, out_channels)\n",
        "    ##########################################\n",
        "    \n",
        "    return convs"
      ]
    },
    {
      "cell_type": "markdown",
      "metadata": {
        "id": "U39dX8EpJ3FG"
      },
      "source": [
        "## HeteroGNN\n",
        "\n",
        "Now you will make a simple HeteroGNN model which contains only two `HeteroGNNWrapperConv` layers.\n",
        "\n",
        "For the forward function in `HeteroGNN`, the model is going to be run as following:\n",
        "\n",
        "$\\text{self.convs1} \\rightarrow \\text{self.bns1} \\rightarrow \\text{self.relus1} \\rightarrow \\text{self.convs2} \\rightarrow \\text{self.bns2} \\rightarrow \\text{self.relus2} \\rightarrow \\text{self.post_mps}$"
      ]
    },
    {
      "cell_type": "code",
      "execution_count": null,
      "metadata": {
        "id": "rplknA8aJ6J5"
      },
      "outputs": [],
      "source": [
        "class HeteroGNN(torch.nn.Module):\n",
        "    def __init__(self, hetero_graph, args, aggr=\"mean\"):\n",
        "        super(HeteroGNN, self).__init__()\n",
        "\n",
        "        self.aggr = aggr\n",
        "        self.hidden_size = args['hidden_size']\n",
        "\n",
        "        self.convs1 = None\n",
        "        self.convs2 = None\n",
        "\n",
        "        self.bns1 = nn.ModuleDict()\n",
        "        self.bns2 = nn.ModuleDict()\n",
        "        self.relus1 = nn.ModuleDict()\n",
        "        self.relus2 = nn.ModuleDict()\n",
        "        self.post_mps = nn.ModuleDict()\n",
        "\n",
        "        ############# Your code here #############\n",
        "        ## (~10 lines of code)\n",
        "        ## Note:\n",
        "        ## 1. For self.convs1 and self.convs2, call generate_convs at first and then\n",
        "        ##    pass the returned dictionary of `HeteroGNNConv` to `HeteroGNNWrapperConv`.\n",
        "        ## 2. For self.bns, self.relus and self.post_mps, the keys are node_types.\n",
        "        ##    `deepsnap.hetero_graph.HeteroGraph.node_types` will be helpful.\n",
        "        ## 3. Initialize all batchnorms to torch.nn.BatchNorm1d(hidden_size, eps=1).\n",
        "        ## 4. Initialize all relus to nn.LeakyReLU().\n",
        "        ## 5. For self.post_mps, each value in the ModuleDict is a linear layer \n",
        "        ##    where the `out_features` is the number of classes for that node type.\n",
        "        ##    `deepsnap.hetero_graph.HeteroGraph.num_node_labels(node_type)` will be\n",
        "        ##    useful.\n",
        "        self.convs1 = HeteroGNNWrapperConv(\n",
        "            generate_convs(hetero_graph, HeteroGNNConv, self.hidden_size, first_layer=True), \n",
        "            args, self.aggr)\n",
        "        self.convs2 = HeteroGNNWrapperConv(\n",
        "            generate_convs(hetero_graph, HeteroGNNConv, self.hidden_size, first_layer=False), \n",
        "            args, self.aggr)\n",
        "\n",
        "        all_node_types = hetero_graph.node_types\n",
        "        for node_type in all_node_types:\n",
        "            self.bns1[node_type] = nn.BatchNorm1d(self.hidden_size, eps=1.0)\n",
        "            self.bns2[node_type] = nn.BatchNorm1d(self.hidden_size, eps=1.0)\n",
        "            self.relus1[node_type] = nn.LeakyReLU()\n",
        "            self.relus2[node_type] = nn.LeakyReLU()\n",
        "            self.post_mps[node_type] = nn.Linear(self.hidden_size, hetero_graph.num_node_labels(node_type))\n",
        "        ##########################################\n",
        "\n",
        "    def forward(self, node_feature, edge_index):\n",
        "        # TODO: Implement the forward function. Notice that `node_feature` is \n",
        "        # a dictionary of tensors where keys are node types and values are \n",
        "        # corresponding feature tensors. The `edge_index` is a dictionary of \n",
        "        # tensors where keys are message types and values are corresponding\n",
        "        # edge index tensors (with respect to each message type).\n",
        "\n",
        "        x = node_feature\n",
        "\n",
        "        ############# Your code here #############\n",
        "        ## (~7 lines of code)\n",
        "        ## Note:\n",
        "        ## 1. `deepsnap.hetero_gnn.forward_op` can be helpful for\n",
        "        ##    the bn, relu, and post_mp ops.\n",
        "        x = self.convs1(x, edge_index)\n",
        "        x = forward_op(x, self.bns1)\n",
        "        x = forward_op(x, self.relus1)\n",
        "\n",
        "        x = self.convs2(x, edge_index)\n",
        "        x = forward_op(x, self.bns2)\n",
        "        x = forward_op(x, self.relus2)\n",
        "\n",
        "        x = forward_op(x, self.post_mps)\n",
        "        ##########################################\n",
        "        \n",
        "        return x\n",
        "\n",
        "    def loss(self, preds, y, indices):\n",
        "        \n",
        "        loss = 0\n",
        "        loss_func = F.cross_entropy\n",
        "\n",
        "        ############# Your code here #############\n",
        "        ## (~3 lines of code)\n",
        "        ## Note:\n",
        "        ## 1. For each node type in preds, accumulate computed loss to `loss`\n",
        "        ## 2. Loss need to be computed with respect to the given index\n",
        "        ## 3. preds is a dictionary of model predictions keyed by node_type.\n",
        "        ## 4. indeces is a dictionary of labeled supervision nodes keyed\n",
        "        ##    by node_type\n",
        "        for node_type in preds:\n",
        "            idx = indices[node_type]\n",
        "            pred = preds[node_type][idx]\n",
        "            loss += loss_func(pred, y[node_type][idx])\n",
        "        ##########################################\n",
        "\n",
        "        return loss"
      ]
    },
    {
      "cell_type": "markdown",
      "metadata": {
        "id": "o9e7q_hUJ8zB"
      },
      "source": [
        "## Training and Testing\n",
        "\n",
        "Here we provide you with the functions to train and test. You only need to implement one line of code here.\n",
        "\n",
        "**Please do not modify other parts in `train` and `test` for grading purposes.**"
      ]
    },
    {
      "cell_type": "code",
      "execution_count": null,
      "metadata": {
        "id": "CI5Hl_5TJ_YL"
      },
      "outputs": [],
      "source": [
        "import pandas as pd\n",
        "\n",
        "def train(model, optimizer, hetero_graph, train_idx):\n",
        "    model.train()\n",
        "    optimizer.zero_grad()\n",
        "    preds = model(hetero_graph.node_feature, hetero_graph.edge_index)\n",
        "\n",
        "    loss = None\n",
        "\n",
        "    ############# Your code here #############\n",
        "    ## Note:\n",
        "    ## 1. Compute the loss here\n",
        "    ## 2. `deepsnap.hetero_graph.HeteroGraph.node_label` is useful\n",
        "    loss = model.loss(preds, hetero_graph.node_label, train_idx)\n",
        "    ##########################################\n",
        "\n",
        "    loss.backward()\n",
        "    optimizer.step()\n",
        "    return loss.item()\n",
        "\n",
        "def test(model, graph, indices, best_model=None, best_val=0, save_preds=False, agg_type=None):\n",
        "    model.eval()\n",
        "    accs = []\n",
        "    for i, index in enumerate(indices):\n",
        "        preds = model(graph.node_feature, graph.edge_index)\n",
        "        num_node_types = 0\n",
        "        micro = 0\n",
        "        macro = 0\n",
        "        for node_type in preds:\n",
        "            idx = index[node_type]\n",
        "            pred = preds[node_type][idx]\n",
        "            pred = pred.max(1)[1]\n",
        "            label_np = graph.node_label[node_type][idx].cpu().numpy()\n",
        "            pred_np = pred.cpu().numpy()\n",
        "            micro = f1_score(label_np, pred_np, average='micro')\n",
        "            macro = f1_score(label_np, pred_np, average='macro')\n",
        "            num_node_types += 1\n",
        "                  \n",
        "        # Averaging f1 score might not make sense, but in our example we only\n",
        "        # have one node type\n",
        "        micro /= num_node_types\n",
        "        macro /= num_node_types\n",
        "        accs.append((micro, macro))\n",
        "\n",
        "        # Only save the test set predictions and labels!\n",
        "        if save_preds and i == 2:\n",
        "          print (\"Saving Heterogeneous Node Prediction Model Predictions with Agg:\", agg_type)\n",
        "          print()\n",
        "\n",
        "          data = {}\n",
        "          data['pred'] = pred_np\n",
        "          data['label'] = label_np\n",
        "\n",
        "          df = pd.DataFrame(data=data)\n",
        "          # Save locally as csv\n",
        "          df.to_csv('ACM-Node-' + agg_type + 'Agg.csv', sep=',', index=False)\n",
        "\n",
        "    if accs[1][0] > best_val:\n",
        "        best_val = accs[1][0]\n",
        "        best_model = copy.deepcopy(model)\n",
        "    return accs, best_model, best_val"
      ]
    },
    {
      "cell_type": "code",
      "execution_count": null,
      "metadata": {
        "id": "DpNz9B5AKBUU"
      },
      "outputs": [],
      "source": [
        "# Please do not change the following parameters\n",
        "args = {\n",
        "    'device': torch.device('cuda' if torch.cuda.is_available() else 'cpu'),\n",
        "    'hidden_size': 64,\n",
        "    'epochs': 100,\n",
        "    'weight_decay': 1e-5,\n",
        "    'lr': 0.003,\n",
        "    'attn_size': 32,\n",
        "}"
      ]
    },
    {
      "cell_type": "code",
      "execution_count": null,
      "metadata": {
        "id": "x7POWyQqmAtH"
      },
      "outputs": [],
      "source": [
        "def set_seed(seed=224):\n",
        "\n",
        "    random.seed(seed)\n",
        "    np.random.seed(seed)\n",
        "    torch.manual_seed(seed)\n",
        "    torch.backends.cudnn.benchmark = False"
      ]
    },
    {
      "cell_type": "markdown",
      "metadata": {
        "id": "pRHbWD4hKED8"
      },
      "source": [
        "## Dataset and Preprocessing\n",
        "\n",
        "Before testing out your model, you need to load the data and create a tensor backend (without a NetworkX graph) `deepsnap.hetero_graph.HeteroGraph` object.\n",
        "\n",
        "You will use the `ACM(3025)` dataset to test your model on a node property prediction task, which is proposed in **HAN** ([Wang et al. (2019)](https://arxiv.org/abs/1903.07293)) and extracted from [DGL](https://www.dgl.ai/)'s [ACM.mat](https://data.dgl.ai/dataset/ACM.mat).\n",
        "\n",
        "The original ACM dataset has three node types and two edge (relation) types. For simplicity, we simplify the heterogeneous graph to one node type and two edge types (shown below). This means that in you heterogeneous graph, we have one node type (paper) and two message types (paper, author, paper) and (paper, subject, paper).\n",
        "\n",
        "<br/>\n",
        "<center>\n",
        "<img src=\"http://web.stanford.edu/class/cs224w/images/colab4/cs224w-acm.png\"/>\n",
        "</center>"
      ]
    },
    {
      "cell_type": "code",
      "execution_count": null,
      "metadata": {
        "id": "lJy03_IsKGh6",
        "colab": {
          "base_uri": "https://localhost:8080/"
        },
        "outputId": "95e438e8-6f2e-4638-8897-4d51ecf54e37"
      },
      "outputs": [
        {
          "output_type": "stream",
          "name": "stdout",
          "text": [
            "Device: cuda\n",
            "ACM heterogeneous graph: {'paper': 3025} nodes, {('paper', 'author', 'paper'): 26256, ('paper', 'subject', 'paper'): 2207736} edges\n",
            "SparseTensor(row=tensor([   0,    0,    0,  ..., 3024, 3024, 3024], device='cuda:0'),\n",
            "             col=tensor([   8,   20,   51,  ..., 2948, 2983, 2991], device='cuda:0'),\n",
            "             size=(3025, 3025), nnz=26256, density=0.29%)\n",
            "SparseTensor(row=tensor([   0,    0,    0,  ..., 3024, 3024, 3024], device='cuda:0'),\n",
            "             col=tensor([  75,  434,  534,  ..., 3020, 3021, 3022], device='cuda:0'),\n",
            "             size=(3025, 3025), nnz=2207736, density=24.13%)\n"
          ]
        }
      ],
      "source": [
        "if 'IS_GRADESCOPE_ENV' not in os.environ:\n",
        "  print(\"Device: {}\".format(args['device']))\n",
        "\n",
        "  set_seed()\n",
        "\n",
        "  # Load the data\n",
        "  data = torch.load(\"acm.pkl\")\n",
        "\n",
        "  # Message types\n",
        "  message_type_1 = (\"paper\", \"author\", \"paper\")\n",
        "  message_type_2 = (\"paper\", \"subject\", \"paper\")\n",
        "\n",
        "  # Dictionary of edge indices\n",
        "  edge_index = {}\n",
        "  edge_index[message_type_1] = data['pap']\n",
        "  edge_index[message_type_2] = data['psp']\n",
        "\n",
        "  # Dictionary of node features\n",
        "  node_feature = {}\n",
        "  node_feature[\"paper\"] = data['feature']\n",
        "\n",
        "  # Dictionary of node labels\n",
        "  node_label = {}\n",
        "  node_label[\"paper\"] = data['label']\n",
        "\n",
        "  # Load the train, validation and test indices\n",
        "  train_idx = {\"paper\": data['train_idx'].to(args['device'])}\n",
        "  val_idx = {\"paper\": data['val_idx'].to(args['device'])}\n",
        "  test_idx = {\"paper\": data['test_idx'].to(args['device'])}\n",
        "\n",
        "  # Construct a deepsnap tensor backend HeteroGraph\n",
        "  hetero_graph = HeteroGraph(\n",
        "      node_feature=node_feature,\n",
        "      node_label=node_label,\n",
        "      edge_index=edge_index,\n",
        "      directed=True\n",
        "  )\n",
        "\n",
        "  print(f\"ACM heterogeneous graph: {hetero_graph.num_nodes()} nodes, {hetero_graph.num_edges()} edges\")\n",
        "\n",
        "  # Node feature and node label to device\n",
        "  for key in hetero_graph.node_feature:\n",
        "      hetero_graph.node_feature[key] = hetero_graph.node_feature[key].to(args['device'])\n",
        "  for key in hetero_graph.node_label:\n",
        "      hetero_graph.node_label[key] = hetero_graph.node_label[key].to(args['device'])\n",
        "\n",
        "  # Edge_index to sparse tensor and to device\n",
        "  for key in hetero_graph.edge_index:\n",
        "      edge_index = hetero_graph.edge_index[key]\n",
        "      adj = SparseTensor(row=edge_index[0], col=edge_index[1], sparse_sizes=(hetero_graph.num_nodes('paper'), hetero_graph.num_nodes('paper')))\n",
        "      hetero_graph.edge_index[key] = adj.t().to(args['device'])\n",
        "  print(hetero_graph.edge_index[message_type_1])\n",
        "  print(hetero_graph.edge_index[message_type_2])"
      ]
    },
    {
      "cell_type": "markdown",
      "metadata": {
        "id": "hrmU5-QQKJv6"
      },
      "source": [
        "## Start Training!\n",
        "\n",
        "Now let's start training!"
      ]
    },
    {
      "cell_type": "markdown",
      "metadata": {
        "id": "y0HplV9hKMkc"
      },
      "source": [
        "## Training the Mean Aggregation"
      ]
    },
    {
      "cell_type": "code",
      "execution_count": null,
      "metadata": {
        "id": "ZgwfyzLbKOUw",
        "colab": {
          "base_uri": "https://localhost:8080/"
        },
        "outputId": "6ea4995f-2005-426b-82b7-829888ab94e3"
      },
      "outputs": [
        {
          "output_type": "stream",
          "name": "stdout",
          "text": [
            "Epoch 1: loss 1.10178, train micro 33.33%, train macro 16.67%, valid micro 33.33%, valid macro 16.67%, test micro 32.89%, test macro 16.5%\n",
            "Epoch 2: loss 1.09279, train micro 33.33%, train macro 16.67%, valid micro 33.33%, valid macro 16.67%, test micro 32.89%, test macro 16.5%\n",
            "Epoch 3: loss 1.06362, train micro 85.33%, train macro 85.61%, valid micro 77.33%, valid macro 77.21%, test micro 63.34%, test macro 62.19%\n",
            "Epoch 4: loss 1.00446, train micro 79.17%, train macro 77.13%, valid micro 76.33%, valid macro 73.73%, test micro 64.28%, test macro 58.73%\n",
            "Epoch 5: loss 0.90438, train micro 73.33%, train macro 68.16%, valid micro 70.33%, valid macro 63.67%, test micro 66.21%, test macro 56.95%\n",
            "Epoch 6: loss 0.76363, train micro 70.5%, train macro 63.09%, valid micro 67.67%, valid macro 58.37%, test micro 65.84%, test macro 55.33%\n",
            "Epoch 7: loss 0.60617, train micro 70.17%, train macro 62.44%, valid micro 67.33%, valid macro 57.23%, test micro 65.74%, test macro 54.94%\n",
            "Epoch 8: loss 0.46308, train micro 71.0%, train macro 63.97%, valid micro 68.0%, valid macro 58.7%, test micro 65.84%, test macro 54.98%\n",
            "Epoch 9: loss 0.34652, train micro 72.17%, train macro 66.01%, valid micro 68.33%, valid macro 59.38%, test micro 66.07%, test macro 55.34%\n",
            "Epoch 10: loss 0.25776, train micro 75.0%, train macro 70.58%, valid micro 69.67%, valid macro 61.98%, test micro 66.35%, test macro 55.83%\n",
            "Epoch 11: loss 0.19302, train micro 78.5%, train macro 75.77%, valid micro 73.67%, valid macro 68.94%, test micro 66.73%, test macro 56.73%\n",
            "Epoch 12: loss 0.14536, train micro 85.17%, train macro 84.13%, valid micro 81.67%, valid macro 79.98%, test micro 68.14%, test macro 59.61%\n",
            "Epoch 13: loss 0.10947, train micro 92.17%, train macro 91.94%, valid micro 87.33%, valid macro 86.7%, test micro 70.45%, test macro 63.85%\n",
            "Epoch 14: loss 0.08203, train micro 95.17%, train macro 95.1%, valid micro 89.67%, valid macro 89.23%, test micro 72.94%, test macro 67.97%\n",
            "Epoch 15: loss 0.06161, train micro 96.67%, train macro 96.64%, valid micro 91.33%, valid macro 91.07%, test micro 75.11%, test macro 71.51%\n",
            "Epoch 16: loss 0.04706, train micro 97.83%, train macro 97.83%, valid micro 92.0%, valid macro 91.81%, test micro 76.89%, test macro 74.2%\n",
            "Epoch 17: loss 0.03685, train micro 98.5%, train macro 98.5%, valid micro 93.67%, valid macro 93.58%, test micro 78.54%, test macro 76.57%\n",
            "Epoch 18: loss 0.02965, train micro 99.0%, train macro 99.0%, valid micro 95.0%, valid macro 94.97%, test micro 79.53%, test macro 77.96%\n",
            "Epoch 19: loss 0.02425, train micro 99.33%, train macro 99.33%, valid micro 95.33%, valid macro 95.35%, test micro 80.05%, test macro 78.71%\n",
            "Epoch 20: loss 0.02029, train micro 99.33%, train macro 99.33%, valid micro 95.33%, valid macro 95.35%, test micro 80.28%, test macro 79.07%\n",
            "Epoch 21: loss 0.01727, train micro 99.67%, train macro 99.67%, valid micro 95.33%, valid macro 95.35%, test micro 80.89%, test macro 79.8%\n",
            "Epoch 22: loss 0.01489, train micro 100.0%, train macro 100.0%, valid micro 95.33%, valid macro 95.35%, test micro 81.32%, test macro 80.24%\n",
            "Epoch 23: loss 0.01297, train micro 100.0%, train macro 100.0%, valid micro 95.33%, valid macro 95.35%, test micro 81.22%, test macro 80.17%\n",
            "Epoch 24: loss 0.01136, train micro 100.0%, train macro 100.0%, valid micro 95.33%, valid macro 95.35%, test micro 81.6%, test macro 80.55%\n",
            "Epoch 25: loss 0.00984, train micro 100.0%, train macro 100.0%, valid micro 96.33%, valid macro 96.34%, test micro 82.12%, test macro 81.13%\n",
            "Epoch 26: loss 0.00845, train micro 100.0%, train macro 100.0%, valid micro 96.67%, valid macro 96.67%, test micro 82.35%, test macro 81.38%\n",
            "Epoch 27: loss 0.00728, train micro 100.0%, train macro 100.0%, valid micro 96.67%, valid macro 96.66%, test micro 82.73%, test macro 81.8%\n",
            "Epoch 28: loss 0.00631, train micro 100.0%, train macro 100.0%, valid micro 97.0%, valid macro 96.99%, test micro 83.39%, test macro 82.57%\n",
            "Epoch 29: loss 0.00558, train micro 100.0%, train macro 100.0%, valid micro 97.33%, valid macro 97.33%, test micro 83.53%, test macro 82.74%\n",
            "Epoch 30: loss 0.005, train micro 100.0%, train macro 100.0%, valid micro 97.67%, valid macro 97.66%, test micro 83.72%, test macro 82.96%\n",
            "Epoch 31: loss 0.00445, train micro 100.0%, train macro 100.0%, valid micro 97.33%, valid macro 97.32%, test micro 83.67%, test macro 82.93%\n",
            "Epoch 32: loss 0.00382, train micro 100.0%, train macro 100.0%, valid micro 97.33%, valid macro 97.32%, test micro 83.76%, test macro 83.05%\n",
            "Epoch 33: loss 0.00319, train micro 100.0%, train macro 100.0%, valid micro 98.0%, valid macro 97.99%, test micro 83.86%, test macro 83.18%\n",
            "Epoch 34: loss 0.00264, train micro 100.0%, train macro 100.0%, valid micro 98.67%, valid macro 98.66%, test micro 83.76%, test macro 83.15%\n",
            "Epoch 35: loss 0.00219, train micro 100.0%, train macro 100.0%, valid micro 98.33%, valid macro 98.33%, test micro 83.91%, test macro 83.31%\n",
            "Epoch 36: loss 0.00183, train micro 100.0%, train macro 100.0%, valid micro 98.33%, valid macro 98.34%, test micro 83.72%, test macro 83.12%\n",
            "Epoch 37: loss 0.00155, train micro 100.0%, train macro 100.0%, valid micro 98.33%, valid macro 98.34%, test micro 83.81%, test macro 83.23%\n",
            "Epoch 38: loss 0.00134, train micro 100.0%, train macro 100.0%, valid micro 98.33%, valid macro 98.34%, test micro 83.91%, test macro 83.35%\n",
            "Epoch 39: loss 0.00117, train micro 100.0%, train macro 100.0%, valid micro 98.0%, valid macro 98.0%, test micro 83.76%, test macro 83.21%\n",
            "Epoch 40: loss 0.00105, train micro 100.0%, train macro 100.0%, valid micro 98.0%, valid macro 98.0%, test micro 83.62%, test macro 83.09%\n",
            "Epoch 41: loss 0.00095, train micro 100.0%, train macro 100.0%, valid micro 98.0%, valid macro 98.0%, test micro 83.53%, test macro 83.01%\n",
            "Epoch 42: loss 0.00087, train micro 100.0%, train macro 100.0%, valid micro 97.67%, valid macro 97.67%, test micro 83.53%, test macro 83.02%\n",
            "Epoch 43: loss 0.00081, train micro 100.0%, train macro 100.0%, valid micro 97.67%, valid macro 97.67%, test micro 83.53%, test macro 83.03%\n",
            "Epoch 44: loss 0.00076, train micro 100.0%, train macro 100.0%, valid micro 98.0%, valid macro 98.0%, test micro 83.48%, test macro 83.01%\n",
            "Epoch 45: loss 0.00072, train micro 100.0%, train macro 100.0%, valid micro 97.67%, valid macro 97.66%, test micro 83.44%, test macro 82.97%\n",
            "Epoch 46: loss 0.00068, train micro 100.0%, train macro 100.0%, valid micro 97.67%, valid macro 97.66%, test micro 83.48%, test macro 83.03%\n",
            "Epoch 47: loss 0.00065, train micro 100.0%, train macro 100.0%, valid micro 97.67%, valid macro 97.66%, test micro 83.67%, test macro 83.27%\n",
            "Epoch 48: loss 0.00062, train micro 100.0%, train macro 100.0%, valid micro 97.67%, valid macro 97.66%, test micro 83.76%, test macro 83.37%\n",
            "Epoch 49: loss 0.00059, train micro 100.0%, train macro 100.0%, valid micro 97.67%, valid macro 97.66%, test micro 83.62%, test macro 83.24%\n",
            "Epoch 50: loss 0.00057, train micro 100.0%, train macro 100.0%, valid micro 97.67%, valid macro 97.66%, test micro 83.58%, test macro 83.22%\n",
            "Epoch 51: loss 0.00055, train micro 100.0%, train macro 100.0%, valid micro 97.33%, valid macro 97.33%, test micro 83.58%, test macro 83.25%\n",
            "Epoch 52: loss 0.00053, train micro 100.0%, train macro 100.0%, valid micro 97.33%, valid macro 97.33%, test micro 83.62%, test macro 83.31%\n",
            "Epoch 53: loss 0.00051, train micro 100.0%, train macro 100.0%, valid micro 97.33%, valid macro 97.33%, test micro 83.72%, test macro 83.43%\n",
            "Epoch 54: loss 0.0005, train micro 100.0%, train macro 100.0%, valid micro 97.33%, valid macro 97.33%, test micro 83.76%, test macro 83.51%\n",
            "Epoch 55: loss 0.00048, train micro 100.0%, train macro 100.0%, valid micro 97.33%, valid macro 97.33%, test micro 83.76%, test macro 83.51%\n",
            "Epoch 56: loss 0.00047, train micro 100.0%, train macro 100.0%, valid micro 97.33%, valid macro 97.33%, test micro 83.72%, test macro 83.47%\n",
            "Epoch 57: loss 0.00046, train micro 100.0%, train macro 100.0%, valid micro 97.33%, valid macro 97.33%, test micro 83.62%, test macro 83.39%\n",
            "Epoch 58: loss 0.00044, train micro 100.0%, train macro 100.0%, valid micro 97.33%, valid macro 97.33%, test micro 83.67%, test macro 83.45%\n",
            "Epoch 59: loss 0.00043, train micro 100.0%, train macro 100.0%, valid micro 97.33%, valid macro 97.33%, test micro 83.48%, test macro 83.28%\n",
            "Epoch 60: loss 0.00042, train micro 100.0%, train macro 100.0%, valid micro 97.33%, valid macro 97.33%, test micro 83.39%, test macro 83.18%\n",
            "Epoch 61: loss 0.00041, train micro 100.0%, train macro 100.0%, valid micro 97.0%, valid macro 96.99%, test micro 83.34%, test macro 83.14%\n",
            "Epoch 62: loss 0.00041, train micro 100.0%, train macro 100.0%, valid micro 97.0%, valid macro 96.99%, test micro 83.11%, test macro 82.92%\n",
            "Epoch 63: loss 0.0004, train micro 100.0%, train macro 100.0%, valid micro 96.67%, valid macro 96.65%, test micro 83.06%, test macro 82.88%\n",
            "Epoch 64: loss 0.00039, train micro 100.0%, train macro 100.0%, valid micro 97.0%, valid macro 96.98%, test micro 83.06%, test macro 82.89%\n",
            "Epoch 65: loss 0.00038, train micro 100.0%, train macro 100.0%, valid micro 97.0%, valid macro 96.98%, test micro 82.96%, test macro 82.8%\n",
            "Epoch 66: loss 0.00038, train micro 100.0%, train macro 100.0%, valid micro 97.0%, valid macro 96.98%, test micro 82.96%, test macro 82.8%\n",
            "Epoch 67: loss 0.00037, train micro 100.0%, train macro 100.0%, valid micro 97.0%, valid macro 96.98%, test micro 82.92%, test macro 82.76%\n",
            "Epoch 68: loss 0.00036, train micro 100.0%, train macro 100.0%, valid micro 97.0%, valid macro 96.98%, test micro 82.87%, test macro 82.71%\n",
            "Epoch 69: loss 0.00036, train micro 100.0%, train macro 100.0%, valid micro 97.0%, valid macro 96.98%, test micro 82.87%, test macro 82.71%\n",
            "Epoch 70: loss 0.00035, train micro 100.0%, train macro 100.0%, valid micro 97.0%, valid macro 96.98%, test micro 82.92%, test macro 82.76%\n",
            "Epoch 71: loss 0.00035, train micro 100.0%, train macro 100.0%, valid micro 97.0%, valid macro 96.98%, test micro 83.01%, test macro 82.87%\n",
            "Epoch 72: loss 0.00034, train micro 100.0%, train macro 100.0%, valid micro 97.0%, valid macro 96.98%, test micro 83.06%, test macro 82.91%\n",
            "Epoch 73: loss 0.00034, train micro 100.0%, train macro 100.0%, valid micro 97.0%, valid macro 96.98%, test micro 83.11%, test macro 82.96%\n",
            "Epoch 74: loss 0.00033, train micro 100.0%, train macro 100.0%, valid micro 97.0%, valid macro 96.98%, test micro 83.11%, test macro 82.97%\n",
            "Epoch 75: loss 0.00033, train micro 100.0%, train macro 100.0%, valid micro 97.0%, valid macro 96.98%, test micro 83.11%, test macro 82.97%\n",
            "Epoch 76: loss 0.00032, train micro 100.0%, train macro 100.0%, valid micro 96.67%, valid macro 96.64%, test micro 83.15%, test macro 83.02%\n",
            "Epoch 77: loss 0.00032, train micro 100.0%, train macro 100.0%, valid micro 96.67%, valid macro 96.64%, test micro 83.2%, test macro 83.08%\n",
            "Epoch 78: loss 0.00032, train micro 100.0%, train macro 100.0%, valid micro 96.67%, valid macro 96.64%, test micro 83.29%, test macro 83.18%\n",
            "Epoch 79: loss 0.00031, train micro 100.0%, train macro 100.0%, valid micro 96.67%, valid macro 96.64%, test micro 83.25%, test macro 83.13%\n",
            "Epoch 80: loss 0.00031, train micro 100.0%, train macro 100.0%, valid micro 96.67%, valid macro 96.64%, test micro 83.25%, test macro 83.13%\n",
            "Epoch 81: loss 0.0003, train micro 100.0%, train macro 100.0%, valid micro 96.67%, valid macro 96.64%, test micro 83.25%, test macro 83.13%\n",
            "Epoch 82: loss 0.0003, train micro 100.0%, train macro 100.0%, valid micro 96.67%, valid macro 96.64%, test micro 83.15%, test macro 83.03%\n",
            "Epoch 83: loss 0.0003, train micro 100.0%, train macro 100.0%, valid micro 96.67%, valid macro 96.64%, test micro 83.15%, test macro 83.03%\n",
            "Epoch 84: loss 0.0003, train micro 100.0%, train macro 100.0%, valid micro 96.67%, valid macro 96.64%, test micro 83.15%, test macro 83.03%\n",
            "Epoch 85: loss 0.00029, train micro 100.0%, train macro 100.0%, valid micro 96.67%, valid macro 96.64%, test micro 83.15%, test macro 83.03%\n",
            "Epoch 86: loss 0.00029, train micro 100.0%, train macro 100.0%, valid micro 96.67%, valid macro 96.64%, test micro 83.15%, test macro 83.03%\n",
            "Epoch 87: loss 0.00029, train micro 100.0%, train macro 100.0%, valid micro 96.67%, valid macro 96.64%, test micro 83.15%, test macro 83.03%\n",
            "Epoch 88: loss 0.00028, train micro 100.0%, train macro 100.0%, valid micro 96.67%, valid macro 96.64%, test micro 83.15%, test macro 83.03%\n",
            "Epoch 89: loss 0.00028, train micro 100.0%, train macro 100.0%, valid micro 97.0%, valid macro 96.97%, test micro 83.15%, test macro 83.03%\n",
            "Epoch 90: loss 0.00028, train micro 100.0%, train macro 100.0%, valid micro 97.0%, valid macro 96.97%, test micro 83.2%, test macro 83.08%\n",
            "Epoch 91: loss 0.00028, train micro 100.0%, train macro 100.0%, valid micro 97.0%, valid macro 96.97%, test micro 83.2%, test macro 83.08%\n",
            "Epoch 92: loss 0.00027, train micro 100.0%, train macro 100.0%, valid micro 97.0%, valid macro 96.97%, test micro 83.15%, test macro 83.04%\n",
            "Epoch 93: loss 0.00027, train micro 100.0%, train macro 100.0%, valid micro 97.0%, valid macro 96.97%, test micro 83.15%, test macro 83.04%\n",
            "Epoch 94: loss 0.00027, train micro 100.0%, train macro 100.0%, valid micro 97.0%, valid macro 96.97%, test micro 83.11%, test macro 82.99%\n",
            "Epoch 95: loss 0.00027, train micro 100.0%, train macro 100.0%, valid micro 97.0%, valid macro 96.97%, test micro 83.11%, test macro 82.99%\n",
            "Epoch 96: loss 0.00026, train micro 100.0%, train macro 100.0%, valid micro 97.0%, valid macro 96.97%, test micro 83.11%, test macro 82.99%\n",
            "Epoch 97: loss 0.00026, train micro 100.0%, train macro 100.0%, valid micro 97.0%, valid macro 96.97%, test micro 83.11%, test macro 82.99%\n",
            "Epoch 98: loss 0.00026, train micro 100.0%, train macro 100.0%, valid micro 97.0%, valid macro 96.97%, test micro 83.01%, test macro 82.89%\n",
            "Epoch 99: loss 0.00026, train micro 100.0%, train macro 100.0%, valid micro 97.0%, valid macro 96.97%, test micro 83.01%, test macro 82.9%\n",
            "Epoch 100: loss 0.00026, train micro 100.0%, train macro 100.0%, valid micro 97.0%, valid macro 96.97%, test micro 83.01%, test macro 82.9%\n",
            "Saving Heterogeneous Node Prediction Model Predictions with Agg: Mean\n",
            "\n",
            "Best model: train micro 100.0%, train macro 100.0%, valid micro 98.67%, valid macro 98.66%, test micro 83.76%, test macro 83.15%\n"
          ]
        }
      ],
      "source": [
        "if 'IS_GRADESCOPE_ENV' not in os.environ:\n",
        "  best_model = None\n",
        "  best_val = 0\n",
        "\n",
        "  set_seed()\n",
        "\n",
        "  model = HeteroGNN(hetero_graph, args, aggr=\"mean\").to(args['device'])\n",
        "  optimizer = torch.optim.Adam(model.parameters(), lr=args['lr'], weight_decay=args['weight_decay'])\n",
        "\n",
        "  for epoch in range(args['epochs']):\n",
        "      loss = train(model, optimizer, hetero_graph, train_idx)\n",
        "      accs, best_model, best_val = test(model, hetero_graph, [train_idx, val_idx, test_idx], best_model, best_val)\n",
        "      print(\n",
        "          f\"Epoch {epoch + 1}: loss {round(loss, 5)}, \"\n",
        "          f\"train micro {round(accs[0][0] * 100, 2)}%, train macro {round(accs[0][1] * 100, 2)}%, \"\n",
        "          f\"valid micro {round(accs[1][0] * 100, 2)}%, valid macro {round(accs[1][1] * 100, 2)}%, \"\n",
        "          f\"test micro {round(accs[2][0] * 100, 2)}%, test macro {round(accs[2][1] * 100, 2)}%\"\n",
        "      )\n",
        "  best_accs, _, _ = test(best_model, hetero_graph, [train_idx, val_idx, test_idx], save_preds=True, agg_type=\"Mean\")\n",
        "  print(\n",
        "      f\"Best model: \"\n",
        "      f\"train micro {round(best_accs[0][0] * 100, 2)}%, train macro {round(best_accs[0][1] * 100, 2)}%, \"\n",
        "      f\"valid micro {round(best_accs[1][0] * 100, 2)}%, valid macro {round(best_accs[1][1] * 100, 2)}%, \"\n",
        "      f\"test micro {round(best_accs[2][0] * 100, 2)}%, test macro {round(best_accs[2][1] * 100, 2)}%\"\n",
        "  )"
      ]
    },
    {
      "cell_type": "markdown",
      "metadata": {
        "id": "rtkKBI_nKS1T"
      },
      "source": [
        "## Question 2.1: What is your maximum test set **micro** F1 score for the best_model when using mean aggregation? (10 points)\n"
      ]
    },
    {
      "cell_type": "markdown",
      "metadata": {
        "id": "AIvw51jMKTvn"
      },
      "source": [
        "## Question 2.2: What is your maximum test set **macro** F1 score for the best_model when using the mean aggregation? (10 points)\n"
      ]
    },
    {
      "cell_type": "markdown",
      "metadata": {
        "id": "JBiYvwcuKd0z"
      },
      "source": [
        "## Training the Attention Aggregation"
      ]
    },
    {
      "cell_type": "code",
      "execution_count": null,
      "metadata": {
        "id": "e6na5zyQKfvi",
        "colab": {
          "base_uri": "https://localhost:8080/"
        },
        "outputId": "bf37138c-9056-4b29-f572-b8350d4744b7"
      },
      "outputs": [
        {
          "output_type": "stream",
          "name": "stdout",
          "text": [
            "Epoch 1: loss 1.09868, train micro 33.33%, train macro 16.67%, valid micro 33.33%, valid macro 16.67%, test micro 35.81%, test macro 17.58%\n",
            "Epoch 2: loss 1.09268, train micro 35.5%, train macro 21.01%, valid micro 33.33%, valid macro 16.67%, test micro 35.95%, test macro 17.9%\n",
            "Epoch 3: loss 1.07108, train micro 65.33%, train macro 54.49%, valid micro 64.0%, valid macro 53.59%, test micro 63.11%, test macro 52.99%\n",
            "Epoch 4: loss 1.02669, train micro 66.33%, train macro 55.37%, valid micro 66.33%, valid macro 55.31%, test micro 65.18%, test macro 54.42%\n",
            "Epoch 5: loss 0.94732, train micro 67.17%, train macro 56.73%, valid micro 66.33%, valid macro 55.22%, test micro 65.27%, test macro 54.41%\n",
            "Epoch 6: loss 0.82329, train micro 67.67%, train macro 57.74%, valid micro 66.67%, valid macro 55.96%, test micro 65.46%, test macro 54.6%\n",
            "Epoch 7: loss 0.65743, train micro 69.67%, train macro 61.69%, valid micro 67.0%, valid macro 56.68%, test micro 65.51%, test macro 54.58%\n",
            "Epoch 8: loss 0.47643, train micro 71.5%, train macro 65.02%, valid micro 67.33%, valid macro 57.77%, test micro 65.65%, test macro 54.77%\n",
            "Epoch 9: loss 0.32224, train micro 74.83%, train macro 70.42%, valid micro 68.67%, valid macro 60.37%, test micro 65.69%, test macro 54.87%\n",
            "Epoch 10: loss 0.21653, train micro 79.17%, train macro 76.67%, valid micro 72.67%, valid macro 67.53%, test micro 66.64%, test macro 56.8%\n",
            "Epoch 11: loss 0.1502, train micro 87.0%, train macro 86.29%, valid micro 78.67%, valid macro 76.48%, test micro 68.05%, test macro 59.56%\n",
            "Epoch 12: loss 0.10677, train micro 93.5%, train macro 93.35%, valid micro 86.33%, valid macro 85.83%, test micro 70.59%, test macro 64.08%\n",
            "Epoch 13: loss 0.07589, train micro 96.5%, train macro 96.47%, valid micro 90.0%, valid macro 89.76%, test micro 73.6%, test macro 69.12%\n",
            "Epoch 14: loss 0.05453, train micro 98.0%, train macro 97.99%, valid micro 91.67%, valid macro 91.47%, test micro 76.52%, test macro 73.48%\n",
            "Epoch 15: loss 0.04034, train micro 99.0%, train macro 99.0%, valid micro 92.67%, valid macro 92.52%, test micro 79.2%, test macro 77.23%\n",
            "Epoch 16: loss 0.03112, train micro 99.17%, train macro 99.17%, valid micro 95.0%, valid macro 94.95%, test micro 81.65%, test macro 80.35%\n",
            "Epoch 17: loss 0.02474, train micro 99.33%, train macro 99.33%, valid micro 96.33%, valid macro 96.31%, test micro 82.64%, test macro 81.62%\n",
            "Epoch 18: loss 0.02023, train micro 99.5%, train macro 99.5%, valid micro 96.0%, valid macro 95.99%, test micro 83.44%, test macro 82.62%\n",
            "Epoch 19: loss 0.01708, train micro 99.83%, train macro 99.83%, valid micro 96.0%, valid macro 95.99%, test micro 83.39%, test macro 82.66%\n",
            "Epoch 20: loss 0.0147, train micro 100.0%, train macro 100.0%, valid micro 96.0%, valid macro 95.99%, test micro 83.72%, test macro 83.08%\n",
            "Epoch 21: loss 0.01273, train micro 100.0%, train macro 100.0%, valid micro 96.33%, valid macro 96.33%, test micro 83.91%, test macro 83.26%\n",
            "Epoch 22: loss 0.01101, train micro 100.0%, train macro 100.0%, valid micro 97.0%, valid macro 96.99%, test micro 84.09%, test macro 83.46%\n",
            "Epoch 23: loss 0.00951, train micro 100.0%, train macro 100.0%, valid micro 97.0%, valid macro 96.99%, test micro 84.14%, test macro 83.5%\n",
            "Epoch 24: loss 0.00823, train micro 100.0%, train macro 100.0%, valid micro 97.33%, valid macro 97.33%, test micro 84.38%, test macro 83.75%\n",
            "Epoch 25: loss 0.00716, train micro 100.0%, train macro 100.0%, valid micro 97.33%, valid macro 97.33%, test micro 84.33%, test macro 83.69%\n",
            "Epoch 26: loss 0.00626, train micro 100.0%, train macro 100.0%, valid micro 97.33%, valid macro 97.33%, test micro 84.14%, test macro 83.51%\n",
            "Epoch 27: loss 0.00552, train micro 100.0%, train macro 100.0%, valid micro 97.33%, valid macro 97.33%, test micro 84.05%, test macro 83.36%\n",
            "Epoch 28: loss 0.00493, train micro 100.0%, train macro 100.0%, valid micro 97.67%, valid macro 97.66%, test micro 83.95%, test macro 83.28%\n",
            "Epoch 29: loss 0.00437, train micro 100.0%, train macro 100.0%, valid micro 97.67%, valid macro 97.66%, test micro 83.86%, test macro 83.18%\n",
            "Epoch 30: loss 0.00383, train micro 100.0%, train macro 100.0%, valid micro 97.33%, valid macro 97.33%, test micro 83.81%, test macro 83.14%\n",
            "Epoch 31: loss 0.00334, train micro 100.0%, train macro 100.0%, valid micro 96.67%, valid macro 96.66%, test micro 83.76%, test macro 83.09%\n",
            "Epoch 32: loss 0.00289, train micro 100.0%, train macro 100.0%, valid micro 96.67%, valid macro 96.66%, test micro 83.62%, test macro 82.95%\n",
            "Epoch 33: loss 0.0025, train micro 100.0%, train macro 100.0%, valid micro 97.0%, valid macro 97.0%, test micro 83.53%, test macro 82.86%\n",
            "Epoch 34: loss 0.00217, train micro 100.0%, train macro 100.0%, valid micro 96.67%, valid macro 96.67%, test micro 83.58%, test macro 82.93%\n",
            "Epoch 35: loss 0.00189, train micro 100.0%, train macro 100.0%, valid micro 96.33%, valid macro 96.34%, test micro 83.48%, test macro 82.86%\n",
            "Epoch 36: loss 0.00166, train micro 100.0%, train macro 100.0%, valid micro 96.0%, valid macro 96.01%, test micro 83.39%, test macro 82.76%\n",
            "Epoch 37: loss 0.00146, train micro 100.0%, train macro 100.0%, valid micro 96.0%, valid macro 96.01%, test micro 83.48%, test macro 82.87%\n",
            "Epoch 38: loss 0.0013, train micro 100.0%, train macro 100.0%, valid micro 96.0%, valid macro 96.01%, test micro 83.48%, test macro 82.89%\n",
            "Epoch 39: loss 0.00117, train micro 100.0%, train macro 100.0%, valid micro 95.67%, valid macro 95.68%, test micro 83.58%, test macro 83.03%\n",
            "Epoch 40: loss 0.00107, train micro 100.0%, train macro 100.0%, valid micro 96.0%, valid macro 96.01%, test micro 83.39%, test macro 82.84%\n",
            "Epoch 41: loss 0.00098, train micro 100.0%, train macro 100.0%, valid micro 96.0%, valid macro 96.01%, test micro 83.44%, test macro 82.91%\n",
            "Epoch 42: loss 0.00091, train micro 100.0%, train macro 100.0%, valid micro 96.0%, valid macro 96.01%, test micro 83.39%, test macro 82.88%\n",
            "Epoch 43: loss 0.00085, train micro 100.0%, train macro 100.0%, valid micro 96.33%, valid macro 96.34%, test micro 83.48%, test macro 83.0%\n",
            "Epoch 44: loss 0.0008, train micro 100.0%, train macro 100.0%, valid micro 96.67%, valid macro 96.67%, test micro 83.58%, test macro 83.12%\n",
            "Epoch 45: loss 0.00075, train micro 100.0%, train macro 100.0%, valid micro 97.0%, valid macro 97.0%, test micro 83.53%, test macro 83.08%\n",
            "Epoch 46: loss 0.00071, train micro 100.0%, train macro 100.0%, valid micro 97.0%, valid macro 97.0%, test micro 83.62%, test macro 83.19%\n",
            "Epoch 47: loss 0.00068, train micro 100.0%, train macro 100.0%, valid micro 97.33%, valid macro 97.34%, test micro 83.58%, test macro 83.14%\n",
            "Epoch 48: loss 0.00065, train micro 100.0%, train macro 100.0%, valid micro 97.33%, valid macro 97.34%, test micro 83.53%, test macro 83.11%\n",
            "Epoch 49: loss 0.00062, train micro 100.0%, train macro 100.0%, valid micro 97.33%, valid macro 97.34%, test micro 83.34%, test macro 82.94%\n",
            "Epoch 50: loss 0.0006, train micro 100.0%, train macro 100.0%, valid micro 97.33%, valid macro 97.34%, test micro 83.48%, test macro 83.1%\n",
            "Epoch 51: loss 0.00058, train micro 100.0%, train macro 100.0%, valid micro 97.33%, valid macro 97.34%, test micro 83.53%, test macro 83.16%\n",
            "Epoch 52: loss 0.00056, train micro 100.0%, train macro 100.0%, valid micro 97.33%, valid macro 97.34%, test micro 83.44%, test macro 83.07%\n",
            "Epoch 53: loss 0.00054, train micro 100.0%, train macro 100.0%, valid micro 97.0%, valid macro 97.0%, test micro 83.34%, test macro 82.97%\n",
            "Epoch 54: loss 0.00053, train micro 100.0%, train macro 100.0%, valid micro 96.67%, valid macro 96.67%, test micro 83.29%, test macro 82.93%\n",
            "Epoch 55: loss 0.00051, train micro 100.0%, train macro 100.0%, valid micro 96.67%, valid macro 96.67%, test micro 83.39%, test macro 83.03%\n",
            "Epoch 56: loss 0.0005, train micro 100.0%, train macro 100.0%, valid micro 96.33%, valid macro 96.34%, test micro 83.39%, test macro 83.04%\n",
            "Epoch 57: loss 0.00048, train micro 100.0%, train macro 100.0%, valid micro 96.33%, valid macro 96.34%, test micro 83.39%, test macro 83.05%\n",
            "Epoch 58: loss 0.00047, train micro 100.0%, train macro 100.0%, valid micro 96.33%, valid macro 96.34%, test micro 83.44%, test macro 83.11%\n",
            "Epoch 59: loss 0.00046, train micro 100.0%, train macro 100.0%, valid micro 96.33%, valid macro 96.34%, test micro 83.25%, test macro 82.92%\n",
            "Epoch 60: loss 0.00045, train micro 100.0%, train macro 100.0%, valid micro 96.0%, valid macro 96.01%, test micro 83.25%, test macro 82.93%\n",
            "Epoch 61: loss 0.00044, train micro 100.0%, train macro 100.0%, valid micro 96.0%, valid macro 96.01%, test micro 83.25%, test macro 82.95%\n",
            "Epoch 62: loss 0.00043, train micro 100.0%, train macro 100.0%, valid micro 96.0%, valid macro 96.01%, test micro 83.25%, test macro 82.96%\n",
            "Epoch 63: loss 0.00042, train micro 100.0%, train macro 100.0%, valid micro 96.0%, valid macro 96.01%, test micro 82.92%, test macro 82.64%\n",
            "Epoch 64: loss 0.00042, train micro 100.0%, train macro 100.0%, valid micro 96.0%, valid macro 96.01%, test micro 82.92%, test macro 82.65%\n",
            "Epoch 65: loss 0.00041, train micro 100.0%, train macro 100.0%, valid micro 96.0%, valid macro 96.01%, test micro 82.87%, test macro 82.6%\n",
            "Epoch 66: loss 0.0004, train micro 100.0%, train macro 100.0%, valid micro 96.0%, valid macro 96.01%, test micro 82.87%, test macro 82.61%\n",
            "Epoch 67: loss 0.00039, train micro 100.0%, train macro 100.0%, valid micro 96.33%, valid macro 96.34%, test micro 82.96%, test macro 82.71%\n",
            "Epoch 68: loss 0.00039, train micro 100.0%, train macro 100.0%, valid micro 96.33%, valid macro 96.34%, test micro 83.11%, test macro 82.85%\n",
            "Epoch 69: loss 0.00038, train micro 100.0%, train macro 100.0%, valid micro 96.33%, valid macro 96.35%, test micro 83.01%, test macro 82.77%\n",
            "Epoch 70: loss 0.00038, train micro 100.0%, train macro 100.0%, valid micro 96.33%, valid macro 96.35%, test micro 83.01%, test macro 82.77%\n",
            "Epoch 71: loss 0.00037, train micro 100.0%, train macro 100.0%, valid micro 96.33%, valid macro 96.35%, test micro 82.96%, test macro 82.73%\n",
            "Epoch 72: loss 0.00037, train micro 100.0%, train macro 100.0%, valid micro 96.33%, valid macro 96.35%, test micro 83.01%, test macro 82.78%\n",
            "Epoch 73: loss 0.00036, train micro 100.0%, train macro 100.0%, valid micro 96.33%, valid macro 96.35%, test micro 83.06%, test macro 82.83%\n",
            "Epoch 74: loss 0.00036, train micro 100.0%, train macro 100.0%, valid micro 96.33%, valid macro 96.35%, test micro 82.92%, test macro 82.7%\n",
            "Epoch 75: loss 0.00035, train micro 100.0%, train macro 100.0%, valid micro 96.33%, valid macro 96.35%, test micro 82.87%, test macro 82.66%\n",
            "Epoch 76: loss 0.00035, train micro 100.0%, train macro 100.0%, valid micro 96.33%, valid macro 96.35%, test micro 83.01%, test macro 82.8%\n",
            "Epoch 77: loss 0.00034, train micro 100.0%, train macro 100.0%, valid micro 96.33%, valid macro 96.35%, test micro 83.06%, test macro 82.85%\n",
            "Epoch 78: loss 0.00034, train micro 100.0%, train macro 100.0%, valid micro 96.33%, valid macro 96.35%, test micro 83.06%, test macro 82.85%\n",
            "Epoch 79: loss 0.00034, train micro 100.0%, train macro 100.0%, valid micro 96.0%, valid macro 96.01%, test micro 83.06%, test macro 82.86%\n",
            "Epoch 80: loss 0.00033, train micro 100.0%, train macro 100.0%, valid micro 96.0%, valid macro 96.01%, test micro 83.06%, test macro 82.86%\n",
            "Epoch 81: loss 0.00033, train micro 100.0%, train macro 100.0%, valid micro 96.0%, valid macro 96.01%, test micro 83.01%, test macro 82.82%\n",
            "Epoch 82: loss 0.00032, train micro 100.0%, train macro 100.0%, valid micro 96.0%, valid macro 96.01%, test micro 83.01%, test macro 82.82%\n",
            "Epoch 83: loss 0.00032, train micro 100.0%, train macro 100.0%, valid micro 96.0%, valid macro 96.01%, test micro 83.06%, test macro 82.87%\n",
            "Epoch 84: loss 0.00032, train micro 100.0%, train macro 100.0%, valid micro 96.0%, valid macro 96.01%, test micro 83.06%, test macro 82.87%\n",
            "Epoch 85: loss 0.00031, train micro 100.0%, train macro 100.0%, valid micro 96.0%, valid macro 96.01%, test micro 83.06%, test macro 82.87%\n",
            "Epoch 86: loss 0.00031, train micro 100.0%, train macro 100.0%, valid micro 96.0%, valid macro 96.01%, test micro 83.01%, test macro 82.82%\n",
            "Epoch 87: loss 0.00031, train micro 100.0%, train macro 100.0%, valid micro 96.0%, valid macro 96.01%, test micro 82.92%, test macro 82.73%\n",
            "Epoch 88: loss 0.00031, train micro 100.0%, train macro 100.0%, valid micro 96.0%, valid macro 96.01%, test micro 82.96%, test macro 82.78%\n",
            "Epoch 89: loss 0.0003, train micro 100.0%, train macro 100.0%, valid micro 96.0%, valid macro 96.01%, test micro 83.01%, test macro 82.83%\n",
            "Epoch 90: loss 0.0003, train micro 100.0%, train macro 100.0%, valid micro 96.0%, valid macro 96.01%, test micro 83.01%, test macro 82.83%\n",
            "Epoch 91: loss 0.0003, train micro 100.0%, train macro 100.0%, valid micro 96.0%, valid macro 96.01%, test micro 83.01%, test macro 82.83%\n",
            "Epoch 92: loss 0.00029, train micro 100.0%, train macro 100.0%, valid micro 96.0%, valid macro 96.01%, test micro 82.96%, test macro 82.78%\n",
            "Epoch 93: loss 0.00029, train micro 100.0%, train macro 100.0%, valid micro 96.0%, valid macro 96.01%, test micro 82.87%, test macro 82.69%\n",
            "Epoch 94: loss 0.00029, train micro 100.0%, train macro 100.0%, valid micro 96.0%, valid macro 96.01%, test micro 82.82%, test macro 82.65%\n",
            "Epoch 95: loss 0.00029, train micro 100.0%, train macro 100.0%, valid micro 96.0%, valid macro 96.01%, test micro 82.78%, test macro 82.6%\n",
            "Epoch 96: loss 0.00028, train micro 100.0%, train macro 100.0%, valid micro 96.0%, valid macro 96.01%, test micro 82.68%, test macro 82.51%\n",
            "Epoch 97: loss 0.00028, train micro 100.0%, train macro 100.0%, valid micro 96.0%, valid macro 96.01%, test micro 82.68%, test macro 82.51%\n",
            "Epoch 98: loss 0.00028, train micro 100.0%, train macro 100.0%, valid micro 96.0%, valid macro 96.01%, test micro 82.59%, test macro 82.41%\n",
            "Epoch 99: loss 0.00028, train micro 100.0%, train macro 100.0%, valid micro 96.0%, valid macro 96.01%, test micro 82.64%, test macro 82.46%\n",
            "Epoch 100: loss 0.00028, train micro 100.0%, train macro 100.0%, valid micro 96.0%, valid macro 96.01%, test micro 82.64%, test macro 82.46%\n",
            "Saving Heterogeneous Node Prediction Model Predictions with Agg: Attention\n",
            "\n",
            "Best model: train micro 100.0%, train macro 100.0%, valid micro 97.67%, valid macro 97.66%, test micro 83.95%, test macro 83.28%\n"
          ]
        }
      ],
      "source": [
        "if 'IS_GRADESCOPE_ENV' not in os.environ:\n",
        "  best_model = None\n",
        "  best_val = 0\n",
        "\n",
        "  set_seed()\n",
        "\n",
        "  output_size = hetero_graph.num_node_labels('paper')\n",
        "  model = HeteroGNN(hetero_graph, args, aggr=\"attn\").to(args['device'])\n",
        "  optimizer = torch.optim.Adam(model.parameters(), lr=args['lr'], weight_decay=args['weight_decay'])\n",
        "\n",
        "  for epoch in range(args['epochs']):\n",
        "      loss = train(model, optimizer, hetero_graph, train_idx)\n",
        "      accs, best_model, best_val = test(model, hetero_graph, [train_idx, val_idx, test_idx], best_model, best_val)\n",
        "      print(\n",
        "          f\"Epoch {epoch + 1}: loss {round(loss, 5)}, \"\n",
        "          f\"train micro {round(accs[0][0] * 100, 2)}%, train macro {round(accs[0][1] * 100, 2)}%, \"\n",
        "          f\"valid micro {round(accs[1][0] * 100, 2)}%, valid macro {round(accs[1][1] * 100, 2)}%, \"\n",
        "          f\"test micro {round(accs[2][0] * 100, 2)}%, test macro {round(accs[2][1] * 100, 2)}%\"\n",
        "      )\n",
        "  best_accs, _, _ = test(best_model, hetero_graph, [train_idx, val_idx, test_idx], save_preds=True, agg_type=\"Attention\")\n",
        "  print(\n",
        "      f\"Best model: \"\n",
        "      f\"train micro {round(best_accs[0][0] * 100, 2)}%, train macro {round(best_accs[0][1] * 100, 2)}%, \"\n",
        "      f\"valid micro {round(best_accs[1][0] * 100, 2)}%, valid macro {round(best_accs[1][1] * 100, 2)}%, \"\n",
        "      f\"test micro {round(best_accs[2][0] * 100, 2)}%, test macro {round(best_accs[2][1] * 100, 2)}%\"\n",
        "  )"
      ]
    },
    {
      "cell_type": "markdown",
      "metadata": {
        "id": "mtAhFLQQKgbl"
      },
      "source": [
        "## Question 2.3: What is your maximum test set **micro** F1 score for the best_model when using the attention aggregation? (10 points)\n"
      ]
    },
    {
      "cell_type": "markdown",
      "metadata": {
        "id": "_cnsMGbsqJG_"
      },
      "source": [
        "## Question 2.4: What is your maximum test set **macro** F1 score for the best_model when using the attention aggregation? (10 points)\n"
      ]
    },
    {
      "cell_type": "markdown",
      "metadata": {
        "id": "aQgx5y4UqMHH"
      },
      "source": [
        "## Attention for each Message Type\n",
        "\n",
        "Through message type level attention, you can learn which message type is more important to which layer.\n",
        "\n",
        "Here you can see how each layer pays different attention to each message type."
      ]
    },
    {
      "cell_type": "code",
      "execution_count": null,
      "metadata": {
        "id": "hvK58gijqN_C",
        "colab": {
          "base_uri": "https://localhost:8080/"
        },
        "outputId": "f9c8d7ee-4e77-4b5e-8b5d-a4afb00ad49e"
      },
      "outputs": [
        {
          "output_type": "stream",
          "name": "stdout",
          "text": [
            "Layer 1 has attention 0.5207533836364746 on message type ('paper', 'author', 'paper')\n",
            "Layer 1 has attention 0.4792466461658478 on message type ('paper', 'subject', 'paper')\n",
            "Layer 2 has attention 0.5186545848846436 on message type ('paper', 'author', 'paper')\n",
            "Layer 2 has attention 0.48134541511535645 on message type ('paper', 'subject', 'paper')\n"
          ]
        }
      ],
      "source": [
        "if 'IS_GRADESCOPE_ENV' not in os.environ:\n",
        "  if model.convs1.alpha is not None and model.convs2.alpha is not None:\n",
        "      for idx, message_type in model.convs1.mapping.items():\n",
        "          print(f\"Layer 1 has attention {model.convs1.alpha[idx]} on message type {message_type}\")\n",
        "      for idx, message_type in model.convs2.mapping.items():\n",
        "          print(f\"Layer 2 has attention {model.convs2.alpha[idx]} on message type {message_type}\")"
      ]
    },
    {
      "cell_type": "markdown",
      "metadata": {
        "id": "SxkYLgxAOxz7"
      },
      "source": [
        "# 3) Neighbor Sampling\n",
        "\n",
        "In this final part of the Colab, we shift gears slightly and give a preview into the work for Colab5. Here we introduce an advanced topic in GNNs, where you will work with PyTorch Geometric's `NeighborSampler` to scale up training and testing of GNN's on the OGB `arxiv` dataset. Neighbor Sampling, originally proposed in **GraphSAGE** ([Hamilton et al. (2017)](https://arxiv.org/abs/1706.02216)), is a representative method to scale up GNNs. As we learned in lecture, rather than loading the entire graph into memory for each training loop, you can instead sample a mini-batch of the nodes you want to embed and **only** load the K-hop graph neighborhoods needed to embed these nodes. In this way you take advantage of the fact that the embedding of a node u only depends on its K-hop neighborhood. To further reduce the memory footprint and computational cost, you can choose to sample only a subset of a node's neighborhood during message passing and aggregation."
      ]
    },
    {
      "cell_type": "markdown",
      "metadata": {
        "id": "Kho6SHUVO1ny"
      },
      "source": [
        "## Setup"
      ]
    },
    {
      "cell_type": "code",
      "execution_count": null,
      "metadata": {
        "id": "X1WJLGKsOx_k"
      },
      "outputs": [],
      "source": [
        "import os\n",
        "import copy\n",
        "import torch\n",
        "import pandas as pd\n",
        "import torch.nn.functional as F\n",
        "import torch_geometric.transforms as T\n",
        "\n",
        "from torch_geometric.nn import SAGEConv\n",
        "from torch_geometric.loader import NeighborSampler\n",
        "\n",
        "# Install OGB\n",
        "if 'IS_GRADESCOPE_ENV' not in os.environ:\n",
        "  !pip install -q ogb\n",
        "\n",
        "from ogb.nodeproppred import PygNodePropPredDataset, Evaluator"
      ]
    },
    {
      "cell_type": "markdown",
      "metadata": {
        "id": "UKqZWqRbO7km"
      },
      "source": [
        "## PyTorch Geometric Neighbor Sampler\n",
        "\n",
        "PyTorch Geometric has implemented Neighbor Samplinging through the [NeighborSampler](https://pytorch-geometric.readthedocs.io/en/latest/modules/loader.html#torch_geometric.loader.NeighborSampler) class. \n",
        "Neighbor sampling is based on building a node’s computation graph without storing irrelevant information for that given node, thus, making it more efficient. Each node produces a single computation graph, where for each node in a k-hop neighborhood, at most, $H_k$ neighbors are randomly sampled. Each node's  computation graph will therefore involve $\\prod^K_{k=1} H_k$ leaf nodes for a K-layer GNN. \n",
        "\n",
        "The successive layers of each node's computation graph can be conceptualized as bi-partite graphs, where each bi-partite graph represents the information flow in one layer of message passing (shown in figure below). Let us look at how one message passing layer is represented through a bi-partite graph. For layer 3, the blue (or black) dots are the source nodes needed to compute message passing (in layer 3 of our GNN) to produce updated embeddings for the target nodes (shown in red). In the bi-partite represention, information flows from left to right, where we highlight that the left hand side of the graph specifically includes the target nodes to allow for skip-connections and added self-loops. Additionally, we stress that moving from one layer to the next, the bi-partite graphs are explicitly constructed so the target nodes for layer $k-1$ are the needed source nodes for layer $k$, where the output of the final layer is exactly the embeddings of the nodes in our minibatch.\n",
        "\n",
        "Note, when constructing mini-batches, individual node computation graphs are combined to create this bi-partite structure. If you'd like to learn more about information on neighborhood sampling, this\n",
        "**[blog](https://towardsdatascience.com/sampling-large-graphs-in-pytorch-geometric-97a6119c41f9)** provides an excellent description.\n",
        "\n",
        "![img]( https://drive.google.com/uc?export=view&id=1QqcrEsN-HpSHgwHiOD4Dh6yIawZh0Pgj)\n",
        "\n",
        "\n",
        "**PyG Docs**\n",
        "\n",
        "The neighbor sampler from the “Inductive Representation Learning on Large Graphs” paper, which allows for mini-batch training of GNNs on large-scale graphs where full-batch training is not feasible.\n",
        "\n",
        "Given a GNN with  layers and a specific mini-batch of nodes `node_idx` for which we want to compute embeddings, this module iteratively samples neighbors and constructs bipartite graphs that simulate the actual computation flow of GNNs.\n",
        "\n",
        "More specifically, sizes denotes how much neighbors we want to sample for each node in each layer. This module then takes in these sizes and iteratively samples sizes[l] for each node involved in layer `l`. In the next layer, sampling is repeated for the union of nodes that were already encountered. The actual computation graphs are then returned in reverse-mode, meaning that we pass messages from a larger set of nodes to a smaller one, until we reach the nodes for which we originally wanted to compute embeddings.\n",
        "\n",
        "Hence, an item returned by NeighborSampler holds the current batch_size, the IDs n_id of all nodes involved in the computation, and a list of bipartite graph objects via the tuple (edge_index, e_id, size), where edge_index represents the bipartite edges between source and target nodes, e_id denotes the IDs of original edges in the full graph, and size holds the shape of the bipartite graph. For each bipartite graph, target nodes are also included at the beginning of the list of source nodes so that one can easily apply skip-connections or add self-loops.\n",
        "\n",
        "\n",
        "If you are interested in memory-efficient aggregations, please refer to PyG's [Memory-Efficient Aggregations](https://pytorch-geometric.readthedocs.io/en/latest/notes/sparse_tensor.html).  Following is an example that uses the Neighbor Sampling method on training the OGB `arxiv` dataset. "
      ]
    },
    {
      "cell_type": "code",
      "execution_count": null,
      "metadata": {
        "id": "nWlyStlRO6_u"
      },
      "outputs": [],
      "source": [
        "if 'IS_GRADESCOPE_ENV' not in os.environ:\n",
        "  dataset_name = 'ogbn-arxiv'\n",
        "  dataset = PygNodePropPredDataset(name=dataset_name,\n",
        "                                  transform=T.ToSparseTensor())\n",
        "  data = dataset[0]\n",
        "  data.adj_t = data.adj_t.to_symmetric()\n",
        "  device = 'cuda' if torch.cuda.is_available() else 'cpu'\n",
        "\n",
        "  print('Device: {}'.format(device))\n",
        "\n",
        "  data = data.to(device)\n",
        "  split_idx = dataset.get_idx_split()\n",
        "  train_idx = split_idx['train'].to(device)\n",
        "\n",
        "  sampled_subgraph_batch_loader = None\n",
        "  full_subgraph_loader = None\n",
        "  \n",
        "  ############# Your code here ############\n",
        "  ## (~2 line of code)\n",
        "  ## Note:\n",
        "  ## 1. Construct the NeighborSampler `sampled_subgraph_batch_loader`. \n",
        "  ##    Use a batch size of 4096, turn shuffle on, and only \n",
        "  ##    use train_idx nodes to create mini-batches. During sampling,\n",
        "  ##    sample up to 10 neighbors in layer one and 5 neighbors in layer 2.\n",
        "  ## 2. Construct the NeighborSampler `full_subgraph_loader`. \n",
        "  ##    Use a batch size of 4096 and turn shuffle off. Sample all neighbors\n",
        "  ##    for only ONE layer and consider all nodes for sampling mini-batches!\n",
        "  ##    We use this loader for the inference / test phase of our model. In the\n",
        "  ##    inference function we will why we only need to sample complete\n",
        "  ##    1-hop neighborhoods.\n",
        "  ## 3. Look at the NeighborSampler documentation to figure out which \n",
        "  ##    parameters you need to set:\n",
        "  ##    https://pytorch-geometric.readthedocs.io/en/latest/modules/loader.html#torch_geometric.loader.NeighborSampler\n",
        "  pass\n",
        "  #################################################################################\n",
        "\n",
        "  evaluator = Evaluator(name='ogbn-arxiv')"
      ]
    },
    {
      "cell_type": "markdown",
      "metadata": {
        "id": "VjdkIcFpRYyl"
      },
      "source": [
        "## GNN Model\n",
        "\n",
        "After creating your `NeighborSampler`, you also need to modify your model to support the mini-batch training.\n",
        "\n",
        "The `forward` function will take the node feature `x` and a list of three-element tuples `adjs`. Each element in `adjs` contains following elements:\n",
        "* `edge_index`: The edge index tensor between source and destination nodes, which forms a bipartite graph.\n",
        "* `e_id`: The indices of the edges in the original graph.\n",
        "* `size`: The shape of the bipartite graph, in (*number of source nodes*, *number of destination nodes*) format.\n"
      ]
    },
    {
      "cell_type": "code",
      "execution_count": null,
      "metadata": {
        "id": "gRBJS_5qRWbu"
      },
      "outputs": [],
      "source": [
        "class SAGE(torch.nn.Module):\n",
        "    def __init__(self, input_dim, hidden_dim, output_dim, num_layers,\n",
        "                 dropout):\n",
        "        super(SAGE, self).__init__()\n",
        "\n",
        "        self.convs = torch.nn.ModuleList()\n",
        "        self.bns = torch.nn.ModuleList()\n",
        "\n",
        "        self.convs.append(SAGEConv(input_dim, hidden_dim))\n",
        "        self.bns.append(torch.nn.BatchNorm1d(hidden_dim))\n",
        "\n",
        "        for i in range(num_layers - 2):\n",
        "            self.convs.append(\n",
        "                SAGEConv(hidden_dim, hidden_dim))\n",
        "            self.bns.append(torch.nn.BatchNorm1d(hidden_dim))\n",
        "        self.convs.append(SAGEConv(hidden_dim, output_dim))\n",
        "\n",
        "        self.softmax = torch.nn.LogSoftmax(dim=1)\n",
        "\n",
        "        self.dropout = dropout\n",
        "\n",
        "        self.num_layers = num_layers\n",
        "\n",
        "    def reset_parameters(self):\n",
        "        for conv in self.convs:\n",
        "            conv.reset_parameters()\n",
        "        for bn in self.bns:\n",
        "            bn.reset_parameters()\n",
        "\n",
        "    def forward(self, x, adjs, mode=\"batch\"):\n",
        "        if mode == \"batch\":\n",
        "            ############# Your code here ############\n",
        "            ## (~7 line of code)\n",
        "            ## Note:\n",
        "            ## 1. Loop through the list `adjs` and apply L GNN layers.\n",
        "            ##    Refer to the description above for the elements in each tuple\n",
        "            ##    adjs[l].\n",
        "            ## 2. Our GNN model is of the form:\n",
        "            ##      conv -> bn -> relu -> dropout -> ... -> conv\n",
        "            ## 3. As described above, each layer is defined by a bipartite graph\n",
        "            ##    between (source nodes and target nodes), where the size parameter\n",
        "            ##    tells us many source nodes and target nodes we have. Thus, \n",
        "            ##    size is a list of length 2.\n",
        "            ## 4. Rather than passing just x to the SAGEConv layer, you can pass\n",
        "            ##    a tuple of the form (x_src, x_target). With this formulation\n",
        "            ##    we only produce embeddings for the `x_target` nodes and use\n",
        "            ##    `x_source` as the nodes needed for message passing.  \n",
        "            ##\n",
        "            ##    Hint: \n",
        "            ##      - Target nodes are included as the first nodes in the source nodes.\n",
        "            ##      - The target nodes for layer (l) become the source nodes \n",
        "            ##      for layer (l+1)!\n",
        "            pass\n",
        "            #####################################\n",
        "        else:\n",
        "            for i, conv in enumerate(self.convs):\n",
        "                x = conv(x, adjs)\n",
        "                if i != self.num_layers - 1:\n",
        "                    x = self.bns[i](x)\n",
        "                    x = F.relu(x)\n",
        "                    x = F.dropout(x, p=self.dropout, training=self.training)\n",
        "        return self.softmax(x)\n",
        "    \n",
        "    def inference(self, x_all, all_loader):\n",
        "        # This function will be called in test\n",
        "        for i in range(self.num_layers):\n",
        "            xs = []\n",
        "            ############# Your code here ############\n",
        "            ## (~7 line of code)\n",
        "            ## Note:\n",
        "            ## 1. Very similar idea to the forward function!\n",
        "            ## 2. Looping through all_loader to apply conv layer i to each\n",
        "            ##    batch of nodes, where all_loader returns tuples of:\n",
        "            ##      - batch_size\n",
        "            ##      - node_indeces of the nodes we want to sample from x_all\n",
        "            ##      in the current batch.\n",
        "            ##      - adj: see above for what is in the tuple adj.\n",
        "            ## 3. After selecting nodes using the node_indeces, follow the same\n",
        "            ##    steps as the forward function.\n",
        "            ## 4. Since we are doing mini-batches of nodes, we now need\n",
        "            ##    to append the generated embeddings to compute all\n",
        "            ##    the node embeddings!\n",
        "            ## 5. Rember to move `adj` and the selected nodes for each batch to\n",
        "            ##    the GPU `device`.\n",
        "            pass\n",
        "            #####################################\n",
        "            \n",
        "            # Concatenate all updated embeddings into one tensor.\n",
        "            # We simulate the update process at the end of message\n",
        "            # passing. Because of this we only have to sample 1-hop neighborhoods\n",
        "            # for our full_subgraph_loader!\n",
        "            x_all = torch.cat(xs, dim=0)\n",
        "\n",
        "        return self.softmax(x_all)"
      ]
    },
    {
      "cell_type": "markdown",
      "metadata": {
        "id": "7cfm7K3wRqqY"
      },
      "source": [
        "## Training and Testing\n",
        "\n",
        "Now we provide the training and testing functions for you.\n",
        "\n",
        "In both training and testing, we need to sample batches from the dataloader.\n",
        "\n",
        "Each batch in the `NeighborSampler` dataloader holds three elements:\n",
        "* `batch_size`: The batch size specified in the dataloader.\n",
        "* `n_id`: All nodes (in index format) used in the adjacency matrices.\n",
        "* `adjs`: The three-element tuples."
      ]
    },
    {
      "cell_type": "code",
      "execution_count": null,
      "metadata": {
        "id": "-JN0-_QCRn8N"
      },
      "outputs": [],
      "source": [
        "def train(model, data, train_loader, train_idx, optimizer, loss_fn, mode=\"batch\"):\n",
        "    model.train()\n",
        "\n",
        "    total_loss = 0\n",
        "    if mode == \"batch\":\n",
        "        for batch_size, n_id, adjs in train_loader:\n",
        "            # Move all adj sparse tensors to GPU\n",
        "            adjs = [adj.to(device) for adj in adjs]\n",
        "            optimizer.zero_grad()\n",
        "\n",
        "            # Index on the node features\n",
        "            out = model(data.x[n_id], adjs)\n",
        "            train_label = data.y[n_id[:batch_size]].squeeze(-1)\n",
        "            loss = loss_fn(out, train_label)\n",
        "            loss.backward()\n",
        "            optimizer.step()\n",
        "            total_loss += loss.item()\n",
        "    else:\n",
        "        optimizer.zero_grad()\n",
        "        out = model(data.x, data.adj_t, mode=mode)[train_idx]\n",
        "        train_label = data.y.squeeze(1)[train_idx]\n",
        "        loss = loss_fn(out, train_label)\n",
        "        loss.backward()\n",
        "        optimizer.step()\n",
        "        total_loss = loss.item()\n",
        "\n",
        "    return total_loss\n",
        "\n",
        "@torch.no_grad()\n",
        "def test(model, data, all_loader, split_idx, evaluator, mode=\"batch\", save_model_results=False):\n",
        "    model.eval()\n",
        "\n",
        "    if mode == \"batch\":\n",
        "        out = model.inference(data.x, all_loader)\n",
        "    else:\n",
        "        out = model(data.x, data.adj_t, mode=\"all\")\n",
        "\n",
        "    y_true = data.y.cpu()\n",
        "    y_pred = out.argmax(dim=-1, keepdim=True)\n",
        "\n",
        "    train_acc = evaluator.eval({\n",
        "        'y_true': y_true[split_idx['train']],\n",
        "        'y_pred': y_pred[split_idx['train']],\n",
        "    })['acc']\n",
        "    valid_acc = evaluator.eval({\n",
        "        'y_true': y_true[split_idx['valid']],\n",
        "        'y_pred': y_pred[split_idx['valid']],\n",
        "    })['acc']\n",
        "    test_acc = evaluator.eval({\n",
        "        'y_true': y_true[split_idx['test']],\n",
        "        'y_pred': y_pred[split_idx['test']],\n",
        "    })['acc']\n",
        "\n",
        "    if save_model_results:\n",
        "      print (\"Saving Model Predictions\")\n",
        "\n",
        "      data = {}\n",
        "      data['y_pred'] = y_pred.view(-1).cpu().detach().numpy()\n",
        "\n",
        "      df = pd.DataFrame(data=data)\n",
        "      # Save locally as csv\n",
        "      df.to_csv('ogbn-arxiv_' + mode + '.csv', sep=',', index=False)\n",
        "\n",
        "    return train_acc, valid_acc, test_acc"
      ]
    },
    {
      "cell_type": "markdown",
      "metadata": {
        "id": "AiehZ8OiR2q9"
      },
      "source": [
        "## Mini-batch Training\n",
        "\n",
        "Test your model using mini-batch training, based on our NeighborSampler!"
      ]
    },
    {
      "cell_type": "code",
      "execution_count": null,
      "metadata": {
        "id": "zFaI2eCARy0v"
      },
      "outputs": [],
      "source": [
        "if 'IS_GRADESCOPE_ENV' not in os.environ:\n",
        "  args = {\n",
        "      'device': device,\n",
        "      'num_layers': 2,\n",
        "      'hidden_dim': 128,\n",
        "      'dropout': 0.5,\n",
        "      'lr': 0.01,\n",
        "      'epochs': 100,\n",
        "  }\n",
        "\n",
        "  set_seed()\n",
        "\n",
        "  batch_model = SAGE(data.num_features, args['hidden_dim'],\n",
        "              dataset.num_classes, args['num_layers'],\n",
        "              args['dropout']).to(device)\n",
        "  batch_model.reset_parameters()\n",
        "\n",
        "  optimizer = torch.optim.Adam(batch_model.parameters(), lr=args['lr'])\n",
        "  loss_fn = F.nll_loss\n",
        "\n",
        "  best_batch_model = None\n",
        "  best_valid_acc = 0\n",
        "\n",
        "  batch_results = []\n",
        "\n",
        "  for epoch in range(1, 1 + args[\"epochs\"]):\n",
        "      loss = train(batch_model, data, sampled_subgraph_batch_loader, train_idx, optimizer, loss_fn, mode=\"batch\")\n",
        "      result = test(batch_model, data, full_subgraph_loader, split_idx, evaluator, mode=\"batch\")\n",
        "      batch_results.append(result)\n",
        "      train_acc, valid_acc, test_acc = result\n",
        "      if valid_acc > best_valid_acc:\n",
        "          best_valid_acc = valid_acc\n",
        "          best_batch_model = copy.deepcopy(batch_model)\n",
        "      print(f'Epoch: {epoch:02d}, '\n",
        "            f'Loss: {loss:.4f}, '\n",
        "            f'Train: {100 * train_acc:.2f}%, '\n",
        "            f'Valid: {100 * valid_acc:.2f}% '\n",
        "            f'Test: {100 * test_acc:.2f}%')\n",
        "  best_result = test(best_batch_model, data, full_subgraph_loader, split_idx, evaluator, mode=\"batch\", save_model_results=True)\n",
        "  train_acc, valid_acc, test_acc = best_result\n",
        "  print(f'Best model: '\n",
        "        f'Train: {100 * train_acc:.2f}%, '\n",
        "        f'Valid: {100 * valid_acc:.2f}% '\n",
        "        f'Test: {100 * test_acc:.2f}%')"
      ]
    },
    {
      "cell_type": "markdown",
      "metadata": {
        "id": "JwcRKcAh16RV"
      },
      "source": [
        "## **Question 3:** What is the maximum accuracy obtained on the test set using mini-batch training? (15 points)\n",
        "\n",
        "Running the cell above will show the results of your best model and save your best model's predictions to a file named ogbn-arxiv_batch.csv'.\n",
        "\n",
        "As you have seen before you can view this file by clicking on the Folder icon on the left side pannel. When you sumbit your assignment, you will have to download this file and attatch it to your submission."
      ]
    },
    {
      "cell_type": "markdown",
      "metadata": {
        "id": "-OyqW-1pSMLW"
      },
      "source": [
        "## Full-batch Training\n",
        "\n",
        "Now for reference, compare training over all the nodes using full-batch mode (i.e. as we have done in the previous Colabs)."
      ]
    },
    {
      "cell_type": "code",
      "execution_count": null,
      "metadata": {
        "id": "mU5eAviTSFMO"
      },
      "outputs": [],
      "source": [
        "if 'IS_GRADESCOPE_ENV' not in os.environ:  \n",
        "  # Use the same parameters for a full-batch training\n",
        "  args = {\n",
        "      'device': device,\n",
        "      'num_layers': 2,\n",
        "      'hidden_dim': 128,\n",
        "      'dropout': 0.5,\n",
        "      'lr': 0.01,\n",
        "      'epochs': 100,\n",
        "  }\n",
        "\n",
        "  set_seed()\n",
        "\n",
        "  all_model = SAGE(data.num_features, args['hidden_dim'],\n",
        "              dataset.num_classes, args['num_layers'],\n",
        "              args['dropout']).to(device)\n",
        "  all_model.reset_parameters()\n",
        "\n",
        "  optimizer = torch.optim.Adam(all_model.parameters(), lr=args['lr'])\n",
        "  loss_fn = F.nll_loss\n",
        "\n",
        "  best_all_model = None\n",
        "  best_valid_acc = 0\n",
        "\n",
        "  all_results = []\n",
        "\n",
        "  for epoch in range(1, 1 + args[\"epochs\"]):\n",
        "      # NOTE: For the full batch model, the NeighborSampler loader is not used!\n",
        "      loss = train(all_model, data, sampled_subgraph_batch_loader, train_idx, optimizer, loss_fn, mode=\"all\")\n",
        "      result = test(all_model, data, full_subgraph_loader, split_idx, evaluator, mode=\"all\")\n",
        "      all_results.append(result)\n",
        "      train_acc, valid_acc, test_acc = result\n",
        "      if valid_acc > best_valid_acc:\n",
        "          best_valid_acc = valid_acc\n",
        "          best_all_model = copy.deepcopy(all_model)\n",
        "      print(f'Epoch: {epoch:02d}, '\n",
        "            f'Loss: {loss:.4f}, '\n",
        "            f'Train: {100 * train_acc:.2f}%, '\n",
        "            f'Valid: {100 * valid_acc:.2f}% '\n",
        "            f'Test: {100 * test_acc:.2f}%')\n",
        "  best_result = test(best_all_model, data, full_subgraph_loader, split_idx, evaluator, mode=\"all\")\n",
        "  train_acc, valid_acc, test_acc = best_result\n",
        "  print(f'Best model: '\n",
        "        f'Train: {100 * train_acc:.2f}%, '\n",
        "        f'Valid: {100 * valid_acc:.2f}% '\n",
        "        f'Test: {100 * test_acc:.2f}%')"
      ]
    },
    {
      "cell_type": "markdown",
      "metadata": {
        "id": "NrECcOQQSZo1"
      },
      "source": [
        "## Visualization"
      ]
    },
    {
      "cell_type": "code",
      "execution_count": null,
      "metadata": {
        "id": "sh_qvSG1SV63"
      },
      "outputs": [],
      "source": [
        "import numpy as np\n",
        "from matplotlib import pyplot as plt\n",
        "\n",
        "if 'IS_GRADESCOPE_ENV' not in os.environ:\n",
        "  batch_results = np.array(batch_results)\n",
        "  all_results = np.array(all_results)\n",
        "\n",
        "  x = np.arange(1, 101)\n",
        "\n",
        "  plt.figure(figsize=(9, 7))\n",
        "\n",
        "  plt.plot(x, batch_results[:, 1], label=\"Batch Validation\")\n",
        "  plt.plot(x, batch_results[:, 2], label=\"Batch Test\")\n",
        "  plt.plot(x, all_results[:, 1], label=\"All Validation\")\n",
        "  plt.plot(x, all_results[:, 2], label=\"All Test\")\n",
        "  plt.title('Model Accuracy')\n",
        "  plt.ylabel('Accuracy')\n",
        "  plt.xlabel('Epoch')\n",
        "  plt.legend()\n",
        "  plt.show()"
      ]
    },
    {
      "cell_type": "markdown",
      "metadata": {
        "id": "e7JXsMTBgeOI"
      },
      "source": [
        "# Submission\n",
        "\n",
        "You will need to submit three files on Gradescope to complete this notebook. \n",
        "\n",
        "1.   Your completed *XCS224W_Colab4.ipynb*. From the \"File\" menu select \"Download .ipynb\" to save a local copy of your completed Colab. \n",
        "2.  *ACM-Node-MeanAgg.csv* \n",
        "3.  *ACM-Node-AttentionAgg.csv*\n",
        "4.  *ogbn-arxiv_batch.csv* \n",
        "\n",
        "Download the csv files by selecting the *Folder* icon on the left panel. \n",
        "\n",
        "To submit your work, zip the files downloaded in steps 1-3 above and submit to gradescope. **NOTE:** DO NOT rename any of the downloaded files. "
      ]
    },
    {
      "cell_type": "code",
      "execution_count": null,
      "metadata": {
        "id": "Y_vcsDcYVaGI"
      },
      "outputs": [],
      "source": [
        ""
      ]
    }
  ],
  "metadata": {
    "accelerator": "GPU",
    "colab": {
      "collapsed_sections": [],
      "machine_shape": "hm",
      "name": "Copie de XCS224W_Colab4.ipynb",
      "provenance": []
    },
    "kernelspec": {
      "display_name": "Python 3",
      "language": "python",
      "name": "python3"
    },
    "language_info": {
      "codemirror_mode": {
        "name": "ipython",
        "version": 3
      },
      "file_extension": ".py",
      "mimetype": "text/x-python",
      "name": "python",
      "nbconvert_exporter": "python",
      "pygments_lexer": "ipython3",
      "version": "3.8.3"
    }
  },
  "nbformat": 4,
  "nbformat_minor": 0
}